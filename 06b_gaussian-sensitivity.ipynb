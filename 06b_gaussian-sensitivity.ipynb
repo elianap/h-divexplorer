{
 "cells": [
  {
   "cell_type": "code",
   "execution_count": 1,
   "id": "8fecbeb9",
   "metadata": {
    "ExecuteTime": {
     "end_time": "2022-10-07T11:54:14.427122Z",
     "start_time": "2022-10-07T11:54:14.404446Z"
    }
   },
   "outputs": [],
   "source": [
    "%load_ext autoreload\n",
    "%autoreload 2"
   ]
  },
  {
   "cell_type": "markdown",
   "id": "4b3dbfa8",
   "metadata": {},
   "source": [
    "Try with **multiple dimension**! 5 or 6"
   ]
  },
  {
   "cell_type": "code",
   "execution_count": 2,
   "id": "998b42f1",
   "metadata": {
    "ExecuteTime": {
     "end_time": "2022-10-07T11:54:14.971469Z",
     "start_time": "2022-10-07T11:54:14.429639Z"
    }
   },
   "outputs": [],
   "source": [
    "import warnings\n",
    "warnings.filterwarnings(\"ignore\")\n",
    "\n",
    "from utils_artificial import gaussian_error_data\n",
    "import pandas as pd"
   ]
  },
  {
   "cell_type": "code",
   "execution_count": 3,
   "id": "a29e5f86",
   "metadata": {
    "ExecuteTime": {
     "end_time": "2022-10-07T11:54:14.984534Z",
     "start_time": "2022-10-07T11:54:14.972988Z"
    }
   },
   "outputs": [],
   "source": [
    "from pathlib import Path\n",
    "outfig_dir = \"0_output_figures\"\n",
    "Path(outfig_dir).mkdir(parents=True, exist_ok=True)"
   ]
  },
  {
   "cell_type": "markdown",
   "id": "f9f349e5",
   "metadata": {},
   "source": [
    "# Error rate based on a gaussian"
   ]
  },
  {
   "cell_type": "code",
   "execution_count": 4,
   "id": "61efbae9",
   "metadata": {
    "ExecuteTime": {
     "end_time": "2022-10-07T11:54:14.999241Z",
     "start_time": "2022-10-07T11:54:14.986996Z"
    }
   },
   "outputs": [],
   "source": [
    "min_sups = [0.005, 0.01, 0.02, 0.025, 0.035, 0.05, 0.075, 0.1, 0.125, 0.15, 0.175, 0.2]"
   ]
  },
  {
   "cell_type": "code",
   "execution_count": 5,
   "id": "d22fa902",
   "metadata": {
    "ExecuteTime": {
     "end_time": "2022-10-07T11:56:40.604548Z",
     "start_time": "2022-10-07T11:56:40.307156Z"
    },
    "scrolled": true
   },
   "outputs": [],
   "source": [
    "\n",
    "n_attributes = 3\n",
    "df_analysis, attributes, g, g_sc = gaussian_error_data(n = 10000, n_attributes = n_attributes)\n",
    "\n",
    "from utils_extract_divergence_generalized_ranking import (\n",
    "    extract_divergence_generalized,\n",
    ")\n",
    "\n",
    "\n",
    "\n",
    "pred_name =\"predicted_class\"\n",
    "class_name =  \"true_class\" \n",
    "class_map = {\"P\":1, \"N\":0}\n",
    "\n",
    "continuous_attributes = attributes\n",
    "\n",
    "min_sup_divergence=0.025\n",
    "\n",
    "type_experiment = \"one_at_time\"\n",
    "metric = \"d_error\"\n",
    "type_criterion = \"divergence_criterion\"\n"
   ]
  },
  {
   "cell_type": "code",
   "execution_count": 6,
   "id": "0ffaf4c8",
   "metadata": {
    "ExecuteTime": {
     "end_time": "2022-10-07T11:56:40.969180Z",
     "start_time": "2022-10-07T11:56:40.941216Z"
    }
   },
   "outputs": [],
   "source": [
    "tree_gen_name = \"hierarchies gen\""
   ]
  },
  {
   "cell_type": "code",
   "execution_count": 7,
   "id": "e93cb0d0",
   "metadata": {
    "ExecuteTime": {
     "end_time": "2022-10-07T11:59:30.075247Z",
     "start_time": "2022-10-07T11:56:41.455669Z"
    }
   },
   "outputs": [
    {
     "name": "stdout",
     "output_type": "stream",
     "text": [
      "0.005 0.01 0.02 0.025 0.035 0.05 0.075 0.1 0.125 0.15 0.175 0.2 "
     ]
    }
   ],
   "source": [
    "from tree_discretization import TreeDiscretization\n",
    "\n",
    "\n",
    "\n",
    "import time\n",
    "max_divergence_dict = {}\n",
    "time_results = {}\n",
    "\n",
    "for min_support_tree in min_sups:\n",
    "    \n",
    "    print(min_support_tree, end = \" \")\n",
    "    out = {}\n",
    "    time_results[min_support_tree] = {}\n",
    "    \n",
    "    tree_discr = TreeDiscretization()\n",
    "    \n",
    "    start_time_tree = time.time()\n",
    "    generalization_dict, discretizations = tree_discr.get_tree_discretization(\n",
    "        df_analysis,\n",
    "        type_splitting=type_experiment,\n",
    "        min_support=min_support_tree,\n",
    "        metric=metric,\n",
    "        continuous_attributes= list(continuous_attributes),\n",
    "        storeTree=True,\n",
    "        type_criterion = type_criterion,\n",
    "        minimal_gain = 0.00,    \n",
    "        class_map=class_map,\n",
    "        class_and_pred_names=[class_name, pred_name],\n",
    "    )    \n",
    "    time_results[min_support_tree][tree_gen_name] = time.time() - start_time_tree\n",
    "    \n",
    "\n",
    "    for apply_generalization in [True, False]:\n",
    "        if apply_generalization is True:\n",
    "            type_gen = \"generalized\"\n",
    "        else:\n",
    "            type_gen = \"base\"\n",
    "        \n",
    "        start_time_divergence = time.time()\n",
    "        FP_fm = extract_divergence_generalized(\n",
    "            df_analysis,\n",
    "            discretizations,\n",
    "            generalization_dict,\n",
    "            continuous_attributes,\n",
    "            min_sup_divergence=min_sup_divergence,\n",
    "            apply_generalization=apply_generalization,\n",
    "            true_class_name=pred_name,\n",
    "            predicted_class_name=class_name,\n",
    "            class_map=class_map,\n",
    "            FPM_type=\"fpgrowth\",\n",
    "            metrics_divergence = [metric],\n",
    "            type_experiment = type_experiment,\n",
    "            allow_overalp = False if type_experiment!=\"all_attributes\" else True\n",
    "        )\n",
    "        time_results[min_support_tree][type_gen] = time.time() - start_time_divergence\n",
    "\n",
    "        out[type_gen] = max(FP_fm[metric])\n",
    "    max_divergence_dict[min_support_tree] = out"
   ]
  },
  {
   "cell_type": "code",
   "execution_count": 8,
   "id": "39080881",
   "metadata": {
    "ExecuteTime": {
     "end_time": "2022-10-07T12:57:35.670165Z",
     "start_time": "2022-10-07T12:57:35.336673Z"
    }
   },
   "outputs": [
    {
     "data": {
      "image/png": "[encoded data removed]",
      "text/plain": [
       "<Figure size 400x330 with 1 Axes>"
      ]
     },
     "metadata": {},
     "output_type": "display_data"
    }
   ],
   "source": [
    "import matplotlib.pyplot as plt\n",
    "\n",
    "show_sup = [0.005, 0.01, 0.02, 0.025, 0.035, 0.05, 0.075, 0.1, 0.125, 0.15, 0.175, 0.2]\n",
    "\n",
    "n_attributes = 3\n",
    "vs = {}\n",
    "\n",
    "\n",
    "fig, ax = plt.subplots(figsize = (4,3.3))\n",
    "\n",
    "base = { min_support: max_divergence_dict[min_support][\"base\"] for min_support in max_divergence_dict if min_support in show_sup}\n",
    "gen =  { min_support: max_divergence_dict[min_support][\"generalized\"] for min_support in max_divergence_dict if min_support in show_sup}\n",
    "\n",
    "base = dict(sorted(base.items(), key=lambda item: item[0]))\n",
    "gen = dict(sorted(gen.items(), key=lambda item: item[0]))\n",
    "\n",
    "\n",
    "ax.plot(list(base.keys()), list(base.values()), label = \"base\", marker = \"o\", c = \"#009900\")\n",
    "ax.plot(list(gen.keys()), list(gen.values()), label = \"generalized\", marker = \"o\", c = \"orangered\")\n",
    "ax.set_title(r\"Highest Δ$_{error}$\")\n",
    "ax.set_ylabel(r\"max Δ$_{FPR}$\")\n",
    "ax.set_xlabel(r\"Minimum support $s_{t}$\")\n",
    "plt.legend( fontsize = 13, handletextpad=0.2)\n",
    "for item in ([ax.title, ax.xaxis.label, ax.yaxis.label] ): #ax.get_xticklabels()\n",
    "    item.set_fontsize(14)\n",
    "\n",
    "for item in ax.get_xticklabels() + ax.get_yticklabels():\n",
    "     item.set_fontsize(12)\n",
    "\n",
    "\n",
    "plt.tight_layout();\n",
    "plt.savefig(f\"{outfig_dir}/artificial_gaussian_sensitivity_{n_attributes}_s_{min_sup_divergence}.pdf\");"
   ]
  },
  {
   "cell_type": "markdown",
   "id": "d7dd7661",
   "metadata": {},
   "source": [
    "# Time"
   ]
  },
  {
   "cell_type": "code",
   "execution_count": 9,
   "id": "33393c6c",
   "metadata": {
    "ExecuteTime": {
     "end_time": "2022-10-07T12:33:49.425277Z",
     "start_time": "2022-10-07T12:33:49.212516Z"
    }
   },
   "outputs": [
    {
     "data": {
      "image/png": "[encoded data removed]",
      "text/plain": [
       "<Figure size 380x400 with 1 Axes>"
      ]
     },
     "metadata": {},
     "output_type": "display_data"
    }
   ],
   "source": [
    "import os\n",
    "from utils_plot import plotDicts\n",
    "\n",
    "info_plot = {}\n",
    "\n",
    "for min_support_tree, res in time_results.items():\n",
    "    for exp, value in res.items():\n",
    "        if exp not in info_plot:\n",
    "            info_plot[exp] = {}\n",
    "        info_plot[exp][min_support_tree] = value\n",
    "        \n",
    "figure_name = os.path.join(outfig_dir, f\"artificial_stree_{min_sup_divergence}_{metric}_time_trees.pdf\")\n",
    "\n",
    "size_fig = (3.8,4)\n",
    "fig = plotDicts(info_plot, marker=True, \\\n",
    "           sizeFig=size_fig, title=\"Execution time\", #yscale=\"log\", \n",
    "          xlabel=\"Minimum support s\",  ylabel=\"Execution time $(seconds)$\", labelSize=10.2,\n",
    "          outside=False,  saveFig=False, nameFig = figure_name)"
   ]
  },
  {
   "cell_type": "code",
   "execution_count": 10,
   "id": "80c299a1",
   "metadata": {
    "ExecuteTime": {
     "end_time": "2022-10-07T12:33:52.516332Z",
     "start_time": "2022-10-07T12:33:52.494373Z"
    }
   },
   "outputs": [
    {
     "data": {
      "text/html": [
       "<div>\n",
       "<style scoped>\n",
       "    .dataframe tbody tr th:only-of-type {\n",
       "        vertical-align: middle;\n",
       "    }\n",
       "\n",
       "    .dataframe tbody tr th {\n",
       "        vertical-align: top;\n",
       "    }\n",
       "\n",
       "    .dataframe thead th {\n",
       "        text-align: right;\n",
       "    }\n",
       "</style>\n",
       "<table border=\"1\" class=\"dataframe\">\n",
       "  <thead>\n",
       "    <tr style=\"text-align: right;\">\n",
       "      <th></th>\n",
       "      <th>hierarchies gen</th>\n",
       "      <th>generalized</th>\n",
       "      <th>base</th>\n",
       "    </tr>\n",
       "  </thead>\n",
       "  <tbody>\n",
       "    <tr>\n",
       "      <th>0.005</th>\n",
       "      <td>12.809469</td>\n",
       "      <td>1.499980</td>\n",
       "      <td>0.353193</td>\n",
       "    </tr>\n",
       "    <tr>\n",
       "      <th>0.010</th>\n",
       "      <td>12.062683</td>\n",
       "      <td>0.713044</td>\n",
       "      <td>0.244538</td>\n",
       "    </tr>\n",
       "    <tr>\n",
       "      <th>0.020</th>\n",
       "      <td>11.106469</td>\n",
       "      <td>0.437708</td>\n",
       "      <td>0.178447</td>\n",
       "    </tr>\n",
       "    <tr>\n",
       "      <th>0.025</th>\n",
       "      <td>10.732318</td>\n",
       "      <td>0.409751</td>\n",
       "      <td>0.178363</td>\n",
       "    </tr>\n",
       "    <tr>\n",
       "      <th>0.035</th>\n",
       "      <td>10.102539</td>\n",
       "      <td>0.387235</td>\n",
       "      <td>0.147526</td>\n",
       "    </tr>\n",
       "    <tr>\n",
       "      <th>0.050</th>\n",
       "      <td>9.418106</td>\n",
       "      <td>0.266770</td>\n",
       "      <td>0.130661</td>\n",
       "    </tr>\n",
       "    <tr>\n",
       "      <th>0.075</th>\n",
       "      <td>8.071988</td>\n",
       "      <td>0.205415</td>\n",
       "      <td>0.112931</td>\n",
       "    </tr>\n",
       "    <tr>\n",
       "      <th>0.100</th>\n",
       "      <td>7.076014</td>\n",
       "      <td>0.189065</td>\n",
       "      <td>0.108026</td>\n",
       "    </tr>\n",
       "    <tr>\n",
       "      <th>0.125</th>\n",
       "      <td>6.126462</td>\n",
       "      <td>0.178286</td>\n",
       "      <td>0.105339</td>\n",
       "    </tr>\n",
       "    <tr>\n",
       "      <th>0.150</th>\n",
       "      <td>5.345088</td>\n",
       "      <td>0.156400</td>\n",
       "      <td>0.099340</td>\n",
       "    </tr>\n",
       "    <tr>\n",
       "      <th>0.175</th>\n",
       "      <td>4.724811</td>\n",
       "      <td>0.148315</td>\n",
       "      <td>0.097472</td>\n",
       "    </tr>\n",
       "    <tr>\n",
       "      <th>0.200</th>\n",
       "      <td>4.102003</td>\n",
       "      <td>0.129449</td>\n",
       "      <td>0.091321</td>\n",
       "    </tr>\n",
       "  </tbody>\n",
       "</table>\n",
       "</div>"
      ],
      "text/plain": [
       "       hierarchies gen  generalized      base\n",
       "0.005        12.809469     1.499980  0.353193\n",
       "0.010        12.062683     0.713044  0.244538\n",
       "0.020        11.106469     0.437708  0.178447\n",
       "0.025        10.732318     0.409751  0.178363\n",
       "0.035        10.102539     0.387235  0.147526\n",
       "0.050         9.418106     0.266770  0.130661\n",
       "0.075         8.071988     0.205415  0.112931\n",
       "0.100         7.076014     0.189065  0.108026\n",
       "0.125         6.126462     0.178286  0.105339\n",
       "0.150         5.345088     0.156400  0.099340\n",
       "0.175         4.724811     0.148315  0.097472\n",
       "0.200         4.102003     0.129449  0.091321"
      ]
     },
     "execution_count": 10,
     "metadata": {},
     "output_type": "execute_result"
    }
   ],
   "source": [
    "pd.DataFrame(info_plot)"
   ]
  },
  {
   "cell_type": "code",
   "execution_count": 11,
   "id": "d0d018ec",
   "metadata": {
    "ExecuteTime": {
     "end_time": "2022-10-07T12:33:53.340016Z",
     "start_time": "2022-10-07T12:33:53.068494Z"
    }
   },
   "outputs": [
    {
     "data": {
      "image/png": "[encoded data removed]",
      "text/plain": [
       "<Figure size 380x400 with 1 Axes>"
      ]
     },
     "metadata": {},
     "output_type": "display_data"
    }
   ],
   "source": [
    "import os\n",
    "from utils_plot import plotDicts\n",
    "\n",
    "info_plot = {}\n",
    "\n",
    "for min_support_tree, res in time_results.items():\n",
    "    for exp, value in res.items():\n",
    "        if exp not in info_plot:\n",
    "            info_plot[exp] = {}\n",
    "        info_plot[exp][min_support_tree] = value\n",
    "        \n",
    "for exp in [\"base\", \"generalized\"]:\n",
    "    for min_support_tree in info_plot[exp]:\n",
    "        info_plot[exp][min_support_tree] = info_plot[exp][min_support_tree] + info_plot[tree_gen_name][min_support_tree]\n",
    "        \n",
    "figure_name = os.path.join(outfig_dir, f\"artificial_stree_{min_sup_divergence}_{metric}_time_trees.pdf\")\n",
    "\n",
    "size_fig = (3.8,4)\n",
    "fig = plotDicts(info_plot, marker=True, \\\n",
    "           sizeFig=size_fig, title=\"Execution time\", #yscale=\"log\", \n",
    "          xlabel=\"Minimum support s\",  ylabel=\"Execution time $(seconds)$\", labelSize=10.2,\n",
    "          outside=False,  saveFig=False, nameFig = figure_name, limit = (0, None))"
   ]
  },
  {
   "cell_type": "code",
   "execution_count": 12,
   "id": "b82fe5c8",
   "metadata": {
    "ExecuteTime": {
     "end_time": "2022-10-07T12:33:53.606805Z",
     "start_time": "2022-10-07T12:33:53.565420Z"
    }
   },
   "outputs": [
    {
     "data": {
      "text/html": [
       "<div>\n",
       "<style scoped>\n",
       "    .dataframe tbody tr th:only-of-type {\n",
       "        vertical-align: middle;\n",
       "    }\n",
       "\n",
       "    .dataframe tbody tr th {\n",
       "        vertical-align: top;\n",
       "    }\n",
       "\n",
       "    .dataframe thead th {\n",
       "        text-align: right;\n",
       "    }\n",
       "</style>\n",
       "<table border=\"1\" class=\"dataframe\">\n",
       "  <thead>\n",
       "    <tr style=\"text-align: right;\">\n",
       "      <th></th>\n",
       "      <th>hierarchies gen</th>\n",
       "      <th>generalized</th>\n",
       "      <th>base</th>\n",
       "    </tr>\n",
       "  </thead>\n",
       "  <tbody>\n",
       "    <tr>\n",
       "      <th>0.005</th>\n",
       "      <td>12.809469</td>\n",
       "      <td>14.309449</td>\n",
       "      <td>13.162662</td>\n",
       "    </tr>\n",
       "    <tr>\n",
       "      <th>0.010</th>\n",
       "      <td>12.062683</td>\n",
       "      <td>12.775726</td>\n",
       "      <td>12.307221</td>\n",
       "    </tr>\n",
       "    <tr>\n",
       "      <th>0.020</th>\n",
       "      <td>11.106469</td>\n",
       "      <td>11.544177</td>\n",
       "      <td>11.284916</td>\n",
       "    </tr>\n",
       "    <tr>\n",
       "      <th>0.025</th>\n",
       "      <td>10.732318</td>\n",
       "      <td>11.142069</td>\n",
       "      <td>10.910681</td>\n",
       "    </tr>\n",
       "    <tr>\n",
       "      <th>0.035</th>\n",
       "      <td>10.102539</td>\n",
       "      <td>10.489774</td>\n",
       "      <td>10.250065</td>\n",
       "    </tr>\n",
       "    <tr>\n",
       "      <th>0.050</th>\n",
       "      <td>9.418106</td>\n",
       "      <td>9.684876</td>\n",
       "      <td>9.548768</td>\n",
       "    </tr>\n",
       "    <tr>\n",
       "      <th>0.075</th>\n",
       "      <td>8.071988</td>\n",
       "      <td>8.277403</td>\n",
       "      <td>8.184918</td>\n",
       "    </tr>\n",
       "    <tr>\n",
       "      <th>0.100</th>\n",
       "      <td>7.076014</td>\n",
       "      <td>7.265079</td>\n",
       "      <td>7.184040</td>\n",
       "    </tr>\n",
       "    <tr>\n",
       "      <th>0.125</th>\n",
       "      <td>6.126462</td>\n",
       "      <td>6.304748</td>\n",
       "      <td>6.231800</td>\n",
       "    </tr>\n",
       "    <tr>\n",
       "      <th>0.150</th>\n",
       "      <td>5.345088</td>\n",
       "      <td>5.501489</td>\n",
       "      <td>5.444429</td>\n",
       "    </tr>\n",
       "    <tr>\n",
       "      <th>0.175</th>\n",
       "      <td>4.724811</td>\n",
       "      <td>4.873127</td>\n",
       "      <td>4.822284</td>\n",
       "    </tr>\n",
       "    <tr>\n",
       "      <th>0.200</th>\n",
       "      <td>4.102003</td>\n",
       "      <td>4.231452</td>\n",
       "      <td>4.193324</td>\n",
       "    </tr>\n",
       "  </tbody>\n",
       "</table>\n",
       "</div>"
      ],
      "text/plain": [
       "       hierarchies gen  generalized       base\n",
       "0.005        12.809469    14.309449  13.162662\n",
       "0.010        12.062683    12.775726  12.307221\n",
       "0.020        11.106469    11.544177  11.284916\n",
       "0.025        10.732318    11.142069  10.910681\n",
       "0.035        10.102539    10.489774  10.250065\n",
       "0.050         9.418106     9.684876   9.548768\n",
       "0.075         8.071988     8.277403   8.184918\n",
       "0.100         7.076014     7.265079   7.184040\n",
       "0.125         6.126462     6.304748   6.231800\n",
       "0.150         5.345088     5.501489   5.444429\n",
       "0.175         4.724811     4.873127   4.822284\n",
       "0.200         4.102003     4.231452   4.193324"
      ]
     },
     "execution_count": 12,
     "metadata": {},
     "output_type": "execute_result"
    }
   ],
   "source": [
    "pd.DataFrame(info_plot)"
   ]
  },
  {
   "cell_type": "code",
   "execution_count": null,
   "id": "70a2c5b0",
   "metadata": {},
   "outputs": [],
   "source": []
  }
 ],
 "metadata": {
  "hide_input": false,
  "kernelspec": {
   "display_name": "Python 3 (ipykernel)",
   "language": "python",
   "name": "python3"
  },
  "language_info": {
   "codemirror_mode": {
    "name": "ipython",
    "version": 3
   },
   "file_extension": ".py",
   "mimetype": "text/x-python",
   "name": "python",
   "nbconvert_exporter": "python",
   "pygments_lexer": "ipython3",
   "version": "3.10.8"
  },
  "toc": {
   "base_numbering": 1,
   "nav_menu": {},
   "number_sections": true,
   "sideBar": true,
   "skip_h1_title": false,
   "title_cell": "Table of Contents",
   "title_sidebar": "Contents",
   "toc_cell": false,
   "toc_position": {
    "height": "calc(100% - 180px)",
    "left": "10px",
    "top": "150px",
    "width": "250.475px"
   },
   "toc_section_display": true,
   "toc_window_display": true
  },
  "varInspector": {
   "cols": {
    "lenName": 16,
    "lenType": 16,
    "lenVar": 40
   },
   "kernels_config": {
    "python": {
     "delete_cmd_postfix": "",
     "delete_cmd_prefix": "del ",
     "library": "var_list.py",
     "varRefreshCmd": "print(var_dic_list())"
    },
    "r": {
     "delete_cmd_postfix": ") ",
     "delete_cmd_prefix": "rm(",
     "library": "var_list.r",
     "varRefreshCmd": "cat(var_dic_list()) "
    }
   },
   "types_to_exclude": [
    "module",
    "function",
    "builtin_function_or_method",
    "instance",
    "_Feature"
   ],
   "window_display": false
  },
  "vscode": {
   "interpreter": {
    "hash": "07df9bc2b24d98062a84ddbd1ffd60fbcc72456b438b7897cd79ef4167382f91"
   }
  }
 },
 "nbformat": 4,
 "nbformat_minor": 5
}
