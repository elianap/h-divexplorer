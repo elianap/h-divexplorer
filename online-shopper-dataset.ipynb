{
 "cells": [
  {
   "cell_type": "code",
   "execution_count": 1,
   "id": "67c0fa62",
   "metadata": {
    "ExecuteTime": {
     "end_time": "2022-12-23T15:23:03.827514Z",
     "start_time": "2022-12-23T15:23:03.800121Z"
    }
   },
   "outputs": [],
   "source": [
    "%load_ext autoreload\n",
    "%autoreload 2"
   ]
  },
  {
   "cell_type": "code",
   "execution_count": 2,
   "id": "ff4af8df",
   "metadata": {
    "ExecuteTime": {
     "end_time": "2022-12-23T15:23:04.597295Z",
     "start_time": "2022-12-23T15:23:04.577391Z"
    }
   },
   "outputs": [],
   "source": [
    "import warnings\n",
    "warnings.filterwarnings(\"ignore\")"
   ]
  },
  {
   "cell_type": "code",
   "execution_count": 3,
   "id": "8b4c5533",
   "metadata": {
    "ExecuteTime": {
     "end_time": "2022-12-23T15:23:05.519306Z",
     "start_time": "2022-12-23T15:23:05.010567Z"
    }
   },
   "outputs": [],
   "source": [
    "import os\n",
    "import numpy as np\n",
    "import pandas as pd\n",
    "from divexplorer_generalized.FP_Divergence import FP_Divergence"
   ]
  },
  {
   "cell_type": "markdown",
   "id": "27d0b123",
   "metadata": {},
   "source": [
    "# Import data"
   ]
  },
  {
   "cell_type": "code",
   "execution_count": 4,
   "id": "808ce3d9",
   "metadata": {
    "ExecuteTime": {
     "end_time": "2022-12-23T15:23:06.158163Z",
     "start_time": "2022-12-23T15:23:06.136492Z"
    }
   },
   "outputs": [],
   "source": [
    "dataset_name = \"online_shoppers_intention\""
   ]
  },
  {
   "cell_type": "code",
   "execution_count": 30,
   "id": "4a118017",
   "metadata": {
    "ExecuteTime": {
     "end_time": "2022-12-23T15:29:37.853678Z",
     "start_time": "2022-12-23T15:29:37.823343Z"
    }
   },
   "outputs": [],
   "source": [
    "from import_process_dataset import DATASET_DIR\n",
    "\n",
    "def import_process_online_shoppers_intention(inputDir=DATASET_DIR):\n",
    "\n",
    "    if os.path.isfile(os.path.join(DATASET_DIR, dataset_name+\".csv\")):\n",
    "\n",
    "        df = pd.read_csv(os.path.join(DATASET_DIR, dataset_name+\".csv\"), sep=\",\")\n",
    "    else:\n",
    "        df = pd.read_csv(\"http://archive.ics.uci.edu/ml/machine-learning-databases/00468/online_shoppers_intention.csv\", sep=\",\")\n",
    "\n",
    "    class_map = {'P': True, 'N': False}\n",
    "    df.rename(columns = {\"Revenue\": \"class\"}, inplace=True)\n",
    "    \n",
    "    df['Month'] = df['Month'].replace({'May': 5, 'Nov': 11, 'Mar': 3, 'Dec': 12, 'Oct': 10, 'Sep': 9, 'Aug': 8, 'Jul': 7, 'June': 6, 'Feb': 2})\n",
    "\n",
    "    continuous_attributes = list(df.describe().columns)\n",
    "    continuous_attributes.remove('SpecialDay')\n",
    "    return df, class_map, continuous_attributes"
   ]
  },
  {
   "cell_type": "code",
   "execution_count": 31,
   "id": "93bf048a",
   "metadata": {
    "ExecuteTime": {
     "end_time": "2022-12-23T15:29:48.932443Z",
     "start_time": "2022-12-23T15:29:48.844956Z"
    }
   },
   "outputs": [],
   "source": [
    "df, class_map, continuous_attributes = import_process_online_shoppers_intention()"
   ]
  },
  {
   "cell_type": "code",
   "execution_count": 29,
   "id": "be8b2995",
   "metadata": {
    "ExecuteTime": {
     "end_time": "2022-12-23T15:29:06.505754Z",
     "start_time": "2022-12-23T15:29:06.479612Z"
    }
   },
   "outputs": [],
   "source": []
  },
  {
   "cell_type": "code",
   "execution_count": 19,
   "id": "6bc6334b",
   "metadata": {
    "ExecuteTime": {
     "end_time": "2022-12-23T15:25:38.908768Z",
     "start_time": "2022-12-23T15:25:38.854973Z"
    }
   },
   "outputs": [],
   "source": []
  },
  {
   "cell_type": "code",
   "execution_count": 20,
   "id": "f772224c",
   "metadata": {
    "ExecuteTime": {
     "end_time": "2022-12-23T15:25:39.617651Z",
     "start_time": "2022-12-23T15:25:39.585900Z"
    }
   },
   "outputs": [
    {
     "name": "stdout",
     "output_type": "stream",
     "text": [
      "Administrative 27\n",
      "Administrative_Duration 3335\n",
      "Informational 17 {0: 9699, 1: 1041, 2: 728, 3: 380, 4: 222, 5: 99, 6: 78, 7: 36, 9: 15, 8: 14, 10: 7, 12: 5, 14: 2, 16: 1, 11: 1, 24: 1, 13: 1}\n",
      "Informational_Duration 1258\n",
      "ProductRelated 311\n",
      "ProductRelated_Duration 9551\n",
      "BounceRates 1872\n",
      "ExitRates 4777\n",
      "PageValues 2704\n",
      "Month 10 {5: 3364, 11: 2998, 3: 1907, 12: 1727, 10: 549, 9: 448, 8: 433, 7: 432, 6: 288, 2: 184}\n",
      "OperatingSystems 8 {2: 6601, 1: 2585, 3: 2555, 4: 478, 8: 79, 6: 19, 7: 7, 5: 6}\n",
      "Browser 13 {2: 7961, 1: 2462, 4: 736, 5: 467, 6: 174, 10: 163, 8: 135, 3: 105, 13: 61, 7: 49, 12: 10, 11: 6, 9: 1}\n",
      "Region 9 {1: 4780, 3: 2403, 4: 1182, 2: 1136, 6: 805, 7: 761, 9: 511, 8: 434, 5: 318}\n",
      "TrafficType 20\n"
     ]
    }
   ],
   "source": [
    "for c in continuous_attributes:\n",
    "    cnt = df[c].value_counts()\n",
    "    if len(cnt)<20:\n",
    "        print(c, len(cnt), dict(cnt))\n",
    "    else:\n",
    "        print(c, len(cnt))"
   ]
  },
  {
   "cell_type": "code",
   "execution_count": 12,
   "id": "16eac191",
   "metadata": {
    "ExecuteTime": {
     "end_time": "2022-12-23T15:23:57.393603Z",
     "start_time": "2022-12-23T15:23:57.367924Z"
    }
   },
   "outputs": [
    {
     "name": "stdout",
     "output_type": "stream",
     "text": [
      "Month 10 {'May': 3364, 'Nov': 2998, 'Mar': 1907, 'Dec': 1727, 'Oct': 549, 'Sep': 448, 'Aug': 433, 'Jul': 432, 'June': 288, 'Feb': 184}\n",
      "VisitorType 3 {'Returning_Visitor': 10551, 'New_Visitor': 1694, 'Other': 85}\n",
      "Weekend 2 {False: 9462, True: 2868}\n",
      "class 2 {False: 10422, True: 1908}\n"
     ]
    }
   ],
   "source": [
    "for c in df.columns:\n",
    "    if c not in continuous_attributes:\n",
    "        cnt = df[c].value_counts()\n",
    "        print(c, len(cnt), dict(cnt))"
   ]
  },
  {
   "cell_type": "code",
   "execution_count": 37,
   "id": "1fa58ac3",
   "metadata": {
    "ExecuteTime": {
     "end_time": "2022-12-23T15:31:26.112661Z",
     "start_time": "2022-12-23T15:31:15.077696Z"
    }
   },
   "outputs": [],
   "source": [
    "from import_process_dataset import train_classifier_kv\n",
    "\n",
    "df_analyze = train_classifier_kv(df, encoding=True)"
   ]
  },
  {
   "cell_type": "markdown",
   "id": "eaccf41e",
   "metadata": {},
   "source": [
    "# Train and predict with RF classifier"
   ]
  },
  {
   "cell_type": "code",
   "execution_count": 38,
   "id": "caa75079",
   "metadata": {
    "ExecuteTime": {
     "end_time": "2022-12-23T15:31:50.689787Z",
     "start_time": "2022-12-23T15:31:50.654700Z"
    }
   },
   "outputs": [
    {
     "data": {
      "text/plain": [
       "0.9005677210056772"
      ]
     },
     "execution_count": 38,
     "metadata": {},
     "output_type": "execute_result"
    }
   ],
   "source": [
    "from sklearn.metrics import accuracy_score\n",
    "\n",
    "accuracy_score(df_analyze['class'], df_analyze['predicted'])"
   ]
  },
  {
   "cell_type": "markdown",
   "id": "97f5ae76",
   "metadata": {},
   "source": [
    "# Tree divergence"
   ]
  },
  {
   "cell_type": "code",
   "execution_count": 39,
   "id": "6fd28cc7",
   "metadata": {
    "ExecuteTime": {
     "end_time": "2022-12-23T15:31:57.940835Z",
     "start_time": "2022-12-23T15:31:57.915030Z"
    }
   },
   "outputs": [],
   "source": [
    "true_class_name = \"class\"\n",
    "pred_class_name = \"predicted\"\n",
    "cols_c = [true_class_name, pred_class_name]"
   ]
  },
  {
   "cell_type": "code",
   "execution_count": 40,
   "id": "8ca85c12",
   "metadata": {
    "ExecuteTime": {
     "end_time": "2022-12-23T15:32:08.474479Z",
     "start_time": "2022-12-23T15:32:08.447343Z"
    }
   },
   "outputs": [],
   "source": [
    "min_support_tree = 0.1"
   ]
  },
  {
   "cell_type": "code",
   "execution_count": 41,
   "id": "57d5d3fc",
   "metadata": {
    "ExecuteTime": {
     "end_time": "2022-12-23T15:32:09.546150Z",
     "start_time": "2022-12-23T15:32:09.518796Z"
    }
   },
   "outputs": [],
   "source": [
    "metric = \"d_error\""
   ]
  },
  {
   "cell_type": "code",
   "execution_count": 42,
   "id": "6157c495",
   "metadata": {
    "ExecuteTime": {
     "end_time": "2022-12-23T15:32:10.001440Z",
     "start_time": "2022-12-23T15:32:09.975090Z"
    }
   },
   "outputs": [],
   "source": [
    "type_criterion=\"divergence_criterion\"\n",
    "\n",
    "type_experiment = \"one_at_time\""
   ]
  },
  {
   "cell_type": "code",
   "execution_count": 43,
   "id": "41e06596",
   "metadata": {
    "ExecuteTime": {
     "end_time": "2022-12-23T15:32:21.051581Z",
     "start_time": "2022-12-23T15:32:11.208427Z"
    }
   },
   "outputs": [],
   "source": [
    "from tree_discretization import TreeDiscretization\n",
    "\n",
    "tree_discr = TreeDiscretization()\n",
    "\n",
    "# ## Extract tree\n",
    "generalization_dict, discretizations = tree_discr.get_tree_discretization(\n",
    "    df_analyze,\n",
    "    type_splitting=type_experiment,\n",
    "    min_support=min_support_tree,\n",
    "    metric=metric,\n",
    "    class_map=class_map,\n",
    "    continuous_attributes=list(continuous_attributes),\n",
    "    class_and_pred_names=cols_c,\n",
    "    storeTree=True,\n",
    "    type_criterion= type_criterion, #'divergence_criterion', #type_criterion,\n",
    "#    minimal_gain = 0\n",
    ")"
   ]
  },
  {
   "cell_type": "code",
   "execution_count": 44,
   "id": "71ca493e",
   "metadata": {
    "ExecuteTime": {
     "end_time": "2022-12-23T15:32:21.083965Z",
     "start_time": "2022-12-23T15:32:21.055140Z"
    }
   },
   "outputs": [
    {
     "name": "stdout",
     "output_type": "stream",
     "text": [
      "Administrative\n",
      " root s=1.00 --> d_error=0.00\n",
      "         Administrative<=0 s=0.47 --> d_error=-0.06\n",
      "         Administrative>0 s=0.53 --> d_error=0.05\n",
      "                 Administrative<=5 s=0.38 --> d_error=0.03\n",
      "                         Administrative<=3 s=0.27 --> d_error=0.02\n",
      "                                 Administrative<=1 s=0.11 --> d_error=0.01\n",
      "                                 Administrative>1 s=0.16 --> d_error=0.03\n",
      "                         Administrative>3 s=0.11 --> d_error=0.04\n",
      "                 Administrative>5 s=0.15 --> d_error=0.12\n",
      "\n",
      "Administrative_Duration\n",
      " root s=1.00 --> d_error=0.00\n",
      "         Administrative_Duration<=12.0 s=0.52 --> d_error=-0.05\n",
      "         Administrative_Duration>12.0 s=0.48 --> d_error=0.06\n",
      "                 Administrative_Duration<=132.05 s=0.30 --> d_error=0.04\n",
      "                         Administrative_Duration<=46.61111111 s=0.11 --> d_error=0.05\n",
      "                         Administrative_Duration>46.61111111 s=0.18 --> d_error=0.04\n",
      "                 Administrative_Duration>132.05 s=0.19 --> d_error=0.08\n",
      "\n",
      "Informational\n",
      " root s=1.00 --> d_error=0.00\n",
      "         Informational<=0 s=0.79 --> d_error=-0.02\n",
      "         Informational>0 s=0.21 --> d_error=0.08\n",
      "\n",
      "Informational_Duration\n",
      " root s=1.00 --> d_error=0.00\n",
      "         Informational_Duration<=1.5 s=0.81 --> d_error=-0.02\n",
      "         Informational_Duration>1.5 s=0.19 --> d_error=0.08\n",
      "\n",
      "ProductRelated\n",
      " root s=1.00 --> d_error=0.00\n",
      "         ProductRelated<=18 s=0.51 --> d_error=-0.06\n",
      "                 ProductRelated<=11 s=0.36 --> d_error=-0.07\n",
      "                         ProductRelated<=6 s=0.22 --> d_error=-0.07\n",
      "                         ProductRelated>6 s=0.14 --> d_error=-0.06\n",
      "                 ProductRelated>11 s=0.15 --> d_error=-0.03\n",
      "         ProductRelated>18 s=0.49 --> d_error=0.06\n",
      "                 ProductRelated<=47 s=0.30 --> d_error=0.03\n",
      "                         ProductRelated<=25 s=0.11 --> d_error=0.01\n",
      "                         ProductRelated>25 s=0.19 --> d_error=0.04\n",
      "                 ProductRelated>47 s=0.19 --> d_error=0.11\n",
      "\n",
      "ProductRelated_Duration\n",
      " root s=1.00 --> d_error=0.00\n",
      "         ProductRelated_Duration<=740.5 s=0.56 --> d_error=-0.05\n",
      "                 ProductRelated_Duration<=267.9 s=0.31 --> d_error=-0.07\n",
      "                         ProductRelated_Duration<=71.0 s=0.14 --> d_error=-0.07\n",
      "                         ProductRelated_Duration>71.0 s=0.17 --> d_error=-0.06\n",
      "                 ProductRelated_Duration>267.9 s=0.24 --> d_error=-0.03\n",
      "                         ProductRelated_Duration<=490.3 s=0.13 --> d_error=-0.04\n",
      "                         ProductRelated_Duration>490.3 s=0.11 --> d_error=-0.01\n",
      "         ProductRelated_Duration>740.5 s=0.44 --> d_error=0.07\n",
      "                 ProductRelated_Duration<=2865.817778 s=0.34 --> d_error=0.05\n",
      "                         ProductRelated_Duration<=1076.5 s=0.10 --> d_error=0.02\n",
      "                         ProductRelated_Duration>1076.5 s=0.24 --> d_error=0.06\n",
      "                                 ProductRelated_Duration<=1572.2 s=0.11 --> d_error=0.07\n",
      "                                 ProductRelated_Duration>1572.2 s=0.13 --> d_error=0.05\n",
      "                 ProductRelated_Duration>2865.817778 s=0.10 --> d_error=0.13\n",
      "\n",
      "BounceRates\n",
      " root s=1.00 --> d_error=0.00\n",
      "         BounceRates<=0.016 s=0.74 --> d_error=0.02\n",
      "                 BounceRates<=3.83e-05 s=0.45 --> d_error=-0.02\n",
      "                 BounceRates>3.83e-05 s=0.29 --> d_error=0.08\n",
      "                         BounceRates<=0.009047619 s=0.19 --> d_error=0.09\n",
      "                         BounceRates>0.009047619 s=0.10 --> d_error=0.04\n",
      "         BounceRates>0.016 s=0.26 --> d_error=-0.05\n",
      "                 BounceRates<=0.04375 s=0.14 --> d_error=-0.03\n",
      "                 BounceRates>0.04375 s=0.12 --> d_error=-0.08\n",
      "\n",
      "ExitRates\n",
      " root s=1.00 --> d_error=0.00\n",
      "         ExitRates<=0.039707071 s=0.67 --> d_error=0.03\n",
      "                 ExitRates<=0.0075 s=0.10 --> d_error=-0.01\n",
      "                 ExitRates>0.0075 s=0.57 --> d_error=0.04\n",
      "                         ExitRates<=0.026591844 s=0.42 --> d_error=0.05\n",
      "                                 ExitRates<=0.020052948 s=0.29 --> d_error=0.04\n",
      "                                         ExitRates<=0.012361111 s=0.10 --> d_error=0.05\n",
      "                                         ExitRates>0.012361111 s=0.19 --> d_error=0.03\n",
      "                                 ExitRates>0.020052948 s=0.12 --> d_error=0.06\n",
      "                         ExitRates>0.026591844 s=0.16 --> d_error=0.02\n",
      "         ExitRates>0.039707071 s=0.33 --> d_error=-0.06\n",
      "                 ExitRates<=0.077192982 s=0.18 --> d_error=-0.05\n",
      "                 ExitRates>0.077192982 s=0.14 --> d_error=-0.09\n",
      "\n",
      "PageValues\n",
      " root s=1.00 --> d_error=0.00\n",
      "         PageValues<=0.038034542 s=0.78 --> d_error=-0.06\n",
      "         PageValues>0.038034542 s=0.22 --> d_error=0.21\n",
      "                 PageValues<=18.50321705 s=0.12 --> d_error=0.26\n",
      "                 PageValues>18.50321705 s=0.10 --> d_error=0.16\n",
      "\n",
      "Month\n",
      " root s=1.00 --> d_error=0.00\n",
      "         Month<=6 s=0.47 --> d_error=-0.04\n",
      "                 Month<=3 s=0.17 --> d_error=-0.05\n",
      "                 Month>3 s=0.30 --> d_error=-0.04\n",
      "         Month>6 s=0.53 --> d_error=0.04\n",
      "                 Month<=11 s=0.39 --> d_error=0.06\n",
      "                         Month<=10 s=0.15 --> d_error=0.03\n",
      "                         Month>10 s=0.24 --> d_error=0.08\n",
      "                 Month>11 s=0.14 --> d_error=-0.03\n",
      "\n",
      "OperatingSystems\n",
      " root s=1.00 --> d_error=0.00\n",
      "         OperatingSystems<=2 s=0.75 --> d_error=0.00\n",
      "                 OperatingSystems<=1 s=0.21 --> d_error=-0.01\n",
      "                 OperatingSystems>1 s=0.54 --> d_error=0.01\n",
      "         OperatingSystems>2 s=0.25 --> d_error=-0.01\n",
      "\n",
      "Browser\n",
      " root s=1.00 --> d_error=0.00\n",
      "         Browser<=1 s=0.20 --> d_error=-0.01\n",
      "         Browser>1 s=0.80 --> d_error=0.00\n",
      "                 Browser<=2 s=0.65 --> d_error=0.00\n",
      "                 Browser>2 s=0.15 --> d_error=-0.00\n",
      "\n",
      "Region\n",
      " root s=1.00 --> d_error=0.00\n",
      "         Region<=3 s=0.67 --> d_error=0.00\n",
      "                 Region<=2 s=0.48 --> d_error=0.00\n",
      "                 Region>2 s=0.19 --> d_error=0.00\n",
      "         Region>3 s=0.33 --> d_error=-0.01\n",
      "                 Region<=6 s=0.19 --> d_error=-0.01\n",
      "                 Region>6 s=0.14 --> d_error=-0.00\n",
      "\n",
      "TrafficType\n",
      " root s=1.00 --> d_error=0.00\n",
      "         TrafficType<=2 s=0.52 --> d_error=0.01\n",
      "                 TrafficType<=1 s=0.20 --> d_error=-0.01\n",
      "                 TrafficType>1 s=0.32 --> d_error=0.03\n",
      "         TrafficType>2 s=0.48 --> d_error=-0.01\n",
      "                 TrafficType<=3 s=0.17 --> d_error=-0.04\n",
      "                 TrafficType>3 s=0.32 --> d_error=-0.00\n",
      "                         TrafficType<=10 s=0.21 --> d_error=0.01\n",
      "                                 TrafficType<=5 s=0.11 --> d_error=0.01\n",
      "                                 TrafficType>5 s=0.11 --> d_error=0.02\n",
      "                         TrafficType>10 s=0.10 --> d_error=-0.03\n",
      "\n"
     ]
    }
   ],
   "source": [
    "tree_discr.printDiscretizationTrees(round_v =2, show_condition = True)"
   ]
  },
  {
   "cell_type": "markdown",
   "id": "3e1fd702",
   "metadata": {},
   "source": [
    "# Extract patterns"
   ]
  },
  {
   "cell_type": "code",
   "execution_count": 45,
   "id": "97e88d65",
   "metadata": {
    "ExecuteTime": {
     "end_time": "2022-12-23T15:32:21.254802Z",
     "start_time": "2022-12-23T15:32:21.085690Z"
    }
   },
   "outputs": [],
   "source": [
    "out_support = {}\n",
    "out_time = {}"
   ]
  },
  {
   "cell_type": "code",
   "execution_count": 47,
   "id": "e2364e1e",
   "metadata": {
    "ExecuteTime": {
     "end_time": "2022-12-23T15:32:24.870491Z",
     "start_time": "2022-12-23T15:32:24.843311Z"
    }
   },
   "outputs": [],
   "source": [
    "min_sup_divergences = [0.1, 0.15, 0.2] #0.01, 0.02, 0.03, 0.04, 0.05, 0.1, 0.15, 0.2\n",
    "# 0.075"
   ]
  },
  {
   "cell_type": "code",
   "execution_count": 48,
   "id": "5f201254",
   "metadata": {
    "ExecuteTime": {
     "end_time": "2022-12-23T15:32:25.405514Z",
     "start_time": "2022-12-23T15:32:25.378103Z"
    }
   },
   "outputs": [],
   "source": [
    "import time"
   ]
  },
  {
   "cell_type": "markdown",
   "id": "d137f8ad",
   "metadata": {},
   "source": [
    "## Base"
   ]
  },
  {
   "cell_type": "code",
   "execution_count": 49,
   "id": "02d47470",
   "metadata": {
    "ExecuteTime": {
     "end_time": "2022-12-23T15:32:52.853002Z",
     "start_time": "2022-12-23T15:32:48.295662Z"
    }
   },
   "outputs": [],
   "source": [
    "from utils_extract_divergence_generalized import (\n",
    "    extract_divergence_generalized,\n",
    ")\n",
    "\n",
    "for min_sup_divergence in min_sup_divergences:\n",
    "    s_time = time.time()\n",
    "    FP_fm = extract_divergence_generalized(\n",
    "        df_analyze,\n",
    "        discretizations,\n",
    "        generalization_dict,\n",
    "        continuous_attributes,\n",
    "        min_sup_divergence=min_sup_divergence,\n",
    "        apply_generalization=False,\n",
    "        true_class_name=true_class_name,\n",
    "        predicted_class_name=pred_class_name,\n",
    "        class_map=class_map,\n",
    "        metrics_divergence = [metric],\n",
    "        FPM_type=\"fpgrowth\",\n",
    "    )\n",
    "    \n",
    "    out_time.setdefault(min_sup_divergence, {})[\"base\"] = time.time()-s_time\n",
    "    \n",
    "    most_divergent = max(FP_fm[metric])\n",
    "    out_support.setdefault(min_sup_divergence, {})[\"base\"] = most_divergent\n",
    "    \n",
    "    "
   ]
  },
  {
   "cell_type": "markdown",
   "id": "47c4d244",
   "metadata": {},
   "source": [
    "## Generalized"
   ]
  },
  {
   "cell_type": "code",
   "execution_count": 50,
   "id": "8cf4a3ac",
   "metadata": {
    "ExecuteTime": {
     "end_time": "2022-12-23T15:34:09.470876Z",
     "start_time": "2022-12-23T15:32:58.145188Z"
    },
    "scrolled": true
   },
   "outputs": [
    {
     "name": "stdout",
     "output_type": "stream",
     "text": [
      "1 10000\n",
      "2 20000\n",
      "3 30000\n",
      "4 40000\n",
      "5 50000\n",
      "6 60000\n",
      "7 70000\n",
      "8 80000\n",
      "9 90000\n",
      "10 100000\n",
      "11 110000\n",
      "12 120000\n",
      "13 130000\n",
      "14 140000\n",
      "15 150000\n",
      "16 160000\n",
      "17 170000\n",
      "18 180000\n",
      "19 190000\n",
      "20 200000\n",
      "1 10000\n",
      "2 20000\n",
      "3 30000\n",
      "4 40000\n",
      "1 10000\n"
     ]
    }
   ],
   "source": [
    "from utils_extract_divergence_generalized import (\n",
    "    extract_divergence_generalized,\n",
    ")\n",
    "import time\n",
    "\n",
    "\n",
    "\n",
    "for min_sup_divergence in min_sup_divergences:\n",
    "    s_time = time.time()\n",
    "    FP_fm = extract_divergence_generalized(\n",
    "        df_analyze,\n",
    "        discretizations,\n",
    "        generalization_dict,\n",
    "        continuous_attributes,\n",
    "        min_sup_divergence=min_sup_divergence,\n",
    "        apply_generalization=True,\n",
    "        true_class_name=true_class_name,\n",
    "        predicted_class_name=pred_class_name,\n",
    "        class_map=class_map,\n",
    "        metrics_divergence = [metric],\n",
    "        FPM_type=\"fpgrowth\",\n",
    "        save_in_progress = False\n",
    "    )\n",
    "    \n",
    "    out_time.setdefault(min_sup_divergence, {})[\"generalized\"] = time.time()-s_time\n",
    "    \n",
    "    most_divergent = max(FP_fm[metric])\n",
    "    out_support.setdefault(min_sup_divergence, {})[\"generalized\"] = most_divergent"
   ]
  },
  {
   "cell_type": "markdown",
   "id": "10f49a0d",
   "metadata": {},
   "source": [
    "# Results"
   ]
  },
  {
   "cell_type": "code",
   "execution_count": 53,
   "id": "aba3ae41",
   "metadata": {
    "ExecuteTime": {
     "end_time": "2022-12-23T15:38:42.845679Z",
     "start_time": "2022-12-23T15:38:42.813260Z"
    }
   },
   "outputs": [
    {
     "data": {
      "text/plain": [
       "{0.1: {'base': 2.471522569656372, 'generalized': 47.19915413856506},\n",
       " 0.15: {'base': 1.4236409664154053, 'generalized': 16.326154232025146},\n",
       " 0.2: {'base': 0.6280920505523682, 'generalized': 7.7478039264678955}}"
      ]
     },
     "execution_count": 53,
     "metadata": {},
     "output_type": "execute_result"
    }
   ],
   "source": [
    "out_time"
   ]
  },
  {
   "cell_type": "code",
   "execution_count": 54,
   "id": "a8ef1621",
   "metadata": {
    "ExecuteTime": {
     "end_time": "2022-12-23T15:38:43.375698Z",
     "start_time": "2022-12-23T15:38:43.346559Z"
    }
   },
   "outputs": [
    {
     "data": {
      "text/plain": [
       "{0.1: {'base': 0.27595471790970194, 'generalized': 0.28579010264125826},\n",
       " 0.15: {'base': 0.12103237745649276, 'generalized': 0.26084609359668365},\n",
       " 0.2: {'base': 0.08359470575342842, 'generalized': 0.2192834610213389}}"
      ]
     },
     "execution_count": 54,
     "metadata": {},
     "output_type": "execute_result"
    }
   ],
   "source": [
    "out_support"
   ]
  },
  {
   "cell_type": "markdown",
   "id": "d3683a8e",
   "metadata": {},
   "source": [
    "# Plot results"
   ]
  },
  {
   "cell_type": "code",
   "execution_count": 55,
   "id": "e354de46",
   "metadata": {
    "ExecuteTime": {
     "end_time": "2022-12-23T15:38:44.104257Z",
     "start_time": "2022-12-23T15:38:44.076443Z"
    }
   },
   "outputs": [],
   "source": [
    "import os\n",
    "\n",
    "output_fig_dir = os.path.join(os.path.curdir, \"output_figures\", \"figures\", \"output_performance\")\n",
    "from pathlib import Path\n",
    "\n",
    "Path(output_fig_dir).mkdir(parents=True, exist_ok=True)"
   ]
  },
  {
   "cell_type": "code",
   "execution_count": 56,
   "id": "9217fe31",
   "metadata": {
    "ExecuteTime": {
     "end_time": "2022-12-23T15:38:44.577349Z",
     "start_time": "2022-12-23T15:38:44.549322Z"
    }
   },
   "outputs": [],
   "source": [
    "abbreviations = {\"one_at_time\":\"indiv t.\", \\\n",
    "                  \"divergence_criterion\":\"g$\\\\Delta$\", \"entropy\":\"entr\"}"
   ]
  },
  {
   "cell_type": "code",
   "execution_count": 57,
   "id": "30aa3f10",
   "metadata": {
    "ExecuteTime": {
     "end_time": "2022-12-23T15:38:45.004895Z",
     "start_time": "2022-12-23T15:38:44.976591Z"
    }
   },
   "outputs": [],
   "source": [
    "def abbreviateValue(value, abbreviations={}):\n",
    "    for k, v in abbreviations.items():\n",
    "        if k in value:\n",
    "            \n",
    "            value = value.replace(k, v)\n",
    "    #TODO\n",
    "    if value[0:2] not in [\"q_\", \"u_\"]:\n",
    "        value = value.replace(\"_\", \" \")\n",
    "    return value\n",
    "    \n",
    "def abbreviate_dict_value(input_dict, abbreviations):\n",
    "    \n",
    "    conv ={}\n",
    "    for k1, dict_i in input_dict.items():\n",
    "        conv[k1] = { abbreviateValue(k, abbreviations): d for k, d in dict_i.items()}\n",
    "    return conv"
   ]
  },
  {
   "cell_type": "code",
   "execution_count": 58,
   "id": "aed5fad6",
   "metadata": {
    "ExecuteTime": {
     "end_time": "2022-12-23T15:38:45.507948Z",
     "start_time": "2022-12-23T15:38:45.479955Z"
    }
   },
   "outputs": [
    {
     "name": "stdout",
     "output_type": "stream",
     "text": [
      "{'entr base': '#7fcc7f', 'g$\\\\Delta$ base': '#009900', 'entr generalized': 'mediumblue', 'g$\\\\Delta$ generalized': 'orangered'}\n"
     ]
    }
   ],
   "source": [
    "color_labels = {}\n",
    "color_labels[abbreviateValue(f'entropy_base', abbreviations)]=\"#7fcc7f\"\n",
    "color_labels[abbreviateValue(f'divergence_criterion_base', abbreviations)]=\"#009900\"\n",
    "\n",
    "color_labels[abbreviateValue(f'entropy_generalized', abbreviations)]=\"mediumblue\"\n",
    "color_labels[abbreviateValue(f'divergence_criterion_generalized', abbreviations)]=\"orangered\"\n",
    "\n",
    "lines_style = {k:\"-\" for k in color_labels}\n",
    "print(color_labels)\n",
    "lines_style.update({k:\"--\" for k in color_labels if( \"base\" in k and abbreviations[\"entropy\"] in k)})\n",
    "lines_style.update({k:\"-.\" for k in color_labels if( 'base' in k and abbreviations[\"divergence_criterion\"] in k)})"
   ]
  },
  {
   "cell_type": "markdown",
   "id": "9af85590",
   "metadata": {},
   "source": [
    "## Plot time"
   ]
  },
  {
   "cell_type": "code",
   "execution_count": 59,
   "id": "ab2aa191",
   "metadata": {
    "ExecuteTime": {
     "end_time": "2022-12-23T15:38:47.442944Z",
     "start_time": "2022-12-23T15:38:46.402069Z"
    }
   },
   "outputs": [
    {
     "data": {
      "image/png": "[encoded data removed]",
      "text/plain": [
       "<Figure size 300x300 with 1 Axes>"
      ]
     },
     "metadata": {
      "needs_background": "light"
     },
     "output_type": "display_data"
    }
   ],
   "source": [
    "from utils_plot import plotDicts\n",
    "\n",
    "\n",
    "\n",
    "info_plot = {}\n",
    "for sup in sorted(out_time.keys()):\n",
    "    for type_gen in out_time[sup]:\n",
    "        type_gen_str = abbreviateValue(f\"{type_criterion}_{type_gen}\", abbreviations)\n",
    "        if type_gen_str not in info_plot:\n",
    "            info_plot[type_gen_str] = {}\n",
    "        info_plot[type_gen_str][sup] = out_time[sup][type_gen]\n",
    "        \n",
    "        \n",
    "size_fig = (3,3)\n",
    "\n",
    "\n",
    "info_i = \"time\"\n",
    "\n",
    "figure_name = os.path.join(output_fig_dir, f\"{dataset_name}_stree_{min_support_tree}_{metric}_{info_i}.pdf\")\n",
    "\n",
    "\n",
    "\n",
    "\n",
    "plotDicts(info_plot, marker=True, \\\n",
    "          title = 'Execution time', sizeFig=size_fig,\\\n",
    "                   linestyle=lines_style, color_labels=color_labels, \\\n",
    "          xlabel=\"Minimum support s\",  ylabel=\"Execution time $(seconds)$\", labelSize=10.2,\\\n",
    "         outside=False,  saveFig=True, nameFig = figure_name)"
   ]
  },
  {
   "cell_type": "markdown",
   "id": "8f5e44bb",
   "metadata": {
    "ExecuteTime": {
     "end_time": "2022-12-19T15:18:23.428621Z",
     "start_time": "2022-12-19T15:18:23.396826Z"
    }
   },
   "source": [
    "## Plot max"
   ]
  },
  {
   "cell_type": "code",
   "execution_count": 61,
   "id": "ff1c62b4",
   "metadata": {
    "ExecuteTime": {
     "end_time": "2022-12-23T15:38:51.634647Z",
     "start_time": "2022-12-23T15:38:51.279256Z"
    }
   },
   "outputs": [
    {
     "data": {
      "image/png": "[encoded data removed]",
      "text/plain": [
       "<Figure size 300x300 with 1 Axes>"
      ]
     },
     "metadata": {
      "needs_background": "light"
     },
     "output_type": "display_data"
    }
   ],
   "source": [
    "from utils_plot import plotDicts\n",
    "\n",
    "\n",
    "\n",
    "info_plot = {}\n",
    "for sup in sorted(out_support.keys()):\n",
    "    for type_gen in out_support[sup]:\n",
    "        type_gen_str = abbreviateValue(f\"{type_criterion}_{type_gen}\", abbreviations)\n",
    "        if type_gen_str not in info_plot:\n",
    "            info_plot[type_gen_str] = {}\n",
    "        info_plot[type_gen_str][sup] = out_support[sup][type_gen]\n",
    "        \n",
    "        \n",
    "size_fig = (3,3)\n",
    "\n",
    "\n",
    "info_i = f\"max_{metric}\"\n",
    "\n",
    "figure_name = os.path.join(output_fig_dir, f\"{dataset_name}_stree_{min_support_tree}_{metric}_{info_i}.pdf\")\n",
    "\n",
    "\n",
    "\n",
    "\n",
    "plotDicts(info_plot, marker=True, \\\n",
    "          title=\"Highest $\\\\Delta_{FPR}$\" , sizeFig=size_fig,\n",
    "                   linestyle=lines_style, color_labels=color_labels, \\\n",
    "          xlabel=\"Minimum support s\",  ylabel=\"Max $\\\\Delta_{FPR}$\", labelSize=10.2,\\\n",
    "         outside=False,  saveFig=True, nameFig = figure_name) #yscale=\"log\",  "
   ]
  },
  {
   "cell_type": "code",
   "execution_count": null,
   "id": "3f2ac3e6",
   "metadata": {
    "ExecuteTime": {
     "start_time": "2022-12-21T09:31:32.954Z"
    }
   },
   "outputs": [],
   "source": [
    "df_analyze.shape[0]*0.01"
   ]
  },
  {
   "cell_type": "code",
   "execution_count": null,
   "id": "7a8d545e",
   "metadata": {},
   "outputs": [],
   "source": []
  },
  {
   "cell_type": "code",
   "execution_count": null,
   "id": "11fcf311",
   "metadata": {},
   "outputs": [],
   "source": []
  },
  {
   "cell_type": "code",
   "execution_count": null,
   "id": "927d8992",
   "metadata": {},
   "outputs": [],
   "source": []
  }
 ],
 "metadata": {
  "kernelspec": {
   "display_name": "main-exp",
   "language": "python",
   "name": "main-exp"
  },
  "language_info": {
   "codemirror_mode": {
    "name": "ipython",
    "version": 3
   },
   "file_extension": ".py",
   "mimetype": "text/x-python",
   "name": "python",
   "nbconvert_exporter": "python",
   "pygments_lexer": "ipython3",
   "version": "3.7.9"
  },
  "toc": {
   "base_numbering": 1,
   "nav_menu": {},
   "number_sections": true,
   "sideBar": true,
   "skip_h1_title": false,
   "title_cell": "Table of Contents",
   "title_sidebar": "Contents",
   "toc_cell": false,
   "toc_position": {},
   "toc_section_display": true,
   "toc_window_display": false
  },
  "vscode": {
   "interpreter": {
    "hash": "6b95d84325ee82297fd56dd5bc49dc0db6d6d185fec94fdf265ea055ed09b723"
   }
  }
 },
 "nbformat": 4,
 "nbformat_minor": 5
}
