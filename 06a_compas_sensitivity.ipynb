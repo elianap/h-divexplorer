{
 "cells": [
  {
   "cell_type": "code",
   "execution_count": 1,
   "id": "1a964dfd",
   "metadata": {
    "ExecuteTime": {
     "end_time": "2022-10-07T13:02:11.231813Z",
     "start_time": "2022-10-07T13:02:11.215559Z"
    }
   },
   "outputs": [],
   "source": [
    "%load_ext autoreload\n",
    "%autoreload 2"
   ]
  },
  {
   "cell_type": "code",
   "execution_count": 2,
   "id": "66a1ee90",
   "metadata": {
    "ExecuteTime": {
     "end_time": "2022-10-07T13:02:11.242400Z",
     "start_time": "2022-10-07T13:02:11.233855Z"
    }
   },
   "outputs": [],
   "source": [
    "import warnings\n",
    "warnings.filterwarnings(\"ignore\")"
   ]
  },
  {
   "cell_type": "code",
   "execution_count": 3,
   "id": "98b44f63",
   "metadata": {
    "ExecuteTime": {
     "end_time": "2022-10-07T13:02:11.464898Z",
     "start_time": "2022-10-07T13:02:11.244184Z"
    }
   },
   "outputs": [],
   "source": [
    "import pandas as pd\n",
    "import numpy as np\n",
    "\n",
    "pd.set_option(\"display.max_colwidth\", None)"
   ]
  },
  {
   "cell_type": "code",
   "execution_count": 4,
   "id": "e7b5f637",
   "metadata": {
    "ExecuteTime": {
     "end_time": "2022-10-07T13:02:11.478356Z",
     "start_time": "2022-10-07T13:02:11.467500Z"
    }
   },
   "outputs": [],
   "source": [
    "out = {}\n",
    "out_support = {}"
   ]
  },
  {
   "cell_type": "code",
   "execution_count": 5,
   "id": "8677f1b2",
   "metadata": {
    "ExecuteTime": {
     "end_time": "2022-10-07T13:02:11.504545Z",
     "start_time": "2022-10-07T13:02:11.482190Z"
    }
   },
   "outputs": [],
   "source": [
    "COL_info_detail = [\"itemsets\", \"support\", \"tn\", \"fp\", \"fn\", \"tp\"]\n",
    "\n",
    "COL_info = [\"itemsets\", \"support\"]"
   ]
  },
  {
   "cell_type": "markdown",
   "id": "a45e76a9",
   "metadata": {},
   "source": [
    "# Parameters"
   ]
  },
  {
   "cell_type": "code",
   "execution_count": 6,
   "id": "7732c6ce",
   "metadata": {
    "ExecuteTime": {
     "end_time": "2022-10-07T13:02:11.519287Z",
     "start_time": "2022-10-07T13:02:11.508047Z"
    }
   },
   "outputs": [],
   "source": [
    "K=3\n",
    "\n",
    "metric = \"d_fpr\"\n",
    "t_value_col = \"t_value_fp\"\n",
    "min_sup_divergence=0.05"
   ]
  },
  {
   "cell_type": "code",
   "execution_count": 7,
   "id": "831fe4c2",
   "metadata": {
    "ExecuteTime": {
     "end_time": "2022-10-07T13:02:11.535479Z",
     "start_time": "2022-10-07T13:02:11.522365Z"
    }
   },
   "outputs": [],
   "source": [
    "metrics = [\"d_fpr\", \"d_fnr\", \"d_accuracy\", \"d_error\"]"
   ]
  },
  {
   "cell_type": "code",
   "execution_count": 8,
   "id": "ed6cefd7",
   "metadata": {
    "ExecuteTime": {
     "end_time": "2022-10-07T13:02:11.549855Z",
     "start_time": "2022-10-07T13:02:11.538015Z"
    }
   },
   "outputs": [],
   "source": [
    "name_output_dir = \"output_compas\""
   ]
  },
  {
   "cell_type": "code",
   "execution_count": 9,
   "id": "f49bb941",
   "metadata": {
    "ExecuteTime": {
     "end_time": "2022-10-07T13:02:11.566321Z",
     "start_time": "2022-10-07T13:02:11.551914Z"
    }
   },
   "outputs": [],
   "source": [
    "saveFig = False"
   ]
  },
  {
   "cell_type": "markdown",
   "id": "9a9fc555",
   "metadata": {},
   "source": [
    "# Dataset"
   ]
  },
  {
   "cell_type": "code",
   "execution_count": 10,
   "id": "1dec2732",
   "metadata": {
    "ExecuteTime": {
     "end_time": "2022-10-07T13:02:11.716795Z",
     "start_time": "2022-10-07T13:02:11.570849Z"
    }
   },
   "outputs": [
    {
     "data": {
      "text/html": [
       "<div>\n",
       "<style scoped>\n",
       "    .dataframe tbody tr th:only-of-type {\n",
       "        vertical-align: middle;\n",
       "    }\n",
       "\n",
       "    .dataframe tbody tr th {\n",
       "        vertical-align: top;\n",
       "    }\n",
       "\n",
       "    .dataframe thead th {\n",
       "        text-align: right;\n",
       "    }\n",
       "</style>\n",
       "<table border=\"1\" class=\"dataframe\">\n",
       "  <thead>\n",
       "    <tr style=\"text-align: right;\">\n",
       "      <th></th>\n",
       "      <th>c_charge_degree</th>\n",
       "      <th>race</th>\n",
       "      <th>sex</th>\n",
       "      <th>age</th>\n",
       "      <th>priors_count</th>\n",
       "      <th>length_of_stay</th>\n",
       "      <th>class</th>\n",
       "      <th>predicted</th>\n",
       "    </tr>\n",
       "  </thead>\n",
       "  <tbody>\n",
       "    <tr>\n",
       "      <th>0</th>\n",
       "      <td>F</td>\n",
       "      <td>Other</td>\n",
       "      <td>Male</td>\n",
       "      <td>69</td>\n",
       "      <td>0</td>\n",
       "      <td>1.0</td>\n",
       "      <td>0</td>\n",
       "      <td>0</td>\n",
       "    </tr>\n",
       "    <tr>\n",
       "      <th>1</th>\n",
       "      <td>F</td>\n",
       "      <td>African-American</td>\n",
       "      <td>Male</td>\n",
       "      <td>34</td>\n",
       "      <td>0</td>\n",
       "      <td>10.0</td>\n",
       "      <td>1</td>\n",
       "      <td>0</td>\n",
       "    </tr>\n",
       "    <tr>\n",
       "      <th>2</th>\n",
       "      <td>F</td>\n",
       "      <td>African-American</td>\n",
       "      <td>Male</td>\n",
       "      <td>24</td>\n",
       "      <td>4</td>\n",
       "      <td>1.0</td>\n",
       "      <td>1</td>\n",
       "      <td>0</td>\n",
       "    </tr>\n",
       "    <tr>\n",
       "      <th>3</th>\n",
       "      <td>M</td>\n",
       "      <td>Other</td>\n",
       "      <td>Male</td>\n",
       "      <td>44</td>\n",
       "      <td>0</td>\n",
       "      <td>1.0</td>\n",
       "      <td>0</td>\n",
       "      <td>0</td>\n",
       "    </tr>\n",
       "    <tr>\n",
       "      <th>4</th>\n",
       "      <td>F</td>\n",
       "      <td>Caucasian</td>\n",
       "      <td>Male</td>\n",
       "      <td>41</td>\n",
       "      <td>14</td>\n",
       "      <td>6.0</td>\n",
       "      <td>1</td>\n",
       "      <td>0</td>\n",
       "    </tr>\n",
       "  </tbody>\n",
       "</table>\n",
       "</div>"
      ],
      "text/plain": [
       "  c_charge_degree              race   sex  age  priors_count  length_of_stay  \\\n",
       "0               F             Other  Male   69             0             1.0   \n",
       "1               F  African-American  Male   34             0            10.0   \n",
       "2               F  African-American  Male   24             4             1.0   \n",
       "3               M             Other  Male   44             0             1.0   \n",
       "4               F         Caucasian  Male   41            14             6.0   \n",
       "\n",
       "   class  predicted  \n",
       "0      0          0  \n",
       "1      1          0  \n",
       "2      1          0  \n",
       "3      0          0  \n",
       "4      1          0  "
      ]
     },
     "execution_count": 10,
     "metadata": {},
     "output_type": "execute_result"
    }
   ],
   "source": [
    "abbreviations = {\n",
    "    \"age_cat\": \"age\",\n",
    "    \"priors_count\": \"#prior\",\n",
    "    \"Greater than 45\": \">45\",\n",
    "    \"25 - 45\": \"25-45\",\n",
    "    \"African-American\": \"Afr-Am\",\n",
    "    \"c_charge_degree\": \"charge\",\n",
    "    \"Less than 25\": \"<25\",\n",
    "    \"=>\": \">\",\n",
    "    \"=<\": \"<\",\n",
    "    \"length_of_stay\": \"stay\",\n",
    "    \"Caucasian\": \"Cauc\",\n",
    "}\n",
    "\n",
    "dataset_name = \"compas\"\n",
    "risk_class_type = True\n",
    "\n",
    "from import_datasets import import_process_compas\n",
    "\n",
    "dfI, class_map = import_process_compas(\n",
    "    risk_class=risk_class_type, continuous_col=True\n",
    ")\n",
    "dfI.reset_index(drop=True, inplace=True)\n",
    "\n",
    "dfI[\"predicted\"] = dfI[\"predicted\"].replace({\"Medium-Low\": 0, \"High\": 1})\n",
    "true_class_name, pred_class_name = \"class\", \"predicted\"\n",
    "class_and_pred_names = [true_class_name, pred_class_name]\n",
    "attributes = list(dfI.columns.drop(class_and_pred_names))\n",
    "\n",
    "dfI = dfI[attributes + class_and_pred_names]\n",
    "dfI.head()"
   ]
  },
  {
   "cell_type": "markdown",
   "id": "ee34f30e",
   "metadata": {},
   "source": [
    "# Tree divergence - error"
   ]
  },
  {
   "cell_type": "code",
   "execution_count": 11,
   "id": "4736bc0d",
   "metadata": {
    "ExecuteTime": {
     "end_time": "2022-10-07T13:02:11.736041Z",
     "start_time": "2022-10-07T13:02:11.719196Z"
    }
   },
   "outputs": [],
   "source": [
    "COL_info = [\"itemsets\", \"support\"]"
   ]
  },
  {
   "cell_type": "markdown",
   "id": "cf42ecfc",
   "metadata": {},
   "source": [
    "## Tree divergence -fpr 0.025\n"
   ]
  },
  {
   "cell_type": "code",
   "execution_count": 12,
   "id": "a179fdbd",
   "metadata": {
    "ExecuteTime": {
     "end_time": "2022-10-07T13:02:13.939550Z",
     "start_time": "2022-10-07T13:02:13.913209Z"
    }
   },
   "outputs": [],
   "source": [
    "cols_c = [\"class\", \"predicted\"]\n",
    "continuous_attributes = [\"priors_count\", \"length_of_stay\", \"age\"]\n",
    "\n",
    "\n",
    "type_criterion=\"divergence_criterion\"\n",
    "\n",
    "type_experiment = \"one_at_time\"\n",
    "\n",
    "min_sup_divergence = 0.025"
   ]
  },
  {
   "cell_type": "code",
   "execution_count": 13,
   "id": "fcd4599d",
   "metadata": {
    "ExecuteTime": {
     "end_time": "2022-10-07T13:02:14.405918Z",
     "start_time": "2022-10-07T13:02:14.384238Z"
    }
   },
   "outputs": [],
   "source": [
    "min_support_trees = [0.005, 0.01, 0.02, 0.025, 0.035, 0.05, 0.075, 0.1, 0.125, 0.15, 0.175, 0.2, 0.25, 0.3]"
   ]
  },
  {
   "cell_type": "code",
   "execution_count": 14,
   "id": "5752d272",
   "metadata": {
    "ExecuteTime": {
     "end_time": "2022-10-07T13:02:14.764795Z",
     "start_time": "2022-10-07T13:02:14.752542Z"
    }
   },
   "outputs": [],
   "source": [
    "tree_gen_name = \"hierarchies gen\""
   ]
  },
  {
   "cell_type": "code",
   "execution_count": 15,
   "id": "1c967575",
   "metadata": {
    "ExecuteTime": {
     "end_time": "2022-10-07T13:02:32.179291Z",
     "start_time": "2022-10-07T13:02:15.283317Z"
    }
   },
   "outputs": [
    {
     "name": "stdout",
     "output_type": "stream",
     "text": [
      "0.005 0.01 0.02 0.025 0.035 0.05 0.075 0.1 0.125 0.15 0.175 0.2 0.25 0.3 "
     ]
    }
   ],
   "source": [
    "import time\n",
    "max_divergence_dict = {}\n",
    "time_results = {}\n",
    "for min_support_tree in min_support_trees:\n",
    "    \n",
    "    out = {}\n",
    "    time_results[min_support_tree] = {}\n",
    "    print(min_support_tree, end = \" \")\n",
    "\n",
    "    df_analyze = dfI.copy()\n",
    "\n",
    "    from tree_discretization import TreeDiscretization\n",
    "\n",
    "    tree_discr = TreeDiscretization()\n",
    "\n",
    "    start_time_tree = time.time()\n",
    "    # ## Extract tree\n",
    "    generalization_dict, discretizations = tree_discr.get_tree_discretization(\n",
    "        df_analyze,\n",
    "        type_splitting=type_experiment,\n",
    "        min_support=min_support_tree,\n",
    "        metric=metric,\n",
    "        class_map=class_map,\n",
    "        continuous_attributes=list(continuous_attributes),\n",
    "        class_and_pred_names=cols_c,\n",
    "        storeTree=True,\n",
    "        type_criterion=type_criterion,\n",
    "        # minimal_gain = 0.0015\n",
    "    )\n",
    "    time_results[min_support_tree][tree_gen_name] = time.time() - start_time_tree\n",
    "    \n",
    "    considerOnlyContinuos = True\n",
    "    if considerOnlyContinuos:\n",
    "        for k in list(generalization_dict.keys()):\n",
    "            if k not in continuous_attributes:\n",
    "                generalization_dict.pop(k, None)\n",
    "                \n",
    "    for apply_generalization in [False, True]:\n",
    "        \n",
    "        if apply_generalization == True:\n",
    "            type_gen = \"generalized\"\n",
    "        else:\n",
    "            type_gen = \"base\"\n",
    "            \n",
    "\n",
    "        from utils_extract_divergence_generalized import (\n",
    "            extract_divergence_generalized,\n",
    "        )\n",
    "        start_time_divergence = time.time()\n",
    "        FP_fm = extract_divergence_generalized(\n",
    "            df_analyze,\n",
    "            discretizations,\n",
    "            generalization_dict,\n",
    "            continuous_attributes,\n",
    "            min_sup_divergence=min_sup_divergence,\n",
    "            apply_generalization=apply_generalization,\n",
    "            true_class_name=true_class_name,\n",
    "            predicted_class_name=pred_class_name,\n",
    "            class_map=class_map,\n",
    "            FPM_type=\"fpgrowth\",\n",
    "        )\n",
    "        time_results[min_support_tree][type_gen] = time.time() - start_time_divergence\n",
    "\n",
    "        out[type_gen] = max(FP_fm[metric])\n",
    "    max_divergence_dict[min_support_tree] = out"
   ]
  },
  {
   "cell_type": "markdown",
   "id": "680313e8",
   "metadata": {},
   "source": [
    "### Plot "
   ]
  },
  {
   "cell_type": "code",
   "execution_count": 16,
   "id": "529c0417",
   "metadata": {
    "ExecuteTime": {
     "end_time": "2022-10-07T13:02:39.696626Z",
     "start_time": "2022-10-07T13:02:38.649483Z"
    },
    "scrolled": true
   },
   "outputs": [
    {
     "data": {
      "image/png": "[encoded data removed]",
      "text/plain": [
       "<Figure size 400x330 with 1 Axes>"
      ]
     },
     "metadata": {},
     "output_type": "display_data"
    }
   ],
   "source": [
    "show_sup = [0.005, 0.01, 0.02, 0.025, 0.035, 0.05, 0.075, 0.1, 0.125, 0.15, 0.175, 0.2]\n",
    "\n",
    "\n",
    "\n",
    "from pathlib import Path\n",
    "outfig_dir = \"0_output_figures\"\n",
    "Path(outfig_dir).mkdir(parents=True, exist_ok=True)\n",
    "\n",
    "import matplotlib.pyplot as plt\n",
    "\n",
    "\n",
    "\n",
    "metric_name = \"Δ_fpr\"\n",
    "\n",
    "\n",
    "vs = {}\n",
    "\n",
    "\n",
    "fig, ax = plt.subplots(figsize = (4,3.3))\n",
    "\n",
    "base = { min_support_tree: max_divergence_dict[min_support_tree][\"base\"] for min_support_tree in max_divergence_dict if min_support_tree in show_sup}\n",
    "gen =  { min_support_tree: max_divergence_dict[min_support_tree][\"generalized\"] for min_support_tree in max_divergence_dict if min_support_tree in show_sup}\n",
    "\n",
    "base = dict(sorted(base.items(), key=lambda item: item[0]))\n",
    "gen = dict(sorted(gen.items(), key=lambda item: item[0]))\n",
    "ax.set_title(r\"Highest Δ$_{FPR}$\")\n",
    "\n",
    "\n",
    "ax.plot(list(base.keys()), list(base.values()), label = \"base\", marker = \"o\", c = \"#009900\")\n",
    "ax.plot(list(gen.keys()), list(gen.values()), label = \"generalized\", marker = \"o\", c = \"orangered\")\n",
    "ax.set_ylabel(r\"max Δ$_{FPR}$\")\n",
    "ax.set_xlabel(r\"Minimum support $s_{t}$\")\n",
    "for item in ([ax.title, ax.xaxis.label, ax.yaxis.label] ): #ax.get_xticklabels()\n",
    "        item.set_fontsize(14)\n",
    "\n",
    "for item in ax.get_xticklabels() + ax.get_yticklabels():\n",
    "     item.set_fontsize(12)\n",
    "        \n",
    "plt.legend( fontsize = 13, handletextpad=0.2)\n",
    "\n",
    "\n",
    "\n",
    "plt.tight_layout();\n",
    "plt.savefig(f\"{outfig_dir}/compas_sensitivity_s_{min_sup_divergence}.pdf\")\n",
    "plt.show();"
   ]
  },
  {
   "cell_type": "code",
   "execution_count": null,
   "id": "52ce96d1",
   "metadata": {},
   "outputs": [],
   "source": [
    "outfig_dir"
   ]
  },
  {
   "cell_type": "markdown",
   "id": "aef89472",
   "metadata": {},
   "source": [
    "## Time"
   ]
  },
  {
   "cell_type": "code",
   "execution_count": 17,
   "id": "2ed13ff6",
   "metadata": {
    "ExecuteTime": {
     "end_time": "2022-10-07T13:02:40.239276Z",
     "start_time": "2022-10-07T13:02:39.971456Z"
    }
   },
   "outputs": [
    {
     "data": {
      "image/png": "[encoded data removed]",
      "text/plain": [
       "<Figure size 380x400 with 1 Axes>"
      ]
     },
     "metadata": {},
     "output_type": "display_data"
    }
   ],
   "source": [
    "import os\n",
    "from utils_plot import plotDicts\n",
    "\n",
    "info_plot = {}\n",
    "\n",
    "for min_support_tree, res in time_results.items():\n",
    "    for exp, value in res.items():\n",
    "        if exp not in info_plot:\n",
    "            info_plot[exp] = {}\n",
    "        info_plot[exp][min_support_tree] = value\n",
    "        \n",
    "figure_name = os.path.join(outfig_dir, f\"{dataset_name}_stree_{min_sup_divergence}_{metric}_time_trees.pdf\")\n",
    "\n",
    "size_fig = (3.8,4)\n",
    "fig = plotDicts(info_plot, marker=True, \\\n",
    "           sizeFig=size_fig, title=\"Execution time\", #yscale=\"log\", \n",
    "          xlabel=r\"Minimum support  $s_{t}$\",  ylabel=\"Execution time $(seconds)$\", labelSize=10.2,\n",
    "          outside=False,  saveFig=False, nameFig = figure_name)"
   ]
  },
  {
   "cell_type": "code",
   "execution_count": 18,
   "id": "668d38f8",
   "metadata": {
    "ExecuteTime": {
     "end_time": "2022-10-07T13:02:40.592099Z",
     "start_time": "2022-10-07T13:02:40.549241Z"
    }
   },
   "outputs": [
    {
     "data": {
      "text/html": [
       "<div>\n",
       "<style scoped>\n",
       "    .dataframe tbody tr th:only-of-type {\n",
       "        vertical-align: middle;\n",
       "    }\n",
       "\n",
       "    .dataframe tbody tr th {\n",
       "        vertical-align: top;\n",
       "    }\n",
       "\n",
       "    .dataframe thead th {\n",
       "        text-align: right;\n",
       "    }\n",
       "</style>\n",
       "<table border=\"1\" class=\"dataframe\">\n",
       "  <thead>\n",
       "    <tr style=\"text-align: right;\">\n",
       "      <th></th>\n",
       "      <th>hierarchies gen</th>\n",
       "      <th>base</th>\n",
       "      <th>generalized</th>\n",
       "    </tr>\n",
       "  </thead>\n",
       "  <tbody>\n",
       "    <tr>\n",
       "      <th>0.005</th>\n",
       "      <td>0.16</td>\n",
       "      <td>0.26</td>\n",
       "      <td>1.16</td>\n",
       "    </tr>\n",
       "    <tr>\n",
       "      <th>0.010</th>\n",
       "      <td>0.13</td>\n",
       "      <td>0.20</td>\n",
       "      <td>1.02</td>\n",
       "    </tr>\n",
       "    <tr>\n",
       "      <th>0.020</th>\n",
       "      <td>0.10</td>\n",
       "      <td>0.19</td>\n",
       "      <td>0.89</td>\n",
       "    </tr>\n",
       "    <tr>\n",
       "      <th>0.025</th>\n",
       "      <td>0.09</td>\n",
       "      <td>0.20</td>\n",
       "      <td>0.87</td>\n",
       "    </tr>\n",
       "    <tr>\n",
       "      <th>0.035</th>\n",
       "      <td>0.08</td>\n",
       "      <td>0.18</td>\n",
       "      <td>0.74</td>\n",
       "    </tr>\n",
       "    <tr>\n",
       "      <th>0.050</th>\n",
       "      <td>0.06</td>\n",
       "      <td>0.18</td>\n",
       "      <td>0.63</td>\n",
       "    </tr>\n",
       "    <tr>\n",
       "      <th>0.075</th>\n",
       "      <td>0.05</td>\n",
       "      <td>0.22</td>\n",
       "      <td>0.54</td>\n",
       "    </tr>\n",
       "    <tr>\n",
       "      <th>0.100</th>\n",
       "      <td>0.05</td>\n",
       "      <td>0.15</td>\n",
       "      <td>0.46</td>\n",
       "    </tr>\n",
       "    <tr>\n",
       "      <th>0.125</th>\n",
       "      <td>0.04</td>\n",
       "      <td>0.15</td>\n",
       "      <td>0.28</td>\n",
       "    </tr>\n",
       "    <tr>\n",
       "      <th>0.150</th>\n",
       "      <td>0.04</td>\n",
       "      <td>0.14</td>\n",
       "      <td>0.28</td>\n",
       "    </tr>\n",
       "    <tr>\n",
       "      <th>0.175</th>\n",
       "      <td>0.03</td>\n",
       "      <td>0.13</td>\n",
       "      <td>0.20</td>\n",
       "    </tr>\n",
       "    <tr>\n",
       "      <th>0.200</th>\n",
       "      <td>0.03</td>\n",
       "      <td>0.13</td>\n",
       "      <td>0.18</td>\n",
       "    </tr>\n",
       "    <tr>\n",
       "      <th>0.250</th>\n",
       "      <td>0.05</td>\n",
       "      <td>0.13</td>\n",
       "      <td>0.22</td>\n",
       "    </tr>\n",
       "    <tr>\n",
       "      <th>0.300</th>\n",
       "      <td>0.03</td>\n",
       "      <td>0.12</td>\n",
       "      <td>0.12</td>\n",
       "    </tr>\n",
       "  </tbody>\n",
       "</table>\n",
       "</div>"
      ],
      "text/plain": [
       "       hierarchies gen  base  generalized\n",
       "0.005             0.16  0.26         1.16\n",
       "0.010             0.13  0.20         1.02\n",
       "0.020             0.10  0.19         0.89\n",
       "0.025             0.09  0.20         0.87\n",
       "0.035             0.08  0.18         0.74\n",
       "0.050             0.06  0.18         0.63\n",
       "0.075             0.05  0.22         0.54\n",
       "0.100             0.05  0.15         0.46\n",
       "0.125             0.04  0.15         0.28\n",
       "0.150             0.04  0.14         0.28\n",
       "0.175             0.03  0.13         0.20\n",
       "0.200             0.03  0.13         0.18\n",
       "0.250             0.05  0.13         0.22\n",
       "0.300             0.03  0.12         0.12"
      ]
     },
     "execution_count": 18,
     "metadata": {},
     "output_type": "execute_result"
    }
   ],
   "source": [
    "pd.DataFrame(info_plot).round(2)"
   ]
  },
  {
   "cell_type": "code",
   "execution_count": 19,
   "id": "5f050c2f",
   "metadata": {
    "ExecuteTime": {
     "end_time": "2022-10-07T13:02:41.296989Z",
     "start_time": "2022-10-07T13:02:41.080382Z"
    }
   },
   "outputs": [
    {
     "data": {
      "image/png": "[encoded data removed]",
      "text/plain": [
       "<Figure size 380x400 with 1 Axes>"
      ]
     },
     "metadata": {},
     "output_type": "display_data"
    }
   ],
   "source": [
    "import os\n",
    "from utils_plot import plotDicts\n",
    "\n",
    "info_plot = {}\n",
    "\n",
    "for min_support_tree, res in time_results.items():\n",
    "    for exp, value in res.items():\n",
    "        if exp not in info_plot:\n",
    "            info_plot[exp] = {}\n",
    "        info_plot[exp][min_support_tree] = value\n",
    "        \n",
    "for exp in [\"base\", \"generalized\"]:\n",
    "    for min_support_tree in info_plot[exp]:\n",
    "        info_plot[exp][min_support_tree] = info_plot[exp][min_support_tree] + info_plot[tree_gen_name][min_support_tree]\n",
    "        \n",
    "figure_name = os.path.join(outfig_dir, f\"{dataset_name}_stree_{min_sup_divergence}_{metric}_time_trees.pdf\")\n",
    "\n",
    "size_fig = (3.8,4)\n",
    "fig = plotDicts(info_plot, marker=True, \\\n",
    "           sizeFig=size_fig, title=\"Execution time\", #yscale=\"log\", \n",
    "         xlabel=r\"Minimum support  $s_{t}$\",  ylabel=\"Execution time $(seconds)$\", labelSize=10.2,\n",
    "          outside=False,  saveFig=False, nameFig = figure_name, limit = (0, None))"
   ]
  },
  {
   "cell_type": "code",
   "execution_count": 20,
   "id": "96b0879e",
   "metadata": {
    "ExecuteTime": {
     "end_time": "2022-10-07T13:02:43.453532Z",
     "start_time": "2022-10-07T13:02:43.435160Z"
    }
   },
   "outputs": [
    {
     "data": {
      "text/html": [
       "<div>\n",
       "<style scoped>\n",
       "    .dataframe tbody tr th:only-of-type {\n",
       "        vertical-align: middle;\n",
       "    }\n",
       "\n",
       "    .dataframe tbody tr th {\n",
       "        vertical-align: top;\n",
       "    }\n",
       "\n",
       "    .dataframe thead th {\n",
       "        text-align: right;\n",
       "    }\n",
       "</style>\n",
       "<table border=\"1\" class=\"dataframe\">\n",
       "  <thead>\n",
       "    <tr style=\"text-align: right;\">\n",
       "      <th></th>\n",
       "      <th>hierarchies gen</th>\n",
       "      <th>base</th>\n",
       "      <th>generalized</th>\n",
       "    </tr>\n",
       "  </thead>\n",
       "  <tbody>\n",
       "    <tr>\n",
       "      <th>0.005</th>\n",
       "      <td>0.158294</td>\n",
       "      <td>0.421641</td>\n",
       "      <td>1.320329</td>\n",
       "    </tr>\n",
       "    <tr>\n",
       "      <th>0.010</th>\n",
       "      <td>0.130119</td>\n",
       "      <td>0.329733</td>\n",
       "      <td>1.154490</td>\n",
       "    </tr>\n",
       "    <tr>\n",
       "      <th>0.020</th>\n",
       "      <td>0.097600</td>\n",
       "      <td>0.291857</td>\n",
       "      <td>0.986442</td>\n",
       "    </tr>\n",
       "    <tr>\n",
       "      <th>0.025</th>\n",
       "      <td>0.085820</td>\n",
       "      <td>0.283136</td>\n",
       "      <td>0.958406</td>\n",
       "    </tr>\n",
       "    <tr>\n",
       "      <th>0.035</th>\n",
       "      <td>0.075374</td>\n",
       "      <td>0.260174</td>\n",
       "      <td>0.818040</td>\n",
       "    </tr>\n",
       "    <tr>\n",
       "      <th>0.050</th>\n",
       "      <td>0.061612</td>\n",
       "      <td>0.240252</td>\n",
       "      <td>0.696144</td>\n",
       "    </tr>\n",
       "    <tr>\n",
       "      <th>0.075</th>\n",
       "      <td>0.051811</td>\n",
       "      <td>0.268260</td>\n",
       "      <td>0.592262</td>\n",
       "    </tr>\n",
       "    <tr>\n",
       "      <th>0.100</th>\n",
       "      <td>0.045455</td>\n",
       "      <td>0.197958</td>\n",
       "      <td>0.503863</td>\n",
       "    </tr>\n",
       "    <tr>\n",
       "      <th>0.125</th>\n",
       "      <td>0.040529</td>\n",
       "      <td>0.185877</td>\n",
       "      <td>0.319190</td>\n",
       "    </tr>\n",
       "    <tr>\n",
       "      <th>0.150</th>\n",
       "      <td>0.036253</td>\n",
       "      <td>0.174289</td>\n",
       "      <td>0.317544</td>\n",
       "    </tr>\n",
       "    <tr>\n",
       "      <th>0.175</th>\n",
       "      <td>0.033867</td>\n",
       "      <td>0.167289</td>\n",
       "      <td>0.237535</td>\n",
       "    </tr>\n",
       "    <tr>\n",
       "      <th>0.200</th>\n",
       "      <td>0.031915</td>\n",
       "      <td>0.163345</td>\n",
       "      <td>0.215670</td>\n",
       "    </tr>\n",
       "    <tr>\n",
       "      <th>0.250</th>\n",
       "      <td>0.045536</td>\n",
       "      <td>0.175660</td>\n",
       "      <td>0.265130</td>\n",
       "    </tr>\n",
       "    <tr>\n",
       "      <th>0.300</th>\n",
       "      <td>0.027086</td>\n",
       "      <td>0.146930</td>\n",
       "      <td>0.151728</td>\n",
       "    </tr>\n",
       "  </tbody>\n",
       "</table>\n",
       "</div>"
      ],
      "text/plain": [
       "       hierarchies gen      base  generalized\n",
       "0.005         0.158294  0.421641     1.320329\n",
       "0.010         0.130119  0.329733     1.154490\n",
       "0.020         0.097600  0.291857     0.986442\n",
       "0.025         0.085820  0.283136     0.958406\n",
       "0.035         0.075374  0.260174     0.818040\n",
       "0.050         0.061612  0.240252     0.696144\n",
       "0.075         0.051811  0.268260     0.592262\n",
       "0.100         0.045455  0.197958     0.503863\n",
       "0.125         0.040529  0.185877     0.319190\n",
       "0.150         0.036253  0.174289     0.317544\n",
       "0.175         0.033867  0.167289     0.237535\n",
       "0.200         0.031915  0.163345     0.215670\n",
       "0.250         0.045536  0.175660     0.265130\n",
       "0.300         0.027086  0.146930     0.151728"
      ]
     },
     "execution_count": 20,
     "metadata": {},
     "output_type": "execute_result"
    }
   ],
   "source": [
    "pd.DataFrame(info_plot)"
   ]
  },
  {
   "cell_type": "code",
   "execution_count": null,
   "id": "02728b0c",
   "metadata": {},
   "outputs": [],
   "source": []
  },
  {
   "cell_type": "code",
   "execution_count": null,
   "id": "95b8fb19",
   "metadata": {},
   "outputs": [],
   "source": []
  },
  {
   "cell_type": "code",
   "execution_count": null,
   "id": "33540842",
   "metadata": {},
   "outputs": [],
   "source": []
  }
 ],
 "metadata": {
  "hide_input": false,
  "kernelspec": {
   "display_name": "Python 3 (ipykernel)",
   "language": "python",
   "name": "python3"
  },
  "language_info": {
   "codemirror_mode": {
    "name": "ipython",
    "version": 3
   },
   "file_extension": ".py",
   "mimetype": "text/x-python",
   "name": "python",
   "nbconvert_exporter": "python",
   "pygments_lexer": "ipython3",
   "version": "3.10.8"
  },
  "toc": {
   "base_numbering": 1,
   "nav_menu": {},
   "number_sections": true,
   "sideBar": true,
   "skip_h1_title": false,
   "title_cell": "Table of Contents",
   "title_sidebar": "Contents",
   "toc_cell": false,
   "toc_position": {
    "height": "calc(100% - 180px)",
    "left": "10px",
    "top": "150px",
    "width": "165px"
   },
   "toc_section_display": true,
   "toc_window_display": true
  },
  "varInspector": {
   "cols": {
    "lenName": 16,
    "lenType": 16,
    "lenVar": 40
   },
   "kernels_config": {
    "python": {
     "delete_cmd_postfix": "",
     "delete_cmd_prefix": "del ",
     "library": "var_list.py",
     "varRefreshCmd": "print(var_dic_list())"
    },
    "r": {
     "delete_cmd_postfix": ") ",
     "delete_cmd_prefix": "rm(",
     "library": "var_list.r",
     "varRefreshCmd": "cat(var_dic_list()) "
    }
   },
   "types_to_exclude": [
    "module",
    "function",
    "builtin_function_or_method",
    "instance",
    "_Feature"
   ],
   "window_display": false
  },
  "vscode": {
   "interpreter": {
    "hash": "07df9bc2b24d98062a84ddbd1ffd60fbcc72456b438b7897cd79ef4167382f91"
   }
  }
 },
 "nbformat": 4,
 "nbformat_minor": 5
}
