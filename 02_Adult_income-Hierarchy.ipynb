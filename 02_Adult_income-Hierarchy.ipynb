{
 "cells": [
  {
   "cell_type": "code",
   "execution_count": 1,
   "id": "23ebfde9",
   "metadata": {
    "ExecuteTime": {
     "end_time": "2022-06-08T13:22:23.566119Z",
     "start_time": "2022-06-08T13:22:23.536059Z"
    }
   },
   "outputs": [],
   "source": [
    "%load_ext autoreload\n",
    "%autoreload 2"
   ]
  },
  {
   "cell_type": "code",
   "execution_count": 2,
   "id": "7f0419cc",
   "metadata": {},
   "outputs": [],
   "source": [
    "\n",
    "import pandas as pd\n",
    "import os"
   ]
  },
  {
   "cell_type": "code",
   "execution_count": 3,
   "id": "sunrise-seating",
   "metadata": {
    "ExecuteTime": {
     "end_time": "2022-06-08T13:22:23.587021Z",
     "start_time": "2022-06-08T13:22:23.567959Z"
    }
   },
   "outputs": [],
   "source": [
    "from utils_printable import printable\n",
    "\n",
    "\n",
    "\n",
    "abbreviations = {\"RAC1P\": \"RAC\", \"White alone\": \"White\", \"Reference person\": \"Ref person\", \\\n",
    "\"Employee of a private for-profit company or business, or of an individual, for wages, salary, or commissions\": \"Empl. for-profit-c\",\\\n",
    "\"Employee of a private not-for-profit, tax-exempt, or charitable organization\": \"Empl. no-profit-c\",\n",
    "\"Self-employed in own not incorporated business, professional practice, or farm\": \"Self-Empl. not incorp\" ,     \n",
    "\"Self-employed in own incorporated business, professional practice or farm\": \"Self-Empl. incorp\" ,\n",
    "\"Local government employee (city, county, etc.)\" : \"Local gov. Empl. \",\n",
    "\"Federal government employee\": \"Federal gov.  Empl.\",\n",
    "\"California/CA\":\"CA\", \"Never married or under 15 years old\": \"Never married/<15yrs\", \n",
    "\"Biological son or daughter\": \"Son/daughter\", \"Regular high school diploma\":\"HS\", \\\n",
    "\"Asian alone\":\"Asian\", \"1 or more years of college credit\":\"1+ collage cr\",\n",
    "\"Some Other Race alone\": \"Other\", \"Bachelor's degree\": \"Bachelor\", \"Master's degree\": \"Master\", \n",
    "                \"Some college, but less than 1 year\": \"<1y collage\",\n",
    "                \"Associate's degree\":\"Associate\",\n",
    "\"Noninstitutionalized group quarters population\": \"Noninstit. GQs\", \n",
    "\"OCCP=CMM-Software Developers\": \"OCCP=CMM-SW Dev\", \n",
    "                 \"Professional degree beyond a bachelor's degree\": \"Prof beyond bachelor\"}"
   ]
  },
  {
   "cell_type": "code",
   "execution_count": 4,
   "id": "saving-generator",
   "metadata": {
    "ExecuteTime": {
     "end_time": "2022-06-08T13:22:23.603813Z",
     "start_time": "2022-06-08T13:22:23.589373Z"
    }
   },
   "outputs": [],
   "source": [
    "def printable_with_ratio(df_pr, abbreviations = {}, show_weighted_ratio = False):\n",
    "    out_cols = [\"itemsets\", \"sup\", \"Δ_outcome\", \"t_outcome\", \"ratio\"]\n",
    "    df_pr[\"ratio\"] = df_pr[\"outcome\"]/mean_outcome\n",
    "    if show_weighted_ratio:\n",
    "        out_cols = out_cols + [\"wlogr\"]\n",
    "    df_pr = printable(df_pr, abbreviations=abbreviations)\n",
    "    return df_pr[out_cols]\n",
    "\n"
   ]
  },
  {
   "cell_type": "markdown",
   "id": "2c61951a",
   "metadata": {},
   "source": [
    "# Load data"
   ]
  },
  {
   "cell_type": "code",
   "execution_count": 5,
   "id": "1e8527f4",
   "metadata": {
    "ExecuteTime": {
     "end_time": "2022-06-08T13:22:32.514993Z",
     "start_time": "2022-06-08T13:22:23.605431Z"
    }
   },
   "outputs": [],
   "source": [
    "from folktables import ACSDataSource, ACSIncome\n",
    "\n",
    "data_source = ACSDataSource(survey_year='2018', horizon='1-Year', survey='person')\n",
    "acs_data = data_source.get_data(states=[\"CA\"], download=True)\n",
    "features, label, group = ACSIncome.df_to_numpy(acs_data)"
   ]
  },
  {
   "cell_type": "code",
   "execution_count": 6,
   "id": "49915da4",
   "metadata": {
    "ExecuteTime": {
     "end_time": "2022-06-08T13:22:32.532579Z",
     "start_time": "2022-06-08T13:22:32.516650Z"
    }
   },
   "outputs": [],
   "source": [
    "from folktables.acs import adult_filter\n",
    "from folktables import BasicProblem\n",
    "import numpy as np\n",
    "\n",
    "feature_names = [ 'AGEP', 'COW', 'SCHL', 'MAR', 'OCCP', 'POBP',  'RELP', 'WKHP', 'SEX', 'RAC1P' ]\n",
    "\n",
    "target='PINCP'\n",
    "\n",
    "ACSIncome_outcome = BasicProblem(\n",
    "    features=feature_names,\n",
    "    target=target,\n",
    "    group='RAC1P',\n",
    "    preprocess=adult_filter,\n",
    ")"
   ]
  },
  {
   "cell_type": "code",
   "execution_count": 7,
   "id": "fd2ef146",
   "metadata": {
    "ExecuteTime": {
     "end_time": "2022-06-08T13:22:33.506902Z",
     "start_time": "2022-06-08T13:22:32.533974Z"
    }
   },
   "outputs": [],
   "source": [
    "features, label, group = ACSIncome_outcome.df_to_numpy(acs_data)"
   ]
  },
  {
   "cell_type": "code",
   "execution_count": 8,
   "id": "bbb6df0e",
   "metadata": {
    "ExecuteTime": {
     "end_time": "2022-06-08T13:22:33.522619Z",
     "start_time": "2022-06-08T13:22:33.508827Z"
    }
   },
   "outputs": [],
   "source": [
    "continuous_attributes = ['AGEP', 'WKHP']"
   ]
  },
  {
   "cell_type": "code",
   "execution_count": 9,
   "id": "076d453a",
   "metadata": {
    "ExecuteTime": {
     "end_time": "2022-06-08T13:22:33.550247Z",
     "start_time": "2022-06-08T13:22:33.524064Z"
    }
   },
   "outputs": [],
   "source": [
    "categorical_attributes = list(set(feature_names)-set(continuous_attributes))"
   ]
  },
  {
   "cell_type": "code",
   "execution_count": 10,
   "id": "d57cc259",
   "metadata": {
    "ExecuteTime": {
     "end_time": "2022-06-08T13:22:33.580876Z",
     "start_time": "2022-06-08T13:22:33.553991Z"
    }
   },
   "outputs": [
    {
     "data": {
      "text/html": [
       "<div>\n",
       "<style scoped>\n",
       "    .dataframe tbody tr th:only-of-type {\n",
       "        vertical-align: middle;\n",
       "    }\n",
       "\n",
       "    .dataframe tbody tr th {\n",
       "        vertical-align: top;\n",
       "    }\n",
       "\n",
       "    .dataframe thead th {\n",
       "        text-align: right;\n",
       "    }\n",
       "</style>\n",
       "<table border=\"1\" class=\"dataframe\">\n",
       "  <thead>\n",
       "    <tr style=\"text-align: right;\">\n",
       "      <th></th>\n",
       "      <th>AGEP</th>\n",
       "      <th>COW</th>\n",
       "      <th>SCHL</th>\n",
       "      <th>MAR</th>\n",
       "      <th>OCCP</th>\n",
       "      <th>POBP</th>\n",
       "      <th>RELP</th>\n",
       "      <th>WKHP</th>\n",
       "      <th>SEX</th>\n",
       "      <th>RAC1P</th>\n",
       "      <th>income</th>\n",
       "    </tr>\n",
       "  </thead>\n",
       "  <tbody>\n",
       "    <tr>\n",
       "      <th>0</th>\n",
       "      <td>30.0</td>\n",
       "      <td>6.0</td>\n",
       "      <td>14.0</td>\n",
       "      <td>1.0</td>\n",
       "      <td>9610.0</td>\n",
       "      <td>6.0</td>\n",
       "      <td>16.0</td>\n",
       "      <td>40.0</td>\n",
       "      <td>1.0</td>\n",
       "      <td>8.0</td>\n",
       "      <td>48500.0</td>\n",
       "    </tr>\n",
       "    <tr>\n",
       "      <th>1</th>\n",
       "      <td>21.0</td>\n",
       "      <td>4.0</td>\n",
       "      <td>16.0</td>\n",
       "      <td>5.0</td>\n",
       "      <td>1970.0</td>\n",
       "      <td>6.0</td>\n",
       "      <td>17.0</td>\n",
       "      <td>20.0</td>\n",
       "      <td>1.0</td>\n",
       "      <td>1.0</td>\n",
       "      <td>7700.0</td>\n",
       "    </tr>\n",
       "    <tr>\n",
       "      <th>2</th>\n",
       "      <td>65.0</td>\n",
       "      <td>2.0</td>\n",
       "      <td>22.0</td>\n",
       "      <td>5.0</td>\n",
       "      <td>2040.0</td>\n",
       "      <td>6.0</td>\n",
       "      <td>17.0</td>\n",
       "      <td>8.0</td>\n",
       "      <td>1.0</td>\n",
       "      <td>1.0</td>\n",
       "      <td>17200.0</td>\n",
       "    </tr>\n",
       "    <tr>\n",
       "      <th>3</th>\n",
       "      <td>33.0</td>\n",
       "      <td>1.0</td>\n",
       "      <td>14.0</td>\n",
       "      <td>3.0</td>\n",
       "      <td>9610.0</td>\n",
       "      <td>36.0</td>\n",
       "      <td>16.0</td>\n",
       "      <td>40.0</td>\n",
       "      <td>1.0</td>\n",
       "      <td>1.0</td>\n",
       "      <td>12000.0</td>\n",
       "    </tr>\n",
       "    <tr>\n",
       "      <th>4</th>\n",
       "      <td>18.0</td>\n",
       "      <td>2.0</td>\n",
       "      <td>19.0</td>\n",
       "      <td>5.0</td>\n",
       "      <td>1021.0</td>\n",
       "      <td>6.0</td>\n",
       "      <td>17.0</td>\n",
       "      <td>18.0</td>\n",
       "      <td>2.0</td>\n",
       "      <td>1.0</td>\n",
       "      <td>300.0</td>\n",
       "    </tr>\n",
       "  </tbody>\n",
       "</table>\n",
       "</div>"
      ],
      "text/plain": [
       "   AGEP  COW  SCHL  MAR    OCCP  POBP  RELP  WKHP  SEX  RAC1P   income\n",
       "0  30.0  6.0  14.0  1.0  9610.0   6.0  16.0  40.0  1.0    8.0  48500.0\n",
       "1  21.0  4.0  16.0  5.0  1970.0   6.0  17.0  20.0  1.0    1.0   7700.0\n",
       "2  65.0  2.0  22.0  5.0  2040.0   6.0  17.0   8.0  1.0    1.0  17200.0\n",
       "3  33.0  1.0  14.0  3.0  9610.0  36.0  16.0  40.0  1.0    1.0  12000.0\n",
       "4  18.0  2.0  19.0  5.0  1021.0   6.0  17.0  18.0  2.0    1.0    300.0"
      ]
     },
     "execution_count": 10,
     "metadata": {},
     "output_type": "execute_result"
    }
   ],
   "source": [
    "import pandas as pd\n",
    "\n",
    "\n",
    "df = pd.DataFrame(features, columns=feature_names)\n",
    "df[\"income\"] = label\n",
    "df.head()"
   ]
  },
  {
   "cell_type": "markdown",
   "id": "65895cac",
   "metadata": {},
   "source": [
    "# Remap columns"
   ]
  },
  {
   "cell_type": "markdown",
   "id": "dependent-positive",
   "metadata": {},
   "source": [
    "From label encoding to interpretable notation: e.g., 0, 1 to \"male\", \"female\""
   ]
  },
  {
   "cell_type": "code",
   "execution_count": 11,
   "id": "abstract-prospect",
   "metadata": {
    "ExecuteTime": {
     "end_time": "2022-06-08T13:22:33.595785Z",
     "start_time": "2022-06-08T13:22:33.582512Z"
    }
   },
   "outputs": [],
   "source": [
    "filename = os.path.join(os.path.curdir, \"datasets\", \"ACSPUMS\", \"PUMS_Data_Dictionary_2018.csv\")\n",
    "df_mappings = pd.read_csv(filename)"
   ]
  },
  {
   "cell_type": "code",
   "execution_count": 12,
   "id": "e17ec43e",
   "metadata": {
    "ExecuteTime": {
     "end_time": "2022-06-08T13:22:33.806407Z",
     "start_time": "2022-06-08T13:22:33.756004Z"
    }
   },
   "outputs": [],
   "source": [
    "remapping_cols = {}\n",
    "\n",
    "orig_col = \"1\"\n",
    "new_col = \"Record Type\"\n",
    "cols_i = [orig_col, new_col]\n",
    "\n",
    "#col_name = \"OCCP\"\n",
    "for col_name in categorical_attributes:\n",
    "    dict_i = df_mappings.loc[\"VAL\"].loc[col_name][cols_i].set_index(orig_col).to_dict()[new_col]\n",
    "    dict_i = {float(k) if (k not in [\"b\", \"bb\", 'bbb', 'bbbb']) else -1 :v for k,v in dict_i.items()}\n",
    "    remapping_cols[col_name] = dict_i"
   ]
  },
  {
   "cell_type": "code",
   "execution_count": 13,
   "id": "f6b86971",
   "metadata": {
    "ExecuteTime": {
     "end_time": "2022-06-08T13:22:35.841095Z",
     "start_time": "2022-06-08T13:22:33.807934Z"
    }
   },
   "outputs": [],
   "source": [
    "from copy import deepcopy\n",
    "\n",
    "df_analysis = deepcopy(df)\n",
    "\n",
    "for column_name in remapping_cols:\n",
    "    df_analysis[column_name] = df[column_name].replace(remapping_cols[column_name])"
   ]
  },
  {
   "cell_type": "markdown",
   "id": "portable-personal",
   "metadata": {},
   "source": [
    "We substituite nan with string \"NaN\""
   ]
  },
  {
   "cell_type": "code",
   "execution_count": 14,
   "id": "029194e4",
   "metadata": {
    "ExecuteTime": {
     "end_time": "2022-06-08T13:22:35.912798Z",
     "start_time": "2022-06-08T13:22:35.842887Z"
    }
   },
   "outputs": [],
   "source": [
    "for c in df_analysis:\n",
    "    if df_analysis[c].isna().any():\n",
    "        print(c)\n",
    "        df_analysis[c].fillna('NaN', inplace=True)"
   ]
  },
  {
   "cell_type": "code",
   "execution_count": 15,
   "id": "bf01cb9e",
   "metadata": {
    "ExecuteTime": {
     "end_time": "2022-06-08T13:22:35.939287Z",
     "start_time": "2022-06-08T13:22:35.914266Z"
    },
    "scrolled": true
   },
   "outputs": [
    {
     "data": {
      "text/html": [
       "<div>\n",
       "<style scoped>\n",
       "    .dataframe tbody tr th:only-of-type {\n",
       "        vertical-align: middle;\n",
       "    }\n",
       "\n",
       "    .dataframe tbody tr th {\n",
       "        vertical-align: top;\n",
       "    }\n",
       "\n",
       "    .dataframe thead th {\n",
       "        text-align: right;\n",
       "    }\n",
       "</style>\n",
       "<table border=\"1\" class=\"dataframe\">\n",
       "  <thead>\n",
       "    <tr style=\"text-align: right;\">\n",
       "      <th></th>\n",
       "      <th>AGEP</th>\n",
       "      <th>COW</th>\n",
       "      <th>SCHL</th>\n",
       "      <th>MAR</th>\n",
       "      <th>OCCP</th>\n",
       "      <th>POBP</th>\n",
       "      <th>RELP</th>\n",
       "      <th>WKHP</th>\n",
       "      <th>SEX</th>\n",
       "      <th>RAC1P</th>\n",
       "      <th>income</th>\n",
       "    </tr>\n",
       "  </thead>\n",
       "  <tbody>\n",
       "    <tr>\n",
       "      <th>0</th>\n",
       "      <td>30.0</td>\n",
       "      <td>Self-employed in own not incorporated business...</td>\n",
       "      <td>Grade 11</td>\n",
       "      <td>Married</td>\n",
       "      <td>TRN-Cleaners Of Vehicles And Equipment</td>\n",
       "      <td>California/CA</td>\n",
       "      <td>Institutionalized group quarters population</td>\n",
       "      <td>40.0</td>\n",
       "      <td>Male</td>\n",
       "      <td>Some Other Race alone</td>\n",
       "      <td>48500.0</td>\n",
       "    </tr>\n",
       "    <tr>\n",
       "      <th>1</th>\n",
       "      <td>21.0</td>\n",
       "      <td>State government employee</td>\n",
       "      <td>Regular high school diploma</td>\n",
       "      <td>Never married or under 15 years old</td>\n",
       "      <td>SCI-Other Life, Physical, And Social Science T...</td>\n",
       "      <td>California/CA</td>\n",
       "      <td>Noninstitutionalized group quarters population</td>\n",
       "      <td>20.0</td>\n",
       "      <td>Male</td>\n",
       "      <td>White alone</td>\n",
       "      <td>7700.0</td>\n",
       "    </tr>\n",
       "    <tr>\n",
       "      <th>2</th>\n",
       "      <td>65.0</td>\n",
       "      <td>Employee of a private not-for-profit, tax-exem...</td>\n",
       "      <td>Master's degree</td>\n",
       "      <td>Never married or under 15 years old</td>\n",
       "      <td>CMS-Clergy</td>\n",
       "      <td>California/CA</td>\n",
       "      <td>Noninstitutionalized group quarters population</td>\n",
       "      <td>8.0</td>\n",
       "      <td>Male</td>\n",
       "      <td>White alone</td>\n",
       "      <td>17200.0</td>\n",
       "    </tr>\n",
       "  </tbody>\n",
       "</table>\n",
       "</div>"
      ],
      "text/plain": [
       "   AGEP                                                COW  \\\n",
       "0  30.0  Self-employed in own not incorporated business...   \n",
       "1  21.0                          State government employee   \n",
       "2  65.0  Employee of a private not-for-profit, tax-exem...   \n",
       "\n",
       "                          SCHL                                  MAR  \\\n",
       "0                     Grade 11                              Married   \n",
       "1  Regular high school diploma  Never married or under 15 years old   \n",
       "2              Master's degree  Never married or under 15 years old   \n",
       "\n",
       "                                                OCCP           POBP  \\\n",
       "0             TRN-Cleaners Of Vehicles And Equipment  California/CA   \n",
       "1  SCI-Other Life, Physical, And Social Science T...  California/CA   \n",
       "2                                         CMS-Clergy  California/CA   \n",
       "\n",
       "                                             RELP  WKHP   SEX  \\\n",
       "0     Institutionalized group quarters population  40.0  Male   \n",
       "1  Noninstitutionalized group quarters population  20.0  Male   \n",
       "2  Noninstitutionalized group quarters population   8.0  Male   \n",
       "\n",
       "                   RAC1P   income  \n",
       "0  Some Other Race alone  48500.0  \n",
       "1            White alone   7700.0  \n",
       "2            White alone  17200.0  "
      ]
     },
     "execution_count": 15,
     "metadata": {},
     "output_type": "execute_result"
    }
   ],
   "source": [
    "df_analysis.head(3)"
   ]
  },
  {
   "cell_type": "code",
   "execution_count": 16,
   "id": "9fb7efc0",
   "metadata": {
    "ExecuteTime": {
     "end_time": "2022-06-08T13:22:36.041509Z",
     "start_time": "2022-06-08T13:22:35.971504Z"
    }
   },
   "outputs": [],
   "source": [
    "import pickle\n",
    "\n",
    "with open(\n",
    "    os.path.join(os.path.curdir, \"datasets\", \"ACSPUMS\", \"census_column_mapping.pickle\"),\n",
    "    \"wb\",\n",
    ") as fp:\n",
    "    pickle.dump(remapping_cols, fp)"
   ]
  },
  {
   "cell_type": "code",
   "execution_count": 17,
   "id": "5e353603",
   "metadata": {
    "ExecuteTime": {
     "end_time": "2022-06-08T13:22:37.467885Z",
     "start_time": "2022-06-08T13:22:36.066184Z"
    }
   },
   "outputs": [],
   "source": [
    "df_analysis.to_csv(os.path.join(os.path.curdir, \"datasets\", \"ACSPUMS\", \"adult_dataset_income.csv\"), index=False)"
   ]
  },
  {
   "cell_type": "code",
   "execution_count": 18,
   "id": "ff583e16",
   "metadata": {
    "ExecuteTime": {
     "end_time": "2022-06-08T13:22:37.484075Z",
     "start_time": "2022-06-08T13:22:37.469515Z"
    }
   },
   "outputs": [],
   "source": [
    "continuous_attributes = ['AGEP', 'WKHP']"
   ]
  },
  {
   "cell_type": "code",
   "execution_count": 19,
   "id": "9ec8ef79",
   "metadata": {
    "ExecuteTime": {
     "end_time": "2022-06-08T13:22:37.527758Z",
     "start_time": "2022-06-08T13:22:37.485452Z"
    }
   },
   "outputs": [
    {
     "data": {
      "text/plain": [
       "(195665, 11)"
      ]
     },
     "execution_count": 19,
     "metadata": {},
     "output_type": "execute_result"
    }
   ],
   "source": [
    "df_analysis.shape"
   ]
  },
  {
   "cell_type": "markdown",
   "id": "3cd56012",
   "metadata": {},
   "source": [
    "# Taxonomy"
   ]
  },
  {
   "cell_type": "code",
   "execution_count": 20,
   "id": "0f9f22bf",
   "metadata": {
    "ExecuteTime": {
     "end_time": "2022-06-08T13:22:37.556681Z",
     "start_time": "2022-06-08T13:22:37.530892Z"
    }
   },
   "outputs": [],
   "source": [
    "df_analysis_proc = deepcopy(df_analysis)"
   ]
  },
  {
   "cell_type": "markdown",
   "id": "romance-devil",
   "metadata": {},
   "source": [
    "### Occupation"
   ]
  },
  {
   "cell_type": "code",
   "execution_count": 21,
   "id": "4ee6945c",
   "metadata": {
    "ExecuteTime": {
     "end_time": "2022-06-08T13:22:37.647640Z",
     "start_time": "2022-06-08T13:22:37.558321Z"
    }
   },
   "outputs": [],
   "source": [
    "attr = \"OCCP\"\n",
    "\n",
    "generalization_dict_tax = {}\n",
    "generalization_dict_tax[attr] = {x: x.split(\"-\")[0] for x in df_analysis_proc[attr].values if \"-\" in x}"
   ]
  },
  {
   "cell_type": "markdown",
   "id": "varied-mainland",
   "metadata": {},
   "source": [
    "### Country"
   ]
  },
  {
   "cell_type": "markdown",
   "id": "distributed-nepal",
   "metadata": {},
   "source": [
    "We rename some of the columns for vizualization and mapping reasons."
   ]
  },
  {
   "cell_type": "code",
   "execution_count": 22,
   "id": "committed-hayes",
   "metadata": {
    "ExecuteTime": {
     "end_time": "2022-06-08T13:22:37.956257Z",
     "start_time": "2022-06-08T13:22:37.854235Z"
    }
   },
   "outputs": [],
   "source": [
    "if \"POBP\" in df_analysis_proc.columns:\n",
    "    df_analysis_proc[\"POBP\"] = df_analysis_proc[\"POBP\"]\\\n",
    "    .replace({\"England\":\"United Kingdom\", 'Scotland': \"United Kingdom\", \\\n",
    "              \"United Kingdom, Not Specified\": \"United Kingdom\",  'Northern Ireland': \"United Kingdom\",\\\n",
    "               \"USSR\": \"Russia\", \"Hong Kong\": \"Hong Kong SAR\",\n",
    "             \"Democratic Republic of Congo (Zaire)\": 'Democratic Republic of the Congo',\n",
    "             \"Trinidad & Tobago\": \"Trinidad and Tobago\", 'Macedonia':'North Macedonia',\n",
    "             'Antigua & Barbuda': 'Antigua and Barbuda', \\\n",
    "              'Commonwealth of the Northern Mariana Islands':'Northern Mariana Islands',\n",
    "             'St. Vincent & the Grenadines': 'St. Vincent and the Grenadines', \\\n",
    "              #simplification\n",
    "             \"Azores Islands\": \"Portugal\"})"
   ]
  },
  {
   "cell_type": "code",
   "execution_count": 23,
   "id": "grave-greeting",
   "metadata": {
    "ExecuteTime": {
     "end_time": "2022-06-08T13:22:38.038318Z",
     "start_time": "2022-06-08T13:22:37.957882Z"
    }
   },
   "outputs": [],
   "source": [
    "# https://statisticstimes.com/geography/countries-by-continents.php\n",
    "df_taxonomy_country = pd.read_csv(\"country_hierarchies.csv\", header=None, index_col=0)\n",
    "\n",
    "df_taxonomy_country.columns=[\"Country or Area\",\"ISO-alpha3 Code\", \"M49 Code\", \"Region 1\", \"Region 2\", \"Continent\"]\n",
    "\n",
    "df_taxonomy_country[\"Country or Area\"] = df_taxonomy_country[\"Country or Area\"].replace({\n",
    "    \"Viet Nam\":\"Vietnam\", \"Bolivia (Plurinational State of)\": \"Bolivia\" ,\\\n",
    "      \"Russian Federation\": \"Russia\",'Iran (Islamic Republic of)': 'Iran', \\\n",
    "    \"Lao People's Democratic Republic\": \"Laos\", 'Syrian Arab Republic': \"Syria\", \n",
    "    'Venezuela (Bolivarian Republic of)': \"Venezuela\",\n",
    "    \"Republic of Moldova\": \"Moldova\", \"Czechia\": \"Czech Republic\",\n",
    "        'United Republic of Tanzania': \"Tanzania\", 'Côte d’Ivoire': \"Ivory Coast\",\n",
    "        'United States Virgin Islands': 'US Virgin Islands', 'Saint Lucia': 'St. Lucia', \n",
    "    'Saint Kitts and Nevis': 'St. Kitts-Nevis',\n",
    "    'Saint Vincent and the Grenadines': 'St. Vincent and the Grenadines',\n",
    "    \"United Kingdom of Great Britain and Northern Ireland\" : \"United Kingdom\",\\\n",
    "    \"China, Hong Kong Special Administrative Region\" : \"Hong Kong SAR\"\n",
    "})\n",
    "\n",
    "\n",
    "g_hierarchy = {}\n",
    "target_cols = [\"Country or Area\", \"Region 1\", \"Continent\"]\n",
    "for i, row in df_taxonomy_country.iterrows():\n",
    "    levels = [col for col in target_cols if pd.notnull(row[col])]\n",
    "    \n",
    "    for l in range(len(levels)-1):\n",
    "        tax_c, tax_p = row[levels[l]], row[levels[l+1]]\n",
    "        # If already exist but the value is different\n",
    "        if \"Korea\" in tax_c:\n",
    "            tax_c = \"Korea\"\n",
    "        \n",
    "        if tax_c in g_hierarchy and tax_p!=g_hierarchy[tax_c]:\n",
    "            print(row)\n",
    "            raise ValueError()\n",
    "        if tax_c == tax_p:\n",
    "            continue\n",
    "        g_hierarchy[tax_c] = tax_p\n",
    "attr = 'POBP'\n",
    "#g_hierarchy = {}\n",
    "g_hierarchy.update({\"North America\": \"America\", \n",
    " \"South America\": \"America\", \n",
    " \"Americas, Not Specified\" : \"America\", \n",
    "\"Other Europe, Not Specified\": \"Europe\",\n",
    "\"Eastern Africa, Not Specified\": \"Africa\",\n",
    "\"Other Asia, Not Specified\": \"Asia\",\n",
    "\"South Central Asia, Not Specified\": \"Asia\",\n",
    "\"Caribbean, Not Specified\": \"North America\",\n",
    "\"Other US Island Areas, Oceania, Not Specified, or at Sea\": \"Oceania\",\n",
    "\"Other Africa, Not Specified\": \"Africa\",\n",
    "\"Western Africa, Not Specified\": \"Africa\",\n",
    "                   \"Taiwan\" : 'Eastern Asia',\n",
    "                   'Czechoslovakia':'Eastern Europe', 'Yugoslavia':'Southern Europe'})\n"
   ]
  },
  {
   "cell_type": "code",
   "execution_count": 24,
   "id": "original-diary",
   "metadata": {
    "ExecuteTime": {
     "end_time": "2022-06-08T13:22:38.249067Z",
     "start_time": "2022-06-08T13:22:38.039860Z"
    },
    "scrolled": false
   },
   "outputs": [
    {
     "name": "stdout",
     "output_type": "stream",
     "text": [
      "Asia 54\n",
      "Europe 23\n",
      "Africa 18\n",
      "West Indies 2\n",
      "North America 0\n",
      "South America 4\n",
      "Micronesia 8\n",
      "109 0.00056\n"
     ]
    }
   ],
   "source": [
    "generalization_dict_tax_u = deepcopy(g_hierarchy)\n",
    "delete_values = []\n",
    "for c, v in df_analysis_proc[\"POBP\"].value_counts().items():\n",
    "    if c not in g_hierarchy.keys():\n",
    "        if \"/\" in c:\n",
    "            g_hierarchy[c] = \"United States of America\"\n",
    "        else:\n",
    "            delete_values.append(c)\n",
    "\n",
    "delete_values.append(\"North America\")\n",
    "delete_values.append(\"South America\")\n",
    "delete_values.append(\"Micronesia\")\n",
    "\n",
    "tot_deleted = 0\n",
    "for c in delete_values:\n",
    "    print(c, len(df_analysis_proc.loc[df_analysis_proc[\"POBP\"]==c]))\n",
    "    tot_deleted +=len(df_analysis_proc.loc[df_analysis_proc[\"POBP\"]==c])\n",
    "print(tot_deleted, round(tot_deleted/len(df_analysis_proc),5))"
   ]
  },
  {
   "cell_type": "markdown",
   "id": "approved-peninsula",
   "metadata": {
    "ExecuteTime": {
     "end_time": "2022-05-22T14:48:17.840751Z",
     "start_time": "2022-05-22T14:48:17.832450Z"
    }
   },
   "source": [
    "Delete rows for which the detailed information is not available"
   ]
  },
  {
   "cell_type": "code",
   "execution_count": 25,
   "id": "804d2083",
   "metadata": {
    "ExecuteTime": {
     "end_time": "2022-06-08T13:22:38.281291Z",
     "start_time": "2022-06-08T13:22:38.250548Z"
    }
   },
   "outputs": [],
   "source": [
    "df_analysis_proc = df_analysis_proc.loc[df_analysis_proc[\"POBP\"].isin(delete_values)==False]"
   ]
  },
  {
   "cell_type": "code",
   "execution_count": 26,
   "id": "b6e0891a",
   "metadata": {
    "ExecuteTime": {
     "end_time": "2022-06-08T13:22:38.322532Z",
     "start_time": "2022-06-08T13:22:38.307743Z"
    }
   },
   "outputs": [],
   "source": [
    "generalization_dict_tax[attr] = generalization_dict_tax_u"
   ]
  },
  {
   "cell_type": "code",
   "execution_count": 27,
   "id": "mathematical-healthcare",
   "metadata": {
    "ExecuteTime": {
     "end_time": "2022-06-08T13:22:39.774896Z",
     "start_time": "2022-06-08T13:22:38.324011Z"
    }
   },
   "outputs": [],
   "source": [
    "df_analysis_proc.to_csv(os.path.join(os.path.curdir, \"datasets\", \"ACSPUMS\", \"adult_dataset_income_tax.csv\"), index=False)"
   ]
  },
  {
   "cell_type": "code",
   "execution_count": 28,
   "id": "altered-preview",
   "metadata": {
    "ExecuteTime": {
     "end_time": "2022-06-08T13:22:39.846363Z",
     "start_time": "2022-06-08T13:22:39.776509Z"
    }
   },
   "outputs": [],
   "source": [
    "import json\n",
    "\n",
    "with open(os.path.join(os.path.curdir, \"datasets\", \"ACSPUMS\", \"adult_taxonomies.json\"), \"w\") as fp:\n",
    "    json.dump(generalization_dict_tax, fp)"
   ]
  },
  {
   "cell_type": "markdown",
   "id": "fdc16218",
   "metadata": {},
   "source": [
    "# Tree divergence - income - individual"
   ]
  },
  {
   "cell_type": "markdown",
   "id": "bef91cf1",
   "metadata": {
    "ExecuteTime": {
     "end_time": "2022-01-14T16:09:38.440308Z",
     "start_time": "2022-01-14T16:09:38.415153Z"
    }
   },
   "source": [
    "## Tree"
   ]
  },
  {
   "cell_type": "code",
   "execution_count": 29,
   "id": "fe65877f",
   "metadata": {
    "ExecuteTime": {
     "end_time": "2022-06-08T13:22:43.266871Z",
     "start_time": "2022-06-08T13:22:43.245162Z"
    }
   },
   "outputs": [],
   "source": [
    "min_support = 0.1"
   ]
  },
  {
   "cell_type": "code",
   "execution_count": 30,
   "id": "d3004959",
   "metadata": {
    "ExecuteTime": {
     "end_time": "2022-06-08T13:22:43.771108Z",
     "start_time": "2022-06-08T13:22:43.750747Z"
    }
   },
   "outputs": [],
   "source": [
    "metric = \"d_outcome\"\n",
    "target = \"income\""
   ]
  },
  {
   "cell_type": "code",
   "execution_count": 31,
   "id": "32db5661",
   "metadata": {
    "ExecuteTime": {
     "end_time": "2022-06-08T13:22:44.712665Z",
     "start_time": "2022-06-08T13:22:44.102915Z"
    },
    "scrolled": true
   },
   "outputs": [],
   "source": [
    "from tree_discretization_ranking import TreeDiscretization_ranking\n",
    "\n",
    "tree_discr = TreeDiscretization_ranking()\n",
    "\n",
    "\n",
    "type_experiment = \"one_at_time\"\n",
    "\n",
    "type_criterion = \"divergence_criterion\"\n",
    "\n",
    "\n",
    "generalization_dict, discretizations = tree_discr.get_tree_discretization(\n",
    "    df_analysis_proc,\n",
    "    type_splitting=type_experiment,\n",
    "    min_support=min_support,\n",
    "    metric=metric,\n",
    "    continuous_attributes= list(continuous_attributes),\n",
    "    storeTree=True,\n",
    "    type_criterion = type_criterion,\n",
    "    minimal_gain = 0.0,\n",
    "    target_col = target\n",
    ")"
   ]
  },
  {
   "cell_type": "code",
   "execution_count": 32,
   "id": "increased-rocket",
   "metadata": {
    "ExecuteTime": {
     "end_time": "2022-06-08T13:22:46.241009Z",
     "start_time": "2022-06-08T13:22:46.201212Z"
    }
   },
   "outputs": [],
   "source": [
    "FP_results = {\"base\": {}, \"generalized\": {}}"
   ]
  },
  {
   "cell_type": "markdown",
   "id": "cbde1772",
   "metadata": {},
   "source": [
    "## min_sup_divergence  = 0.05"
   ]
  },
  {
   "cell_type": "code",
   "execution_count": 33,
   "id": "b7395c52",
   "metadata": {
    "ExecuteTime": {
     "end_time": "2022-06-08T13:22:47.083847Z",
     "start_time": "2022-06-08T13:22:47.061616Z"
    }
   },
   "outputs": [],
   "source": [
    "generalization_dict_all = deepcopy(generalization_dict)\n",
    "generalization_dict_all.update(generalization_dict_tax)"
   ]
  },
  {
   "cell_type": "code",
   "execution_count": 34,
   "id": "patient-single",
   "metadata": {
    "ExecuteTime": {
     "end_time": "2022-06-08T13:22:47.675913Z",
     "start_time": "2022-06-08T13:22:47.652700Z"
    }
   },
   "outputs": [
    {
     "name": "stdout",
     "output_type": "stream",
     "text": [
      "dict_keys(['AGEP', 'WKHP', 'OCCP', 'POBP'])\n"
     ]
    }
   ],
   "source": [
    "print(generalization_dict_all.keys())"
   ]
  },
  {
   "cell_type": "code",
   "execution_count": 35,
   "id": "f500c39c",
   "metadata": {
    "ExecuteTime": {
     "end_time": "2022-06-08T13:22:48.335133Z",
     "start_time": "2022-06-08T13:22:48.312953Z"
    }
   },
   "outputs": [],
   "source": [
    "min_sup_divergence = 0.05"
   ]
  },
  {
   "cell_type": "code",
   "execution_count": 36,
   "id": "247cc2f5",
   "metadata": {
    "ExecuteTime": {
     "end_time": "2022-06-08T13:22:49.376862Z",
     "start_time": "2022-06-08T13:22:49.356747Z"
    }
   },
   "outputs": [],
   "source": [
    "import pandas as pd\n",
    "pd.set_option('max_colwidth', None)"
   ]
  },
  {
   "cell_type": "code",
   "execution_count": 37,
   "id": "e372ac96",
   "metadata": {
    "ExecuteTime": {
     "end_time": "2022-06-08T13:22:49.573294Z",
     "start_time": "2022-06-08T13:22:49.552524Z"
    }
   },
   "outputs": [],
   "source": [
    "INFO = ['support', 'itemsets', 'tn', 'fp', 'fn', 'tp']"
   ]
  },
  {
   "cell_type": "code",
   "execution_count": 38,
   "id": "b99f370d",
   "metadata": {},
   "outputs": [],
   "source": [
    "min_sup_divergences = [0.05, 0.025, 0.01]"
   ]
  },
  {
   "cell_type": "code",
   "execution_count": 39,
   "id": "7ed5e67d",
   "metadata": {},
   "outputs": [],
   "source": [
    "out_support = {}\n",
    "out_support_wlogr = {}"
   ]
  },
  {
   "cell_type": "markdown",
   "id": "aa731811",
   "metadata": {},
   "source": [
    "### Without Generalization "
   ]
  },
  {
   "cell_type": "code",
   "execution_count": 40,
   "id": "8771b4a6",
   "metadata": {
    "ExecuteTime": {
     "end_time": "2022-06-08T13:22:59.947661Z",
     "start_time": "2022-06-08T13:22:49.769754Z"
    }
   },
   "outputs": [
    {
     "name": "stdout",
     "output_type": "stream",
     "text": [
      "0.05\n",
      "Time: 15.35\n",
      "0.025\n",
      "Time: 14.72\n",
      "0.01\n",
      "Time: 15.95\n"
     ]
    }
   ],
   "source": [
    "from utils_extract_divergence_generalized_ranking import (\n",
    "    extract_divergence_generalized,\n",
    ")\n",
    "\n",
    "apply_generalization = False\n",
    "\n",
    "pattern_type = \"generalized\" if apply_generalization else \"base\"\n",
    "\n",
    "import time\n",
    "for min_sup_divergence in min_sup_divergences:\n",
    "    print(min_sup_divergence)\n",
    "    st = time.time()\n",
    "    FP_fm = extract_divergence_generalized(\n",
    "        df_analysis_proc,\n",
    "        discretizations,\n",
    "        generalization_dict_all,\n",
    "        continuous_attributes,\n",
    "        min_sup_divergence=min_sup_divergence,\n",
    "        apply_generalization=apply_generalization,\n",
    "        target_name = target,\n",
    "        FPM_type=\"fpgrowth\",\n",
    "        metrics_divergence = [\"d_outcome\"],\n",
    "        type_experiment = type_experiment,\n",
    "        allow_overalp = False if type_experiment!=\"all_attributes\" else True\n",
    "    )\n",
    "    print(f\"Time: {round(time.time()-st, 2)}\")\n",
    "\n",
    "\n",
    "    from divexplorer_generalized_ranking.FP_Divergence import FP_Divergence\n",
    "    fp_divergence_o=FP_Divergence(FP_fm, \"d_outcome\")\n",
    "    fp_div = fp_divergence_o.getDivergence(th_redundancy=0)\n",
    "    most_divergent = fp_div.sort_values(fp_divergence_o.metric, ascending = False).head(1)\n",
    "    \n",
    "    if min_sup_divergence == 0.01 :\n",
    "        import math\n",
    "        mean_outcome = fp_div.loc[0][\"outcome\"]\n",
    "        fp_div[\"wlogr\"] = fp_div[\"support\"] * (fp_div[\"outcome\"]/mean_outcome).apply(lambda x: math.log(x))\n",
    "        most_divergent_wlogr = fp_div.sort_values(\"wlogr\", ascending = True).head(3)\n",
    "\n",
    "        out_support_wlogr.setdefault(min_sup_divergence, {})[\"base\"] = most_divergent_wlogr\n",
    "    \n",
    "    \n",
    "    out_support.setdefault(min_sup_divergence, {})[\"base\"] = most_divergent\n",
    "    "
   ]
  },
  {
   "cell_type": "markdown",
   "id": "3a627b9d",
   "metadata": {},
   "source": [
    "### With Generalization "
   ]
  },
  {
   "cell_type": "code",
   "execution_count": 41,
   "id": "665727e9",
   "metadata": {
    "ExecuteTime": {
     "end_time": "2022-06-08T13:23:21.136581Z",
     "start_time": "2022-06-08T13:23:01.979359Z"
    }
   },
   "outputs": [
    {
     "name": "stdout",
     "output_type": "stream",
     "text": [
      "0.05\n",
      "Time: 25.72\n",
      "0.025\n",
      "Time: 30.45\n",
      "0.01\n",
      "1 10000\n",
      "2 20000\n",
      "Time: 46.66\n"
     ]
    }
   ],
   "source": [
    "from utils_extract_divergence_generalized_ranking import (\n",
    "    extract_divergence_generalized,\n",
    ")\n",
    "\n",
    "apply_generalization = True\n",
    "pattern_type = \"generalized\" if apply_generalization else \"base\"\n",
    "\n",
    "import time \n",
    "\n",
    "\n",
    "\n",
    "for min_sup_divergence in min_sup_divergences:\n",
    "    print(min_sup_divergence)\n",
    "    st = time.time()\n",
    "    FP_fm = extract_divergence_generalized(\n",
    "        df_analysis_proc,\n",
    "        discretizations,\n",
    "        generalization_dict_all,\n",
    "        continuous_attributes,\n",
    "        min_sup_divergence=min_sup_divergence,\n",
    "        apply_generalization=apply_generalization,\n",
    "        target_name = target,\n",
    "        FPM_type=\"fpgrowth\",\n",
    "        metrics_divergence = [\"d_outcome\"],\n",
    "        type_experiment = type_experiment,\n",
    "        considerOnlyContinuos = False,\n",
    "        allow_overalp = False if type_experiment!=\"all_attributes\" else True\n",
    "    )\n",
    "\n",
    "    print(f\"Time: {round(time.time()-st, 2)}\")\n",
    "\n",
    "    from divexplorer_generalized_ranking.FP_Divergence import FP_Divergence\n",
    "    fp_divergence_o=FP_Divergence(FP_fm, \"d_outcome\")\n",
    "    fp_div = fp_divergence_o.getDivergence(th_redundancy=0)\n",
    "    most_divergent = fp_div.sort_values(fp_divergence_o.metric, ascending = False).head(1)\n",
    "    out_support.setdefault(min_sup_divergence, {})[\"generalized\"] = most_divergent\n",
    "         \n",
    "    \n",
    "    if min_sup_divergence == 0.01 :\n",
    "        import math\n",
    "        mean_outcome = fp_div.loc[0][\"outcome\"]\n",
    "        fp_div[\"wlogr\"] = fp_div[\"support\"] * (fp_div[\"outcome\"]/mean_outcome).apply(lambda x: math.log(x))\n",
    "        most_divergent_wlogr = fp_div.sort_values(\"wlogr\", ascending = True).head(3)\n",
    "\n",
    "        out_support_wlogr.setdefault(min_sup_divergence, {})[\"generalized\"] = most_divergent_wlogr"
   ]
  },
  {
   "cell_type": "markdown",
   "id": "cad794db",
   "metadata": {},
   "source": [
    "# Print results"
   ]
  },
  {
   "cell_type": "markdown",
   "id": "059ded46",
   "metadata": {},
   "source": [
    "## Divergence"
   ]
  },
  {
   "cell_type": "code",
   "execution_count": 42,
   "id": "0434f399",
   "metadata": {},
   "outputs": [],
   "source": [
    "t_value_col = \"t_value_outcome\""
   ]
  },
  {
   "cell_type": "code",
   "execution_count": 43,
   "id": "1626582e",
   "metadata": {},
   "outputs": [
    {
     "data": {
      "text/html": [
       "<div>\n",
       "<style scoped>\n",
       "    .dataframe tbody tr th:only-of-type {\n",
       "        vertical-align: middle;\n",
       "    }\n",
       "\n",
       "    .dataframe tbody tr th {\n",
       "        vertical-align: top;\n",
       "    }\n",
       "\n",
       "    .dataframe thead th {\n",
       "        text-align: right;\n",
       "    }\n",
       "</style>\n",
       "<table border=\"1\" class=\"dataframe\">\n",
       "  <thead>\n",
       "    <tr style=\"text-align: right;\">\n",
       "      <th></th>\n",
       "      <th>s</th>\n",
       "      <th>Exploration approach</th>\n",
       "      <th>itemsets</th>\n",
       "      <th>sup</th>\n",
       "      <th>Δ_outcome</th>\n",
       "      <th>t_outcome</th>\n",
       "    </tr>\n",
       "  </thead>\n",
       "  <tbody>\n",
       "    <tr>\n",
       "      <th>341</th>\n",
       "      <td>0.050</td>\n",
       "      <td>base</td>\n",
       "      <td>MAR=Married, RAC=White, SEX=Male, WKHP=&gt;=44.0</td>\n",
       "      <td>0.07</td>\n",
       "      <td>80986.277</td>\n",
       "      <td>62.3</td>\n",
       "    </tr>\n",
       "    <tr>\n",
       "      <th>1858</th>\n",
       "      <td>0.050</td>\n",
       "      <td>generalized</td>\n",
       "      <td>AGEP=&gt;=35.0, OCCP=MGR, SEX=Male</td>\n",
       "      <td>0.05</td>\n",
       "      <td>90204.019</td>\n",
       "      <td>60.6</td>\n",
       "    </tr>\n",
       "    <tr>\n",
       "      <th>1285</th>\n",
       "      <td>0.025</td>\n",
       "      <td>base</td>\n",
       "      <td>SCHL=Prof beyond bachelor</td>\n",
       "      <td>0.03</td>\n",
       "      <td>105256.743</td>\n",
       "      <td>46.7</td>\n",
       "    </tr>\n",
       "    <tr>\n",
       "      <th>6602</th>\n",
       "      <td>0.025</td>\n",
       "      <td>generalized</td>\n",
       "      <td>AGEP=&gt;=35.0, OCCP=MGR, SEX=Male, WKHP=&gt;=44.0</td>\n",
       "      <td>0.03</td>\n",
       "      <td>119340.209</td>\n",
       "      <td>50.6</td>\n",
       "    </tr>\n",
       "    <tr>\n",
       "      <th>4388</th>\n",
       "      <td>0.010</td>\n",
       "      <td>base</td>\n",
       "      <td>SCHL=Prof beyond bachelor, WKHP=&gt;=44.0</td>\n",
       "      <td>0.01</td>\n",
       "      <td>163479.862</td>\n",
       "      <td>40.3</td>\n",
       "    </tr>\n",
       "    <tr>\n",
       "      <th>25541</th>\n",
       "      <td>0.010</td>\n",
       "      <td>generalized</td>\n",
       "      <td>AGEP=&gt;=35.0, SCHL=Prof beyond bachelor, SEX=Male, WKHP=&gt;=40.0</td>\n",
       "      <td>0.01</td>\n",
       "      <td>172295.970</td>\n",
       "      <td>39.3</td>\n",
       "    </tr>\n",
       "  </tbody>\n",
       "</table>\n",
       "</div>"
      ],
      "text/plain": [
       "           s Exploration approach  \\\n",
       "341    0.050                 base   \n",
       "1858   0.050          generalized   \n",
       "1285   0.025                 base   \n",
       "6602   0.025          generalized   \n",
       "4388   0.010                 base   \n",
       "25541  0.010          generalized   \n",
       "\n",
       "                                                            itemsets   sup  \\\n",
       "341                    MAR=Married, RAC=White, SEX=Male, WKHP=>=44.0  0.07   \n",
       "1858                                 AGEP=>=35.0, OCCP=MGR, SEX=Male  0.05   \n",
       "1285                                       SCHL=Prof beyond bachelor  0.03   \n",
       "6602                    AGEP=>=35.0, OCCP=MGR, SEX=Male, WKHP=>=44.0  0.03   \n",
       "4388                          SCHL=Prof beyond bachelor, WKHP=>=44.0  0.01   \n",
       "25541  AGEP=>=35.0, SCHL=Prof beyond bachelor, SEX=Male, WKHP=>=40.0  0.01   \n",
       "\n",
       "        Δ_outcome  t_outcome  \n",
       "341     80986.277       62.3  \n",
       "1858    90204.019       60.6  \n",
       "1285   105256.743       46.7  \n",
       "6602   119340.209       50.6  \n",
       "4388   163479.862       40.3  \n",
       "25541  172295.970       39.3  "
      ]
     },
     "execution_count": 43,
     "metadata": {},
     "output_type": "execute_result"
    }
   ],
   "source": [
    "method_name = \"Exploration approach\"\n",
    "\n",
    "res_acc = []\n",
    "for min_sup_divergence in min_sup_divergences:\n",
    "    res = pd.concat([out_support[min_sup_divergence][k] for k in out_support[min_sup_divergence]])\n",
    "    res[method_name] = out_support[min_sup_divergence].keys()\n",
    "    res[\"s\"] = [min_sup_divergence]*len(res)\n",
    "    from utils_printable import printable\n",
    "\n",
    "    COLS = [\"s\", method_name] + [\"itemsets\", \"support\"] + [metric, t_value_col]\n",
    "    \n",
    "    res_pr = printable(res[COLS], abbreviations=abbreviations, resort_cols = False)\n",
    "    \n",
    "    res_acc.append(res_pr)\n",
    "\n",
    "pd.concat(res_acc)"
   ]
  },
  {
   "cell_type": "markdown",
   "id": "294dc092",
   "metadata": {},
   "source": [
    "## Wlogr"
   ]
  },
  {
   "cell_type": "code",
   "execution_count": 60,
   "id": "9b667b30",
   "metadata": {},
   "outputs": [
    {
     "name": "stdout",
     "output_type": "stream",
     "text": [
      "Minimum support divergence: 0.01\n"
     ]
    },
    {
     "data": {
      "text/html": [
       "<div>\n",
       "<style scoped>\n",
       "    .dataframe tbody tr th:only-of-type {\n",
       "        vertical-align: middle;\n",
       "    }\n",
       "\n",
       "    .dataframe tbody tr th {\n",
       "        vertical-align: top;\n",
       "    }\n",
       "\n",
       "    .dataframe thead th {\n",
       "        text-align: right;\n",
       "    }\n",
       "</style>\n",
       "<table border=\"1\" class=\"dataframe\">\n",
       "  <thead>\n",
       "    <tr style=\"text-align: right;\">\n",
       "      <th></th>\n",
       "      <th>Exploration approach</th>\n",
       "      <th>itemsets</th>\n",
       "      <th>sup</th>\n",
       "      <th>Δ_outcome</th>\n",
       "      <th>t_outcome</th>\n",
       "      <th>wlogr</th>\n",
       "    </tr>\n",
       "  </thead>\n",
       "  <tbody>\n",
       "    <tr>\n",
       "      <th>58</th>\n",
       "      <td>base</td>\n",
       "      <td>AGEP=&lt;=26.0</td>\n",
       "      <td>0.17</td>\n",
       "      <td>-43.9</td>\n",
       "      <td>173.8</td>\n",
       "      <td>-0.191</td>\n",
       "    </tr>\n",
       "    <tr>\n",
       "      <th>75</th>\n",
       "      <td>base</td>\n",
       "      <td>AGEP=&lt;=26.0, MAR=Never married/&lt;15yrs</td>\n",
       "      <td>0.15</td>\n",
       "      <td>-44.9</td>\n",
       "      <td>175.9</td>\n",
       "      <td>-0.179</td>\n",
       "    </tr>\n",
       "    <tr>\n",
       "      <th>51</th>\n",
       "      <td>base</td>\n",
       "      <td>WKHP=&lt;=29.0</td>\n",
       "      <td>0.18</td>\n",
       "      <td>-40.4</td>\n",
       "      <td>122.5</td>\n",
       "      <td>-0.178</td>\n",
       "    </tr>\n",
       "    <tr>\n",
       "      <th>40</th>\n",
       "      <td>generalized</td>\n",
       "      <td>WKHP=&lt;=39.0</td>\n",
       "      <td>0.31</td>\n",
       "      <td>-33.0</td>\n",
       "      <td>108.5</td>\n",
       "      <td>-0.216</td>\n",
       "    </tr>\n",
       "    <tr>\n",
       "      <th>285</th>\n",
       "      <td>generalized</td>\n",
       "      <td>AGEP=&lt;=34.0, WKHP=&lt;=39.0</td>\n",
       "      <td>0.14</td>\n",
       "      <td>-49.9</td>\n",
       "      <td>203.6</td>\n",
       "      <td>-0.197</td>\n",
       "    </tr>\n",
       "    <tr>\n",
       "      <th>26</th>\n",
       "      <td>generalized</td>\n",
       "      <td>AGEP=&lt;=34.0</td>\n",
       "      <td>0.34</td>\n",
       "      <td>-28.0</td>\n",
       "      <td>104.3</td>\n",
       "      <td>-0.193</td>\n",
       "    </tr>\n",
       "  </tbody>\n",
       "</table>\n",
       "</div>"
      ],
      "text/plain": [
       "    Exploration approach                               itemsets   sup  \\\n",
       "58                  base                            AGEP=<=26.0  0.17   \n",
       "75                  base  AGEP=<=26.0, MAR=Never married/<15yrs  0.15   \n",
       "51                  base                            WKHP=<=29.0  0.18   \n",
       "40           generalized                            WKHP=<=39.0  0.31   \n",
       "285          generalized               AGEP=<=34.0, WKHP=<=39.0  0.14   \n",
       "26           generalized                            AGEP=<=34.0  0.34   \n",
       "\n",
       "     Δ_outcome  t_outcome  wlogr  \n",
       "58       -43.9      173.8 -0.191  \n",
       "75       -44.9      175.9 -0.179  \n",
       "51       -40.4      122.5 -0.178  \n",
       "40       -33.0      108.5 -0.216  \n",
       "285      -49.9      203.6 -0.197  \n",
       "26       -28.0      104.3 -0.193  "
      ]
     },
     "metadata": {},
     "output_type": "display_data"
    }
   ],
   "source": [
    "method_name = \"Exploration approach\"\n",
    "\n",
    "min_sup_divergence = 0.01\n",
    "for k in out_support_wlogr[min_sup_divergence]:\n",
    "    out_support_wlogr[min_sup_divergence][k][method_name] = [k] * len(out_support_wlogr[min_sup_divergence][k])\n",
    "res = pd.concat([out_support_wlogr[min_sup_divergence][k] for k in out_support_wlogr[min_sup_divergence]])\n",
    "\n",
    "from utils_printable import printable\n",
    "\n",
    "COLS = [method_name] +[\"itemsets\", \"support\"] + [metric, t_value_col, \"wlogr\"]\n",
    "res[metric] = (res[metric]/1000).round(1)\n",
    "res_pr = printable(res[COLS], abbreviations=abbreviations, resort_cols = False)\n",
    "\n",
    "print(f\"Minimum support divergence: {min_sup_divergence}\")\n",
    "display(res_pr)"
   ]
  }
 ],
 "metadata": {
  "hide_input": false,
  "kernelspec": {
   "display_name": "Python 3",
   "language": "python",
   "name": "python3"
  },
  "language_info": {
   "codemirror_mode": {
    "name": "ipython",
    "version": 3
   },
   "file_extension": ".py",
   "mimetype": "text/x-python",
   "name": "python",
   "nbconvert_exporter": "python",
   "pygments_lexer": "ipython3",
   "version": "3.8.8"
  },
  "toc": {
   "base_numbering": 1,
   "nav_menu": {},
   "number_sections": true,
   "sideBar": true,
   "skip_h1_title": false,
   "title_cell": "Table of Contents",
   "title_sidebar": "Contents",
   "toc_cell": false,
   "toc_position": {
    "height": "calc(100% - 180px)",
    "left": "10px",
    "top": "150px",
    "width": "341.953px"
   },
   "toc_section_display": true,
   "toc_window_display": true
  },
  "varInspector": {
   "cols": {
    "lenName": 16,
    "lenType": 16,
    "lenVar": 40
   },
   "kernels_config": {
    "python": {
     "delete_cmd_postfix": "",
     "delete_cmd_prefix": "del ",
     "library": "var_list.py",
     "varRefreshCmd": "print(var_dic_list())"
    },
    "r": {
     "delete_cmd_postfix": ") ",
     "delete_cmd_prefix": "rm(",
     "library": "var_list.r",
     "varRefreshCmd": "cat(var_dic_list()) "
    }
   },
   "types_to_exclude": [
    "module",
    "function",
    "builtin_function_or_method",
    "instance",
    "_Feature"
   ],
   "window_display": false
  }
 },
 "nbformat": 4,
 "nbformat_minor": 5
}
