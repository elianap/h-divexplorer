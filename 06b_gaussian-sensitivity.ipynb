{
 "cells": [
  {
   "cell_type": "code",
   "execution_count": 1,
   "id": "8fecbeb9",
   "metadata": {
    "ExecuteTime": {
     "end_time": "2022-10-07T11:54:14.427122Z",
     "start_time": "2022-10-07T11:54:14.404446Z"
    }
   },
   "outputs": [],
   "source": [
    "%load_ext autoreload\n",
    "%autoreload 2"
   ]
  },
  {
   "cell_type": "markdown",
   "id": "4b3dbfa8",
   "metadata": {},
   "source": [
    "Try with **multiple dimension**! 5 or 6"
   ]
  },
  {
   "cell_type": "code",
   "execution_count": 2,
   "id": "998b42f1",
   "metadata": {
    "ExecuteTime": {
     "end_time": "2022-10-07T11:54:14.971469Z",
     "start_time": "2022-10-07T11:54:14.429639Z"
    }
   },
   "outputs": [],
   "source": [
    "import warnings\n",
    "warnings.filterwarnings(\"ignore\")\n",
    "\n",
    "from utils_artificial import gaussian_error_data\n",
    "import pandas as pd"
   ]
  },
  {
   "cell_type": "code",
   "execution_count": 3,
   "id": "a29e5f86",
   "metadata": {
    "ExecuteTime": {
     "end_time": "2022-10-07T11:54:14.984534Z",
     "start_time": "2022-10-07T11:54:14.972988Z"
    }
   },
   "outputs": [],
   "source": [
    "from pathlib import Path\n",
    "outfig_dir = \"0_output_figures\"\n",
    "Path(outfig_dir).mkdir(parents=True, exist_ok=True)"
   ]
  },
  {
   "cell_type": "markdown",
   "id": "f9f349e5",
   "metadata": {},
   "source": [
    "# Error rate based on a gaussian"
   ]
  },
  {
   "cell_type": "code",
   "execution_count": 4,
   "id": "61efbae9",
   "metadata": {
    "ExecuteTime": {
     "end_time": "2022-10-07T11:54:14.999241Z",
     "start_time": "2022-10-07T11:54:14.986996Z"
    }
   },
   "outputs": [],
   "source": [
    "min_sups = [0.005, 0.01, 0.02, 0.025, 0.035, 0.05, 0.075, 0.1, 0.125, 0.15, 0.175, 0.2]"
   ]
  },
  {
   "cell_type": "code",
   "execution_count": 6,
   "id": "d22fa902",
   "metadata": {
    "ExecuteTime": {
     "end_time": "2022-10-07T11:56:40.604548Z",
     "start_time": "2022-10-07T11:56:40.307156Z"
    },
    "scrolled": true
   },
   "outputs": [],
   "source": [
    "\n",
    "n_attributes = 3\n",
    "df_analysis, attributes, g, g_sc = gaussian_error_data(n = 10000, n_attributes = n_attributes)\n",
    "\n",
    "from utils_extract_divergence_generalized_ranking import (\n",
    "    extract_divergence_generalized,\n",
    ")\n",
    "\n",
    "\n",
    "\n",
    "pred_name =\"predicted_class\"\n",
    "class_name =  \"true_class\" \n",
    "class_map = {\"P\":1, \"N\":0}\n",
    "\n",
    "continuous_attributes = attributes\n",
    "\n",
    "min_sup_divergence=0.025\n",
    "\n",
    "type_experiment = \"one_at_time\"\n",
    "metric = \"d_error\"\n",
    "type_criterion = \"divergence_criterion\"\n"
   ]
  },
  {
   "cell_type": "code",
   "execution_count": 7,
   "id": "0ffaf4c8",
   "metadata": {
    "ExecuteTime": {
     "end_time": "2022-10-07T11:56:40.969180Z",
     "start_time": "2022-10-07T11:56:40.941216Z"
    }
   },
   "outputs": [],
   "source": [
    "tree_gen_name = \"hierarchies gen\""
   ]
  },
  {
   "cell_type": "code",
   "execution_count": 8,
   "id": "e93cb0d0",
   "metadata": {
    "ExecuteTime": {
     "end_time": "2022-10-07T11:59:30.075247Z",
     "start_time": "2022-10-07T11:56:41.455669Z"
    }
   },
   "outputs": [
    {
     "name": "stdout",
     "output_type": "stream",
     "text": [
      "0.005 0.01 "
     ]
    },
    {
     "name": "stderr",
     "output_type": "stream",
     "text": [
      "/home/eliana/Projects/hierarchical-subgroup-exploration-private/TreeDivergence.py:776: DeprecationWarning: `np.object` is a deprecated alias for the builtin `object`. To silence this warning, use `object` by itself. Doing this will not modify any behavior and is safe. \n",
      "Deprecated in NumPy 1.20; for more details and guidance: https://numpy.org/devdocs/release/1.20.0-notes.html#deprecations\n",
      "  if (data.dtypes[attr] == np.object) and (\n",
      "/home/eliana/Projects/hierarchical-subgroup-exploration-private/TreeDivergence.py:776: DeprecationWarning: `np.object` is a deprecated alias for the builtin `object`. To silence this warning, use `object` by itself. Doing this will not modify any behavior and is safe. \n",
      "Deprecated in NumPy 1.20; for more details and guidance: https://numpy.org/devdocs/release/1.20.0-notes.html#deprecations\n",
      "  if (data.dtypes[attr] == np.object) and (\n",
      "/home/eliana/Projects/hierarchical-subgroup-exploration-private/TreeDivergence.py:776: DeprecationWarning: `np.object` is a deprecated alias for the builtin `object`. To silence this warning, use `object` by itself. Doing this will not modify any behavior and is safe. \n",
      "Deprecated in NumPy 1.20; for more details and guidance: https://numpy.org/devdocs/release/1.20.0-notes.html#deprecations\n",
      "  if (data.dtypes[attr] == np.object) and (\n"
     ]
    },
    {
     "name": "stdout",
     "output_type": "stream",
     "text": [
      "0.02 "
     ]
    },
    {
     "name": "stderr",
     "output_type": "stream",
     "text": [
      "/home/eliana/Projects/hierarchical-subgroup-exploration-private/TreeDivergence.py:776: DeprecationWarning: `np.object` is a deprecated alias for the builtin `object`. To silence this warning, use `object` by itself. Doing this will not modify any behavior and is safe. \n",
      "Deprecated in NumPy 1.20; for more details and guidance: https://numpy.org/devdocs/release/1.20.0-notes.html#deprecations\n",
      "  if (data.dtypes[attr] == np.object) and (\n",
      "/home/eliana/Projects/hierarchical-subgroup-exploration-private/TreeDivergence.py:776: DeprecationWarning: `np.object` is a deprecated alias for the builtin `object`. To silence this warning, use `object` by itself. Doing this will not modify any behavior and is safe. \n",
      "Deprecated in NumPy 1.20; for more details and guidance: https://numpy.org/devdocs/release/1.20.0-notes.html#deprecations\n",
      "  if (data.dtypes[attr] == np.object) and (\n",
      "/home/eliana/Projects/hierarchical-subgroup-exploration-private/TreeDivergence.py:776: DeprecationWarning: `np.object` is a deprecated alias for the builtin `object`. To silence this warning, use `object` by itself. Doing this will not modify any behavior and is safe. \n",
      "Deprecated in NumPy 1.20; for more details and guidance: https://numpy.org/devdocs/release/1.20.0-notes.html#deprecations\n",
      "  if (data.dtypes[attr] == np.object) and (\n"
     ]
    },
    {
     "name": "stdout",
     "output_type": "stream",
     "text": [
      "0.025 "
     ]
    },
    {
     "name": "stderr",
     "output_type": "stream",
     "text": [
      "/home/eliana/Projects/hierarchical-subgroup-exploration-private/TreeDivergence.py:776: DeprecationWarning: `np.object` is a deprecated alias for the builtin `object`. To silence this warning, use `object` by itself. Doing this will not modify any behavior and is safe. \n",
      "Deprecated in NumPy 1.20; for more details and guidance: https://numpy.org/devdocs/release/1.20.0-notes.html#deprecations\n",
      "  if (data.dtypes[attr] == np.object) and (\n",
      "/home/eliana/Projects/hierarchical-subgroup-exploration-private/TreeDivergence.py:776: DeprecationWarning: `np.object` is a deprecated alias for the builtin `object`. To silence this warning, use `object` by itself. Doing this will not modify any behavior and is safe. \n",
      "Deprecated in NumPy 1.20; for more details and guidance: https://numpy.org/devdocs/release/1.20.0-notes.html#deprecations\n",
      "  if (data.dtypes[attr] == np.object) and (\n",
      "/home/eliana/Projects/hierarchical-subgroup-exploration-private/TreeDivergence.py:776: DeprecationWarning: `np.object` is a deprecated alias for the builtin `object`. To silence this warning, use `object` by itself. Doing this will not modify any behavior and is safe. \n",
      "Deprecated in NumPy 1.20; for more details and guidance: https://numpy.org/devdocs/release/1.20.0-notes.html#deprecations\n",
      "  if (data.dtypes[attr] == np.object) and (\n"
     ]
    },
    {
     "name": "stdout",
     "output_type": "stream",
     "text": [
      "0.035 "
     ]
    },
    {
     "name": "stderr",
     "output_type": "stream",
     "text": [
      "/home/eliana/Projects/hierarchical-subgroup-exploration-private/TreeDivergence.py:776: DeprecationWarning: `np.object` is a deprecated alias for the builtin `object`. To silence this warning, use `object` by itself. Doing this will not modify any behavior and is safe. \n",
      "Deprecated in NumPy 1.20; for more details and guidance: https://numpy.org/devdocs/release/1.20.0-notes.html#deprecations\n",
      "  if (data.dtypes[attr] == np.object) and (\n",
      "/home/eliana/Projects/hierarchical-subgroup-exploration-private/TreeDivergence.py:776: DeprecationWarning: `np.object` is a deprecated alias for the builtin `object`. To silence this warning, use `object` by itself. Doing this will not modify any behavior and is safe. \n",
      "Deprecated in NumPy 1.20; for more details and guidance: https://numpy.org/devdocs/release/1.20.0-notes.html#deprecations\n",
      "  if (data.dtypes[attr] == np.object) and (\n",
      "/home/eliana/Projects/hierarchical-subgroup-exploration-private/TreeDivergence.py:776: DeprecationWarning: `np.object` is a deprecated alias for the builtin `object`. To silence this warning, use `object` by itself. Doing this will not modify any behavior and is safe. \n",
      "Deprecated in NumPy 1.20; for more details and guidance: https://numpy.org/devdocs/release/1.20.0-notes.html#deprecations\n",
      "  if (data.dtypes[attr] == np.object) and (\n"
     ]
    },
    {
     "name": "stdout",
     "output_type": "stream",
     "text": [
      "0.05 "
     ]
    },
    {
     "name": "stderr",
     "output_type": "stream",
     "text": [
      "/home/eliana/Projects/hierarchical-subgroup-exploration-private/TreeDivergence.py:776: DeprecationWarning: `np.object` is a deprecated alias for the builtin `object`. To silence this warning, use `object` by itself. Doing this will not modify any behavior and is safe. \n",
      "Deprecated in NumPy 1.20; for more details and guidance: https://numpy.org/devdocs/release/1.20.0-notes.html#deprecations\n",
      "  if (data.dtypes[attr] == np.object) and (\n",
      "/home/eliana/Projects/hierarchical-subgroup-exploration-private/TreeDivergence.py:776: DeprecationWarning: `np.object` is a deprecated alias for the builtin `object`. To silence this warning, use `object` by itself. Doing this will not modify any behavior and is safe. \n",
      "Deprecated in NumPy 1.20; for more details and guidance: https://numpy.org/devdocs/release/1.20.0-notes.html#deprecations\n",
      "  if (data.dtypes[attr] == np.object) and (\n",
      "/home/eliana/Projects/hierarchical-subgroup-exploration-private/TreeDivergence.py:776: DeprecationWarning: `np.object` is a deprecated alias for the builtin `object`. To silence this warning, use `object` by itself. Doing this will not modify any behavior and is safe. \n",
      "Deprecated in NumPy 1.20; for more details and guidance: https://numpy.org/devdocs/release/1.20.0-notes.html#deprecations\n",
      "  if (data.dtypes[attr] == np.object) and (\n"
     ]
    },
    {
     "name": "stdout",
     "output_type": "stream",
     "text": [
      "0.075 "
     ]
    },
    {
     "name": "stderr",
     "output_type": "stream",
     "text": [
      "/home/eliana/Projects/hierarchical-subgroup-exploration-private/TreeDivergence.py:776: DeprecationWarning: `np.object` is a deprecated alias for the builtin `object`. To silence this warning, use `object` by itself. Doing this will not modify any behavior and is safe. \n",
      "Deprecated in NumPy 1.20; for more details and guidance: https://numpy.org/devdocs/release/1.20.0-notes.html#deprecations\n",
      "  if (data.dtypes[attr] == np.object) and (\n",
      "/home/eliana/Projects/hierarchical-subgroup-exploration-private/TreeDivergence.py:776: DeprecationWarning: `np.object` is a deprecated alias for the builtin `object`. To silence this warning, use `object` by itself. Doing this will not modify any behavior and is safe. \n",
      "Deprecated in NumPy 1.20; for more details and guidance: https://numpy.org/devdocs/release/1.20.0-notes.html#deprecations\n",
      "  if (data.dtypes[attr] == np.object) and (\n",
      "/home/eliana/Projects/hierarchical-subgroup-exploration-private/TreeDivergence.py:776: DeprecationWarning: `np.object` is a deprecated alias for the builtin `object`. To silence this warning, use `object` by itself. Doing this will not modify any behavior and is safe. \n",
      "Deprecated in NumPy 1.20; for more details and guidance: https://numpy.org/devdocs/release/1.20.0-notes.html#deprecations\n",
      "  if (data.dtypes[attr] == np.object) and (\n"
     ]
    },
    {
     "name": "stdout",
     "output_type": "stream",
     "text": [
      "0.1 "
     ]
    },
    {
     "name": "stderr",
     "output_type": "stream",
     "text": [
      "/home/eliana/Projects/hierarchical-subgroup-exploration-private/TreeDivergence.py:776: DeprecationWarning: `np.object` is a deprecated alias for the builtin `object`. To silence this warning, use `object` by itself. Doing this will not modify any behavior and is safe. \n",
      "Deprecated in NumPy 1.20; for more details and guidance: https://numpy.org/devdocs/release/1.20.0-notes.html#deprecations\n",
      "  if (data.dtypes[attr] == np.object) and (\n",
      "/home/eliana/Projects/hierarchical-subgroup-exploration-private/TreeDivergence.py:776: DeprecationWarning: `np.object` is a deprecated alias for the builtin `object`. To silence this warning, use `object` by itself. Doing this will not modify any behavior and is safe. \n",
      "Deprecated in NumPy 1.20; for more details and guidance: https://numpy.org/devdocs/release/1.20.0-notes.html#deprecations\n",
      "  if (data.dtypes[attr] == np.object) and (\n",
      "/home/eliana/Projects/hierarchical-subgroup-exploration-private/TreeDivergence.py:776: DeprecationWarning: `np.object` is a deprecated alias for the builtin `object`. To silence this warning, use `object` by itself. Doing this will not modify any behavior and is safe. \n",
      "Deprecated in NumPy 1.20; for more details and guidance: https://numpy.org/devdocs/release/1.20.0-notes.html#deprecations\n",
      "  if (data.dtypes[attr] == np.object) and (\n"
     ]
    },
    {
     "name": "stdout",
     "output_type": "stream",
     "text": [
      "0.125 "
     ]
    },
    {
     "name": "stderr",
     "output_type": "stream",
     "text": [
      "/home/eliana/Projects/hierarchical-subgroup-exploration-private/TreeDivergence.py:776: DeprecationWarning: `np.object` is a deprecated alias for the builtin `object`. To silence this warning, use `object` by itself. Doing this will not modify any behavior and is safe. \n",
      "Deprecated in NumPy 1.20; for more details and guidance: https://numpy.org/devdocs/release/1.20.0-notes.html#deprecations\n",
      "  if (data.dtypes[attr] == np.object) and (\n",
      "/home/eliana/Projects/hierarchical-subgroup-exploration-private/TreeDivergence.py:776: DeprecationWarning: `np.object` is a deprecated alias for the builtin `object`. To silence this warning, use `object` by itself. Doing this will not modify any behavior and is safe. \n",
      "Deprecated in NumPy 1.20; for more details and guidance: https://numpy.org/devdocs/release/1.20.0-notes.html#deprecations\n",
      "  if (data.dtypes[attr] == np.object) and (\n",
      "/home/eliana/Projects/hierarchical-subgroup-exploration-private/TreeDivergence.py:776: DeprecationWarning: `np.object` is a deprecated alias for the builtin `object`. To silence this warning, use `object` by itself. Doing this will not modify any behavior and is safe. \n",
      "Deprecated in NumPy 1.20; for more details and guidance: https://numpy.org/devdocs/release/1.20.0-notes.html#deprecations\n",
      "  if (data.dtypes[attr] == np.object) and (\n"
     ]
    },
    {
     "name": "stdout",
     "output_type": "stream",
     "text": [
      "0.15 "
     ]
    },
    {
     "name": "stderr",
     "output_type": "stream",
     "text": [
      "/home/eliana/Projects/hierarchical-subgroup-exploration-private/TreeDivergence.py:776: DeprecationWarning: `np.object` is a deprecated alias for the builtin `object`. To silence this warning, use `object` by itself. Doing this will not modify any behavior and is safe. \n",
      "Deprecated in NumPy 1.20; for more details and guidance: https://numpy.org/devdocs/release/1.20.0-notes.html#deprecations\n",
      "  if (data.dtypes[attr] == np.object) and (\n",
      "/home/eliana/Projects/hierarchical-subgroup-exploration-private/TreeDivergence.py:776: DeprecationWarning: `np.object` is a deprecated alias for the builtin `object`. To silence this warning, use `object` by itself. Doing this will not modify any behavior and is safe. \n",
      "Deprecated in NumPy 1.20; for more details and guidance: https://numpy.org/devdocs/release/1.20.0-notes.html#deprecations\n",
      "  if (data.dtypes[attr] == np.object) and (\n",
      "/home/eliana/Projects/hierarchical-subgroup-exploration-private/TreeDivergence.py:776: DeprecationWarning: `np.object` is a deprecated alias for the builtin `object`. To silence this warning, use `object` by itself. Doing this will not modify any behavior and is safe. \n",
      "Deprecated in NumPy 1.20; for more details and guidance: https://numpy.org/devdocs/release/1.20.0-notes.html#deprecations\n",
      "  if (data.dtypes[attr] == np.object) and (\n"
     ]
    },
    {
     "name": "stdout",
     "output_type": "stream",
     "text": [
      "0.175 "
     ]
    },
    {
     "name": "stderr",
     "output_type": "stream",
     "text": [
      "/home/eliana/Projects/hierarchical-subgroup-exploration-private/TreeDivergence.py:776: DeprecationWarning: `np.object` is a deprecated alias for the builtin `object`. To silence this warning, use `object` by itself. Doing this will not modify any behavior and is safe. \n",
      "Deprecated in NumPy 1.20; for more details and guidance: https://numpy.org/devdocs/release/1.20.0-notes.html#deprecations\n",
      "  if (data.dtypes[attr] == np.object) and (\n",
      "/home/eliana/Projects/hierarchical-subgroup-exploration-private/TreeDivergence.py:776: DeprecationWarning: `np.object` is a deprecated alias for the builtin `object`. To silence this warning, use `object` by itself. Doing this will not modify any behavior and is safe. \n",
      "Deprecated in NumPy 1.20; for more details and guidance: https://numpy.org/devdocs/release/1.20.0-notes.html#deprecations\n",
      "  if (data.dtypes[attr] == np.object) and (\n",
      "/home/eliana/Projects/hierarchical-subgroup-exploration-private/TreeDivergence.py:776: DeprecationWarning: `np.object` is a deprecated alias for the builtin `object`. To silence this warning, use `object` by itself. Doing this will not modify any behavior and is safe. \n",
      "Deprecated in NumPy 1.20; for more details and guidance: https://numpy.org/devdocs/release/1.20.0-notes.html#deprecations\n",
      "  if (data.dtypes[attr] == np.object) and (\n"
     ]
    },
    {
     "name": "stdout",
     "output_type": "stream",
     "text": [
      "0.2 "
     ]
    },
    {
     "name": "stderr",
     "output_type": "stream",
     "text": [
      "/home/eliana/Projects/hierarchical-subgroup-exploration-private/TreeDivergence.py:776: DeprecationWarning: `np.object` is a deprecated alias for the builtin `object`. To silence this warning, use `object` by itself. Doing this will not modify any behavior and is safe. \n",
      "Deprecated in NumPy 1.20; for more details and guidance: https://numpy.org/devdocs/release/1.20.0-notes.html#deprecations\n",
      "  if (data.dtypes[attr] == np.object) and (\n",
      "/home/eliana/Projects/hierarchical-subgroup-exploration-private/TreeDivergence.py:776: DeprecationWarning: `np.object` is a deprecated alias for the builtin `object`. To silence this warning, use `object` by itself. Doing this will not modify any behavior and is safe. \n",
      "Deprecated in NumPy 1.20; for more details and guidance: https://numpy.org/devdocs/release/1.20.0-notes.html#deprecations\n",
      "  if (data.dtypes[attr] == np.object) and (\n",
      "/home/eliana/Projects/hierarchical-subgroup-exploration-private/TreeDivergence.py:776: DeprecationWarning: `np.object` is a deprecated alias for the builtin `object`. To silence this warning, use `object` by itself. Doing this will not modify any behavior and is safe. \n",
      "Deprecated in NumPy 1.20; for more details and guidance: https://numpy.org/devdocs/release/1.20.0-notes.html#deprecations\n",
      "  if (data.dtypes[attr] == np.object) and (\n"
     ]
    }
   ],
   "source": [
    "from tree_discretization import TreeDiscretization\n",
    "\n",
    "\n",
    "\n",
    "import time\n",
    "max_divergence_dict = {}\n",
    "time_results = {}\n",
    "\n",
    "for min_support_tree in min_sups:\n",
    "    \n",
    "    print(min_support_tree, end = \" \")\n",
    "    out = {}\n",
    "    time_results[min_support_tree] = {}\n",
    "    \n",
    "    tree_discr = TreeDiscretization()\n",
    "    \n",
    "    start_time_tree = time.time()\n",
    "    generalization_dict, discretizations = tree_discr.get_tree_discretization(\n",
    "        df_analysis,\n",
    "        type_splitting=type_experiment,\n",
    "        min_support=min_support_tree,\n",
    "        metric=metric,\n",
    "        continuous_attributes= list(continuous_attributes),\n",
    "        storeTree=True,\n",
    "        type_criterion = type_criterion,\n",
    "        minimal_gain = 0.00,    \n",
    "        class_map=class_map,\n",
    "        class_and_pred_names=[class_name, pred_name],\n",
    "    )    \n",
    "    time_results[min_support_tree][tree_gen_name] = time.time() - start_time_tree\n",
    "    \n",
    "\n",
    "    for apply_generalization in [True, False]:\n",
    "        if apply_generalization is True:\n",
    "            type_gen = \"generalized\"\n",
    "        else:\n",
    "            type_gen = \"base\"\n",
    "        \n",
    "        start_time_divergence = time.time()\n",
    "        FP_fm = extract_divergence_generalized(\n",
    "            df_analysis,\n",
    "            discretizations,\n",
    "            generalization_dict,\n",
    "            continuous_attributes,\n",
    "            min_sup_divergence=min_sup_divergence,\n",
    "            apply_generalization=apply_generalization,\n",
    "            true_class_name=pred_name,\n",
    "            predicted_class_name=class_name,\n",
    "            class_map=class_map,\n",
    "            FPM_type=\"fpgrowth\",\n",
    "            metrics_divergence = [metric],\n",
    "            type_experiment = type_experiment,\n",
    "            allow_overalp = False if type_experiment!=\"all_attributes\" else True\n",
    "        )\n",
    "        time_results[min_support_tree][type_gen] = time.time() - start_time_divergence\n",
    "\n",
    "        out[type_gen] = max(FP_fm[metric])\n",
    "    max_divergence_dict[min_support_tree] = out"
   ]
  },
  {
   "cell_type": "code",
   "execution_count": 18,
   "id": "39080881",
   "metadata": {
    "ExecuteTime": {
     "end_time": "2022-10-07T12:57:35.670165Z",
     "start_time": "2022-10-07T12:57:35.336673Z"
    }
   },
   "outputs": [
    {
     "data": {
      "image/png": "[encoded data removed]",
      "text/plain": [
       "<Figure size 400x330 with 1 Axes>"
      ]
     },
     "metadata": {},
     "output_type": "display_data"
    }
   ],
   "source": [
    "import matplotlib.pyplot as plt\n",
    "\n",
    "show_sup = [0.005, 0.01, 0.02, 0.025, 0.035, 0.05, 0.075, 0.1, 0.125, 0.15, 0.175, 0.2]\n",
    "\n",
    "n_attributes = 3\n",
    "vs = {}\n",
    "\n",
    "\n",
    "fig, ax = plt.subplots(figsize = (4,3.3))\n",
    "\n",
    "base = { min_support: max_divergence_dict[min_support][\"base\"] for min_support in max_divergence_dict if min_support in show_sup}\n",
    "gen =  { min_support: max_divergence_dict[min_support][\"generalized\"] for min_support in max_divergence_dict if min_support in show_sup}\n",
    "\n",
    "base = dict(sorted(base.items(), key=lambda item: item[0]))\n",
    "gen = dict(sorted(gen.items(), key=lambda item: item[0]))\n",
    "\n",
    "\n",
    "ax.plot(list(base.keys()), list(base.values()), label = \"base\", marker = \"o\", c = \"#009900\")\n",
    "ax.plot(list(gen.keys()), list(gen.values()), label = \"generalized\", marker = \"o\", c = \"orangered\")\n",
    "ax.set_title(r\"Highest Δ$_{error}$\")\n",
    "ax.set_ylabel(r\"max Δ$_{FPR}$\")\n",
    "ax.set_xlabel(r\"Minimum support $s_{tree}$\")\n",
    "plt.legend( fontsize = 13, handletextpad=0.2)\n",
    "for item in ([ax.title, ax.xaxis.label, ax.yaxis.label] ): #ax.get_xticklabels()\n",
    "    item.set_fontsize(14)\n",
    "\n",
    "for item in ax.get_xticklabels() + ax.get_yticklabels():\n",
    "     item.set_fontsize(12)\n",
    "\n",
    "\n",
    "plt.tight_layout();\n",
    "plt.savefig(f\"{outfig_dir}/artificial_gaussian_sensitivity_{n_attributes}_s_{min_sup_divergence}.pdf\");"
   ]
  },
  {
   "cell_type": "markdown",
   "id": "d7dd7661",
   "metadata": {},
   "source": [
    "# Time"
   ]
  },
  {
   "cell_type": "code",
   "execution_count": 10,
   "id": "33393c6c",
   "metadata": {
    "ExecuteTime": {
     "end_time": "2022-10-07T12:33:49.425277Z",
     "start_time": "2022-10-07T12:33:49.212516Z"
    }
   },
   "outputs": [
    {
     "data": {
      "image/png": "[encoded data removed]",
      "text/plain": [
       "<Figure size 380x400 with 1 Axes>"
      ]
     },
     "metadata": {},
     "output_type": "display_data"
    }
   ],
   "source": [
    "import os\n",
    "from utils_plot import plotDicts\n",
    "\n",
    "info_plot = {}\n",
    "\n",
    "for min_support_tree, res in time_results.items():\n",
    "    for exp, value in res.items():\n",
    "        if exp not in info_plot:\n",
    "            info_plot[exp] = {}\n",
    "        info_plot[exp][min_support_tree] = value\n",
    "        \n",
    "figure_name = os.path.join(outfig_dir, f\"artificial_stree_{min_sup_divergence}_{metric}_time_trees.pdf\")\n",
    "\n",
    "size_fig = (3.8,4)\n",
    "fig = plotDicts(info_plot, marker=True, \\\n",
    "           sizeFig=size_fig, title=\"Execution time\", #yscale=\"log\", \n",
    "          xlabel=\"Minimum support s\",  ylabel=\"Execution time $(seconds)$\", labelSize=10.2,\n",
    "          outside=False,  saveFig=False, nameFig = figure_name)"
   ]
  },
  {
   "cell_type": "code",
   "execution_count": 11,
   "id": "80c299a1",
   "metadata": {
    "ExecuteTime": {
     "end_time": "2022-10-07T12:33:52.516332Z",
     "start_time": "2022-10-07T12:33:52.494373Z"
    }
   },
   "outputs": [
    {
     "data": {
      "text/html": [
       "<div>\n",
       "<style scoped>\n",
       "    .dataframe tbody tr th:only-of-type {\n",
       "        vertical-align: middle;\n",
       "    }\n",
       "\n",
       "    .dataframe tbody tr th {\n",
       "        vertical-align: top;\n",
       "    }\n",
       "\n",
       "    .dataframe thead th {\n",
       "        text-align: right;\n",
       "    }\n",
       "</style>\n",
       "<table border=\"1\" class=\"dataframe\">\n",
       "  <thead>\n",
       "    <tr style=\"text-align: right;\">\n",
       "      <th></th>\n",
       "      <th>hierarchies gen</th>\n",
       "      <th>generalized</th>\n",
       "      <th>base</th>\n",
       "    </tr>\n",
       "  </thead>\n",
       "  <tbody>\n",
       "    <tr>\n",
       "      <th>0.005</th>\n",
       "      <td>23.696680</td>\n",
       "      <td>2.321602</td>\n",
       "      <td>0.583744</td>\n",
       "    </tr>\n",
       "    <tr>\n",
       "      <th>0.010</th>\n",
       "      <td>16.528282</td>\n",
       "      <td>0.838489</td>\n",
       "      <td>0.291139</td>\n",
       "    </tr>\n",
       "    <tr>\n",
       "      <th>0.020</th>\n",
       "      <td>16.249032</td>\n",
       "      <td>0.908077</td>\n",
       "      <td>0.313525</td>\n",
       "    </tr>\n",
       "    <tr>\n",
       "      <th>0.025</th>\n",
       "      <td>18.796781</td>\n",
       "      <td>0.764656</td>\n",
       "      <td>0.316599</td>\n",
       "    </tr>\n",
       "    <tr>\n",
       "      <th>0.035</th>\n",
       "      <td>17.084149</td>\n",
       "      <td>0.500117</td>\n",
       "      <td>0.223804</td>\n",
       "    </tr>\n",
       "    <tr>\n",
       "      <th>0.050</th>\n",
       "      <td>15.917792</td>\n",
       "      <td>0.592488</td>\n",
       "      <td>0.238809</td>\n",
       "    </tr>\n",
       "    <tr>\n",
       "      <th>0.075</th>\n",
       "      <td>12.219614</td>\n",
       "      <td>0.284241</td>\n",
       "      <td>0.154421</td>\n",
       "    </tr>\n",
       "    <tr>\n",
       "      <th>0.100</th>\n",
       "      <td>9.821023</td>\n",
       "      <td>0.255076</td>\n",
       "      <td>0.149610</td>\n",
       "    </tr>\n",
       "    <tr>\n",
       "      <th>0.125</th>\n",
       "      <td>8.810617</td>\n",
       "      <td>0.252295</td>\n",
       "      <td>0.146917</td>\n",
       "    </tr>\n",
       "    <tr>\n",
       "      <th>0.150</th>\n",
       "      <td>7.343102</td>\n",
       "      <td>0.219889</td>\n",
       "      <td>0.139503</td>\n",
       "    </tr>\n",
       "    <tr>\n",
       "      <th>0.175</th>\n",
       "      <td>6.435056</td>\n",
       "      <td>0.213558</td>\n",
       "      <td>0.139405</td>\n",
       "    </tr>\n",
       "    <tr>\n",
       "      <th>0.200</th>\n",
       "      <td>5.500568</td>\n",
       "      <td>0.185572</td>\n",
       "      <td>0.130887</td>\n",
       "    </tr>\n",
       "  </tbody>\n",
       "</table>\n",
       "</div>"
      ],
      "text/plain": [
       "       hierarchies gen  generalized      base\n",
       "0.005        23.696680     2.321602  0.583744\n",
       "0.010        16.528282     0.838489  0.291139\n",
       "0.020        16.249032     0.908077  0.313525\n",
       "0.025        18.796781     0.764656  0.316599\n",
       "0.035        17.084149     0.500117  0.223804\n",
       "0.050        15.917792     0.592488  0.238809\n",
       "0.075        12.219614     0.284241  0.154421\n",
       "0.100         9.821023     0.255076  0.149610\n",
       "0.125         8.810617     0.252295  0.146917\n",
       "0.150         7.343102     0.219889  0.139503\n",
       "0.175         6.435056     0.213558  0.139405\n",
       "0.200         5.500568     0.185572  0.130887"
      ]
     },
     "execution_count": 11,
     "metadata": {},
     "output_type": "execute_result"
    }
   ],
   "source": [
    "pd.DataFrame(info_plot)"
   ]
  },
  {
   "cell_type": "code",
   "execution_count": 12,
   "id": "d0d018ec",
   "metadata": {
    "ExecuteTime": {
     "end_time": "2022-10-07T12:33:53.340016Z",
     "start_time": "2022-10-07T12:33:53.068494Z"
    }
   },
   "outputs": [
    {
     "data": {
      "image/png": "[encoded data removed]",
      "text/plain": [
       "<Figure size 380x400 with 1 Axes>"
      ]
     },
     "metadata": {},
     "output_type": "display_data"
    }
   ],
   "source": [
    "import os\n",
    "from utils_plot import plotDicts\n",
    "\n",
    "info_plot = {}\n",
    "\n",
    "for min_support_tree, res in time_results.items():\n",
    "    for exp, value in res.items():\n",
    "        if exp not in info_plot:\n",
    "            info_plot[exp] = {}\n",
    "        info_plot[exp][min_support_tree] = value\n",
    "        \n",
    "for exp in [\"base\", \"generalized\"]:\n",
    "    for min_support_tree in info_plot[exp]:\n",
    "        info_plot[exp][min_support_tree] = info_plot[exp][min_support_tree] + info_plot[tree_gen_name][min_support_tree]\n",
    "        \n",
    "figure_name = os.path.join(outfig_dir, f\"artificial_stree_{min_sup_divergence}_{metric}_time_trees.pdf\")\n",
    "\n",
    "size_fig = (3.8,4)\n",
    "fig = plotDicts(info_plot, marker=True, \\\n",
    "           sizeFig=size_fig, title=\"Execution time\", #yscale=\"log\", \n",
    "          xlabel=\"Minimum support s\",  ylabel=\"Execution time $(seconds)$\", labelSize=10.2,\n",
    "          outside=False,  saveFig=False, nameFig = figure_name, limit = (0, None))"
   ]
  },
  {
   "cell_type": "code",
   "execution_count": 13,
   "id": "b82fe5c8",
   "metadata": {
    "ExecuteTime": {
     "end_time": "2022-10-07T12:33:53.606805Z",
     "start_time": "2022-10-07T12:33:53.565420Z"
    }
   },
   "outputs": [
    {
     "data": {
      "text/html": [
       "<div>\n",
       "<style scoped>\n",
       "    .dataframe tbody tr th:only-of-type {\n",
       "        vertical-align: middle;\n",
       "    }\n",
       "\n",
       "    .dataframe tbody tr th {\n",
       "        vertical-align: top;\n",
       "    }\n",
       "\n",
       "    .dataframe thead th {\n",
       "        text-align: right;\n",
       "    }\n",
       "</style>\n",
       "<table border=\"1\" class=\"dataframe\">\n",
       "  <thead>\n",
       "    <tr style=\"text-align: right;\">\n",
       "      <th></th>\n",
       "      <th>hierarchies gen</th>\n",
       "      <th>generalized</th>\n",
       "      <th>base</th>\n",
       "    </tr>\n",
       "  </thead>\n",
       "  <tbody>\n",
       "    <tr>\n",
       "      <th>0.005</th>\n",
       "      <td>23.696680</td>\n",
       "      <td>26.018282</td>\n",
       "      <td>24.280424</td>\n",
       "    </tr>\n",
       "    <tr>\n",
       "      <th>0.010</th>\n",
       "      <td>16.528282</td>\n",
       "      <td>17.366771</td>\n",
       "      <td>16.819421</td>\n",
       "    </tr>\n",
       "    <tr>\n",
       "      <th>0.020</th>\n",
       "      <td>16.249032</td>\n",
       "      <td>17.157109</td>\n",
       "      <td>16.562557</td>\n",
       "    </tr>\n",
       "    <tr>\n",
       "      <th>0.025</th>\n",
       "      <td>18.796781</td>\n",
       "      <td>19.561437</td>\n",
       "      <td>19.113380</td>\n",
       "    </tr>\n",
       "    <tr>\n",
       "      <th>0.035</th>\n",
       "      <td>17.084149</td>\n",
       "      <td>17.584266</td>\n",
       "      <td>17.307953</td>\n",
       "    </tr>\n",
       "    <tr>\n",
       "      <th>0.050</th>\n",
       "      <td>15.917792</td>\n",
       "      <td>16.510279</td>\n",
       "      <td>16.156601</td>\n",
       "    </tr>\n",
       "    <tr>\n",
       "      <th>0.075</th>\n",
       "      <td>12.219614</td>\n",
       "      <td>12.503855</td>\n",
       "      <td>12.374036</td>\n",
       "    </tr>\n",
       "    <tr>\n",
       "      <th>0.100</th>\n",
       "      <td>9.821023</td>\n",
       "      <td>10.076100</td>\n",
       "      <td>9.970633</td>\n",
       "    </tr>\n",
       "    <tr>\n",
       "      <th>0.125</th>\n",
       "      <td>8.810617</td>\n",
       "      <td>9.062912</td>\n",
       "      <td>8.957534</td>\n",
       "    </tr>\n",
       "    <tr>\n",
       "      <th>0.150</th>\n",
       "      <td>7.343102</td>\n",
       "      <td>7.562991</td>\n",
       "      <td>7.482605</td>\n",
       "    </tr>\n",
       "    <tr>\n",
       "      <th>0.175</th>\n",
       "      <td>6.435056</td>\n",
       "      <td>6.648614</td>\n",
       "      <td>6.574461</td>\n",
       "    </tr>\n",
       "    <tr>\n",
       "      <th>0.200</th>\n",
       "      <td>5.500568</td>\n",
       "      <td>5.686140</td>\n",
       "      <td>5.631455</td>\n",
       "    </tr>\n",
       "  </tbody>\n",
       "</table>\n",
       "</div>"
      ],
      "text/plain": [
       "       hierarchies gen  generalized       base\n",
       "0.005        23.696680    26.018282  24.280424\n",
       "0.010        16.528282    17.366771  16.819421\n",
       "0.020        16.249032    17.157109  16.562557\n",
       "0.025        18.796781    19.561437  19.113380\n",
       "0.035        17.084149    17.584266  17.307953\n",
       "0.050        15.917792    16.510279  16.156601\n",
       "0.075        12.219614    12.503855  12.374036\n",
       "0.100         9.821023    10.076100   9.970633\n",
       "0.125         8.810617     9.062912   8.957534\n",
       "0.150         7.343102     7.562991   7.482605\n",
       "0.175         6.435056     6.648614   6.574461\n",
       "0.200         5.500568     5.686140   5.631455"
      ]
     },
     "execution_count": 13,
     "metadata": {},
     "output_type": "execute_result"
    }
   ],
   "source": [
    "pd.DataFrame(info_plot)"
   ]
  },
  {
   "cell_type": "code",
   "execution_count": null,
   "id": "70a2c5b0",
   "metadata": {},
   "outputs": [],
   "source": []
  }
 ],
 "metadata": {
  "hide_input": false,
  "kernelspec": {
   "display_name": "Python 3 (ipykernel)",
   "language": "python",
   "name": "python3"
  },
  "language_info": {
   "codemirror_mode": {
    "name": "ipython",
    "version": 3
   },
   "file_extension": ".py",
   "mimetype": "text/x-python",
   "name": "python",
   "nbconvert_exporter": "python",
   "pygments_lexer": "ipython3",
   "version": "3.10.4"
  },
  "toc": {
   "base_numbering": 1,
   "nav_menu": {},
   "number_sections": true,
   "sideBar": true,
   "skip_h1_title": false,
   "title_cell": "Table of Contents",
   "title_sidebar": "Contents",
   "toc_cell": false,
   "toc_position": {
    "height": "calc(100% - 180px)",
    "left": "10px",
    "top": "150px",
    "width": "250.475px"
   },
   "toc_section_display": true,
   "toc_window_display": true
  },
  "varInspector": {
   "cols": {
    "lenName": 16,
    "lenType": 16,
    "lenVar": 40
   },
   "kernels_config": {
    "python": {
     "delete_cmd_postfix": "",
     "delete_cmd_prefix": "del ",
     "library": "var_list.py",
     "varRefreshCmd": "print(var_dic_list())"
    },
    "r": {
     "delete_cmd_postfix": ") ",
     "delete_cmd_prefix": "rm(",
     "library": "var_list.r",
     "varRefreshCmd": "cat(var_dic_list()) "
    }
   },
   "types_to_exclude": [
    "module",
    "function",
    "builtin_function_or_method",
    "instance",
    "_Feature"
   ],
   "window_display": false
  },
  "vscode": {
   "interpreter": {
    "hash": "07df9bc2b24d98062a84ddbd1ffd60fbcc72456b438b7897cd79ef4167382f91"
   }
  }
 },
 "nbformat": 4,
 "nbformat_minor": 5
}
