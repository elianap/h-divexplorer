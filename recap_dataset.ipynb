{
 "cells": [
  {
   "cell_type": "code",
   "execution_count": 1,
   "id": "df9c2506",
   "metadata": {
    "ExecuteTime": {
     "end_time": "2022-12-23T16:02:02.989844Z",
     "start_time": "2022-12-23T16:02:02.963760Z"
    }
   },
   "outputs": [],
   "source": [
    "%load_ext autoreload\n",
    "%autoreload 2"
   ]
  },
  {
   "cell_type": "code",
   "execution_count": 2,
   "id": "353244ce",
   "metadata": {
    "ExecuteTime": {
     "end_time": "2022-12-23T16:04:37.077766Z",
     "start_time": "2022-12-23T16:04:37.056925Z"
    }
   },
   "outputs": [],
   "source": [
    "from import_process_dataset import check_dataset_availability, DATASET_DIR\n",
    "\n",
    "import pandas as pd\n",
    "import os"
   ]
  },
  {
   "cell_type": "code",
   "execution_count": 23,
   "id": "4f0777d0",
   "metadata": {
    "ExecuteTime": {
     "end_time": "2022-12-23T16:57:55.268925Z",
     "start_time": "2022-12-23T16:57:51.744440Z"
    }
   },
   "outputs": [
    {
     "name": "stdout",
     "output_type": "stream",
     "text": [
      "adult\n",
      "bank (full)\n",
      "compas\n",
      "folks\n",
      "german\n",
      "online_shopper\n",
      "synthetic-peak\n",
      "wine\n"
     ]
    }
   ],
   "source": [
    "from import_process_dataset import *\n",
    "info = {}\n",
    "for name, imported in [('adult', import_process_adult()),\\\n",
    "                       ('bank (full)', import_process_bank_full()),\n",
    "                       ('compas', import_compas()),\\\n",
    "                       ('folks', import_folkstables()), \\\n",
    "                       ('german', import_process_german()), \\\n",
    "                       ('online_shopper', import_process_online_shoppers_intention()),\\\n",
    "                       ('synthetic-peak', generate_artificial_gaussian_error()),\\\n",
    "                       ('wine', import_process_wine()) \n",
    "                      ]:\n",
    "    df, target, continuous_attributes = imported\n",
    "    print(name)\n",
    "    cols = list(df.columns)\n",
    "    if type(target) == dict:\n",
    "        cols.remove('class')\n",
    "    else:\n",
    "        cols.remove(target)\n",
    "    if name == 'synthetic-peak' or name == 'compas':\n",
    "        cols.remove('predicted')\n",
    "    info[name] = [df.shape[0], len(cols), len(continuous_attributes), len(cols)-len(continuous_attributes)]"
   ]
  },
  {
   "cell_type": "code",
   "execution_count": 24,
   "id": "c56a2527",
   "metadata": {
    "ExecuteTime": {
     "end_time": "2022-12-23T16:57:55.289628Z",
     "start_time": "2022-12-23T16:57:55.271635Z"
    }
   },
   "outputs": [],
   "source": [
    "import pandas as pd\n",
    "\n",
    "info_df = pd.DataFrame(info).T\n",
    "\n",
    "info_df.columns = ['#instances', '#attribute', '#numerical', '#nominal']"
   ]
  },
  {
   "cell_type": "code",
   "execution_count": 25,
   "id": "317d010a",
   "metadata": {
    "ExecuteTime": {
     "end_time": "2022-12-23T16:57:55.470552Z",
     "start_time": "2022-12-23T16:57:55.291347Z"
    }
   },
   "outputs": [
    {
     "data": {
      "text/html": [
       "<div>\n",
       "<style scoped>\n",
       "    .dataframe tbody tr th:only-of-type {\n",
       "        vertical-align: middle;\n",
       "    }\n",
       "\n",
       "    .dataframe tbody tr th {\n",
       "        vertical-align: top;\n",
       "    }\n",
       "\n",
       "    .dataframe thead th {\n",
       "        text-align: right;\n",
       "    }\n",
       "</style>\n",
       "<table border=\"1\" class=\"dataframe\">\n",
       "  <thead>\n",
       "    <tr style=\"text-align: right;\">\n",
       "      <th></th>\n",
       "      <th>#instances</th>\n",
       "      <th>#attribute</th>\n",
       "      <th>#numerical</th>\n",
       "      <th>#nominal</th>\n",
       "    </tr>\n",
       "  </thead>\n",
       "  <tbody>\n",
       "    <tr>\n",
       "      <th>adult</th>\n",
       "      <td>45222</td>\n",
       "      <td>11</td>\n",
       "      <td>4</td>\n",
       "      <td>7</td>\n",
       "    </tr>\n",
       "    <tr>\n",
       "      <th>bank (full)</th>\n",
       "      <td>45211</td>\n",
       "      <td>15</td>\n",
       "      <td>7</td>\n",
       "      <td>8</td>\n",
       "    </tr>\n",
       "    <tr>\n",
       "      <th>compas</th>\n",
       "      <td>6172</td>\n",
       "      <td>6</td>\n",
       "      <td>3</td>\n",
       "      <td>3</td>\n",
       "    </tr>\n",
       "    <tr>\n",
       "      <th>folks</th>\n",
       "      <td>195556</td>\n",
       "      <td>10</td>\n",
       "      <td>2</td>\n",
       "      <td>8</td>\n",
       "    </tr>\n",
       "    <tr>\n",
       "      <th>german</th>\n",
       "      <td>1000</td>\n",
       "      <td>21</td>\n",
       "      <td>7</td>\n",
       "      <td>14</td>\n",
       "    </tr>\n",
       "    <tr>\n",
       "      <th>online_shopper</th>\n",
       "      <td>12330</td>\n",
       "      <td>17</td>\n",
       "      <td>11</td>\n",
       "      <td>6</td>\n",
       "    </tr>\n",
       "    <tr>\n",
       "      <th>synthetic-peak</th>\n",
       "      <td>10000</td>\n",
       "      <td>3</td>\n",
       "      <td>3</td>\n",
       "      <td>0</td>\n",
       "    </tr>\n",
       "    <tr>\n",
       "      <th>wine</th>\n",
       "      <td>9796</td>\n",
       "      <td>11</td>\n",
       "      <td>11</td>\n",
       "      <td>0</td>\n",
       "    </tr>\n",
       "  </tbody>\n",
       "</table>\n",
       "</div>"
      ],
      "text/plain": [
       "                #instances  #attribute  #numerical  #nominal\n",
       "adult                45222          11           4         7\n",
       "bank (full)          45211          15           7         8\n",
       "compas                6172           6           3         3\n",
       "folks               195556          10           2         8\n",
       "german                1000          21           7        14\n",
       "online_shopper       12330          17          11         6\n",
       "synthetic-peak       10000           3           3         0\n",
       "wine                  9796          11          11         0"
      ]
     },
     "execution_count": 25,
     "metadata": {},
     "output_type": "execute_result"
    }
   ],
   "source": [
    "info_df"
   ]
  },
  {
   "cell_type": "code",
   "execution_count": null,
   "id": "c482302d",
   "metadata": {},
   "outputs": [],
   "source": []
  }
 ],
 "metadata": {
  "kernelspec": {
   "display_name": "mainexp",
   "language": "python",
   "name": "mainexp"
  },
  "language_info": {
   "codemirror_mode": {
    "name": "ipython",
    "version": 3
   },
   "file_extension": ".py",
   "mimetype": "text/x-python",
   "name": "python",
   "nbconvert_exporter": "python",
   "pygments_lexer": "ipython3",
   "version": "3.10.8"
  },
  "toc": {
   "base_numbering": 1,
   "nav_menu": {},
   "number_sections": true,
   "sideBar": true,
   "skip_h1_title": false,
   "title_cell": "Table of Contents",
   "title_sidebar": "Contents",
   "toc_cell": false,
   "toc_position": {},
   "toc_section_display": true,
   "toc_window_display": false
  }
 },
 "nbformat": 4,
 "nbformat_minor": 5
}
