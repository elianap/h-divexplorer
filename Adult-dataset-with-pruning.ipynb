{
 "cells": [
  {
   "cell_type": "code",
   "execution_count": 1,
   "id": "67c0fa62",
   "metadata": {
    "ExecuteTime": {
     "end_time": "2022-12-21T16:21:39.554105Z",
     "start_time": "2022-12-21T16:21:39.528671Z"
    }
   },
   "outputs": [],
   "source": [
    "%load_ext autoreload\n",
    "%autoreload 2"
   ]
  },
  {
   "cell_type": "code",
   "execution_count": 2,
   "id": "ff4af8df",
   "metadata": {
    "ExecuteTime": {
     "end_time": "2022-12-21T16:21:39.696711Z",
     "start_time": "2022-12-21T16:21:39.556242Z"
    }
   },
   "outputs": [],
   "source": [
    "import warnings\n",
    "warnings.filterwarnings(\"ignore\")"
   ]
  },
  {
   "cell_type": "code",
   "execution_count": 3,
   "id": "8b4c5533",
   "metadata": {
    "ExecuteTime": {
     "end_time": "2022-12-21T16:21:40.277543Z",
     "start_time": "2022-12-21T16:21:39.700816Z"
    }
   },
   "outputs": [],
   "source": [
    "import os\n",
    "import numpy as np\n",
    "import pandas as pd\n",
    "from divexplorer_generalized.FP_Divergence import FP_Divergence"
   ]
  },
  {
   "cell_type": "markdown",
   "id": "27d0b123",
   "metadata": {},
   "source": [
    "# Import data"
   ]
  },
  {
   "cell_type": "code",
   "execution_count": 4,
   "id": "808ce3d9",
   "metadata": {
    "ExecuteTime": {
     "end_time": "2022-12-21T16:21:40.295357Z",
     "start_time": "2022-12-21T16:21:40.279788Z"
    }
   },
   "outputs": [],
   "source": [
    "dataset_name = \"adult\""
   ]
  },
  {
   "cell_type": "code",
   "execution_count": 5,
   "id": "670f380e",
   "metadata": {
    "ExecuteTime": {
     "end_time": "2022-12-21T16:21:40.457602Z",
     "start_time": "2022-12-21T16:21:40.297704Z"
    }
   },
   "outputs": [],
   "source": [
    "DATASET_DIR = os.path.join(os.path.curdir, \"datasets\")\n",
    "\n",
    "def import_process_adult(discretize=False, bins=3, inputDir=DATASET_DIR):\n",
    "    education_map = {\n",
    "        \"10th\": \"Dropout\",\n",
    "        \"11th\": \"Dropout\",\n",
    "        \"12th\": \"Dropout\",\n",
    "        \"1st-4th\": \"Dropout\",\n",
    "        \"5th-6th\": \"Dropout\",\n",
    "        \"7th-8th\": \"Dropout\",\n",
    "        \"9th\": \"Dropout\",\n",
    "        \"Preschool\": \"Dropout\",\n",
    "        \"HS-grad\": \"High School grad\",\n",
    "        \"Some-college\": \"High School grad\",\n",
    "        \"Masters\": \"Masters\",\n",
    "        \"Prof-school\": \"Prof-School\",\n",
    "        \"Assoc-acdm\": \"Associates\",\n",
    "        \"Assoc-voc\": \"Associates\",\n",
    "    }\n",
    "    occupation_map = {\n",
    "        \"Adm-clerical\": \"Admin\",\n",
    "        \"Armed-Forces\": \"Military\",\n",
    "        \"Craft-repair\": \"Blue-Collar\",\n",
    "        \"Exec-managerial\": \"White-Collar\",\n",
    "        \"Farming-fishing\": \"Blue-Collar\",\n",
    "        \"Handlers-cleaners\": \"Blue-Collar\",\n",
    "        \"Machine-op-inspct\": \"Blue-Collar\",\n",
    "        \"Other-service\": \"Service\",\n",
    "        \"Priv-house-serv\": \"Service\",\n",
    "        \"Prof-specialty\": \"Professional\",\n",
    "        \"Protective-serv\": \"Other\",\n",
    "        \"Sales\": \"Sales\",\n",
    "        \"Tech-support\": \"Other\",\n",
    "        \"Transport-moving\": \"Blue-Collar\",\n",
    "    }\n",
    "    married_map = {\n",
    "        \"Never-married\": \"Never-Married\",\n",
    "        \"Married-AF-spouse\": \"Married\",\n",
    "        \"Married-civ-spouse\": \"Married\",\n",
    "        \"Married-spouse-absent\": \"Separated\",\n",
    "        \"Separated\": \"Separated\",\n",
    "        \"Divorced\": \"Separated\",\n",
    "        \"Widowed\": \"Widowed\",\n",
    "    }\n",
    "\n",
    "    country_map = {\n",
    "        \"Cambodia\": \"SE-Asia\",\n",
    "        \"Canada\": \"British-Commonwealth\",\n",
    "        \"China\": \"China\",\n",
    "        \"Columbia\": \"South-America\",\n",
    "        \"Cuba\": \"Other\",\n",
    "        \"Dominican-Republic\": \"Latin-America\",\n",
    "        \"Ecuador\": \"South-America\",\n",
    "        \"El-Salvador\": \"South-America\",\n",
    "        \"England\": \"British-Commonwealth\",\n",
    "        \"France\": \"Euro_1\",\n",
    "        \"Germany\": \"Euro_1\",\n",
    "        \"Greece\": \"Euro_2\",\n",
    "        \"Guatemala\": \"Latin-America\",\n",
    "        \"Haiti\": \"Latin-America\",\n",
    "        \"Holand-Netherlands\": \"Euro_1\",\n",
    "        \"Honduras\": \"Latin-America\",\n",
    "        \"Hong\": \"China\",\n",
    "        \"Hungary\": \"Euro_2\",\n",
    "        \"India\": \"British-Commonwealth\",\n",
    "        \"Iran\": \"Other\",\n",
    "        \"Ireland\": \"British-Commonwealth\",\n",
    "        \"Italy\": \"Euro_1\",\n",
    "        \"Jamaica\": \"Latin-America\",\n",
    "        \"Japan\": \"Other\",\n",
    "        \"Laos\": \"SE-Asia\",\n",
    "        \"Mexico\": \"Latin-America\",\n",
    "        \"Nicaragua\": \"Latin-America\",\n",
    "        \"Outlying-US(Guam-USVI-etc)\": \"Latin-America\",\n",
    "        \"Peru\": \"South-America\",\n",
    "        \"Philippines\": \"SE-Asia\",\n",
    "        \"Poland\": \"Euro_2\",\n",
    "        \"Portugal\": \"Euro_2\",\n",
    "        \"Puerto-Rico\": \"Latin-America\",\n",
    "        \"Scotland\": \"British-Commonwealth\",\n",
    "        \"South\": \"Euro_2\",\n",
    "        \"Taiwan\": \"China\",\n",
    "        \"Thailand\": \"SE-Asia\",\n",
    "        \"Trinadad&Tobago\": \"Latin-America\",\n",
    "        \"United-States\": \"United-States\",\n",
    "        \"Vietnam\": \"SE-Asia\",\n",
    "    }\n",
    "    # as given by adult.names\n",
    "    column_names = [\n",
    "        \"age\",\n",
    "        \"workclass\",\n",
    "        \"fnlwgt\",\n",
    "        \"education\",\n",
    "        \"education-num\",\n",
    "        \"marital-status\",\n",
    "        \"occupation\",\n",
    "        \"relationship\",\n",
    "        \"race\",\n",
    "        \"sex\",\n",
    "        \"capital-gain\",\n",
    "        \"capital-loss\",\n",
    "        \"hours-per-week\",\n",
    "        \"native-country\",\n",
    "        \"income-per-year\",\n",
    "    ]\n",
    "\n",
    "    #check_dataset_availability(\"credit-g.csv\", inputDir=inputDir)\n",
    "    train = pd.read_csv(\n",
    "        os.path.join(inputDir, \"adult.data\"),\n",
    "        header=None,\n",
    "        names=column_names,\n",
    "        skipinitialspace=True,\n",
    "        na_values=\"?\",\n",
    "    )\n",
    "\n",
    "    #check_dataset_availability(\"adult.test\", inputDir=inputDir)\n",
    "\n",
    "    test = pd.read_csv(\n",
    "        os.path.join(inputDir, \"adult.test\"),\n",
    "        header=0,\n",
    "        names=column_names,\n",
    "        skipinitialspace=True,\n",
    "        na_values=\"?\",\n",
    "    )\n",
    "    dt = pd.concat([test, train], ignore_index=True)\n",
    "    dt[\"education\"] = dt[\"education\"].replace(education_map)\n",
    "    dt.drop(columns=[\"education-num\", \"fnlwgt\"], inplace=True)\n",
    "    dt[\"occupation\"] = dt[\"occupation\"].replace(occupation_map)\n",
    "    dt[\"marital-status\"] = dt[\"marital-status\"].replace(married_map)\n",
    "    dt[\"native-country\"] = dt[\"native-country\"].replace(country_map)\n",
    "\n",
    "    dt.rename(columns={\"income-per-year\": \"class\"}, inplace=True)\n",
    "    dt[\"class\"] = (\n",
    "        dt[\"class\"].astype(\"str\").replace({\">50K.\": \">50K\", \"<=50K.\": \"<=50K\"})\n",
    "    )\n",
    "    dt.dropna(inplace=True)\n",
    "    dt.reset_index(drop=True, inplace=True)\n",
    "    if discretize:\n",
    "        dt = KBinsDiscretizer_continuos(dt, bins=bins)\n",
    "    dt.drop(columns=[\"native-country\"], inplace=True)\n",
    "    return dt, {\"N\": \"<=50K\", \"P\": \">50K\"}\n"
   ]
  },
  {
   "cell_type": "code",
   "execution_count": 6,
   "id": "4a118017",
   "metadata": {
    "ExecuteTime": {
     "end_time": "2022-12-21T16:21:40.825500Z",
     "start_time": "2022-12-21T16:21:40.459236Z"
    }
   },
   "outputs": [],
   "source": [
    "df, class_map = import_process_adult()"
   ]
  },
  {
   "cell_type": "code",
   "execution_count": 7,
   "id": "f772224c",
   "metadata": {
    "ExecuteTime": {
     "end_time": "2022-12-21T16:21:40.866530Z",
     "start_time": "2022-12-21T16:21:40.827348Z"
    }
   },
   "outputs": [
    {
     "data": {
      "text/html": [
       "<div>\n",
       "<style scoped>\n",
       "    .dataframe tbody tr th:only-of-type {\n",
       "        vertical-align: middle;\n",
       "    }\n",
       "\n",
       "    .dataframe tbody tr th {\n",
       "        vertical-align: top;\n",
       "    }\n",
       "\n",
       "    .dataframe thead th {\n",
       "        text-align: right;\n",
       "    }\n",
       "</style>\n",
       "<table border=\"1\" class=\"dataframe\">\n",
       "  <thead>\n",
       "    <tr style=\"text-align: right;\">\n",
       "      <th></th>\n",
       "      <th>age</th>\n",
       "      <th>capital-gain</th>\n",
       "      <th>capital-loss</th>\n",
       "      <th>hours-per-week</th>\n",
       "    </tr>\n",
       "  </thead>\n",
       "  <tbody>\n",
       "    <tr>\n",
       "      <th>count</th>\n",
       "      <td>45222.000000</td>\n",
       "      <td>45222.000000</td>\n",
       "      <td>45222.000000</td>\n",
       "      <td>45222.000000</td>\n",
       "    </tr>\n",
       "    <tr>\n",
       "      <th>mean</th>\n",
       "      <td>38.547941</td>\n",
       "      <td>1101.430344</td>\n",
       "      <td>88.595418</td>\n",
       "      <td>40.938017</td>\n",
       "    </tr>\n",
       "    <tr>\n",
       "      <th>std</th>\n",
       "      <td>13.217870</td>\n",
       "      <td>7506.430084</td>\n",
       "      <td>404.956092</td>\n",
       "      <td>12.007508</td>\n",
       "    </tr>\n",
       "    <tr>\n",
       "      <th>min</th>\n",
       "      <td>17.000000</td>\n",
       "      <td>0.000000</td>\n",
       "      <td>0.000000</td>\n",
       "      <td>1.000000</td>\n",
       "    </tr>\n",
       "    <tr>\n",
       "      <th>25%</th>\n",
       "      <td>28.000000</td>\n",
       "      <td>0.000000</td>\n",
       "      <td>0.000000</td>\n",
       "      <td>40.000000</td>\n",
       "    </tr>\n",
       "    <tr>\n",
       "      <th>50%</th>\n",
       "      <td>37.000000</td>\n",
       "      <td>0.000000</td>\n",
       "      <td>0.000000</td>\n",
       "      <td>40.000000</td>\n",
       "    </tr>\n",
       "    <tr>\n",
       "      <th>75%</th>\n",
       "      <td>47.000000</td>\n",
       "      <td>0.000000</td>\n",
       "      <td>0.000000</td>\n",
       "      <td>45.000000</td>\n",
       "    </tr>\n",
       "    <tr>\n",
       "      <th>max</th>\n",
       "      <td>90.000000</td>\n",
       "      <td>99999.000000</td>\n",
       "      <td>4356.000000</td>\n",
       "      <td>99.000000</td>\n",
       "    </tr>\n",
       "  </tbody>\n",
       "</table>\n",
       "</div>"
      ],
      "text/plain": [
       "                age  capital-gain  capital-loss  hours-per-week\n",
       "count  45222.000000  45222.000000  45222.000000    45222.000000\n",
       "mean      38.547941   1101.430344     88.595418       40.938017\n",
       "std       13.217870   7506.430084    404.956092       12.007508\n",
       "min       17.000000      0.000000      0.000000        1.000000\n",
       "25%       28.000000      0.000000      0.000000       40.000000\n",
       "50%       37.000000      0.000000      0.000000       40.000000\n",
       "75%       47.000000      0.000000      0.000000       45.000000\n",
       "max       90.000000  99999.000000   4356.000000       99.000000"
      ]
     },
     "execution_count": 7,
     "metadata": {},
     "output_type": "execute_result"
    }
   ],
   "source": [
    "df.describe()"
   ]
  },
  {
   "cell_type": "code",
   "execution_count": 8,
   "id": "5c502c87",
   "metadata": {
    "ExecuteTime": {
     "end_time": "2022-12-21T16:21:41.346930Z",
     "start_time": "2022-12-21T16:21:40.868318Z"
    }
   },
   "outputs": [
    {
     "name": "stdout",
     "output_type": "stream",
     "text": [
      "workclass\n",
      "education\n",
      "marital-status\n",
      "occupation\n",
      "relationship\n",
      "race\n",
      "sex\n"
     ]
    }
   ],
   "source": [
    "from sklearn.preprocessing import LabelEncoder\n",
    "\n",
    "\n",
    "attributes = df.columns.drop(\"class\")\n",
    "X = df[attributes].copy()\n",
    "y = df[\"class\"].copy()\n",
    "\n",
    "encoders = {}\n",
    "for column in attributes:\n",
    "    if df.dtypes[column] == np.object:\n",
    "        print(column)\n",
    "        le = LabelEncoder()\n",
    "        X[column] = le.fit_transform(df[column])\n",
    "        encoders[column] = le"
   ]
  },
  {
   "cell_type": "markdown",
   "id": "eaccf41e",
   "metadata": {},
   "source": [
    "# Train and predict with RF classifier"
   ]
  },
  {
   "cell_type": "code",
   "execution_count": 9,
   "id": "ef51d117",
   "metadata": {
    "ExecuteTime": {
     "end_time": "2022-12-21T16:22:06.723850Z",
     "start_time": "2022-12-21T16:21:41.349189Z"
    }
   },
   "outputs": [],
   "source": [
    "from sklearn.model_selection import StratifiedKFold\n",
    "from sklearn.model_selection import cross_val_predict\n",
    "from sklearn.ensemble import RandomForestClassifier\n",
    "\n",
    "\n",
    "\n",
    "\n",
    "clf = RandomForestClassifier(random_state=42)\n",
    "\n",
    "\n",
    "k_cv = 10\n",
    "\n",
    "\n",
    "cv = StratifiedKFold(n_splits=k_cv, random_state=42, shuffle=True\n",
    "            )  # Added to fix the random state  #Added shuffle=True for new version sklearn, Value Error\n",
    "       \n",
    "y_predicted = cross_val_predict(clf, X, y.values, cv=cv)"
   ]
  },
  {
   "cell_type": "code",
   "execution_count": 10,
   "id": "2c5b7fe8",
   "metadata": {
    "ExecuteTime": {
     "end_time": "2022-12-21T16:22:06.754832Z",
     "start_time": "2022-12-21T16:22:06.728772Z"
    }
   },
   "outputs": [],
   "source": [
    "df[\"predicted\"] = y_predicted"
   ]
  },
  {
   "cell_type": "code",
   "execution_count": 11,
   "id": "23ccfbc1",
   "metadata": {
    "ExecuteTime": {
     "end_time": "2022-12-21T16:22:06.951913Z",
     "start_time": "2022-12-21T16:22:06.756426Z"
    }
   },
   "outputs": [
    {
     "data": {
      "text/plain": [
       "((45222, 13), ['age', 'capital-gain', 'capital-loss', 'hours-per-week'])"
      ]
     },
     "execution_count": 11,
     "metadata": {},
     "output_type": "execute_result"
    }
   ],
   "source": [
    "df.shape,  list(df.describe().columns)"
   ]
  },
  {
   "cell_type": "code",
   "execution_count": 12,
   "id": "e8b1af0c",
   "metadata": {
    "ExecuteTime": {
     "end_time": "2022-12-21T16:22:07.072148Z",
     "start_time": "2022-12-21T16:22:06.955121Z"
    }
   },
   "outputs": [
    {
     "data": {
      "text/plain": [
       "(45222, 13)"
      ]
     },
     "execution_count": 12,
     "metadata": {},
     "output_type": "execute_result"
    }
   ],
   "source": [
    "df.shape"
   ]
  },
  {
   "cell_type": "markdown",
   "id": "97f5ae76",
   "metadata": {},
   "source": [
    "# Tree divergence"
   ]
  },
  {
   "cell_type": "code",
   "execution_count": 13,
   "id": "6fd28cc7",
   "metadata": {
    "ExecuteTime": {
     "end_time": "2022-12-21T16:22:07.137820Z",
     "start_time": "2022-12-21T16:22:07.075565Z"
    }
   },
   "outputs": [],
   "source": [
    "true_class_name = \"class\"\n",
    "pred_class_name = \"predicted\"\n",
    "cols_c = [true_class_name, pred_class_name]"
   ]
  },
  {
   "cell_type": "code",
   "execution_count": 14,
   "id": "b4d35d8b",
   "metadata": {
    "ExecuteTime": {
     "end_time": "2022-12-21T16:22:07.240408Z",
     "start_time": "2022-12-21T16:22:07.141789Z"
    }
   },
   "outputs": [],
   "source": [
    "continuous_attributes = list(df.describe().columns)"
   ]
  },
  {
   "cell_type": "code",
   "execution_count": 15,
   "id": "8a6aef74",
   "metadata": {
    "ExecuteTime": {
     "end_time": "2022-12-21T16:22:07.306599Z",
     "start_time": "2022-12-21T16:22:07.242134Z"
    }
   },
   "outputs": [],
   "source": [
    "df_analyze = df.copy()"
   ]
  },
  {
   "cell_type": "code",
   "execution_count": 16,
   "id": "8ca85c12",
   "metadata": {
    "ExecuteTime": {
     "end_time": "2022-12-21T16:22:07.578949Z",
     "start_time": "2022-12-21T16:22:07.309240Z"
    }
   },
   "outputs": [],
   "source": [
    "min_support_tree = 0.1"
   ]
  },
  {
   "cell_type": "code",
   "execution_count": 17,
   "id": "57d5d3fc",
   "metadata": {
    "ExecuteTime": {
     "end_time": "2022-12-21T16:22:07.627459Z",
     "start_time": "2022-12-21T16:22:07.582620Z"
    }
   },
   "outputs": [],
   "source": [
    "metric = \"d_fpr\""
   ]
  },
  {
   "cell_type": "code",
   "execution_count": 18,
   "id": "6157c495",
   "metadata": {
    "ExecuteTime": {
     "end_time": "2022-12-21T16:22:07.751985Z",
     "start_time": "2022-12-21T16:22:07.629804Z"
    }
   },
   "outputs": [],
   "source": [
    "type_criterion=\"divergence_criterion\"\n",
    "\n",
    "type_experiment = \"one_at_time\""
   ]
  },
  {
   "cell_type": "code",
   "execution_count": 19,
   "id": "41e06596",
   "metadata": {
    "ExecuteTime": {
     "end_time": "2022-12-21T16:22:08.358945Z",
     "start_time": "2022-12-21T16:22:07.756243Z"
    }
   },
   "outputs": [],
   "source": [
    "from tree_discretization import TreeDiscretization\n",
    "\n",
    "tree_discr = TreeDiscretization()\n",
    "\n",
    "# ## Extract tree\n",
    "generalization_dict, discretizations = tree_discr.get_tree_discretization(\n",
    "    df_analyze,\n",
    "    type_splitting=type_experiment,\n",
    "    min_support=min_support_tree,\n",
    "    metric=metric,\n",
    "    class_map=class_map,\n",
    "    continuous_attributes=list(continuous_attributes),\n",
    "    class_and_pred_names=cols_c,\n",
    "    storeTree=True,\n",
    "    type_criterion='entropy', #type_criterion,\n",
    "    #minimal_gain = 0.0015\n",
    ")"
   ]
  },
  {
   "cell_type": "code",
   "execution_count": 20,
   "id": "71ca493e",
   "metadata": {
    "ExecuteTime": {
     "end_time": "2022-12-21T16:22:08.382407Z",
     "start_time": "2022-12-21T16:22:08.360715Z"
    }
   },
   "outputs": [
    {
     "name": "stdout",
     "output_type": "stream",
     "text": [
      "age\n",
      " root s=1.00 --> d_fpr=0.00\n",
      "         age<=27 s=0.24 --> d_fpr=-0.07\n",
      "                 age<=22 s=0.11 --> d_fpr=-0.08\n",
      "                 age>22 s=0.13 --> d_fpr=-0.07\n",
      "         age>27 s=0.76 --> d_fpr=0.03\n",
      "                 age<=35 s=0.22 --> d_fpr=-0.01\n",
      "                         age<=31 s=0.11 --> d_fpr=-0.02\n",
      "                         age>31 s=0.11 --> d_fpr=0.01\n",
      "                 age>35 s=0.55 --> d_fpr=0.05\n",
      "                         age<=56 s=0.44 --> d_fpr=0.06\n",
      "                                 age<=46 s=0.28 --> d_fpr=0.05\n",
      "                                         age<=39 s=0.11 --> d_fpr=0.04\n",
      "                                         age>39 s=0.17 --> d_fpr=0.05\n",
      "                                 age>46 s=0.16 --> d_fpr=0.08\n",
      "                         age>56 s=0.11 --> d_fpr=0.02\n",
      "\n",
      "hours-per-week\n",
      " root s=1.00 --> d_fpr=0.00\n",
      "         hours-per-week<=40 s=0.70 --> d_fpr=-0.03\n",
      "                 hours-per-week<=36 s=0.20 --> d_fpr=-0.06\n",
      "                 hours-per-week>36 s=0.49 --> d_fpr=-0.01\n",
      "         hours-per-week>40 s=0.30 --> d_fpr=0.08\n",
      "                 hours-per-week<=53 s=0.20 --> d_fpr=0.07\n",
      "                 hours-per-week>53 s=0.11 --> d_fpr=0.10\n",
      "\n"
     ]
    }
   ],
   "source": [
    "tree_discr.printDiscretizationTrees(round_v =2, show_condition = True)"
   ]
  },
  {
   "cell_type": "markdown",
   "id": "3e1fd702",
   "metadata": {},
   "source": [
    "# Extract patterns"
   ]
  },
  {
   "cell_type": "code",
   "execution_count": 22,
   "id": "e2364e1e",
   "metadata": {
    "ExecuteTime": {
     "end_time": "2022-12-21T16:25:11.120589Z",
     "start_time": "2022-12-21T16:25:11.092435Z"
    }
   },
   "outputs": [],
   "source": [
    "min_sup_divergences = [0.01, 0.02, 0.03, 0.04, 0.05, 0.1, 0.15, 0.2]"
   ]
  },
  {
   "cell_type": "code",
   "execution_count": 23,
   "id": "5f201254",
   "metadata": {
    "ExecuteTime": {
     "end_time": "2022-12-21T16:25:11.489907Z",
     "start_time": "2022-12-21T16:25:11.465913Z"
    }
   },
   "outputs": [],
   "source": [
    "import time"
   ]
  },
  {
   "cell_type": "code",
   "execution_count": 24,
   "id": "97e88d65",
   "metadata": {
    "ExecuteTime": {
     "end_time": "2022-12-21T16:25:11.924551Z",
     "start_time": "2022-12-21T16:25:11.900011Z"
    }
   },
   "outputs": [],
   "source": [
    "out_support = {}\n",
    "out_time = {}"
   ]
  },
  {
   "cell_type": "markdown",
   "id": "d137f8ad",
   "metadata": {},
   "source": [
    "## Base"
   ]
  },
  {
   "cell_type": "code",
   "execution_count": 25,
   "id": "4b7705af",
   "metadata": {
    "ExecuteTime": {
     "end_time": "2022-12-21T16:25:39.842636Z",
     "start_time": "2022-12-21T16:25:13.625927Z"
    }
   },
   "outputs": [],
   "source": [
    "from utils_extract_divergence_generalized import (\n",
    "    extract_divergence_generalized,\n",
    ")\n",
    "import time\n",
    "\n",
    "\n",
    "for keep in [True, False]:\n",
    "    if keep:\n",
    "        keep_items = tree_discr.get_keep_items_associated_with_divergence()\n",
    "        keep_str = \"_pruned\"\n",
    "    else:\n",
    "        keep_items = None\n",
    "        keep_str = \"\"\n",
    "\n",
    "    for min_sup_divergence in min_sup_divergences:\n",
    "        s_time = time.time()\n",
    "        FP_fm = extract_divergence_generalized(\n",
    "            df_analyze,\n",
    "            discretizations,\n",
    "            generalization_dict,\n",
    "            continuous_attributes,\n",
    "            min_sup_divergence=min_sup_divergence,\n",
    "            apply_generalization=False,\n",
    "            true_class_name=true_class_name,\n",
    "            predicted_class_name=pred_class_name,\n",
    "            class_map=class_map,\n",
    "            metrics_divergence = [\"d_fpr\"],\n",
    "            FPM_type=\"fpgrowth\",\n",
    "            save_in_progress = False, \n",
    "            keep_only_positive_divergent_items=keep_items\n",
    "        )\n",
    "\n",
    "        key = \"base\" + keep_str\n",
    "        \n",
    "        out_time.setdefault(min_sup_divergence, {})[key] = time.time()-s_time\n",
    "\n",
    "        fp_divergence_i = FP_Divergence(FP_fm, metric=metric)\n",
    "\n",
    "        most_divergent = (\n",
    "            fp_divergence_i.getDivergence(th_redundancy=0)\n",
    "            .sort_values(\n",
    "                [fp_divergence_i.metric, fp_divergence_i.t_value_col], ascending=False\n",
    "            )\n",
    "            .head(1)\n",
    "        )\n",
    "        out_support.setdefault(min_sup_divergence, {})[key] = most_divergent"
   ]
  },
  {
   "cell_type": "markdown",
   "id": "47c4d244",
   "metadata": {},
   "source": [
    "## Generalized"
   ]
  },
  {
   "cell_type": "code",
   "execution_count": 26,
   "id": "8cf4a3ac",
   "metadata": {
    "ExecuteTime": {
     "end_time": "2022-12-21T16:26:28.406487Z",
     "start_time": "2022-12-21T16:25:39.845541Z"
    }
   },
   "outputs": [
    {
     "name": "stdout",
     "output_type": "stream",
     "text": [
      "1 10000\n",
      "1 10000\n",
      "2 20000\n",
      "1 10000\n"
     ]
    }
   ],
   "source": [
    "from utils_extract_divergence_generalized import (\n",
    "    extract_divergence_generalized,\n",
    ")\n",
    "import time\n",
    "\n",
    "\n",
    "for keep in [True, False]:\n",
    "    if keep:\n",
    "        keep_items = tree_discr.get_keep_items_associated_with_divergence()\n",
    "        keep_str = \"_pruned\"\n",
    "    else:\n",
    "        keep_items = None\n",
    "        keep_str = \"\"\n",
    "\n",
    "    for min_sup_divergence in min_sup_divergences:\n",
    "        s_time = time.time()\n",
    "        FP_fm = extract_divergence_generalized(\n",
    "            df_analyze,\n",
    "            discretizations,\n",
    "            generalization_dict,\n",
    "            continuous_attributes,\n",
    "            min_sup_divergence=min_sup_divergence,\n",
    "            apply_generalization=True,\n",
    "            true_class_name=true_class_name,\n",
    "            predicted_class_name=pred_class_name,\n",
    "            class_map=class_map,\n",
    "            metrics_divergence = [\"d_fpr\"],\n",
    "            FPM_type=\"fpgrowth\",\n",
    "            save_in_progress = False, \n",
    "            keep_only_positive_divergent_items=keep_items\n",
    "        )\n",
    "\n",
    "        key = \"generalized\" + keep_str\n",
    "        \n",
    "        out_time.setdefault(min_sup_divergence, {})[key] = time.time()-s_time\n",
    "\n",
    "        fp_divergence_i = FP_Divergence(FP_fm, metric=metric)\n",
    "\n",
    "        most_divergent = (\n",
    "            fp_divergence_i.getDivergence(th_redundancy=0)\n",
    "            .sort_values(\n",
    "                [fp_divergence_i.metric, fp_divergence_i.t_value_col], ascending=False\n",
    "            )\n",
    "            .head(1)\n",
    "        )\n",
    "        out_support.setdefault(min_sup_divergence, {})[key] = most_divergent"
   ]
  },
  {
   "cell_type": "markdown",
   "id": "10f49a0d",
   "metadata": {},
   "source": [
    "# Results"
   ]
  },
  {
   "cell_type": "code",
   "execution_count": 27,
   "id": "aba3ae41",
   "metadata": {
    "ExecuteTime": {
     "end_time": "2022-12-21T16:26:28.431832Z",
     "start_time": "2022-12-21T16:26:28.408189Z"
    }
   },
   "outputs": [
    {
     "data": {
      "text/plain": [
       "{0.01: {'base_pruned': 1.9707591533660889,\n",
       "  'base': 2.7082858085632324,\n",
       "  'generalized_pruned': 3.9245986938476562,\n",
       "  'generalized': 6.670316219329834},\n",
       " 0.02: {'base_pruned': 1.6163930892944336,\n",
       "  'base': 2.104903221130371,\n",
       "  'generalized_pruned': 2.8208253383636475,\n",
       "  'generalized': 4.292623996734619},\n",
       " 0.03: {'base_pruned': 1.5616815090179443,\n",
       "  'base': 1.8298895359039307,\n",
       "  'generalized_pruned': 2.3996338844299316,\n",
       "  'generalized': 3.3567299842834473},\n",
       " 0.04: {'base_pruned': 1.4527008533477783,\n",
       "  'base': 1.7903952598571777,\n",
       "  'generalized_pruned': 2.229482412338257,\n",
       "  'generalized': 2.956446647644043},\n",
       " 0.05: {'base_pruned': 1.3897509574890137,\n",
       "  'base': 1.649228572845459,\n",
       "  'generalized_pruned': 2.002650260925293,\n",
       "  'generalized': 2.713425874710083},\n",
       " 0.1: {'base_pruned': 1.1511075496673584,\n",
       "  'base': 1.3940551280975342,\n",
       "  'generalized_pruned': 1.6407344341278076,\n",
       "  'generalized': 2.1397621631622314},\n",
       " 0.15: {'base_pruned': 0.9787774085998535,\n",
       "  'base': 1.0242948532104492,\n",
       "  'generalized_pruned': 1.3393144607543945,\n",
       "  'generalized': 1.4265520572662354},\n",
       " 0.2: {'base_pruned': 0.9754602909088135,\n",
       "  'base': 0.9483661651611328,\n",
       "  'generalized_pruned': 1.1319968700408936,\n",
       "  'generalized': 1.29817795753479}}"
      ]
     },
     "execution_count": 27,
     "metadata": {},
     "output_type": "execute_result"
    }
   ],
   "source": [
    "out_time"
   ]
  },
  {
   "cell_type": "code",
   "execution_count": 28,
   "id": "a8ef1621",
   "metadata": {
    "ExecuteTime": {
     "end_time": "2022-12-21T16:26:28.870126Z",
     "start_time": "2022-12-21T16:26:28.434061Z"
    }
   },
   "outputs": [
    {
     "name": "stdout",
     "output_type": "stream",
     "text": [
      "0.01\n",
      "base_pruned\n"
     ]
    },
    {
     "data": {
      "text/html": [
       "<div>\n",
       "<style scoped>\n",
       "    .dataframe tbody tr th:only-of-type {\n",
       "        vertical-align: middle;\n",
       "    }\n",
       "\n",
       "    .dataframe tbody tr th {\n",
       "        vertical-align: top;\n",
       "    }\n",
       "\n",
       "    .dataframe thead th {\n",
       "        text-align: right;\n",
       "    }\n",
       "</style>\n",
       "<table border=\"1\" class=\"dataframe\">\n",
       "  <thead>\n",
       "    <tr style=\"text-align: right;\">\n",
       "      <th></th>\n",
       "      <th>support</th>\n",
       "      <th>itemsets</th>\n",
       "      <th>tn</th>\n",
       "      <th>fp</th>\n",
       "      <th>fn</th>\n",
       "      <th>tp</th>\n",
       "      <th>length</th>\n",
       "      <th>support_count</th>\n",
       "      <th>fpr</th>\n",
       "      <th>d_fpr</th>\n",
       "      <th>t_value_fp</th>\n",
       "    </tr>\n",
       "  </thead>\n",
       "  <tbody>\n",
       "    <tr>\n",
       "      <th>3959</th>\n",
       "      <td>0.010946</td>\n",
       "      <td>(occupation=White-Collar, workclass=Private, a...</td>\n",
       "      <td>18</td>\n",
       "      <td>72</td>\n",
       "      <td>50</td>\n",
       "      <td>355</td>\n",
       "      <td>4</td>\n",
       "      <td>495.0</td>\n",
       "      <td>0.8</td>\n",
       "      <td>0.721885</td>\n",
       "      <td>17.031069</td>\n",
       "    </tr>\n",
       "  </tbody>\n",
       "</table>\n",
       "</div>"
      ],
      "text/plain": [
       "       support                                           itemsets  tn  fp  fn  \\\n",
       "3959  0.010946  (occupation=White-Collar, workclass=Private, a...  18  72  50   \n",
       "\n",
       "       tp  length  support_count  fpr     d_fpr  t_value_fp  \n",
       "3959  355       4          495.0  0.8  0.721885   17.031069  "
      ]
     },
     "metadata": {},
     "output_type": "display_data"
    },
    {
     "name": "stdout",
     "output_type": "stream",
     "text": [
      "base\n"
     ]
    },
    {
     "data": {
      "text/html": [
       "<div>\n",
       "<style scoped>\n",
       "    .dataframe tbody tr th:only-of-type {\n",
       "        vertical-align: middle;\n",
       "    }\n",
       "\n",
       "    .dataframe tbody tr th {\n",
       "        vertical-align: top;\n",
       "    }\n",
       "\n",
       "    .dataframe thead th {\n",
       "        text-align: right;\n",
       "    }\n",
       "</style>\n",
       "<table border=\"1\" class=\"dataframe\">\n",
       "  <thead>\n",
       "    <tr style=\"text-align: right;\">\n",
       "      <th></th>\n",
       "      <th>support</th>\n",
       "      <th>itemsets</th>\n",
       "      <th>tn</th>\n",
       "      <th>fp</th>\n",
       "      <th>fn</th>\n",
       "      <th>tp</th>\n",
       "      <th>length</th>\n",
       "      <th>support_count</th>\n",
       "      <th>fpr</th>\n",
       "      <th>d_fpr</th>\n",
       "      <th>t_value_fp</th>\n",
       "    </tr>\n",
       "  </thead>\n",
       "  <tbody>\n",
       "    <tr>\n",
       "      <th>7144</th>\n",
       "      <td>0.010946</td>\n",
       "      <td>(occupation=White-Collar, workclass=Private, a...</td>\n",
       "      <td>18</td>\n",
       "      <td>72</td>\n",
       "      <td>50</td>\n",
       "      <td>355</td>\n",
       "      <td>4</td>\n",
       "      <td>495.0</td>\n",
       "      <td>0.8</td>\n",
       "      <td>0.721885</td>\n",
       "      <td>17.031069</td>\n",
       "    </tr>\n",
       "  </tbody>\n",
       "</table>\n",
       "</div>"
      ],
      "text/plain": [
       "       support                                           itemsets  tn  fp  fn  \\\n",
       "7144  0.010946  (occupation=White-Collar, workclass=Private, a...  18  72  50   \n",
       "\n",
       "       tp  length  support_count  fpr     d_fpr  t_value_fp  \n",
       "7144  355       4          495.0  0.8  0.721885   17.031069  "
      ]
     },
     "metadata": {},
     "output_type": "display_data"
    },
    {
     "name": "stdout",
     "output_type": "stream",
     "text": [
      "generalized_pruned\n"
     ]
    },
    {
     "data": {
      "text/html": [
       "<div>\n",
       "<style scoped>\n",
       "    .dataframe tbody tr th:only-of-type {\n",
       "        vertical-align: middle;\n",
       "    }\n",
       "\n",
       "    .dataframe tbody tr th {\n",
       "        vertical-align: top;\n",
       "    }\n",
       "\n",
       "    .dataframe thead th {\n",
       "        text-align: right;\n",
       "    }\n",
       "</style>\n",
       "<table border=\"1\" class=\"dataframe\">\n",
       "  <thead>\n",
       "    <tr style=\"text-align: right;\">\n",
       "      <th></th>\n",
       "      <th>support</th>\n",
       "      <th>itemsets</th>\n",
       "      <th>tn</th>\n",
       "      <th>fp</th>\n",
       "      <th>fn</th>\n",
       "      <th>tp</th>\n",
       "      <th>length</th>\n",
       "      <th>support_count</th>\n",
       "      <th>fpr</th>\n",
       "      <th>d_fpr</th>\n",
       "      <th>t_value_fp</th>\n",
       "    </tr>\n",
       "  </thead>\n",
       "  <tbody>\n",
       "    <tr>\n",
       "      <th>12189</th>\n",
       "      <td>0.010614</td>\n",
       "      <td>(race=White, hours-per-week=[41-53], marital-s...</td>\n",
       "      <td>20</td>\n",
       "      <td>80</td>\n",
       "      <td>42</td>\n",
       "      <td>338</td>\n",
       "      <td>5</td>\n",
       "      <td>480.0</td>\n",
       "      <td>0.8</td>\n",
       "      <td>0.721885</td>\n",
       "      <td>17.958778</td>\n",
       "    </tr>\n",
       "  </tbody>\n",
       "</table>\n",
       "</div>"
      ],
      "text/plain": [
       "        support                                           itemsets  tn  fp  \\\n",
       "12189  0.010614  (race=White, hours-per-week=[41-53], marital-s...  20  80   \n",
       "\n",
       "       fn   tp  length  support_count  fpr     d_fpr  t_value_fp  \n",
       "12189  42  338       5          480.0  0.8  0.721885   17.958778  "
      ]
     },
     "metadata": {},
     "output_type": "display_data"
    },
    {
     "name": "stdout",
     "output_type": "stream",
     "text": [
      "generalized\n"
     ]
    },
    {
     "data": {
      "text/html": [
       "<div>\n",
       "<style scoped>\n",
       "    .dataframe tbody tr th:only-of-type {\n",
       "        vertical-align: middle;\n",
       "    }\n",
       "\n",
       "    .dataframe tbody tr th {\n",
       "        vertical-align: top;\n",
       "    }\n",
       "\n",
       "    .dataframe thead th {\n",
       "        text-align: right;\n",
       "    }\n",
       "</style>\n",
       "<table border=\"1\" class=\"dataframe\">\n",
       "  <thead>\n",
       "    <tr style=\"text-align: right;\">\n",
       "      <th></th>\n",
       "      <th>support</th>\n",
       "      <th>itemsets</th>\n",
       "      <th>tn</th>\n",
       "      <th>fp</th>\n",
       "      <th>fn</th>\n",
       "      <th>tp</th>\n",
       "      <th>length</th>\n",
       "      <th>support_count</th>\n",
       "      <th>fpr</th>\n",
       "      <th>d_fpr</th>\n",
       "      <th>t_value_fp</th>\n",
       "    </tr>\n",
       "  </thead>\n",
       "  <tbody>\n",
       "    <tr>\n",
       "      <th>26105</th>\n",
       "      <td>0.010614</td>\n",
       "      <td>(race=White, hours-per-week=[41-53], marital-s...</td>\n",
       "      <td>20</td>\n",
       "      <td>80</td>\n",
       "      <td>42</td>\n",
       "      <td>338</td>\n",
       "      <td>5</td>\n",
       "      <td>480.0</td>\n",
       "      <td>0.8</td>\n",
       "      <td>0.721885</td>\n",
       "      <td>17.958778</td>\n",
       "    </tr>\n",
       "  </tbody>\n",
       "</table>\n",
       "</div>"
      ],
      "text/plain": [
       "        support                                           itemsets  tn  fp  \\\n",
       "26105  0.010614  (race=White, hours-per-week=[41-53], marital-s...  20  80   \n",
       "\n",
       "       fn   tp  length  support_count  fpr     d_fpr  t_value_fp  \n",
       "26105  42  338       5          480.0  0.8  0.721885   17.958778  "
      ]
     },
     "metadata": {},
     "output_type": "display_data"
    },
    {
     "name": "stdout",
     "output_type": "stream",
     "text": [
      "0.02\n",
      "base_pruned\n"
     ]
    },
    {
     "data": {
      "text/html": [
       "<div>\n",
       "<style scoped>\n",
       "    .dataframe tbody tr th:only-of-type {\n",
       "        vertical-align: middle;\n",
       "    }\n",
       "\n",
       "    .dataframe tbody tr th {\n",
       "        vertical-align: top;\n",
       "    }\n",
       "\n",
       "    .dataframe thead th {\n",
       "        text-align: right;\n",
       "    }\n",
       "</style>\n",
       "<table border=\"1\" class=\"dataframe\">\n",
       "  <thead>\n",
       "    <tr style=\"text-align: right;\">\n",
       "      <th></th>\n",
       "      <th>support</th>\n",
       "      <th>itemsets</th>\n",
       "      <th>tn</th>\n",
       "      <th>fp</th>\n",
       "      <th>fn</th>\n",
       "      <th>tp</th>\n",
       "      <th>length</th>\n",
       "      <th>support_count</th>\n",
       "      <th>fpr</th>\n",
       "      <th>d_fpr</th>\n",
       "      <th>t_value_fp</th>\n",
       "    </tr>\n",
       "  </thead>\n",
       "  <tbody>\n",
       "    <tr>\n",
       "      <th>1939</th>\n",
       "      <td>0.021317</td>\n",
       "      <td>(age=[40-46], education=Bachelors, marital-sta...</td>\n",
       "      <td>85</td>\n",
       "      <td>167</td>\n",
       "      <td>96</td>\n",
       "      <td>616</td>\n",
       "      <td>3</td>\n",
       "      <td>964.0</td>\n",
       "      <td>0.662698</td>\n",
       "      <td>0.584584</td>\n",
       "      <td>19.658587</td>\n",
       "    </tr>\n",
       "  </tbody>\n",
       "</table>\n",
       "</div>"
      ],
      "text/plain": [
       "       support                                           itemsets  tn   fp  \\\n",
       "1939  0.021317  (age=[40-46], education=Bachelors, marital-sta...  85  167   \n",
       "\n",
       "      fn   tp  length  support_count       fpr     d_fpr  t_value_fp  \n",
       "1939  96  616       3          964.0  0.662698  0.584584   19.658587  "
      ]
     },
     "metadata": {},
     "output_type": "display_data"
    },
    {
     "name": "stdout",
     "output_type": "stream",
     "text": [
      "base\n"
     ]
    },
    {
     "data": {
      "text/html": [
       "<div>\n",
       "<style scoped>\n",
       "    .dataframe tbody tr th:only-of-type {\n",
       "        vertical-align: middle;\n",
       "    }\n",
       "\n",
       "    .dataframe tbody tr th {\n",
       "        vertical-align: top;\n",
       "    }\n",
       "\n",
       "    .dataframe thead th {\n",
       "        text-align: right;\n",
       "    }\n",
       "</style>\n",
       "<table border=\"1\" class=\"dataframe\">\n",
       "  <thead>\n",
       "    <tr style=\"text-align: right;\">\n",
       "      <th></th>\n",
       "      <th>support</th>\n",
       "      <th>itemsets</th>\n",
       "      <th>tn</th>\n",
       "      <th>fp</th>\n",
       "      <th>fn</th>\n",
       "      <th>tp</th>\n",
       "      <th>length</th>\n",
       "      <th>support_count</th>\n",
       "      <th>fpr</th>\n",
       "      <th>d_fpr</th>\n",
       "      <th>t_value_fp</th>\n",
       "    </tr>\n",
       "  </thead>\n",
       "  <tbody>\n",
       "    <tr>\n",
       "      <th>3185</th>\n",
       "      <td>0.021317</td>\n",
       "      <td>(age=[40-46], education=Bachelors, marital-sta...</td>\n",
       "      <td>85</td>\n",
       "      <td>167</td>\n",
       "      <td>96</td>\n",
       "      <td>616</td>\n",
       "      <td>3</td>\n",
       "      <td>964.0</td>\n",
       "      <td>0.662698</td>\n",
       "      <td>0.584584</td>\n",
       "      <td>19.658587</td>\n",
       "    </tr>\n",
       "  </tbody>\n",
       "</table>\n",
       "</div>"
      ],
      "text/plain": [
       "       support                                           itemsets  tn   fp  \\\n",
       "3185  0.021317  (age=[40-46], education=Bachelors, marital-sta...  85  167   \n",
       "\n",
       "      fn   tp  length  support_count       fpr     d_fpr  t_value_fp  \n",
       "3185  96  616       3          964.0  0.662698  0.584584   19.658587  "
      ]
     },
     "metadata": {},
     "output_type": "display_data"
    },
    {
     "name": "stdout",
     "output_type": "stream",
     "text": [
      "generalized_pruned\n"
     ]
    },
    {
     "data": {
      "text/html": [
       "<div>\n",
       "<style scoped>\n",
       "    .dataframe tbody tr th:only-of-type {\n",
       "        vertical-align: middle;\n",
       "    }\n",
       "\n",
       "    .dataframe tbody tr th {\n",
       "        vertical-align: top;\n",
       "    }\n",
       "\n",
       "    .dataframe thead th {\n",
       "        text-align: right;\n",
       "    }\n",
       "</style>\n",
       "<table border=\"1\" class=\"dataframe\">\n",
       "  <thead>\n",
       "    <tr style=\"text-align: right;\">\n",
       "      <th></th>\n",
       "      <th>support</th>\n",
       "      <th>itemsets</th>\n",
       "      <th>tn</th>\n",
       "      <th>fp</th>\n",
       "      <th>fn</th>\n",
       "      <th>tp</th>\n",
       "      <th>length</th>\n",
       "      <th>support_count</th>\n",
       "      <th>fpr</th>\n",
       "      <th>d_fpr</th>\n",
       "      <th>t_value_fp</th>\n",
       "    </tr>\n",
       "  </thead>\n",
       "  <tbody>\n",
       "    <tr>\n",
       "      <th>6022</th>\n",
       "      <td>0.020167</td>\n",
       "      <td>(race=White, age=&gt;=36, marital-status=Married,...</td>\n",
       "      <td>57</td>\n",
       "      <td>137</td>\n",
       "      <td>82</td>\n",
       "      <td>636</td>\n",
       "      <td>6</td>\n",
       "      <td>912.0</td>\n",
       "      <td>0.706186</td>\n",
       "      <td>0.628071</td>\n",
       "      <td>19.228055</td>\n",
       "    </tr>\n",
       "  </tbody>\n",
       "</table>\n",
       "</div>"
      ],
      "text/plain": [
       "       support                                           itemsets  tn   fp  \\\n",
       "6022  0.020167  (race=White, age=>=36, marital-status=Married,...  57  137   \n",
       "\n",
       "      fn   tp  length  support_count       fpr     d_fpr  t_value_fp  \n",
       "6022  82  636       6          912.0  0.706186  0.628071   19.228055  "
      ]
     },
     "metadata": {},
     "output_type": "display_data"
    },
    {
     "name": "stdout",
     "output_type": "stream",
     "text": [
      "generalized\n"
     ]
    },
    {
     "data": {
      "text/html": [
       "<div>\n",
       "<style scoped>\n",
       "    .dataframe tbody tr th:only-of-type {\n",
       "        vertical-align: middle;\n",
       "    }\n",
       "\n",
       "    .dataframe tbody tr th {\n",
       "        vertical-align: top;\n",
       "    }\n",
       "\n",
       "    .dataframe thead th {\n",
       "        text-align: right;\n",
       "    }\n",
       "</style>\n",
       "<table border=\"1\" class=\"dataframe\">\n",
       "  <thead>\n",
       "    <tr style=\"text-align: right;\">\n",
       "      <th></th>\n",
       "      <th>support</th>\n",
       "      <th>itemsets</th>\n",
       "      <th>tn</th>\n",
       "      <th>fp</th>\n",
       "      <th>fn</th>\n",
       "      <th>tp</th>\n",
       "      <th>length</th>\n",
       "      <th>support_count</th>\n",
       "      <th>fpr</th>\n",
       "      <th>d_fpr</th>\n",
       "      <th>t_value_fp</th>\n",
       "    </tr>\n",
       "  </thead>\n",
       "  <tbody>\n",
       "    <tr>\n",
       "      <th>12194</th>\n",
       "      <td>0.020145</td>\n",
       "      <td>(marital-status=Married, occupation=Profession...</td>\n",
       "      <td>58</td>\n",
       "      <td>161</td>\n",
       "      <td>100</td>\n",
       "      <td>592</td>\n",
       "      <td>4</td>\n",
       "      <td>911.0</td>\n",
       "      <td>0.73516</td>\n",
       "      <td>0.657045</td>\n",
       "      <td>22.030985</td>\n",
       "    </tr>\n",
       "  </tbody>\n",
       "</table>\n",
       "</div>"
      ],
      "text/plain": [
       "        support                                           itemsets  tn   fp  \\\n",
       "12194  0.020145  (marital-status=Married, occupation=Profession...  58  161   \n",
       "\n",
       "        fn   tp  length  support_count      fpr     d_fpr  t_value_fp  \n",
       "12194  100  592       4          911.0  0.73516  0.657045   22.030985  "
      ]
     },
     "metadata": {},
     "output_type": "display_data"
    },
    {
     "name": "stdout",
     "output_type": "stream",
     "text": [
      "0.03\n",
      "base_pruned\n"
     ]
    },
    {
     "data": {
      "text/html": [
       "<div>\n",
       "<style scoped>\n",
       "    .dataframe tbody tr th:only-of-type {\n",
       "        vertical-align: middle;\n",
       "    }\n",
       "\n",
       "    .dataframe tbody tr th {\n",
       "        vertical-align: top;\n",
       "    }\n",
       "\n",
       "    .dataframe thead th {\n",
       "        text-align: right;\n",
       "    }\n",
       "</style>\n",
       "<table border=\"1\" class=\"dataframe\">\n",
       "  <thead>\n",
       "    <tr style=\"text-align: right;\">\n",
       "      <th></th>\n",
       "      <th>support</th>\n",
       "      <th>itemsets</th>\n",
       "      <th>tn</th>\n",
       "      <th>fp</th>\n",
       "      <th>fn</th>\n",
       "      <th>tp</th>\n",
       "      <th>length</th>\n",
       "      <th>support_count</th>\n",
       "      <th>fpr</th>\n",
       "      <th>d_fpr</th>\n",
       "      <th>t_value_fp</th>\n",
       "    </tr>\n",
       "  </thead>\n",
       "  <tbody>\n",
       "    <tr>\n",
       "      <th>1138</th>\n",
       "      <td>0.031799</td>\n",
       "      <td>(marital-status=Married, education=Masters)</td>\n",
       "      <td>132</td>\n",
       "      <td>194</td>\n",
       "      <td>126</td>\n",
       "      <td>986</td>\n",
       "      <td>2</td>\n",
       "      <td>1438.0</td>\n",
       "      <td>0.595092</td>\n",
       "      <td>0.516977</td>\n",
       "      <td>19.04869</td>\n",
       "    </tr>\n",
       "  </tbody>\n",
       "</table>\n",
       "</div>"
      ],
      "text/plain": [
       "       support                                     itemsets   tn   fp   fn  \\\n",
       "1138  0.031799  (marital-status=Married, education=Masters)  132  194  126   \n",
       "\n",
       "       tp  length  support_count       fpr     d_fpr  t_value_fp  \n",
       "1138  986       2         1438.0  0.595092  0.516977    19.04869  "
      ]
     },
     "metadata": {},
     "output_type": "display_data"
    },
    {
     "name": "stdout",
     "output_type": "stream",
     "text": [
      "base\n"
     ]
    },
    {
     "data": {
      "text/html": [
       "<div>\n",
       "<style scoped>\n",
       "    .dataframe tbody tr th:only-of-type {\n",
       "        vertical-align: middle;\n",
       "    }\n",
       "\n",
       "    .dataframe tbody tr th {\n",
       "        vertical-align: top;\n",
       "    }\n",
       "\n",
       "    .dataframe thead th {\n",
       "        text-align: right;\n",
       "    }\n",
       "</style>\n",
       "<table border=\"1\" class=\"dataframe\">\n",
       "  <thead>\n",
       "    <tr style=\"text-align: right;\">\n",
       "      <th></th>\n",
       "      <th>support</th>\n",
       "      <th>itemsets</th>\n",
       "      <th>tn</th>\n",
       "      <th>fp</th>\n",
       "      <th>fn</th>\n",
       "      <th>tp</th>\n",
       "      <th>length</th>\n",
       "      <th>support_count</th>\n",
       "      <th>fpr</th>\n",
       "      <th>d_fpr</th>\n",
       "      <th>t_value_fp</th>\n",
       "    </tr>\n",
       "  </thead>\n",
       "  <tbody>\n",
       "    <tr>\n",
       "      <th>1786</th>\n",
       "      <td>0.031799</td>\n",
       "      <td>(marital-status=Married, education=Masters)</td>\n",
       "      <td>132</td>\n",
       "      <td>194</td>\n",
       "      <td>126</td>\n",
       "      <td>986</td>\n",
       "      <td>2</td>\n",
       "      <td>1438.0</td>\n",
       "      <td>0.595092</td>\n",
       "      <td>0.516977</td>\n",
       "      <td>19.04869</td>\n",
       "    </tr>\n",
       "  </tbody>\n",
       "</table>\n",
       "</div>"
      ],
      "text/plain": [
       "       support                                     itemsets   tn   fp   fn  \\\n",
       "1786  0.031799  (marital-status=Married, education=Masters)  132  194  126   \n",
       "\n",
       "       tp  length  support_count       fpr     d_fpr  t_value_fp  \n",
       "1786  986       2         1438.0  0.595092  0.516977    19.04869  "
      ]
     },
     "metadata": {},
     "output_type": "display_data"
    },
    {
     "name": "stdout",
     "output_type": "stream",
     "text": [
      "generalized_pruned\n"
     ]
    },
    {
     "data": {
      "text/html": [
       "<div>\n",
       "<style scoped>\n",
       "    .dataframe tbody tr th:only-of-type {\n",
       "        vertical-align: middle;\n",
       "    }\n",
       "\n",
       "    .dataframe tbody tr th {\n",
       "        vertical-align: top;\n",
       "    }\n",
       "\n",
       "    .dataframe thead th {\n",
       "        text-align: right;\n",
       "    }\n",
       "</style>\n",
       "<table border=\"1\" class=\"dataframe\">\n",
       "  <thead>\n",
       "    <tr style=\"text-align: right;\">\n",
       "      <th></th>\n",
       "      <th>support</th>\n",
       "      <th>itemsets</th>\n",
       "      <th>tn</th>\n",
       "      <th>fp</th>\n",
       "      <th>fn</th>\n",
       "      <th>tp</th>\n",
       "      <th>length</th>\n",
       "      <th>support_count</th>\n",
       "      <th>fpr</th>\n",
       "      <th>d_fpr</th>\n",
       "      <th>t_value_fp</th>\n",
       "    </tr>\n",
       "  </thead>\n",
       "  <tbody>\n",
       "    <tr>\n",
       "      <th>3205</th>\n",
       "      <td>0.032727</td>\n",
       "      <td>(age=[36-56], race=White, marital-status=Marri...</td>\n",
       "      <td>107</td>\n",
       "      <td>232</td>\n",
       "      <td>152</td>\n",
       "      <td>989</td>\n",
       "      <td>5</td>\n",
       "      <td>1480.0</td>\n",
       "      <td>0.684366</td>\n",
       "      <td>0.606251</td>\n",
       "      <td>24.016593</td>\n",
       "    </tr>\n",
       "  </tbody>\n",
       "</table>\n",
       "</div>"
      ],
      "text/plain": [
       "       support                                           itemsets   tn   fp  \\\n",
       "3205  0.032727  (age=[36-56], race=White, marital-status=Marri...  107  232   \n",
       "\n",
       "       fn   tp  length  support_count       fpr     d_fpr  t_value_fp  \n",
       "3205  152  989       5         1480.0  0.684366  0.606251   24.016593  "
      ]
     },
     "metadata": {},
     "output_type": "display_data"
    },
    {
     "name": "stdout",
     "output_type": "stream",
     "text": [
      "generalized\n"
     ]
    },
    {
     "data": {
      "text/html": [
       "<div>\n",
       "<style scoped>\n",
       "    .dataframe tbody tr th:only-of-type {\n",
       "        vertical-align: middle;\n",
       "    }\n",
       "\n",
       "    .dataframe tbody tr th {\n",
       "        vertical-align: top;\n",
       "    }\n",
       "\n",
       "    .dataframe thead th {\n",
       "        text-align: right;\n",
       "    }\n",
       "</style>\n",
       "<table border=\"1\" class=\"dataframe\">\n",
       "  <thead>\n",
       "    <tr style=\"text-align: right;\">\n",
       "      <th></th>\n",
       "      <th>support</th>\n",
       "      <th>itemsets</th>\n",
       "      <th>tn</th>\n",
       "      <th>fp</th>\n",
       "      <th>fn</th>\n",
       "      <th>tp</th>\n",
       "      <th>length</th>\n",
       "      <th>support_count</th>\n",
       "      <th>fpr</th>\n",
       "      <th>d_fpr</th>\n",
       "      <th>t_value_fp</th>\n",
       "    </tr>\n",
       "  </thead>\n",
       "  <tbody>\n",
       "    <tr>\n",
       "      <th>6321</th>\n",
       "      <td>0.032727</td>\n",
       "      <td>(age=[36-56], race=White, marital-status=Marri...</td>\n",
       "      <td>107</td>\n",
       "      <td>232</td>\n",
       "      <td>152</td>\n",
       "      <td>989</td>\n",
       "      <td>5</td>\n",
       "      <td>1480.0</td>\n",
       "      <td>0.684366</td>\n",
       "      <td>0.606251</td>\n",
       "      <td>24.016593</td>\n",
       "    </tr>\n",
       "  </tbody>\n",
       "</table>\n",
       "</div>"
      ],
      "text/plain": [
       "       support                                           itemsets   tn   fp  \\\n",
       "6321  0.032727  (age=[36-56], race=White, marital-status=Marri...  107  232   \n",
       "\n",
       "       fn   tp  length  support_count       fpr     d_fpr  t_value_fp  \n",
       "6321  152  989       5         1480.0  0.684366  0.606251   24.016593  "
      ]
     },
     "metadata": {},
     "output_type": "display_data"
    },
    {
     "name": "stdout",
     "output_type": "stream",
     "text": [
      "0.04\n",
      "base_pruned\n"
     ]
    },
    {
     "data": {
      "text/html": [
       "<div>\n",
       "<style scoped>\n",
       "    .dataframe tbody tr th:only-of-type {\n",
       "        vertical-align: middle;\n",
       "    }\n",
       "\n",
       "    .dataframe tbody tr th {\n",
       "        vertical-align: top;\n",
       "    }\n",
       "\n",
       "    .dataframe thead th {\n",
       "        text-align: right;\n",
       "    }\n",
       "</style>\n",
       "<table border=\"1\" class=\"dataframe\">\n",
       "  <thead>\n",
       "    <tr style=\"text-align: right;\">\n",
       "      <th></th>\n",
       "      <th>support</th>\n",
       "      <th>itemsets</th>\n",
       "      <th>tn</th>\n",
       "      <th>fp</th>\n",
       "      <th>fn</th>\n",
       "      <th>tp</th>\n",
       "      <th>length</th>\n",
       "      <th>support_count</th>\n",
       "      <th>fpr</th>\n",
       "      <th>d_fpr</th>\n",
       "      <th>t_value_fp</th>\n",
       "    </tr>\n",
       "  </thead>\n",
       "  <tbody>\n",
       "    <tr>\n",
       "      <th>448</th>\n",
       "      <td>0.061674</td>\n",
       "      <td>(race=White, occupation=Professional, marital-...</td>\n",
       "      <td>357</td>\n",
       "      <td>435</td>\n",
       "      <td>317</td>\n",
       "      <td>1680</td>\n",
       "      <td>3</td>\n",
       "      <td>2789.0</td>\n",
       "      <td>0.549242</td>\n",
       "      <td>0.471128</td>\n",
       "      <td>26.598005</td>\n",
       "    </tr>\n",
       "  </tbody>\n",
       "</table>\n",
       "</div>"
      ],
      "text/plain": [
       "      support                                           itemsets   tn   fp  \\\n",
       "448  0.061674  (race=White, occupation=Professional, marital-...  357  435   \n",
       "\n",
       "      fn    tp  length  support_count       fpr     d_fpr  t_value_fp  \n",
       "448  317  1680       3         2789.0  0.549242  0.471128   26.598005  "
      ]
     },
     "metadata": {},
     "output_type": "display_data"
    },
    {
     "name": "stdout",
     "output_type": "stream",
     "text": [
      "base\n"
     ]
    },
    {
     "data": {
      "text/html": [
       "<div>\n",
       "<style scoped>\n",
       "    .dataframe tbody tr th:only-of-type {\n",
       "        vertical-align: middle;\n",
       "    }\n",
       "\n",
       "    .dataframe tbody tr th {\n",
       "        vertical-align: top;\n",
       "    }\n",
       "\n",
       "    .dataframe thead th {\n",
       "        text-align: right;\n",
       "    }\n",
       "</style>\n",
       "<table border=\"1\" class=\"dataframe\">\n",
       "  <thead>\n",
       "    <tr style=\"text-align: right;\">\n",
       "      <th></th>\n",
       "      <th>support</th>\n",
       "      <th>itemsets</th>\n",
       "      <th>tn</th>\n",
       "      <th>fp</th>\n",
       "      <th>fn</th>\n",
       "      <th>tp</th>\n",
       "      <th>length</th>\n",
       "      <th>support_count</th>\n",
       "      <th>fpr</th>\n",
       "      <th>d_fpr</th>\n",
       "      <th>t_value_fp</th>\n",
       "    </tr>\n",
       "  </thead>\n",
       "  <tbody>\n",
       "    <tr>\n",
       "      <th>659</th>\n",
       "      <td>0.061674</td>\n",
       "      <td>(race=White, occupation=Professional, marital-...</td>\n",
       "      <td>357</td>\n",
       "      <td>435</td>\n",
       "      <td>317</td>\n",
       "      <td>1680</td>\n",
       "      <td>3</td>\n",
       "      <td>2789.0</td>\n",
       "      <td>0.549242</td>\n",
       "      <td>0.471128</td>\n",
       "      <td>26.598005</td>\n",
       "    </tr>\n",
       "  </tbody>\n",
       "</table>\n",
       "</div>"
      ],
      "text/plain": [
       "      support                                           itemsets   tn   fp  \\\n",
       "659  0.061674  (race=White, occupation=Professional, marital-...  357  435   \n",
       "\n",
       "      fn    tp  length  support_count       fpr     d_fpr  t_value_fp  \n",
       "659  317  1680       3         2789.0  0.549242  0.471128   26.598005  "
      ]
     },
     "metadata": {},
     "output_type": "display_data"
    },
    {
     "name": "stdout",
     "output_type": "stream",
     "text": [
      "generalized_pruned\n"
     ]
    },
    {
     "data": {
      "text/html": [
       "<div>\n",
       "<style scoped>\n",
       "    .dataframe tbody tr th:only-of-type {\n",
       "        vertical-align: middle;\n",
       "    }\n",
       "\n",
       "    .dataframe tbody tr th {\n",
       "        vertical-align: top;\n",
       "    }\n",
       "\n",
       "    .dataframe thead th {\n",
       "        text-align: right;\n",
       "    }\n",
       "</style>\n",
       "<table border=\"1\" class=\"dataframe\">\n",
       "  <thead>\n",
       "    <tr style=\"text-align: right;\">\n",
       "      <th></th>\n",
       "      <th>support</th>\n",
       "      <th>itemsets</th>\n",
       "      <th>tn</th>\n",
       "      <th>fp</th>\n",
       "      <th>fn</th>\n",
       "      <th>tp</th>\n",
       "      <th>length</th>\n",
       "      <th>support_count</th>\n",
       "      <th>fpr</th>\n",
       "      <th>d_fpr</th>\n",
       "      <th>t_value_fp</th>\n",
       "    </tr>\n",
       "  </thead>\n",
       "  <tbody>\n",
       "    <tr>\n",
       "      <th>2250</th>\n",
       "      <td>0.042391</td>\n",
       "      <td>(age=[36-56], occupation=Professional, marital...</td>\n",
       "      <td>149</td>\n",
       "      <td>298</td>\n",
       "      <td>192</td>\n",
       "      <td>1278</td>\n",
       "      <td>3</td>\n",
       "      <td>1917.0</td>\n",
       "      <td>0.666667</td>\n",
       "      <td>0.588552</td>\n",
       "      <td>26.379188</td>\n",
       "    </tr>\n",
       "  </tbody>\n",
       "</table>\n",
       "</div>"
      ],
      "text/plain": [
       "       support                                           itemsets   tn   fp  \\\n",
       "2250  0.042391  (age=[36-56], occupation=Professional, marital...  149  298   \n",
       "\n",
       "       fn    tp  length  support_count       fpr     d_fpr  t_value_fp  \n",
       "2250  192  1278       3         1917.0  0.666667  0.588552   26.379188  "
      ]
     },
     "metadata": {},
     "output_type": "display_data"
    },
    {
     "name": "stdout",
     "output_type": "stream",
     "text": [
      "generalized\n"
     ]
    },
    {
     "data": {
      "text/html": [
       "<div>\n",
       "<style scoped>\n",
       "    .dataframe tbody tr th:only-of-type {\n",
       "        vertical-align: middle;\n",
       "    }\n",
       "\n",
       "    .dataframe tbody tr th {\n",
       "        vertical-align: top;\n",
       "    }\n",
       "\n",
       "    .dataframe thead th {\n",
       "        text-align: right;\n",
       "    }\n",
       "</style>\n",
       "<table border=\"1\" class=\"dataframe\">\n",
       "  <thead>\n",
       "    <tr style=\"text-align: right;\">\n",
       "      <th></th>\n",
       "      <th>support</th>\n",
       "      <th>itemsets</th>\n",
       "      <th>tn</th>\n",
       "      <th>fp</th>\n",
       "      <th>fn</th>\n",
       "      <th>tp</th>\n",
       "      <th>length</th>\n",
       "      <th>support_count</th>\n",
       "      <th>fpr</th>\n",
       "      <th>d_fpr</th>\n",
       "      <th>t_value_fp</th>\n",
       "    </tr>\n",
       "  </thead>\n",
       "  <tbody>\n",
       "    <tr>\n",
       "      <th>4400</th>\n",
       "      <td>0.042391</td>\n",
       "      <td>(age=[36-56], occupation=Professional, marital...</td>\n",
       "      <td>149</td>\n",
       "      <td>298</td>\n",
       "      <td>192</td>\n",
       "      <td>1278</td>\n",
       "      <td>3</td>\n",
       "      <td>1917.0</td>\n",
       "      <td>0.666667</td>\n",
       "      <td>0.588552</td>\n",
       "      <td>26.379188</td>\n",
       "    </tr>\n",
       "  </tbody>\n",
       "</table>\n",
       "</div>"
      ],
      "text/plain": [
       "       support                                           itemsets   tn   fp  \\\n",
       "4400  0.042391  (age=[36-56], occupation=Professional, marital...  149  298   \n",
       "\n",
       "       fn    tp  length  support_count       fpr     d_fpr  t_value_fp  \n",
       "4400  192  1278       3         1917.0  0.666667  0.588552   26.379188  "
      ]
     },
     "metadata": {},
     "output_type": "display_data"
    },
    {
     "name": "stdout",
     "output_type": "stream",
     "text": [
      "0.05\n",
      "base_pruned\n"
     ]
    },
    {
     "data": {
      "text/html": [
       "<div>\n",
       "<style scoped>\n",
       "    .dataframe tbody tr th:only-of-type {\n",
       "        vertical-align: middle;\n",
       "    }\n",
       "\n",
       "    .dataframe tbody tr th {\n",
       "        vertical-align: top;\n",
       "    }\n",
       "\n",
       "    .dataframe thead th {\n",
       "        text-align: right;\n",
       "    }\n",
       "</style>\n",
       "<table border=\"1\" class=\"dataframe\">\n",
       "  <thead>\n",
       "    <tr style=\"text-align: right;\">\n",
       "      <th></th>\n",
       "      <th>support</th>\n",
       "      <th>itemsets</th>\n",
       "      <th>tn</th>\n",
       "      <th>fp</th>\n",
       "      <th>fn</th>\n",
       "      <th>tp</th>\n",
       "      <th>length</th>\n",
       "      <th>support_count</th>\n",
       "      <th>fpr</th>\n",
       "      <th>d_fpr</th>\n",
       "      <th>t_value_fp</th>\n",
       "    </tr>\n",
       "  </thead>\n",
       "  <tbody>\n",
       "    <tr>\n",
       "      <th>448</th>\n",
       "      <td>0.061674</td>\n",
       "      <td>(race=White, occupation=Professional, marital-...</td>\n",
       "      <td>357</td>\n",
       "      <td>435</td>\n",
       "      <td>317</td>\n",
       "      <td>1680</td>\n",
       "      <td>3</td>\n",
       "      <td>2789.0</td>\n",
       "      <td>0.549242</td>\n",
       "      <td>0.471128</td>\n",
       "      <td>26.598005</td>\n",
       "    </tr>\n",
       "  </tbody>\n",
       "</table>\n",
       "</div>"
      ],
      "text/plain": [
       "      support                                           itemsets   tn   fp  \\\n",
       "448  0.061674  (race=White, occupation=Professional, marital-...  357  435   \n",
       "\n",
       "      fn    tp  length  support_count       fpr     d_fpr  t_value_fp  \n",
       "448  317  1680       3         2789.0  0.549242  0.471128   26.598005  "
      ]
     },
     "metadata": {},
     "output_type": "display_data"
    },
    {
     "name": "stdout",
     "output_type": "stream",
     "text": [
      "base\n"
     ]
    },
    {
     "data": {
      "text/html": [
       "<div>\n",
       "<style scoped>\n",
       "    .dataframe tbody tr th:only-of-type {\n",
       "        vertical-align: middle;\n",
       "    }\n",
       "\n",
       "    .dataframe tbody tr th {\n",
       "        vertical-align: top;\n",
       "    }\n",
       "\n",
       "    .dataframe thead th {\n",
       "        text-align: right;\n",
       "    }\n",
       "</style>\n",
       "<table border=\"1\" class=\"dataframe\">\n",
       "  <thead>\n",
       "    <tr style=\"text-align: right;\">\n",
       "      <th></th>\n",
       "      <th>support</th>\n",
       "      <th>itemsets</th>\n",
       "      <th>tn</th>\n",
       "      <th>fp</th>\n",
       "      <th>fn</th>\n",
       "      <th>tp</th>\n",
       "      <th>length</th>\n",
       "      <th>support_count</th>\n",
       "      <th>fpr</th>\n",
       "      <th>d_fpr</th>\n",
       "      <th>t_value_fp</th>\n",
       "    </tr>\n",
       "  </thead>\n",
       "  <tbody>\n",
       "    <tr>\n",
       "      <th>659</th>\n",
       "      <td>0.061674</td>\n",
       "      <td>(race=White, occupation=Professional, marital-...</td>\n",
       "      <td>357</td>\n",
       "      <td>435</td>\n",
       "      <td>317</td>\n",
       "      <td>1680</td>\n",
       "      <td>3</td>\n",
       "      <td>2789.0</td>\n",
       "      <td>0.549242</td>\n",
       "      <td>0.471128</td>\n",
       "      <td>26.598005</td>\n",
       "    </tr>\n",
       "  </tbody>\n",
       "</table>\n",
       "</div>"
      ],
      "text/plain": [
       "      support                                           itemsets   tn   fp  \\\n",
       "659  0.061674  (race=White, occupation=Professional, marital-...  357  435   \n",
       "\n",
       "      fn    tp  length  support_count       fpr     d_fpr  t_value_fp  \n",
       "659  317  1680       3         2789.0  0.549242  0.471128   26.598005  "
      ]
     },
     "metadata": {},
     "output_type": "display_data"
    },
    {
     "name": "stdout",
     "output_type": "stream",
     "text": [
      "generalized_pruned\n"
     ]
    },
    {
     "data": {
      "text/html": [
       "<div>\n",
       "<style scoped>\n",
       "    .dataframe tbody tr th:only-of-type {\n",
       "        vertical-align: middle;\n",
       "    }\n",
       "\n",
       "    .dataframe tbody tr th {\n",
       "        vertical-align: top;\n",
       "    }\n",
       "\n",
       "    .dataframe thead th {\n",
       "        text-align: right;\n",
       "    }\n",
       "</style>\n",
       "<table border=\"1\" class=\"dataframe\">\n",
       "  <thead>\n",
       "    <tr style=\"text-align: right;\">\n",
       "      <th></th>\n",
       "      <th>support</th>\n",
       "      <th>itemsets</th>\n",
       "      <th>tn</th>\n",
       "      <th>fp</th>\n",
       "      <th>fn</th>\n",
       "      <th>tp</th>\n",
       "      <th>length</th>\n",
       "      <th>support_count</th>\n",
       "      <th>fpr</th>\n",
       "      <th>d_fpr</th>\n",
       "      <th>t_value_fp</th>\n",
       "    </tr>\n",
       "  </thead>\n",
       "  <tbody>\n",
       "    <tr>\n",
       "      <th>1722</th>\n",
       "      <td>0.051059</td>\n",
       "      <td>(age=[36-56], education=Bachelors, marital-sta...</td>\n",
       "      <td>229</td>\n",
       "      <td>391</td>\n",
       "      <td>243</td>\n",
       "      <td>1446</td>\n",
       "      <td>3</td>\n",
       "      <td>2309.0</td>\n",
       "      <td>0.630645</td>\n",
       "      <td>0.55253</td>\n",
       "      <td>28.464784</td>\n",
       "    </tr>\n",
       "  </tbody>\n",
       "</table>\n",
       "</div>"
      ],
      "text/plain": [
       "       support                                           itemsets   tn   fp  \\\n",
       "1722  0.051059  (age=[36-56], education=Bachelors, marital-sta...  229  391   \n",
       "\n",
       "       fn    tp  length  support_count       fpr    d_fpr  t_value_fp  \n",
       "1722  243  1446       3         2309.0  0.630645  0.55253   28.464784  "
      ]
     },
     "metadata": {},
     "output_type": "display_data"
    },
    {
     "name": "stdout",
     "output_type": "stream",
     "text": [
      "generalized\n"
     ]
    },
    {
     "data": {
      "text/html": [
       "<div>\n",
       "<style scoped>\n",
       "    .dataframe tbody tr th:only-of-type {\n",
       "        vertical-align: middle;\n",
       "    }\n",
       "\n",
       "    .dataframe tbody tr th {\n",
       "        vertical-align: top;\n",
       "    }\n",
       "\n",
       "    .dataframe thead th {\n",
       "        text-align: right;\n",
       "    }\n",
       "</style>\n",
       "<table border=\"1\" class=\"dataframe\">\n",
       "  <thead>\n",
       "    <tr style=\"text-align: right;\">\n",
       "      <th></th>\n",
       "      <th>support</th>\n",
       "      <th>itemsets</th>\n",
       "      <th>tn</th>\n",
       "      <th>fp</th>\n",
       "      <th>fn</th>\n",
       "      <th>tp</th>\n",
       "      <th>length</th>\n",
       "      <th>support_count</th>\n",
       "      <th>fpr</th>\n",
       "      <th>d_fpr</th>\n",
       "      <th>t_value_fp</th>\n",
       "    </tr>\n",
       "  </thead>\n",
       "  <tbody>\n",
       "    <tr>\n",
       "      <th>3361</th>\n",
       "      <td>0.051059</td>\n",
       "      <td>(age=[36-56], education=Bachelors, marital-sta...</td>\n",
       "      <td>229</td>\n",
       "      <td>391</td>\n",
       "      <td>243</td>\n",
       "      <td>1446</td>\n",
       "      <td>3</td>\n",
       "      <td>2309.0</td>\n",
       "      <td>0.630645</td>\n",
       "      <td>0.55253</td>\n",
       "      <td>28.464784</td>\n",
       "    </tr>\n",
       "  </tbody>\n",
       "</table>\n",
       "</div>"
      ],
      "text/plain": [
       "       support                                           itemsets   tn   fp  \\\n",
       "3361  0.051059  (age=[36-56], education=Bachelors, marital-sta...  229  391   \n",
       "\n",
       "       fn    tp  length  support_count       fpr    d_fpr  t_value_fp  \n",
       "3361  243  1446       3         2309.0  0.630645  0.55253   28.464784  "
      ]
     },
     "metadata": {},
     "output_type": "display_data"
    },
    {
     "name": "stdout",
     "output_type": "stream",
     "text": [
      "0.1\n",
      "base_pruned\n"
     ]
    },
    {
     "data": {
      "text/html": [
       "<div>\n",
       "<style scoped>\n",
       "    .dataframe tbody tr th:only-of-type {\n",
       "        vertical-align: middle;\n",
       "    }\n",
       "\n",
       "    .dataframe tbody tr th {\n",
       "        vertical-align: top;\n",
       "    }\n",
       "\n",
       "    .dataframe thead th {\n",
       "        text-align: right;\n",
       "    }\n",
       "</style>\n",
       "<table border=\"1\" class=\"dataframe\">\n",
       "  <thead>\n",
       "    <tr style=\"text-align: right;\">\n",
       "      <th></th>\n",
       "      <th>support</th>\n",
       "      <th>itemsets</th>\n",
       "      <th>tn</th>\n",
       "      <th>fp</th>\n",
       "      <th>fn</th>\n",
       "      <th>tp</th>\n",
       "      <th>length</th>\n",
       "      <th>support_count</th>\n",
       "      <th>fpr</th>\n",
       "      <th>d_fpr</th>\n",
       "      <th>t_value_fp</th>\n",
       "    </tr>\n",
       "  </thead>\n",
       "  <tbody>\n",
       "    <tr>\n",
       "      <th>215</th>\n",
       "      <td>0.10245</td>\n",
       "      <td>(race=White, relationship=Husband, hours-per-w...</td>\n",
       "      <td>1396</td>\n",
       "      <td>633</td>\n",
       "      <td>697</td>\n",
       "      <td>1907</td>\n",
       "      <td>3</td>\n",
       "      <td>4633.0</td>\n",
       "      <td>0.311976</td>\n",
       "      <td>0.233861</td>\n",
       "      <td>22.54118</td>\n",
       "    </tr>\n",
       "  </tbody>\n",
       "</table>\n",
       "</div>"
      ],
      "text/plain": [
       "     support                                           itemsets    tn   fp  \\\n",
       "215  0.10245  (race=White, relationship=Husband, hours-per-w...  1396  633   \n",
       "\n",
       "      fn    tp  length  support_count       fpr     d_fpr  t_value_fp  \n",
       "215  697  1907       3         4633.0  0.311976  0.233861    22.54118  "
      ]
     },
     "metadata": {},
     "output_type": "display_data"
    },
    {
     "name": "stdout",
     "output_type": "stream",
     "text": [
      "base\n"
     ]
    },
    {
     "data": {
      "text/html": [
       "<div>\n",
       "<style scoped>\n",
       "    .dataframe tbody tr th:only-of-type {\n",
       "        vertical-align: middle;\n",
       "    }\n",
       "\n",
       "    .dataframe tbody tr th {\n",
       "        vertical-align: top;\n",
       "    }\n",
       "\n",
       "    .dataframe thead th {\n",
       "        text-align: right;\n",
       "    }\n",
       "</style>\n",
       "<table border=\"1\" class=\"dataframe\">\n",
       "  <thead>\n",
       "    <tr style=\"text-align: right;\">\n",
       "      <th></th>\n",
       "      <th>support</th>\n",
       "      <th>itemsets</th>\n",
       "      <th>tn</th>\n",
       "      <th>fp</th>\n",
       "      <th>fn</th>\n",
       "      <th>tp</th>\n",
       "      <th>length</th>\n",
       "      <th>support_count</th>\n",
       "      <th>fpr</th>\n",
       "      <th>d_fpr</th>\n",
       "      <th>t_value_fp</th>\n",
       "    </tr>\n",
       "  </thead>\n",
       "  <tbody>\n",
       "    <tr>\n",
       "      <th>297</th>\n",
       "      <td>0.10245</td>\n",
       "      <td>(race=White, relationship=Husband, hours-per-w...</td>\n",
       "      <td>1396</td>\n",
       "      <td>633</td>\n",
       "      <td>697</td>\n",
       "      <td>1907</td>\n",
       "      <td>3</td>\n",
       "      <td>4633.0</td>\n",
       "      <td>0.311976</td>\n",
       "      <td>0.233861</td>\n",
       "      <td>22.54118</td>\n",
       "    </tr>\n",
       "  </tbody>\n",
       "</table>\n",
       "</div>"
      ],
      "text/plain": [
       "     support                                           itemsets    tn   fp  \\\n",
       "297  0.10245  (race=White, relationship=Husband, hours-per-w...  1396  633   \n",
       "\n",
       "      fn    tp  length  support_count       fpr     d_fpr  t_value_fp  \n",
       "297  697  1907       3         4633.0  0.311976  0.233861    22.54118  "
      ]
     },
     "metadata": {},
     "output_type": "display_data"
    },
    {
     "name": "stdout",
     "output_type": "stream",
     "text": [
      "generalized_pruned\n"
     ]
    },
    {
     "data": {
      "text/html": [
       "<div>\n",
       "<style scoped>\n",
       "    .dataframe tbody tr th:only-of-type {\n",
       "        vertical-align: middle;\n",
       "    }\n",
       "\n",
       "    .dataframe tbody tr th {\n",
       "        vertical-align: top;\n",
       "    }\n",
       "\n",
       "    .dataframe thead th {\n",
       "        text-align: right;\n",
       "    }\n",
       "</style>\n",
       "<table border=\"1\" class=\"dataframe\">\n",
       "  <thead>\n",
       "    <tr style=\"text-align: right;\">\n",
       "      <th></th>\n",
       "      <th>support</th>\n",
       "      <th>itemsets</th>\n",
       "      <th>tn</th>\n",
       "      <th>fp</th>\n",
       "      <th>fn</th>\n",
       "      <th>tp</th>\n",
       "      <th>length</th>\n",
       "      <th>support_count</th>\n",
       "      <th>fpr</th>\n",
       "      <th>d_fpr</th>\n",
       "      <th>t_value_fp</th>\n",
       "    </tr>\n",
       "  </thead>\n",
       "  <tbody>\n",
       "    <tr>\n",
       "      <th>622</th>\n",
       "      <td>0.102096</td>\n",
       "      <td>(hours-per-week=&gt;=41, race=White, relationship...</td>\n",
       "      <td>1060</td>\n",
       "      <td>700</td>\n",
       "      <td>677</td>\n",
       "      <td>2180</td>\n",
       "      <td>4</td>\n",
       "      <td>4617.0</td>\n",
       "      <td>0.397727</td>\n",
       "      <td>0.319612</td>\n",
       "      <td>27.214797</td>\n",
       "    </tr>\n",
       "  </tbody>\n",
       "</table>\n",
       "</div>"
      ],
      "text/plain": [
       "      support                                           itemsets    tn   fp  \\\n",
       "622  0.102096  (hours-per-week=>=41, race=White, relationship...  1060  700   \n",
       "\n",
       "      fn    tp  length  support_count       fpr     d_fpr  t_value_fp  \n",
       "622  677  2180       4         4617.0  0.397727  0.319612   27.214797  "
      ]
     },
     "metadata": {},
     "output_type": "display_data"
    },
    {
     "name": "stdout",
     "output_type": "stream",
     "text": [
      "generalized\n"
     ]
    },
    {
     "data": {
      "text/html": [
       "<div>\n",
       "<style scoped>\n",
       "    .dataframe tbody tr th:only-of-type {\n",
       "        vertical-align: middle;\n",
       "    }\n",
       "\n",
       "    .dataframe tbody tr th {\n",
       "        vertical-align: top;\n",
       "    }\n",
       "\n",
       "    .dataframe thead th {\n",
       "        text-align: right;\n",
       "    }\n",
       "</style>\n",
       "<table border=\"1\" class=\"dataframe\">\n",
       "  <thead>\n",
       "    <tr style=\"text-align: right;\">\n",
       "      <th></th>\n",
       "      <th>support</th>\n",
       "      <th>itemsets</th>\n",
       "      <th>tn</th>\n",
       "      <th>fp</th>\n",
       "      <th>fn</th>\n",
       "      <th>tp</th>\n",
       "      <th>length</th>\n",
       "      <th>support_count</th>\n",
       "      <th>fpr</th>\n",
       "      <th>d_fpr</th>\n",
       "      <th>t_value_fp</th>\n",
       "    </tr>\n",
       "  </thead>\n",
       "  <tbody>\n",
       "    <tr>\n",
       "      <th>1081</th>\n",
       "      <td>0.102096</td>\n",
       "      <td>(hours-per-week=&gt;=41, race=White, relationship...</td>\n",
       "      <td>1060</td>\n",
       "      <td>700</td>\n",
       "      <td>677</td>\n",
       "      <td>2180</td>\n",
       "      <td>4</td>\n",
       "      <td>4617.0</td>\n",
       "      <td>0.397727</td>\n",
       "      <td>0.319612</td>\n",
       "      <td>27.214797</td>\n",
       "    </tr>\n",
       "  </tbody>\n",
       "</table>\n",
       "</div>"
      ],
      "text/plain": [
       "       support                                           itemsets    tn   fp  \\\n",
       "1081  0.102096  (hours-per-week=>=41, race=White, relationship...  1060  700   \n",
       "\n",
       "       fn    tp  length  support_count       fpr     d_fpr  t_value_fp  \n",
       "1081  677  2180       4         4617.0  0.397727  0.319612   27.214797  "
      ]
     },
     "metadata": {},
     "output_type": "display_data"
    },
    {
     "name": "stdout",
     "output_type": "stream",
     "text": [
      "0.15\n",
      "base_pruned\n"
     ]
    },
    {
     "data": {
      "text/html": [
       "<div>\n",
       "<style scoped>\n",
       "    .dataframe tbody tr th:only-of-type {\n",
       "        vertical-align: middle;\n",
       "    }\n",
       "\n",
       "    .dataframe tbody tr th {\n",
       "        vertical-align: top;\n",
       "    }\n",
       "\n",
       "    .dataframe thead th {\n",
       "        text-align: right;\n",
       "    }\n",
       "</style>\n",
       "<table border=\"1\" class=\"dataframe\">\n",
       "  <thead>\n",
       "    <tr style=\"text-align: right;\">\n",
       "      <th></th>\n",
       "      <th>support</th>\n",
       "      <th>itemsets</th>\n",
       "      <th>tn</th>\n",
       "      <th>fp</th>\n",
       "      <th>fn</th>\n",
       "      <th>tp</th>\n",
       "      <th>length</th>\n",
       "      <th>support_count</th>\n",
       "      <th>fpr</th>\n",
       "      <th>d_fpr</th>\n",
       "      <th>t_value_fp</th>\n",
       "    </tr>\n",
       "  </thead>\n",
       "  <tbody>\n",
       "    <tr>\n",
       "      <th>11</th>\n",
       "      <td>0.419707</td>\n",
       "      <td>(race=White, marital-status=Married)</td>\n",
       "      <td>8047</td>\n",
       "      <td>2172</td>\n",
       "      <td>2925</td>\n",
       "      <td>5836</td>\n",
       "      <td>2</td>\n",
       "      <td>18980.0</td>\n",
       "      <td>0.212545</td>\n",
       "      <td>0.13443</td>\n",
       "      <td>31.266608</td>\n",
       "    </tr>\n",
       "  </tbody>\n",
       "</table>\n",
       "</div>"
      ],
      "text/plain": [
       "     support                              itemsets    tn    fp    fn    tp  \\\n",
       "11  0.419707  (race=White, marital-status=Married)  8047  2172  2925  5836   \n",
       "\n",
       "    length  support_count       fpr    d_fpr  t_value_fp  \n",
       "11       2        18980.0  0.212545  0.13443   31.266608  "
      ]
     },
     "metadata": {},
     "output_type": "display_data"
    },
    {
     "name": "stdout",
     "output_type": "stream",
     "text": [
      "base\n"
     ]
    },
    {
     "data": {
      "text/html": [
       "<div>\n",
       "<style scoped>\n",
       "    .dataframe tbody tr th:only-of-type {\n",
       "        vertical-align: middle;\n",
       "    }\n",
       "\n",
       "    .dataframe tbody tr th {\n",
       "        vertical-align: top;\n",
       "    }\n",
       "\n",
       "    .dataframe thead th {\n",
       "        text-align: right;\n",
       "    }\n",
       "</style>\n",
       "<table border=\"1\" class=\"dataframe\">\n",
       "  <thead>\n",
       "    <tr style=\"text-align: right;\">\n",
       "      <th></th>\n",
       "      <th>support</th>\n",
       "      <th>itemsets</th>\n",
       "      <th>tn</th>\n",
       "      <th>fp</th>\n",
       "      <th>fn</th>\n",
       "      <th>tp</th>\n",
       "      <th>length</th>\n",
       "      <th>support_count</th>\n",
       "      <th>fpr</th>\n",
       "      <th>d_fpr</th>\n",
       "      <th>t_value_fp</th>\n",
       "    </tr>\n",
       "  </thead>\n",
       "  <tbody>\n",
       "    <tr>\n",
       "      <th>12</th>\n",
       "      <td>0.419707</td>\n",
       "      <td>(race=White, marital-status=Married)</td>\n",
       "      <td>8047</td>\n",
       "      <td>2172</td>\n",
       "      <td>2925</td>\n",
       "      <td>5836</td>\n",
       "      <td>2</td>\n",
       "      <td>18980.0</td>\n",
       "      <td>0.212545</td>\n",
       "      <td>0.13443</td>\n",
       "      <td>31.266608</td>\n",
       "    </tr>\n",
       "  </tbody>\n",
       "</table>\n",
       "</div>"
      ],
      "text/plain": [
       "     support                              itemsets    tn    fp    fn    tp  \\\n",
       "12  0.419707  (race=White, marital-status=Married)  8047  2172  2925  5836   \n",
       "\n",
       "    length  support_count       fpr    d_fpr  t_value_fp  \n",
       "12       2        18980.0  0.212545  0.13443   31.266608  "
      ]
     },
     "metadata": {},
     "output_type": "display_data"
    },
    {
     "name": "stdout",
     "output_type": "stream",
     "text": [
      "generalized_pruned\n"
     ]
    },
    {
     "data": {
      "text/html": [
       "<div>\n",
       "<style scoped>\n",
       "    .dataframe tbody tr th:only-of-type {\n",
       "        vertical-align: middle;\n",
       "    }\n",
       "\n",
       "    .dataframe tbody tr th {\n",
       "        vertical-align: top;\n",
       "    }\n",
       "\n",
       "    .dataframe thead th {\n",
       "        text-align: right;\n",
       "    }\n",
       "</style>\n",
       "<table border=\"1\" class=\"dataframe\">\n",
       "  <thead>\n",
       "    <tr style=\"text-align: right;\">\n",
       "      <th></th>\n",
       "      <th>support</th>\n",
       "      <th>itemsets</th>\n",
       "      <th>tn</th>\n",
       "      <th>fp</th>\n",
       "      <th>fn</th>\n",
       "      <th>tp</th>\n",
       "      <th>length</th>\n",
       "      <th>support_count</th>\n",
       "      <th>fpr</th>\n",
       "      <th>d_fpr</th>\n",
       "      <th>t_value_fp</th>\n",
       "    </tr>\n",
       "  </thead>\n",
       "  <tbody>\n",
       "    <tr>\n",
       "      <th>286</th>\n",
       "      <td>0.15634</td>\n",
       "      <td>(hours-per-week=&gt;=41, relationship=Husband, ag...</td>\n",
       "      <td>1983</td>\n",
       "      <td>1018</td>\n",
       "      <td>1068</td>\n",
       "      <td>3001</td>\n",
       "      <td>4</td>\n",
       "      <td>7070.0</td>\n",
       "      <td>0.33922</td>\n",
       "      <td>0.261105</td>\n",
       "      <td>29.814274</td>\n",
       "    </tr>\n",
       "  </tbody>\n",
       "</table>\n",
       "</div>"
      ],
      "text/plain": [
       "     support                                           itemsets    tn    fp  \\\n",
       "286  0.15634  (hours-per-week=>=41, relationship=Husband, ag...  1983  1018   \n",
       "\n",
       "       fn    tp  length  support_count      fpr     d_fpr  t_value_fp  \n",
       "286  1068  3001       4         7070.0  0.33922  0.261105   29.814274  "
      ]
     },
     "metadata": {},
     "output_type": "display_data"
    },
    {
     "name": "stdout",
     "output_type": "stream",
     "text": [
      "generalized\n"
     ]
    },
    {
     "data": {
      "text/html": [
       "<div>\n",
       "<style scoped>\n",
       "    .dataframe tbody tr th:only-of-type {\n",
       "        vertical-align: middle;\n",
       "    }\n",
       "\n",
       "    .dataframe tbody tr th {\n",
       "        vertical-align: top;\n",
       "    }\n",
       "\n",
       "    .dataframe thead th {\n",
       "        text-align: right;\n",
       "    }\n",
       "</style>\n",
       "<table border=\"1\" class=\"dataframe\">\n",
       "  <thead>\n",
       "    <tr style=\"text-align: right;\">\n",
       "      <th></th>\n",
       "      <th>support</th>\n",
       "      <th>itemsets</th>\n",
       "      <th>tn</th>\n",
       "      <th>fp</th>\n",
       "      <th>fn</th>\n",
       "      <th>tp</th>\n",
       "      <th>length</th>\n",
       "      <th>support_count</th>\n",
       "      <th>fpr</th>\n",
       "      <th>d_fpr</th>\n",
       "      <th>t_value_fp</th>\n",
       "    </tr>\n",
       "  </thead>\n",
       "  <tbody>\n",
       "    <tr>\n",
       "      <th>465</th>\n",
       "      <td>0.15634</td>\n",
       "      <td>(hours-per-week=&gt;=41, relationship=Husband, ag...</td>\n",
       "      <td>1983</td>\n",
       "      <td>1018</td>\n",
       "      <td>1068</td>\n",
       "      <td>3001</td>\n",
       "      <td>4</td>\n",
       "      <td>7070.0</td>\n",
       "      <td>0.33922</td>\n",
       "      <td>0.261105</td>\n",
       "      <td>29.814274</td>\n",
       "    </tr>\n",
       "  </tbody>\n",
       "</table>\n",
       "</div>"
      ],
      "text/plain": [
       "     support                                           itemsets    tn    fp  \\\n",
       "465  0.15634  (hours-per-week=>=41, relationship=Husband, ag...  1983  1018   \n",
       "\n",
       "       fn    tp  length  support_count      fpr     d_fpr  t_value_fp  \n",
       "465  1068  3001       4         7070.0  0.33922  0.261105   29.814274  "
      ]
     },
     "metadata": {},
     "output_type": "display_data"
    },
    {
     "name": "stdout",
     "output_type": "stream",
     "text": [
      "0.2\n",
      "base_pruned\n"
     ]
    },
    {
     "data": {
      "text/html": [
       "<div>\n",
       "<style scoped>\n",
       "    .dataframe tbody tr th:only-of-type {\n",
       "        vertical-align: middle;\n",
       "    }\n",
       "\n",
       "    .dataframe tbody tr th {\n",
       "        vertical-align: top;\n",
       "    }\n",
       "\n",
       "    .dataframe thead th {\n",
       "        text-align: right;\n",
       "    }\n",
       "</style>\n",
       "<table border=\"1\" class=\"dataframe\">\n",
       "  <thead>\n",
       "    <tr style=\"text-align: right;\">\n",
       "      <th></th>\n",
       "      <th>support</th>\n",
       "      <th>itemsets</th>\n",
       "      <th>tn</th>\n",
       "      <th>fp</th>\n",
       "      <th>fn</th>\n",
       "      <th>tp</th>\n",
       "      <th>length</th>\n",
       "      <th>support_count</th>\n",
       "      <th>fpr</th>\n",
       "      <th>d_fpr</th>\n",
       "      <th>t_value_fp</th>\n",
       "    </tr>\n",
       "  </thead>\n",
       "  <tbody>\n",
       "    <tr>\n",
       "      <th>11</th>\n",
       "      <td>0.419707</td>\n",
       "      <td>(race=White, marital-status=Married)</td>\n",
       "      <td>8047</td>\n",
       "      <td>2172</td>\n",
       "      <td>2925</td>\n",
       "      <td>5836</td>\n",
       "      <td>2</td>\n",
       "      <td>18980.0</td>\n",
       "      <td>0.212545</td>\n",
       "      <td>0.13443</td>\n",
       "      <td>31.266608</td>\n",
       "    </tr>\n",
       "  </tbody>\n",
       "</table>\n",
       "</div>"
      ],
      "text/plain": [
       "     support                              itemsets    tn    fp    fn    tp  \\\n",
       "11  0.419707  (race=White, marital-status=Married)  8047  2172  2925  5836   \n",
       "\n",
       "    length  support_count       fpr    d_fpr  t_value_fp  \n",
       "11       2        18980.0  0.212545  0.13443   31.266608  "
      ]
     },
     "metadata": {},
     "output_type": "display_data"
    },
    {
     "name": "stdout",
     "output_type": "stream",
     "text": [
      "base\n"
     ]
    },
    {
     "data": {
      "text/html": [
       "<div>\n",
       "<style scoped>\n",
       "    .dataframe tbody tr th:only-of-type {\n",
       "        vertical-align: middle;\n",
       "    }\n",
       "\n",
       "    .dataframe tbody tr th {\n",
       "        vertical-align: top;\n",
       "    }\n",
       "\n",
       "    .dataframe thead th {\n",
       "        text-align: right;\n",
       "    }\n",
       "</style>\n",
       "<table border=\"1\" class=\"dataframe\">\n",
       "  <thead>\n",
       "    <tr style=\"text-align: right;\">\n",
       "      <th></th>\n",
       "      <th>support</th>\n",
       "      <th>itemsets</th>\n",
       "      <th>tn</th>\n",
       "      <th>fp</th>\n",
       "      <th>fn</th>\n",
       "      <th>tp</th>\n",
       "      <th>length</th>\n",
       "      <th>support_count</th>\n",
       "      <th>fpr</th>\n",
       "      <th>d_fpr</th>\n",
       "      <th>t_value_fp</th>\n",
       "    </tr>\n",
       "  </thead>\n",
       "  <tbody>\n",
       "    <tr>\n",
       "      <th>12</th>\n",
       "      <td>0.419707</td>\n",
       "      <td>(race=White, marital-status=Married)</td>\n",
       "      <td>8047</td>\n",
       "      <td>2172</td>\n",
       "      <td>2925</td>\n",
       "      <td>5836</td>\n",
       "      <td>2</td>\n",
       "      <td>18980.0</td>\n",
       "      <td>0.212545</td>\n",
       "      <td>0.13443</td>\n",
       "      <td>31.266608</td>\n",
       "    </tr>\n",
       "  </tbody>\n",
       "</table>\n",
       "</div>"
      ],
      "text/plain": [
       "     support                              itemsets    tn    fp    fn    tp  \\\n",
       "12  0.419707  (race=White, marital-status=Married)  8047  2172  2925  5836   \n",
       "\n",
       "    length  support_count       fpr    d_fpr  t_value_fp  \n",
       "12       2        18980.0  0.212545  0.13443   31.266608  "
      ]
     },
     "metadata": {},
     "output_type": "display_data"
    },
    {
     "name": "stdout",
     "output_type": "stream",
     "text": [
      "generalized_pruned\n"
     ]
    },
    {
     "data": {
      "text/html": [
       "<div>\n",
       "<style scoped>\n",
       "    .dataframe tbody tr th:only-of-type {\n",
       "        vertical-align: middle;\n",
       "    }\n",
       "\n",
       "    .dataframe tbody tr th {\n",
       "        vertical-align: top;\n",
       "    }\n",
       "\n",
       "    .dataframe thead th {\n",
       "        text-align: right;\n",
       "    }\n",
       "</style>\n",
       "<table border=\"1\" class=\"dataframe\">\n",
       "  <thead>\n",
       "    <tr style=\"text-align: right;\">\n",
       "      <th></th>\n",
       "      <th>support</th>\n",
       "      <th>itemsets</th>\n",
       "      <th>tn</th>\n",
       "      <th>fp</th>\n",
       "      <th>fn</th>\n",
       "      <th>tp</th>\n",
       "      <th>length</th>\n",
       "      <th>support_count</th>\n",
       "      <th>fpr</th>\n",
       "      <th>d_fpr</th>\n",
       "      <th>t_value_fp</th>\n",
       "    </tr>\n",
       "  </thead>\n",
       "  <tbody>\n",
       "    <tr>\n",
       "      <th>122</th>\n",
       "      <td>0.236411</td>\n",
       "      <td>(age=[36-56], race=White, marital-status=Married)</td>\n",
       "      <td>3482</td>\n",
       "      <td>1398</td>\n",
       "      <td>1706</td>\n",
       "      <td>4105</td>\n",
       "      <td>3</td>\n",
       "      <td>10691.0</td>\n",
       "      <td>0.286475</td>\n",
       "      <td>0.208361</td>\n",
       "      <td>31.425895</td>\n",
       "    </tr>\n",
       "  </tbody>\n",
       "</table>\n",
       "</div>"
      ],
      "text/plain": [
       "      support                                           itemsets    tn    fp  \\\n",
       "122  0.236411  (age=[36-56], race=White, marital-status=Married)  3482  1398   \n",
       "\n",
       "       fn    tp  length  support_count       fpr     d_fpr  t_value_fp  \n",
       "122  1706  4105       3        10691.0  0.286475  0.208361   31.425895  "
      ]
     },
     "metadata": {},
     "output_type": "display_data"
    },
    {
     "name": "stdout",
     "output_type": "stream",
     "text": [
      "generalized\n"
     ]
    },
    {
     "data": {
      "text/html": [
       "<div>\n",
       "<style scoped>\n",
       "    .dataframe tbody tr th:only-of-type {\n",
       "        vertical-align: middle;\n",
       "    }\n",
       "\n",
       "    .dataframe tbody tr th {\n",
       "        vertical-align: top;\n",
       "    }\n",
       "\n",
       "    .dataframe thead th {\n",
       "        text-align: right;\n",
       "    }\n",
       "</style>\n",
       "<table border=\"1\" class=\"dataframe\">\n",
       "  <thead>\n",
       "    <tr style=\"text-align: right;\">\n",
       "      <th></th>\n",
       "      <th>support</th>\n",
       "      <th>itemsets</th>\n",
       "      <th>tn</th>\n",
       "      <th>fp</th>\n",
       "      <th>fn</th>\n",
       "      <th>tp</th>\n",
       "      <th>length</th>\n",
       "      <th>support_count</th>\n",
       "      <th>fpr</th>\n",
       "      <th>d_fpr</th>\n",
       "      <th>t_value_fp</th>\n",
       "    </tr>\n",
       "  </thead>\n",
       "  <tbody>\n",
       "    <tr>\n",
       "      <th>169</th>\n",
       "      <td>0.236411</td>\n",
       "      <td>(age=[36-56], race=White, marital-status=Married)</td>\n",
       "      <td>3482</td>\n",
       "      <td>1398</td>\n",
       "      <td>1706</td>\n",
       "      <td>4105</td>\n",
       "      <td>3</td>\n",
       "      <td>10691.0</td>\n",
       "      <td>0.286475</td>\n",
       "      <td>0.208361</td>\n",
       "      <td>31.425895</td>\n",
       "    </tr>\n",
       "  </tbody>\n",
       "</table>\n",
       "</div>"
      ],
      "text/plain": [
       "      support                                           itemsets    tn    fp  \\\n",
       "169  0.236411  (age=[36-56], race=White, marital-status=Married)  3482  1398   \n",
       "\n",
       "       fn    tp  length  support_count       fpr     d_fpr  t_value_fp  \n",
       "169  1706  4105       3        10691.0  0.286475  0.208361   31.425895  "
      ]
     },
     "metadata": {},
     "output_type": "display_data"
    }
   ],
   "source": [
    "for k in out_support:\n",
    "    print(k)\n",
    "    for t_gen in out_support[k]:\n",
    "        print(t_gen)\n",
    "        display(out_support[k][t_gen])"
   ]
  },
  {
   "cell_type": "markdown",
   "id": "d3683a8e",
   "metadata": {},
   "source": [
    "# Plot results"
   ]
  },
  {
   "cell_type": "code",
   "execution_count": 32,
   "id": "e354de46",
   "metadata": {
    "ExecuteTime": {
     "end_time": "2022-12-21T16:27:36.365213Z",
     "start_time": "2022-12-21T16:27:36.338167Z"
    }
   },
   "outputs": [],
   "source": [
    "import os\n",
    "\n",
    "output_fig_dir = os.path.join(os.path.curdir, \"output_figures\", \"figures\", \"output_performance\")\n",
    "from pathlib import Path\n",
    "\n",
    "Path(output_fig_dir).mkdir(parents=True, exist_ok=True)"
   ]
  },
  {
   "cell_type": "code",
   "execution_count": 33,
   "id": "9217fe31",
   "metadata": {
    "ExecuteTime": {
     "end_time": "2022-12-21T16:27:36.699968Z",
     "start_time": "2022-12-21T16:27:36.671547Z"
    }
   },
   "outputs": [],
   "source": [
    "abbreviations = {\"one_at_time\":\"indiv t.\", \\\n",
    "                  \"divergence_criterion\":\"g$\\\\Delta$\", \"entropy\":\"entr\"}"
   ]
  },
  {
   "cell_type": "code",
   "execution_count": 34,
   "id": "30aa3f10",
   "metadata": {
    "ExecuteTime": {
     "end_time": "2022-12-21T16:27:37.218376Z",
     "start_time": "2022-12-21T16:27:37.188149Z"
    }
   },
   "outputs": [],
   "source": [
    "def abbreviateValue(value, abbreviations={}):\n",
    "    for k, v in abbreviations.items():\n",
    "        if k in value:\n",
    "            \n",
    "            value = value.replace(k, v)\n",
    "    #TODO\n",
    "    if value[0:2] not in [\"q_\", \"u_\"]:\n",
    "        value = value.replace(\"_\", \" \")\n",
    "    return value\n",
    "    \n",
    "def abbreviate_dict_value(input_dict, abbreviations):\n",
    "    \n",
    "    conv ={}\n",
    "    for k1, dict_i in input_dict.items():\n",
    "        conv[k1] = { abbreviateValue(k, abbreviations): d for k, d in dict_i.items()}\n",
    "    return conv"
   ]
  },
  {
   "cell_type": "code",
   "execution_count": 35,
   "id": "aed5fad6",
   "metadata": {
    "ExecuteTime": {
     "end_time": "2022-12-21T16:27:37.834843Z",
     "start_time": "2022-12-21T16:27:37.804241Z"
    }
   },
   "outputs": [
    {
     "name": "stdout",
     "output_type": "stream",
     "text": [
      "{'entr base': '#7fcc7f', 'g$\\\\Delta$ base': '#009900', 'entr generalized': 'mediumblue', 'g$\\\\Delta$ generalized': 'orangered', 'entr base pruned': 'yellow', 'g$\\\\Delta$ base pruned': '#C179EE', 'entr generalized pruned': 'gray', 'g$\\\\Delta$ generalized pruned': '#C01FB1'}\n"
     ]
    }
   ],
   "source": [
    "color_labels = {}\n",
    "    \n",
    "color_labels[abbreviateValue(f'entropy_base', abbreviations)]=\"#7fcc7f\"\n",
    "color_labels[abbreviateValue(f'divergence_criterion_base', abbreviations)]=\"#009900\"\n",
    "\n",
    "color_labels[abbreviateValue(f'entropy_generalized', abbreviations)]=\"mediumblue\"\n",
    "color_labels[abbreviateValue(f'divergence_criterion_generalized', abbreviations)]=\"orangered\"\n",
    "\n",
    "\n",
    "color_labels[abbreviateValue(f'entropy_base_pruned', abbreviations)]=\"yellow\"\n",
    "color_labels[abbreviateValue(f'divergence_criterion_base_pruned', abbreviations)]=\"#C179EE\"\n",
    "\n",
    "color_labels[abbreviateValue(f'entropy_generalized_pruned', abbreviations)]=\"gray\"\n",
    "color_labels[abbreviateValue(f'divergence_criterion_generalized_pruned', abbreviations)]=\"#C01FB1\"\n",
    "\n",
    "\n",
    "lines_style = {k:\"-\" for k in color_labels}\n",
    "print(color_labels)\n",
    "lines_style.update({k:\"--\" for k in color_labels if( \"base\" in k and abbreviations[\"entropy\"] in k)})\n",
    "lines_style.update({k:\"-.\" for k in color_labels if( 'base' in k and abbreviations[\"divergence_criterion\"] in k)})"
   ]
  },
  {
   "cell_type": "markdown",
   "id": "9af85590",
   "metadata": {},
   "source": [
    "## Plot time"
   ]
  },
  {
   "cell_type": "code",
   "execution_count": 36,
   "id": "ab2aa191",
   "metadata": {
    "ExecuteTime": {
     "end_time": "2022-12-21T16:27:40.281723Z",
     "start_time": "2022-12-21T16:27:39.072337Z"
    }
   },
   "outputs": [
    {
     "data": {
      "image/png": "[encoded data removed]",
      "text/plain": [
       "<Figure size 550x300 with 1 Axes>"
      ]
     },
     "metadata": {
      "needs_background": "light"
     },
     "output_type": "display_data"
    }
   ],
   "source": [
    "from utils_plot import plotDicts\n",
    "\n",
    "\n",
    "\n",
    "info_plot = {}\n",
    "for sup in out_time:\n",
    "    for type_gen in out_time[sup]:\n",
    "        type_gen_str = abbreviateValue(f\"{type_criterion}_{type_gen}\", abbreviations)\n",
    "        if type_gen_str not in info_plot:\n",
    "            info_plot[type_gen_str] = {}\n",
    "        info_plot[type_gen_str][sup] = out_time[sup][type_gen]\n",
    "        \n",
    "        \n",
    "size_fig = (5.5,3)\n",
    "\n",
    "\n",
    "info_i = \"time\"\n",
    "\n",
    "figure_name = os.path.join(output_fig_dir, f\"{dataset_name}_stree_{min_support_tree}_{metric}_{info_i}.pdf\")\n",
    "\n",
    "\n",
    "\n",
    "\n",
    "plotDicts(info_plot, marker=True, \\\n",
    "          title = 'Execution time', sizeFig=size_fig,\\\n",
    "                   linestyle=lines_style, color_labels=color_labels, \\\n",
    "          xlabel=\"Minimum support s\",  ylabel=\"Execution time $(seconds)$\", labelSize=10.2,\\\n",
    "         outside=True,  saveFig=True, nameFig = figure_name, legendSize=10.2)"
   ]
  },
  {
   "cell_type": "markdown",
   "id": "8f5e44bb",
   "metadata": {
    "ExecuteTime": {
     "end_time": "2022-12-19T15:18:23.428621Z",
     "start_time": "2022-12-19T15:18:23.396826Z"
    }
   },
   "source": [
    "## Plot max"
   ]
  },
  {
   "cell_type": "code",
   "execution_count": 37,
   "id": "ff1c62b4",
   "metadata": {
    "ExecuteTime": {
     "end_time": "2022-12-21T16:27:40.915158Z",
     "start_time": "2022-12-21T16:27:40.560909Z"
    },
    "scrolled": true
   },
   "outputs": [
    {
     "data": {
      "image/png": "[encoded data removed]",
      "text/plain": [
       "<Figure size 300x300 with 1 Axes>"
      ]
     },
     "metadata": {
      "needs_background": "light"
     },
     "output_type": "display_data"
    }
   ],
   "source": [
    "from utils_plot import plotDicts\n",
    "\n",
    "\n",
    "\n",
    "info_plot = {}\n",
    "for sup in out_support:\n",
    "\n",
    "    for type_gen in out_support[sup]:\n",
    "        type_gen_str = abbreviateValue(f\"{type_criterion}_{type_gen}\", abbreviations)\n",
    "        if type_gen_str not in info_plot:\n",
    "            info_plot[type_gen_str] = {}\n",
    "        info_plot[type_gen_str][sup] = out_support[sup][type_gen][metric].iloc[0]\n",
    "        \n",
    "        \n",
    "size_fig = (3,3)\n",
    "\n",
    "\n",
    "info_i = f\"max_{metric}\"\n",
    "\n",
    "figure_name = os.path.join(output_fig_dir, f\"{dataset_name}_stree_{min_support_tree}_{metric}_{info_i}.pdf\")\n",
    "\n",
    "\n",
    "\n",
    "\n",
    "plotDicts(info_plot, marker=True, \\\n",
    "          title=\"Highest $\\\\Delta_{FPR}$\" , sizeFig=size_fig,\n",
    "       #            linestyle=lines_style, color_labels=color_labels, \\\n",
    "          xlabel=\"Minimum support s\",  ylabel=\"Max $\\\\Delta_{FPR}$\", labelSize=10.2,\\\n",
    "         outside=True,  saveFig=True, nameFig = figure_name, legendSize=10.2)"
   ]
  },
  {
   "cell_type": "code",
   "execution_count": null,
   "id": "38be82d0",
   "metadata": {},
   "outputs": [],
   "source": []
  },
  {
   "cell_type": "markdown",
   "id": "50ec13a5",
   "metadata": {},
   "source": [
    "# Save results"
   ]
  },
  {
   "cell_type": "code",
   "execution_count": 344,
   "id": "35f7042f",
   "metadata": {
    "ExecuteTime": {
     "end_time": "2022-12-21T09:20:37.267854Z",
     "start_time": "2022-12-21T09:20:37.246416Z"
    }
   },
   "outputs": [],
   "source": [
    "save = True"
   ]
  },
  {
   "cell_type": "code",
   "execution_count": 36,
   "id": "3e2bf525",
   "metadata": {
    "ExecuteTime": {
     "end_time": "2022-12-21T09:20:37.407369Z",
     "start_time": "2022-12-21T09:20:37.269881Z"
    }
   },
   "outputs": [],
   "source": [
    "import os\n",
    "\n",
    "output_results = os.path.join(os.path.curdir, \"output_results\", 'performance')\n",
    "from pathlib import Path\n",
    "\n",
    "Path(output_results).mkdir(parents=True, exist_ok=True)"
   ]
  },
  {
   "cell_type": "code",
   "execution_count": 37,
   "id": "1d8fa2a0",
   "metadata": {
    "ExecuteTime": {
     "end_time": "2022-12-21T09:20:37.443670Z",
     "start_time": "2022-12-21T09:20:37.411029Z"
    }
   },
   "outputs": [],
   "source": [
    "if save:\n",
    "\n",
    "    import json\n",
    "    with open(os.path.join(output_results, f'{dataset_name}_{metric}_time.json'), 'w') as output_file:\n",
    "         output_file.write(json.dumps(out_time))\n",
    "\n",
    "\n",
    "    out_support_max = {}\n",
    "\n",
    "\n",
    "    for sup in sorted(out_support.keys()):\n",
    "        out_support_max[sup] = {}\n",
    "        for type_gen in out_support[sup]:\n",
    "            out_support_max[sup][type_gen] = out_support[sup][type_gen][metric].iloc[0]\n",
    "\n",
    "    with open(os.path.join(output_results, f'{dataset_name}_{metric}_div.json'), 'w') as output_file:\n",
    "         output_file.write(json.dumps(out_support_max))"
   ]
  }
 ],
 "metadata": {
  "kernelspec": {
   "display_name": "main-exp",
   "language": "python",
   "name": "main-exp"
  },
  "language_info": {
   "codemirror_mode": {
    "name": "ipython",
    "version": 3
   },
   "file_extension": ".py",
   "mimetype": "text/x-python",
   "name": "python",
   "nbconvert_exporter": "python",
   "pygments_lexer": "ipython3",
   "version": "3.7.9"
  },
  "toc": {
   "base_numbering": 1,
   "nav_menu": {},
   "number_sections": true,
   "sideBar": true,
   "skip_h1_title": false,
   "title_cell": "Table of Contents",
   "title_sidebar": "Contents",
   "toc_cell": false,
   "toc_position": {},
   "toc_section_display": true,
   "toc_window_display": true
  }
 },
 "nbformat": 4,
 "nbformat_minor": 5
}
