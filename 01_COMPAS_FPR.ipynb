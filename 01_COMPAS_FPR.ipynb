{
 "cells": [
  {
   "cell_type": "code",
   "execution_count": 1,
   "id": "46fdcc75",
   "metadata": {
    "ExecuteTime": {
     "end_time": "2022-01-22T08:43:06.679146Z",
     "start_time": "2022-01-22T08:43:06.660468Z"
    }
   },
   "outputs": [],
   "source": [
    "%load_ext autoreload\n",
    "%autoreload 2"
   ]
  },
  {
   "cell_type": "code",
   "execution_count": 2,
   "id": "ea0472d0",
   "metadata": {},
   "outputs": [],
   "source": [
    "import pandas as pd\n",
    "import numpy as np\n",
    "\n",
    "pd.set_option(\"display.max_colwidth\", None)"
   ]
  },
  {
   "cell_type": "code",
   "execution_count": 3,
   "id": "bb1913af",
   "metadata": {
    "ExecuteTime": {
     "end_time": "2022-01-22T08:43:07.091756Z",
     "start_time": "2022-01-22T08:43:07.078862Z"
    }
   },
   "outputs": [],
   "source": [
    "#out = {}\n",
    "out_support = {}"
   ]
  },
  {
   "cell_type": "code",
   "execution_count": 4,
   "id": "ddf5e70a",
   "metadata": {
    "ExecuteTime": {
     "end_time": "2022-01-22T08:43:07.118618Z",
     "start_time": "2022-01-22T08:43:07.109128Z"
    }
   },
   "outputs": [],
   "source": [
    "COL_info_detail = [\"itemsets\", \"support\", \"tn\", \"fp\", \"fn\", \"tp\"]\n",
    "\n",
    "COL_info = [\"itemsets\", \"support\"]"
   ]
  },
  {
   "cell_type": "markdown",
   "id": "bea0d75b",
   "metadata": {},
   "source": [
    "# Parameters"
   ]
  },
  {
   "cell_type": "code",
   "execution_count": 5,
   "id": "0b68edc0",
   "metadata": {
    "ExecuteTime": {
     "end_time": "2022-01-22T08:43:07.140720Z",
     "start_time": "2022-01-22T08:43:07.120438Z"
    }
   },
   "outputs": [],
   "source": [
    "K=3\n",
    "\n",
    "metric = \"d_fpr\"\n",
    "t_value_col = \"t_value_fp\"\n",
    "\n",
    "min_sup_divergence=0.05"
   ]
  },
  {
   "cell_type": "code",
   "execution_count": 6,
   "id": "4620f703",
   "metadata": {
    "ExecuteTime": {
     "end_time": "2022-01-22T08:43:07.162157Z",
     "start_time": "2022-01-22T08:43:07.143268Z"
    }
   },
   "outputs": [],
   "source": [
    "name_output_dir = \"output_compas\""
   ]
  },
  {
   "cell_type": "code",
   "execution_count": 7,
   "id": "db7a88e1",
   "metadata": {
    "ExecuteTime": {
     "end_time": "2022-01-22T08:43:07.183479Z",
     "start_time": "2022-01-22T08:43:07.164963Z"
    }
   },
   "outputs": [],
   "source": [
    "saveFig = False\n",
    "show_fig = False"
   ]
  },
  {
   "cell_type": "markdown",
   "id": "15cff3c3",
   "metadata": {},
   "source": [
    "# Dataset"
   ]
  },
  {
   "cell_type": "code",
   "execution_count": 8,
   "id": "72affc73",
   "metadata": {
    "ExecuteTime": {
     "end_time": "2022-01-22T08:43:07.435967Z",
     "start_time": "2022-01-22T08:43:07.186047Z"
    }
   },
   "outputs": [
    {
     "data": {
      "text/html": [
       "<div>\n",
       "<style scoped>\n",
       "    .dataframe tbody tr th:only-of-type {\n",
       "        vertical-align: middle;\n",
       "    }\n",
       "\n",
       "    .dataframe tbody tr th {\n",
       "        vertical-align: top;\n",
       "    }\n",
       "\n",
       "    .dataframe thead th {\n",
       "        text-align: right;\n",
       "    }\n",
       "</style>\n",
       "<table border=\"1\" class=\"dataframe\">\n",
       "  <thead>\n",
       "    <tr style=\"text-align: right;\">\n",
       "      <th></th>\n",
       "      <th>c_charge_degree</th>\n",
       "      <th>race</th>\n",
       "      <th>sex</th>\n",
       "      <th>age</th>\n",
       "      <th>priors_count</th>\n",
       "      <th>length_of_stay</th>\n",
       "      <th>class</th>\n",
       "      <th>predicted</th>\n",
       "    </tr>\n",
       "  </thead>\n",
       "  <tbody>\n",
       "    <tr>\n",
       "      <th>0</th>\n",
       "      <td>F</td>\n",
       "      <td>Other</td>\n",
       "      <td>Male</td>\n",
       "      <td>69</td>\n",
       "      <td>0</td>\n",
       "      <td>1.0</td>\n",
       "      <td>0</td>\n",
       "      <td>0</td>\n",
       "    </tr>\n",
       "    <tr>\n",
       "      <th>1</th>\n",
       "      <td>F</td>\n",
       "      <td>African-American</td>\n",
       "      <td>Male</td>\n",
       "      <td>34</td>\n",
       "      <td>0</td>\n",
       "      <td>10.0</td>\n",
       "      <td>1</td>\n",
       "      <td>0</td>\n",
       "    </tr>\n",
       "    <tr>\n",
       "      <th>2</th>\n",
       "      <td>F</td>\n",
       "      <td>African-American</td>\n",
       "      <td>Male</td>\n",
       "      <td>24</td>\n",
       "      <td>4</td>\n",
       "      <td>1.0</td>\n",
       "      <td>1</td>\n",
       "      <td>0</td>\n",
       "    </tr>\n",
       "    <tr>\n",
       "      <th>3</th>\n",
       "      <td>M</td>\n",
       "      <td>Other</td>\n",
       "      <td>Male</td>\n",
       "      <td>44</td>\n",
       "      <td>0</td>\n",
       "      <td>1.0</td>\n",
       "      <td>0</td>\n",
       "      <td>0</td>\n",
       "    </tr>\n",
       "    <tr>\n",
       "      <th>4</th>\n",
       "      <td>F</td>\n",
       "      <td>Caucasian</td>\n",
       "      <td>Male</td>\n",
       "      <td>41</td>\n",
       "      <td>14</td>\n",
       "      <td>6.0</td>\n",
       "      <td>1</td>\n",
       "      <td>0</td>\n",
       "    </tr>\n",
       "  </tbody>\n",
       "</table>\n",
       "</div>"
      ],
      "text/plain": [
       "  c_charge_degree              race   sex  age  priors_count  length_of_stay  \\\n",
       "0               F             Other  Male   69             0             1.0   \n",
       "1               F  African-American  Male   34             0            10.0   \n",
       "2               F  African-American  Male   24             4             1.0   \n",
       "3               M             Other  Male   44             0             1.0   \n",
       "4               F         Caucasian  Male   41            14             6.0   \n",
       "\n",
       "   class  predicted  \n",
       "0      0          0  \n",
       "1      1          0  \n",
       "2      1          0  \n",
       "3      0          0  \n",
       "4      1          0  "
      ]
     },
     "execution_count": 8,
     "metadata": {},
     "output_type": "execute_result"
    }
   ],
   "source": [
    "abbreviations = {\n",
    "    \"age_cat\": \"age\",\n",
    "    \"priors_count\": \"#prior\",\n",
    "    \"Greater than 45\": \">45\",\n",
    "    \"25 - 45\": \"25-45\",\n",
    "    \"African-American\": \"Afr-Am\",\n",
    "    \"c_charge_degree\": \"charge\",\n",
    "    \"Less than 25\": \"<25\",\n",
    "    \"=>\": \">\",\n",
    "    \"=<\": \"<\",\n",
    "    \"length_of_stay\": \"stay\",\n",
    "    \"Caucasian\": \"Cauc\",\n",
    "}\n",
    "\n",
    "dataset_name = \"compas\"\n",
    "risk_class_type = True\n",
    "\n",
    "from import_datasets import import_process_compas\n",
    "\n",
    "dfI, class_map = import_process_compas(\n",
    "    risk_class=risk_class_type, continuous_col=True\n",
    ")\n",
    "dfI.reset_index(drop=True, inplace=True)\n",
    "\n",
    "dfI[\"predicted\"] = dfI[\"predicted\"].replace({\"Medium-Low\": 0, \"High\": 1})\n",
    "true_class_name, pred_class_name = \"class\", \"predicted\"\n",
    "class_and_pred_names = [true_class_name, pred_class_name]\n",
    "attributes = list(dfI.columns.drop(class_and_pred_names))\n",
    "\n",
    "dfI = dfI[attributes + class_and_pred_names]\n",
    "dfI.head()"
   ]
  },
  {
   "cell_type": "code",
   "execution_count": 9,
   "id": "f13cdf24",
   "metadata": {
    "ExecuteTime": {
     "end_time": "2022-01-22T08:43:07.468898Z",
     "start_time": "2022-01-22T08:43:07.443131Z"
    }
   },
   "outputs": [],
   "source": [
    "min_sup_divergences = [0.05, 0.025, 0.01]"
   ]
  },
  {
   "cell_type": "markdown",
   "id": "78ea25cb",
   "metadata": {},
   "source": [
    "# Domain expert discretization"
   ]
  },
  {
   "cell_type": "markdown",
   "id": "6f6cf862",
   "metadata": {},
   "source": [
    "As in NIPS article:\n",
    "https://github.com/fair-preprocessing/nips2017/blob/master/compas/code/Generate_Compas_Data.ipynb"
   ]
  },
  {
   "cell_type": "markdown",
   "id": "e819aa95",
   "metadata": {
    "ExecuteTime": {
     "end_time": "2022-01-14T19:26:22.246705Z",
     "start_time": "2022-01-14T19:26:22.223783Z"
    }
   },
   "source": [
    "## Divergence"
   ]
  },
  {
   "cell_type": "code",
   "execution_count": 10,
   "id": "e14140c8",
   "metadata": {},
   "outputs": [],
   "source": [
    "from divexplorer_generalized.FP_Divergence import FP_Divergence"
   ]
  },
  {
   "cell_type": "code",
   "execution_count": 11,
   "id": "834ca695",
   "metadata": {
    "ExecuteTime": {
     "end_time": "2022-01-22T08:43:08.352494Z",
     "start_time": "2022-01-22T08:43:07.472083Z"
    }
   },
   "outputs": [],
   "source": [
    "from import_datasets import discretize\n",
    "\n",
    "dfI_discr = discretize(dfI, dataset_name=dataset_name)\n",
    "\n",
    "# ### Extract divergence\n",
    "\n",
    "from divexplorer_generalized.FP_DivergenceExplorer import FP_DivergenceExplorer\n",
    "\n",
    "\n",
    "for min_sup_divergence in min_sup_divergences:\n",
    "    fp_diver = FP_DivergenceExplorer(\n",
    "    dfI_discr, true_class_name=true_class_name, predicted_class_name=pred_class_name\n",
    "    )\n",
    "\n",
    "\n",
    "    FP_fm = fp_diver.getFrequentPatternDivergence(\n",
    "        min_support=min_sup_divergence, metrics=[metric]\n",
    "    )\n",
    "    fp_divergence_i = FP_Divergence(FP_fm, metric=metric)\n",
    "\n",
    "    most_divergent = (\n",
    "        fp_divergence_i.getDivergence(th_redundancy=0)\n",
    "        .sort_values(\n",
    "            [fp_divergence_i.metric, fp_divergence_i.t_value_col], ascending=False\n",
    "        )\n",
    "        .head(1)\n",
    "    )\n",
    "    if min_sup_divergence not in out_support:\n",
    "        out_support[min_sup_divergence] = {}\n",
    "    out_support[min_sup_divergence][\"default\"] = most_divergent"
   ]
  },
  {
   "cell_type": "markdown",
   "id": "aa13828a",
   "metadata": {},
   "source": [
    "# Tree divergence - FPR"
   ]
  },
  {
   "cell_type": "code",
   "execution_count": 12,
   "id": "7afbd8f9",
   "metadata": {
    "ExecuteTime": {
     "end_time": "2022-01-22T08:43:09.448385Z",
     "start_time": "2022-01-22T08:43:09.435884Z"
    }
   },
   "outputs": [],
   "source": [
    "min_support_tree = 0.1"
   ]
  },
  {
   "cell_type": "code",
   "execution_count": 13,
   "id": "4cb578fa",
   "metadata": {
    "ExecuteTime": {
     "end_time": "2022-01-22T08:43:09.488526Z",
     "start_time": "2022-01-22T08:43:09.468955Z"
    }
   },
   "outputs": [],
   "source": [
    "import os\n",
    "\n",
    "\n",
    "tree_outputdir = os.path.join(\".\", \"output\", \"figures\", \"compas\", \"tree\")\n",
    "if saveFig:\n",
    "    from pathlib import Path\n",
    "\n",
    "    Path(tree_outputdir).mkdir(parents=True, exist_ok=True)"
   ]
  },
  {
   "cell_type": "code",
   "execution_count": 14,
   "id": "c410d546",
   "metadata": {
    "ExecuteTime": {
     "end_time": "2022-01-22T08:43:09.508568Z",
     "start_time": "2022-01-22T08:43:09.491159Z"
    }
   },
   "outputs": [],
   "source": [
    "cols_c = [\"class\", \"predicted\"]\n",
    "continuous_attributes = [\"priors_count\", \"length_of_stay\", \"age\"]"
   ]
  },
  {
   "cell_type": "markdown",
   "id": "58a644c4",
   "metadata": {},
   "source": [
    "## Tree divergence - divergence_criterion"
   ]
  },
  {
   "cell_type": "code",
   "execution_count": 15,
   "id": "f9fd6165",
   "metadata": {
    "ExecuteTime": {
     "end_time": "2022-01-22T08:43:09.529281Z",
     "start_time": "2022-01-22T08:43:09.510751Z"
    }
   },
   "outputs": [],
   "source": [
    "type_criterion=\"divergence_criterion\"\n",
    "\n",
    "type_experiment = \"one_at_time\""
   ]
  },
  {
   "cell_type": "code",
   "execution_count": 16,
   "id": "7c9e7c74",
   "metadata": {
    "ExecuteTime": {
     "end_time": "2022-01-22T08:43:09.551507Z",
     "start_time": "2022-01-22T08:43:09.531694Z"
    }
   },
   "outputs": [],
   "source": [
    "df_analyze = dfI.copy()"
   ]
  },
  {
   "cell_type": "code",
   "execution_count": 17,
   "id": "3d6a3a74",
   "metadata": {
    "ExecuteTime": {
     "end_time": "2022-01-22T08:43:09.694041Z",
     "start_time": "2022-01-22T08:43:09.553786Z"
    }
   },
   "outputs": [],
   "source": [
    "from tree_discretization import TreeDiscretization\n",
    "\n",
    "tree_discr = TreeDiscretization()\n",
    "\n",
    "# ## Extract tree\n",
    "generalization_dict, discretizations = tree_discr.get_tree_discretization(\n",
    "    df_analyze,\n",
    "    type_splitting=type_experiment,\n",
    "    min_support=min_support_tree,\n",
    "    metric=metric,\n",
    "    class_map=class_map,\n",
    "    continuous_attributes=list(continuous_attributes),\n",
    "    class_and_pred_names=cols_c,\n",
    "    storeTree=True,\n",
    "    type_criterion=type_criterion,\n",
    "    # minimal_gain = 0.0015\n",
    ")"
   ]
  },
  {
   "cell_type": "code",
   "execution_count": 18,
   "id": "f5aec61f",
   "metadata": {
    "ExecuteTime": {
     "end_time": "2022-01-22T08:43:09.792638Z",
     "start_time": "2022-01-22T08:43:09.720714Z"
    }
   },
   "outputs": [],
   "source": [
    "if show_fig:\n",
    "    \n",
    "    if type(tree_discr.trees) is dict:\n",
    "        dot = {}\n",
    "        for attribute in continuous_attributes:\n",
    "            dot[attribute] = tree_discr.trees[attribute].visualizeTreeDiGraph(all_info = False)\n",
    "    dot[attribute]\n",
    "    \n",
    "    if type(tree_discr.trees) is dict:\n",
    "        dot = {}\n",
    "        for attribute in continuous_attributes:\n",
    "            dot[attribute] = tree_discr.trees[attribute].visualizeTreeDiGraph(abbreviations=abbreviations, all_info = False, show_condition=True)\n",
    "    suffix=f\"{type_experiment}_{type_criterion}_sd_{min_support_tree}_{metric}\"\n",
    "    saveFig = True\n",
    "    attribute = \"priors_count\"\n",
    "    if saveFig:\n",
    "        dot[attribute].render(\n",
    "           os.path.join(tree_outputdir, f\"tree_{attribute}_{suffix}\")\n",
    "                    )\n",
    "    print(os.path.join(tree_outputdir, f\"tree_{attribute}_{suffix}\"))       \n",
    "    dot[attribute]\n",
    "    \n",
    "    if type(tree_discr.trees) is dict:\n",
    "        dot = {}\n",
    "        for attribute in tree_discr.trees:\n",
    "            dot[attribute] = tree_discr.trees[attribute].visualizeTreeDiGraph(all_info = False)\n",
    "    else:\n",
    "        dot_show = tree_discr.trees.visualizeTreeDiGraph()\n",
    "    dot[\"priors_count\"]"
   ]
  },
  {
   "cell_type": "code",
   "execution_count": 19,
   "id": "391d8eae",
   "metadata": {
    "ExecuteTime": {
     "end_time": "2022-01-22T08:43:10.185086Z",
     "start_time": "2022-01-22T08:43:09.960946Z"
    }
   },
   "outputs": [],
   "source": [
    "if show_fig:\n",
    "    viz_tree(\n",
    "        tree_discr,\n",
    "        continuous_attributes,\n",
    "        tree_outputdir,\n",
    "        suffix=f\"{type_experiment}_{type_criterion}_sd_{min_support_tree}_{metric}\",\n",
    "        saveFig=saveFig,\n",
    "    )"
   ]
  },
  {
   "cell_type": "code",
   "execution_count": 20,
   "id": "c6c2282d",
   "metadata": {
    "ExecuteTime": {
     "end_time": "2022-01-22T08:43:10.299874Z",
     "start_time": "2022-01-22T08:43:10.224924Z"
    }
   },
   "outputs": [],
   "source": [
    "considerOnlyContinuos = True\n",
    "if considerOnlyContinuos:\n",
    "    for k in list(generalization_dict.keys()):\n",
    "        if k not in continuous_attributes:\n",
    "            generalization_dict.pop(k, None)"
   ]
  },
  {
   "cell_type": "markdown",
   "id": "45f45d6d",
   "metadata": {
    "ExecuteTime": {
     "end_time": "2022-01-04T15:36:06.722985Z",
     "start_time": "2022-01-04T15:36:06.718877Z"
    }
   },
   "source": [
    "### Base"
   ]
  },
  {
   "cell_type": "code",
   "execution_count": 21,
   "id": "7d924c3e",
   "metadata": {
    "ExecuteTime": {
     "end_time": "2022-01-22T08:43:10.928539Z",
     "start_time": "2022-01-22T08:43:10.343168Z"
    }
   },
   "outputs": [],
   "source": [
    "from utils_extract_divergence_generalized import (\n",
    "    extract_divergence_generalized,\n",
    ")\n",
    "\n",
    "for min_sup_divergence in min_sup_divergences:\n",
    "    FP_fm = extract_divergence_generalized(\n",
    "        df_analyze,\n",
    "        discretizations,\n",
    "        generalization_dict,\n",
    "        continuous_attributes,\n",
    "        min_sup_divergence=min_sup_divergence,\n",
    "        apply_generalization=False,\n",
    "        true_class_name=true_class_name,\n",
    "        predicted_class_name=pred_class_name,\n",
    "        class_map=class_map,\n",
    "        metrics_divergence = [\"d_fpr\"],\n",
    "        FPM_type=\"fpgrowth\",\n",
    "    )\n",
    "    \n",
    "    \n",
    "    fp_divergence_i = FP_Divergence(FP_fm, metric=metric)\n",
    "\n",
    "    most_divergent = (\n",
    "        fp_divergence_i.getDivergence(th_redundancy=0)\n",
    "        .sort_values(\n",
    "            [fp_divergence_i.metric, fp_divergence_i.t_value_col], ascending=False\n",
    "        )\n",
    "        .head(1)\n",
    "    )\n",
    "    out_support.setdefault(min_sup_divergence, {})[\"base\"] = most_divergent"
   ]
  },
  {
   "cell_type": "markdown",
   "id": "1ad7f8f4",
   "metadata": {},
   "source": [
    "### Generalized"
   ]
  },
  {
   "cell_type": "code",
   "execution_count": 22,
   "id": "34cd02b5",
   "metadata": {
    "ExecuteTime": {
     "end_time": "2022-01-22T08:43:12.250526Z",
     "start_time": "2022-01-22T08:43:11.073214Z"
    }
   },
   "outputs": [],
   "source": [
    "from utils_extract_divergence_generalized import (\n",
    "    extract_divergence_generalized,\n",
    ")\n",
    "\n",
    "for min_sup_divergence in min_sup_divergences:\n",
    "\n",
    "    FP_fm = extract_divergence_generalized(\n",
    "        df_analyze,\n",
    "        discretizations,\n",
    "        generalization_dict,\n",
    "        continuous_attributes,\n",
    "        min_sup_divergence=min_sup_divergence,\n",
    "        apply_generalization=True,\n",
    "        true_class_name=true_class_name,\n",
    "        predicted_class_name=pred_class_name,\n",
    "        class_map=class_map,\n",
    "        metrics_divergence = [\"d_fpr\"],\n",
    "        FPM_type=\"fpgrowth\",\n",
    "    )\n",
    "    \n",
    "    fp_divergence_i = FP_Divergence(FP_fm, metric=metric)\n",
    "\n",
    "    most_divergent = (\n",
    "        fp_divergence_i.getDivergence(th_redundancy=0)\n",
    "        .sort_values(\n",
    "            [fp_divergence_i.metric, fp_divergence_i.t_value_col], ascending=False\n",
    "        )\n",
    "        .head(1)\n",
    "    )\n",
    "    \n",
    "    out_support.setdefault(min_sup_divergence, {})[\"generalized\"] = most_divergent"
   ]
  },
  {
   "cell_type": "markdown",
   "id": "2d275567",
   "metadata": {},
   "source": [
    "# Print results"
   ]
  },
  {
   "cell_type": "code",
   "execution_count": 23,
   "id": "eef58e27",
   "metadata": {},
   "outputs": [
    {
     "name": "stdout",
     "output_type": "stream",
     "text": [
      "Minimum support divergence: 0.05\n"
     ]
    },
    {
     "data": {
      "text/html": [
       "<div>\n",
       "<style scoped>\n",
       "    .dataframe tbody tr th:only-of-type {\n",
       "        vertical-align: middle;\n",
       "    }\n",
       "\n",
       "    .dataframe tbody tr th {\n",
       "        vertical-align: top;\n",
       "    }\n",
       "\n",
       "    .dataframe thead th {\n",
       "        text-align: right;\n",
       "    }\n",
       "</style>\n",
       "<table border=\"1\" class=\"dataframe\">\n",
       "  <thead>\n",
       "    <tr style=\"text-align: right;\">\n",
       "      <th></th>\n",
       "      <th>Exploration approach</th>\n",
       "      <th>itemsets</th>\n",
       "      <th>sup</th>\n",
       "      <th>Δ_fpr</th>\n",
       "      <th>t_fp</th>\n",
       "    </tr>\n",
       "  </thead>\n",
       "  <tbody>\n",
       "    <tr>\n",
       "      <th>113</th>\n",
       "      <td>default</td>\n",
       "      <td>age=[25-45], #prior&gt;3, race=Afr-Am, sex=Male</td>\n",
       "      <td>0.13</td>\n",
       "      <td>0.220</td>\n",
       "      <td>7.1</td>\n",
       "    </tr>\n",
       "    <tr>\n",
       "      <th>106</th>\n",
       "      <td>base</td>\n",
       "      <td>#prior&gt;=9, race=Afr-Am</td>\n",
       "      <td>0.09</td>\n",
       "      <td>0.363</td>\n",
       "      <td>8.2</td>\n",
       "    </tr>\n",
       "    <tr>\n",
       "      <th>1052</th>\n",
       "      <td>generalized</td>\n",
       "      <td>age&lt;=32, stay&gt;=3.0, #prior&gt;=4, sex=Male</td>\n",
       "      <td>0.06</td>\n",
       "      <td>0.378</td>\n",
       "      <td>6.7</td>\n",
       "    </tr>\n",
       "  </tbody>\n",
       "</table>\n",
       "</div>"
      ],
      "text/plain": [
       "     Exploration approach                                      itemsets   sup  \\\n",
       "113               default  age=[25-45], #prior>3, race=Afr-Am, sex=Male  0.13   \n",
       "106                  base                        #prior>=9, race=Afr-Am  0.09   \n",
       "1052          generalized       age<=32, stay>=3.0, #prior>=4, sex=Male  0.06   \n",
       "\n",
       "      Δ_fpr  t_fp  \n",
       "113   0.220   7.1  \n",
       "106   0.363   8.2  \n",
       "1052  0.378   6.7  "
      ]
     },
     "metadata": {},
     "output_type": "display_data"
    },
    {
     "name": "stdout",
     "output_type": "stream",
     "text": [
      "Minimum support divergence: 0.025\n"
     ]
    },
    {
     "data": {
      "text/html": [
       "<div>\n",
       "<style scoped>\n",
       "    .dataframe tbody tr th:only-of-type {\n",
       "        vertical-align: middle;\n",
       "    }\n",
       "\n",
       "    .dataframe tbody tr th {\n",
       "        vertical-align: top;\n",
       "    }\n",
       "\n",
       "    .dataframe thead th {\n",
       "        text-align: right;\n",
       "    }\n",
       "</style>\n",
       "<table border=\"1\" class=\"dataframe\">\n",
       "  <thead>\n",
       "    <tr style=\"text-align: right;\">\n",
       "      <th></th>\n",
       "      <th>Exploration approach</th>\n",
       "      <th>itemsets</th>\n",
       "      <th>sup</th>\n",
       "      <th>Δ_fpr</th>\n",
       "      <th>t_fp</th>\n",
       "    </tr>\n",
       "  </thead>\n",
       "  <tbody>\n",
       "    <tr>\n",
       "      <th>473</th>\n",
       "      <td>default</td>\n",
       "      <td>age=[25-45], stay=1w-3M, #prior&gt;3, race=Afr-Am, sex=Male</td>\n",
       "      <td>0.03</td>\n",
       "      <td>0.292</td>\n",
       "      <td>4.4</td>\n",
       "    </tr>\n",
       "    <tr>\n",
       "      <th>453</th>\n",
       "      <td>base</td>\n",
       "      <td>age=[28-32], #prior&gt;=9, sex=Male</td>\n",
       "      <td>0.03</td>\n",
       "      <td>0.590</td>\n",
       "      <td>6.8</td>\n",
       "    </tr>\n",
       "    <tr>\n",
       "      <th>2416</th>\n",
       "      <td>generalized</td>\n",
       "      <td>age=[25-32], charge=F, #prior&gt;=9, sex=Male</td>\n",
       "      <td>0.03</td>\n",
       "      <td>0.621</td>\n",
       "      <td>7.7</td>\n",
       "    </tr>\n",
       "  </tbody>\n",
       "</table>\n",
       "</div>"
      ],
      "text/plain": [
       "     Exploration approach  \\\n",
       "473               default   \n",
       "453                  base   \n",
       "2416          generalized   \n",
       "\n",
       "                                                      itemsets   sup  Δ_fpr  \\\n",
       "473   age=[25-45], stay=1w-3M, #prior>3, race=Afr-Am, sex=Male  0.03  0.292   \n",
       "453                           age=[28-32], #prior>=9, sex=Male  0.03  0.590   \n",
       "2416                age=[25-32], charge=F, #prior>=9, sex=Male  0.03  0.621   \n",
       "\n",
       "      t_fp  \n",
       "473    4.4  \n",
       "453    6.8  \n",
       "2416   7.7  "
      ]
     },
     "metadata": {},
     "output_type": "display_data"
    },
    {
     "name": "stdout",
     "output_type": "stream",
     "text": [
      "Minimum support divergence: 0.01\n"
     ]
    },
    {
     "data": {
      "text/html": [
       "<div>\n",
       "<style scoped>\n",
       "    .dataframe tbody tr th:only-of-type {\n",
       "        vertical-align: middle;\n",
       "    }\n",
       "\n",
       "    .dataframe tbody tr th {\n",
       "        vertical-align: top;\n",
       "    }\n",
       "\n",
       "    .dataframe thead th {\n",
       "        text-align: right;\n",
       "    }\n",
       "</style>\n",
       "<table border=\"1\" class=\"dataframe\">\n",
       "  <thead>\n",
       "    <tr style=\"text-align: right;\">\n",
       "      <th></th>\n",
       "      <th>Exploration approach</th>\n",
       "      <th>itemsets</th>\n",
       "      <th>sup</th>\n",
       "      <th>Δ_fpr</th>\n",
       "      <th>t_fp</th>\n",
       "    </tr>\n",
       "  </thead>\n",
       "  <tbody>\n",
       "    <tr>\n",
       "      <th>710</th>\n",
       "      <td>default</td>\n",
       "      <td>age&lt;25, charge=F, #prior&gt;3</td>\n",
       "      <td>0.02</td>\n",
       "      <td>0.618</td>\n",
       "      <td>5.7</td>\n",
       "    </tr>\n",
       "    <tr>\n",
       "      <th>848</th>\n",
       "      <td>base</td>\n",
       "      <td>age&lt;=24, charge=F, #prior=[4-8]</td>\n",
       "      <td>0.02</td>\n",
       "      <td>0.662</td>\n",
       "      <td>6.2</td>\n",
       "    </tr>\n",
       "    <tr>\n",
       "      <th>3697</th>\n",
       "      <td>generalized</td>\n",
       "      <td>age=[25-32], stay&gt;=3.0, #prior&gt;=9</td>\n",
       "      <td>0.02</td>\n",
       "      <td>0.745</td>\n",
       "      <td>8.1</td>\n",
       "    </tr>\n",
       "  </tbody>\n",
       "</table>\n",
       "</div>"
      ],
      "text/plain": [
       "     Exploration approach                           itemsets   sup  Δ_fpr  \\\n",
       "710               default         age<25, charge=F, #prior>3  0.02  0.618   \n",
       "848                  base    age<=24, charge=F, #prior=[4-8]  0.02  0.662   \n",
       "3697          generalized  age=[25-32], stay>=3.0, #prior>=9  0.02  0.745   \n",
       "\n",
       "      t_fp  \n",
       "710    5.7  \n",
       "848    6.2  \n",
       "3697   8.1  "
      ]
     },
     "metadata": {},
     "output_type": "display_data"
    }
   ],
   "source": [
    "method_name = \"Exploration approach\"\n",
    "\n",
    "for min_sup_divergence in min_sup_divergences:\n",
    "    res = pd.concat([out_support[min_sup_divergence][k] for k in out_support[min_sup_divergence]])\n",
    "    res[method_name] = out_support[min_sup_divergence].keys()\n",
    "    from utils_printable import printable\n",
    "\n",
    "    COLS = [method_name] + COL_info + [metric, t_value_col]\n",
    "\n",
    "    res_pr = printable(res[COLS], abbreviations=abbreviations, resort_cols = False)\n",
    "    \n",
    "    print(f\"Minimum support divergence: {min_sup_divergence}\")\n",
    "    display(res_pr)"
   ]
  }
 ],
 "metadata": {
  "hide_input": false,
  "kernelspec": {
   "display_name": "Python 3",
   "language": "python",
   "name": "python3"
  },
  "language_info": {
   "codemirror_mode": {
    "name": "ipython",
    "version": 3
   },
   "file_extension": ".py",
   "mimetype": "text/x-python",
   "name": "python",
   "nbconvert_exporter": "python",
   "pygments_lexer": "ipython3",
   "version": "3.8.8"
  },
  "toc": {
   "base_numbering": 1,
   "nav_menu": {},
   "number_sections": true,
   "sideBar": true,
   "skip_h1_title": false,
   "title_cell": "Table of Contents",
   "title_sidebar": "Contents",
   "toc_cell": false,
   "toc_position": {
    "height": "calc(100% - 180px)",
    "left": "10px",
    "top": "150px",
    "width": "370px"
   },
   "toc_section_display": true,
   "toc_window_display": true
  },
  "varInspector": {
   "cols": {
    "lenName": 16,
    "lenType": 16,
    "lenVar": 40
   },
   "kernels_config": {
    "python": {
     "delete_cmd_postfix": "",
     "delete_cmd_prefix": "del ",
     "library": "var_list.py",
     "varRefreshCmd": "print(var_dic_list())"
    },
    "r": {
     "delete_cmd_postfix": ") ",
     "delete_cmd_prefix": "rm(",
     "library": "var_list.r",
     "varRefreshCmd": "cat(var_dic_list()) "
    }
   },
   "types_to_exclude": [
    "module",
    "function",
    "builtin_function_or_method",
    "instance",
    "_Feature"
   ],
   "window_display": false
  }
 },
 "nbformat": 4,
 "nbformat_minor": 5
}
