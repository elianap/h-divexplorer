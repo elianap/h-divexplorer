{
 "cells": [
  {
   "cell_type": "code",
   "execution_count": 1,
   "id": "2ccc5ff3",
   "metadata": {
    "ExecuteTime": {
     "end_time": "2022-10-07T10:24:48.318465Z",
     "start_time": "2022-10-07T10:24:48.305449Z"
    }
   },
   "outputs": [],
   "source": [
    "%load_ext autoreload\n",
    "%autoreload 2"
   ]
  },
  {
   "cell_type": "code",
   "execution_count": 3,
   "id": "4a298536",
   "metadata": {
    "ExecuteTime": {
     "end_time": "2022-10-07T10:25:29.832138Z",
     "start_time": "2022-10-07T10:25:29.495267Z"
    }
   },
   "outputs": [],
   "source": [
    "\n",
    "import pandas as pd\n",
    "pd.set_option('max_colwidth', None)\n",
    "import os"
   ]
  },
  {
   "cell_type": "code",
   "execution_count": 4,
   "id": "c09b0e6a",
   "metadata": {
    "ExecuteTime": {
     "end_time": "2022-10-07T10:25:31.558865Z",
     "start_time": "2022-10-07T10:25:31.539662Z"
    }
   },
   "outputs": [],
   "source": [
    "from utils_printable import printable\n",
    "\n",
    "\n",
    "\n",
    "abbreviations = {\"RAC1P\": \"RAC\", \"White alone\": \"White\", \"Reference person\": \"Ref person\", \\\n",
    "\"Employee of a private for-profit company or business, or of an individual, for wages, salary, or commissions\": \"Empl. for-profit-c\",\\\n",
    "\"Employee of a private not-for-profit, tax-exempt, or charitable organization\": \"Empl. no-profit-c\",\n",
    "\"Self-employed in own not incorporated business, professional practice, or farm\": \"Self-Empl. not incorp\" ,     \n",
    "\"Self-employed in own incorporated business, professional practice or farm\": \"Self-Empl. incorp\" ,\n",
    "\"Local government employee (city, county, etc.)\" : \"Local gov. Empl. \",\n",
    "\"Federal government employee\": \"Federal gov.  Empl.\",\n",
    "\"California/CA\":\"CA\", \"Never married or under 15 years old\": \"Never married/<15yrs\", \n",
    "\"Biological son or daughter\": \"Son/daughter\", \"Regular high school diploma\":\"HS\", \\\n",
    "\"Asian alone\":\"Asian\", \"1 or more years of college credit\":\"1+ collage cr\",\n",
    "\"Some Other Race alone\": \"Other\", \"Bachelor's degree\": \"Bachelor\", \"Master's degree\": \"Master\", \n",
    "                \"Some college, but less than 1 year\": \"<1y collage\",\n",
    "                \"Associate's degree\":\"Associate\",\n",
    "\"Noninstitutionalized group quarters population\": \"Noninstit. GQs\", \n",
    "\"OCCP=CMM-Software Developers\": \"OCCP=CMM-SW Dev\", \n",
    "                 \"Professional degree beyond a bachelor's degree\": \"Prof beyond bachelor\"}"
   ]
  },
  {
   "cell_type": "markdown",
   "id": "b6d5c382",
   "metadata": {},
   "source": [
    "# Load data"
   ]
  },
  {
   "cell_type": "code",
   "execution_count": 5,
   "id": "c03bf691",
   "metadata": {
    "ExecuteTime": {
     "end_time": "2022-10-07T10:26:28.426158Z",
     "start_time": "2022-10-07T10:26:03.577569Z"
    }
   },
   "outputs": [
    {
     "name": "stdout",
     "output_type": "stream",
     "text": [
      "Downloading data for 2018 1-Year person survey for CA...\n"
     ]
    }
   ],
   "source": [
    "from folktables import ACSDataSource, ACSIncome\n",
    "\n",
    "data_source = ACSDataSource(survey_year='2018', horizon='1-Year', survey='person')\n",
    "acs_data = data_source.get_data(states=[\"CA\"], download=True)\n",
    "features, label, group = ACSIncome.df_to_numpy(acs_data)"
   ]
  },
  {
   "cell_type": "code",
   "execution_count": 6,
   "id": "0226640d",
   "metadata": {
    "ExecuteTime": {
     "end_time": "2022-10-07T10:26:39.215632Z",
     "start_time": "2022-10-07T10:26:39.185421Z"
    }
   },
   "outputs": [],
   "source": [
    "from folktables.acs import adult_filter\n",
    "from folktables import BasicProblem\n",
    "import numpy as np\n",
    "\n",
    "feature_names = [ 'AGEP', 'COW', 'SCHL', 'MAR', 'OCCP', 'POBP',  'RELP', 'WKHP', 'SEX', 'RAC1P' ]\n",
    "\n",
    "target='PINCP'\n",
    "\n",
    "ACSIncome_outcome = BasicProblem(\n",
    "    features=feature_names,\n",
    "    target=target,\n",
    "    group='RAC1P',\n",
    "    preprocess=adult_filter,\n",
    ")"
   ]
  },
  {
   "cell_type": "code",
   "execution_count": 7,
   "id": "3f1b883e",
   "metadata": {
    "ExecuteTime": {
     "end_time": "2022-10-07T10:26:40.856089Z",
     "start_time": "2022-10-07T10:26:40.136706Z"
    }
   },
   "outputs": [],
   "source": [
    "features, label, group = ACSIncome_outcome.df_to_numpy(acs_data)"
   ]
  },
  {
   "cell_type": "code",
   "execution_count": 8,
   "id": "b4beb363",
   "metadata": {
    "ExecuteTime": {
     "end_time": "2022-10-07T10:26:41.514852Z",
     "start_time": "2022-10-07T10:26:41.499903Z"
    }
   },
   "outputs": [],
   "source": [
    "continuous_attributes = ['AGEP', 'WKHP']"
   ]
  },
  {
   "cell_type": "code",
   "execution_count": 9,
   "id": "ce5a9ab3",
   "metadata": {
    "ExecuteTime": {
     "end_time": "2022-10-07T10:26:42.259690Z",
     "start_time": "2022-10-07T10:26:42.241767Z"
    }
   },
   "outputs": [],
   "source": [
    "categorical_attributes = list(set(feature_names)-set(continuous_attributes))"
   ]
  },
  {
   "cell_type": "code",
   "execution_count": 10,
   "id": "ee054a06",
   "metadata": {
    "ExecuteTime": {
     "end_time": "2022-10-07T10:26:43.007240Z",
     "start_time": "2022-10-07T10:26:42.951160Z"
    }
   },
   "outputs": [
    {
     "data": {
      "text/html": [
       "<div>\n",
       "<style scoped>\n",
       "    .dataframe tbody tr th:only-of-type {\n",
       "        vertical-align: middle;\n",
       "    }\n",
       "\n",
       "    .dataframe tbody tr th {\n",
       "        vertical-align: top;\n",
       "    }\n",
       "\n",
       "    .dataframe thead th {\n",
       "        text-align: right;\n",
       "    }\n",
       "</style>\n",
       "<table border=\"1\" class=\"dataframe\">\n",
       "  <thead>\n",
       "    <tr style=\"text-align: right;\">\n",
       "      <th></th>\n",
       "      <th>AGEP</th>\n",
       "      <th>COW</th>\n",
       "      <th>SCHL</th>\n",
       "      <th>MAR</th>\n",
       "      <th>OCCP</th>\n",
       "      <th>POBP</th>\n",
       "      <th>RELP</th>\n",
       "      <th>WKHP</th>\n",
       "      <th>SEX</th>\n",
       "      <th>RAC1P</th>\n",
       "      <th>income</th>\n",
       "    </tr>\n",
       "  </thead>\n",
       "  <tbody>\n",
       "    <tr>\n",
       "      <th>0</th>\n",
       "      <td>30.0</td>\n",
       "      <td>6.0</td>\n",
       "      <td>14.0</td>\n",
       "      <td>1.0</td>\n",
       "      <td>9610.0</td>\n",
       "      <td>6.0</td>\n",
       "      <td>16.0</td>\n",
       "      <td>40.0</td>\n",
       "      <td>1.0</td>\n",
       "      <td>8.0</td>\n",
       "      <td>48500.0</td>\n",
       "    </tr>\n",
       "    <tr>\n",
       "      <th>1</th>\n",
       "      <td>21.0</td>\n",
       "      <td>4.0</td>\n",
       "      <td>16.0</td>\n",
       "      <td>5.0</td>\n",
       "      <td>1970.0</td>\n",
       "      <td>6.0</td>\n",
       "      <td>17.0</td>\n",
       "      <td>20.0</td>\n",
       "      <td>1.0</td>\n",
       "      <td>1.0</td>\n",
       "      <td>7700.0</td>\n",
       "    </tr>\n",
       "    <tr>\n",
       "      <th>2</th>\n",
       "      <td>65.0</td>\n",
       "      <td>2.0</td>\n",
       "      <td>22.0</td>\n",
       "      <td>5.0</td>\n",
       "      <td>2040.0</td>\n",
       "      <td>6.0</td>\n",
       "      <td>17.0</td>\n",
       "      <td>8.0</td>\n",
       "      <td>1.0</td>\n",
       "      <td>1.0</td>\n",
       "      <td>17200.0</td>\n",
       "    </tr>\n",
       "    <tr>\n",
       "      <th>3</th>\n",
       "      <td>33.0</td>\n",
       "      <td>1.0</td>\n",
       "      <td>14.0</td>\n",
       "      <td>3.0</td>\n",
       "      <td>9610.0</td>\n",
       "      <td>36.0</td>\n",
       "      <td>16.0</td>\n",
       "      <td>40.0</td>\n",
       "      <td>1.0</td>\n",
       "      <td>1.0</td>\n",
       "      <td>12000.0</td>\n",
       "    </tr>\n",
       "    <tr>\n",
       "      <th>4</th>\n",
       "      <td>18.0</td>\n",
       "      <td>2.0</td>\n",
       "      <td>19.0</td>\n",
       "      <td>5.0</td>\n",
       "      <td>1021.0</td>\n",
       "      <td>6.0</td>\n",
       "      <td>17.0</td>\n",
       "      <td>18.0</td>\n",
       "      <td>2.0</td>\n",
       "      <td>1.0</td>\n",
       "      <td>300.0</td>\n",
       "    </tr>\n",
       "  </tbody>\n",
       "</table>\n",
       "</div>"
      ],
      "text/plain": [
       "   AGEP  COW  SCHL  MAR    OCCP  POBP  RELP  WKHP  SEX  RAC1P   income\n",
       "0  30.0  6.0  14.0  1.0  9610.0   6.0  16.0  40.0  1.0    8.0  48500.0\n",
       "1  21.0  4.0  16.0  5.0  1970.0   6.0  17.0  20.0  1.0    1.0   7700.0\n",
       "2  65.0  2.0  22.0  5.0  2040.0   6.0  17.0   8.0  1.0    1.0  17200.0\n",
       "3  33.0  1.0  14.0  3.0  9610.0  36.0  16.0  40.0  1.0    1.0  12000.0\n",
       "4  18.0  2.0  19.0  5.0  1021.0   6.0  17.0  18.0  2.0    1.0    300.0"
      ]
     },
     "execution_count": 10,
     "metadata": {},
     "output_type": "execute_result"
    }
   ],
   "source": [
    "import pandas as pd\n",
    "\n",
    "\n",
    "df = pd.DataFrame(features, columns=feature_names)\n",
    "df[\"income\"] = label\n",
    "df.head()"
   ]
  },
  {
   "cell_type": "markdown",
   "id": "a93ba5b4",
   "metadata": {},
   "source": [
    "# Remap columns"
   ]
  },
  {
   "cell_type": "markdown",
   "id": "bdc78c03",
   "metadata": {},
   "source": [
    "From label encoding to interpretable notation: e.g., 0, 1 to \"male\", \"female\""
   ]
  },
  {
   "cell_type": "code",
   "execution_count": 11,
   "id": "2c396f35",
   "metadata": {
    "ExecuteTime": {
     "end_time": "2022-10-07T10:26:44.946870Z",
     "start_time": "2022-10-07T10:26:44.904200Z"
    }
   },
   "outputs": [],
   "source": [
    "filename = os.path.join(os.path.curdir, \"datasets\", \"ACSPUMS\", \"PUMS_Data_Dictionary_2018.csv\")\n",
    "df_mappings = pd.read_csv(filename)"
   ]
  },
  {
   "cell_type": "code",
   "execution_count": 12,
   "id": "08137606",
   "metadata": {
    "ExecuteTime": {
     "end_time": "2022-10-07T10:26:45.817921Z",
     "start_time": "2022-10-07T10:26:45.769466Z"
    }
   },
   "outputs": [],
   "source": [
    "remapping_cols = {}\n",
    "\n",
    "orig_col = \"1\"\n",
    "new_col = \"Record Type\"\n",
    "cols_i = [orig_col, new_col]\n",
    "\n",
    "#col_name = \"OCCP\"\n",
    "for col_name in categorical_attributes:\n",
    "    dict_i = df_mappings.loc[\"VAL\"].loc[col_name][cols_i].set_index(orig_col).to_dict()[new_col]\n",
    "    dict_i = {float(k) if (k not in [\"b\", \"bb\", 'bbb', 'bbbb']) else -1 :v for k,v in dict_i.items()}\n",
    "    remapping_cols[col_name] = dict_i"
   ]
  },
  {
   "cell_type": "code",
   "execution_count": 13,
   "id": "f8efda79",
   "metadata": {
    "ExecuteTime": {
     "end_time": "2022-10-07T10:26:48.340571Z",
     "start_time": "2022-10-07T10:26:46.454478Z"
    }
   },
   "outputs": [],
   "source": [
    "from copy import deepcopy\n",
    "\n",
    "df_analysis = deepcopy(df)\n",
    "\n",
    "for column_name in remapping_cols:\n",
    "    df_analysis[column_name] = df[column_name].replace(remapping_cols[column_name])"
   ]
  },
  {
   "cell_type": "markdown",
   "id": "5847f838",
   "metadata": {},
   "source": [
    "We substituite nan with string \"NaN\""
   ]
  },
  {
   "cell_type": "code",
   "execution_count": 14,
   "id": "e471b730",
   "metadata": {
    "ExecuteTime": {
     "end_time": "2022-10-07T10:26:49.598017Z",
     "start_time": "2022-10-07T10:26:49.521035Z"
    }
   },
   "outputs": [],
   "source": [
    "for c in df_analysis:\n",
    "    if df_analysis[c].isna().any():\n",
    "        print(c)\n",
    "        df_analysis[c].fillna('NaN', inplace=True)"
   ]
  },
  {
   "cell_type": "code",
   "execution_count": 15,
   "id": "d05dabc5",
   "metadata": {
    "ExecuteTime": {
     "end_time": "2022-10-07T10:26:51.354129Z",
     "start_time": "2022-10-07T10:26:50.109904Z"
    }
   },
   "outputs": [],
   "source": [
    "df_analysis.to_csv(os.path.join(os.path.curdir, \"datasets\", \"ACSPUMS\", \"adult_dataset_income.csv\"), index=False)"
   ]
  },
  {
   "cell_type": "code",
   "execution_count": 16,
   "id": "d437edf2",
   "metadata": {
    "ExecuteTime": {
     "end_time": "2022-10-07T10:26:51.797781Z",
     "start_time": "2022-10-07T10:26:51.784891Z"
    }
   },
   "outputs": [],
   "source": [
    "continuous_attributes = ['AGEP', 'WKHP']"
   ]
  },
  {
   "cell_type": "code",
   "execution_count": 17,
   "id": "9813b19b",
   "metadata": {
    "ExecuteTime": {
     "end_time": "2022-10-07T10:26:52.432522Z",
     "start_time": "2022-10-07T10:26:52.381640Z"
    }
   },
   "outputs": [
    {
     "data": {
      "text/plain": [
       "(195665, 11)"
      ]
     },
     "execution_count": 17,
     "metadata": {},
     "output_type": "execute_result"
    }
   ],
   "source": [
    "df_analysis.shape"
   ]
  },
  {
   "cell_type": "markdown",
   "id": "240995fe",
   "metadata": {},
   "source": [
    "# Taxonomy"
   ]
  },
  {
   "cell_type": "code",
   "execution_count": 18,
   "id": "10f99608",
   "metadata": {
    "ExecuteTime": {
     "end_time": "2022-10-07T10:26:53.371207Z",
     "start_time": "2022-10-07T10:26:53.345504Z"
    }
   },
   "outputs": [],
   "source": [
    "df_analysis_proc = deepcopy(df_analysis)"
   ]
  },
  {
   "cell_type": "markdown",
   "id": "1b9c2f55",
   "metadata": {},
   "source": [
    "### Occupation"
   ]
  },
  {
   "cell_type": "code",
   "execution_count": 19,
   "id": "e7de5b2f",
   "metadata": {
    "ExecuteTime": {
     "end_time": "2022-10-07T10:26:54.325708Z",
     "start_time": "2022-10-07T10:26:54.253979Z"
    }
   },
   "outputs": [],
   "source": [
    "attr = \"OCCP\"\n",
    "\n",
    "generalization_dict_tax = {}\n",
    "generalization_dict_tax[attr] = {x: x.split(\"-\")[0] for x in df_analysis_proc[attr].values if \"-\" in x}"
   ]
  },
  {
   "cell_type": "markdown",
   "id": "8b1d3066",
   "metadata": {},
   "source": [
    "### Country"
   ]
  },
  {
   "cell_type": "markdown",
   "id": "72ece313",
   "metadata": {},
   "source": [
    "We rename some of the columns for vizualization and mapping reasons."
   ]
  },
  {
   "cell_type": "code",
   "execution_count": 20,
   "id": "8c0edbad",
   "metadata": {
    "ExecuteTime": {
     "end_time": "2022-10-07T10:26:55.607525Z",
     "start_time": "2022-10-07T10:26:55.486218Z"
    }
   },
   "outputs": [],
   "source": [
    "if \"POBP\" in df_analysis_proc.columns:\n",
    "    df_analysis_proc[\"POBP\"] = df_analysis_proc[\"POBP\"]\\\n",
    "    .replace({\"England\":\"United Kingdom\", 'Scotland': \"United Kingdom\", \\\n",
    "              \"United Kingdom, Not Specified\": \"United Kingdom\",  'Northern Ireland': \"United Kingdom\",\\\n",
    "               \"USSR\": \"Russia\", \"Hong Kong\": \"Hong Kong SAR\",\n",
    "             \"Democratic Republic of Congo (Zaire)\": 'Democratic Republic of the Congo',\n",
    "             \"Trinidad & Tobago\": \"Trinidad and Tobago\", 'Macedonia':'North Macedonia',\n",
    "             'Antigua & Barbuda': 'Antigua and Barbuda', \\\n",
    "              'Commonwealth of the Northern Mariana Islands':'Northern Mariana Islands',\n",
    "             'St. Vincent & the Grenadines': 'St. Vincent and the Grenadines', \\\n",
    "              #simplification\n",
    "             \"Azores Islands\": \"Portugal\"})"
   ]
  },
  {
   "cell_type": "code",
   "execution_count": 21,
   "id": "2c8f382b",
   "metadata": {
    "ExecuteTime": {
     "end_time": "2022-10-07T10:26:56.162481Z",
     "start_time": "2022-10-07T10:26:56.101865Z"
    }
   },
   "outputs": [],
   "source": [
    "# https://statisticstimes.com/geography/countries-by-continents.php\n",
    "df_taxonomy_country = pd.read_csv(\"country_hierarchies.csv\", header=None, index_col=0)\n",
    "\n",
    "df_taxonomy_country.columns=[\"Country or Area\",\"ISO-alpha3 Code\", \"M49 Code\", \"Region 1\", \"Region 2\", \"Continent\"]\n",
    "\n",
    "df_taxonomy_country[\"Country or Area\"] = df_taxonomy_country[\"Country or Area\"].replace({\n",
    "    \"Viet Nam\":\"Vietnam\", \"Bolivia (Plurinational State of)\": \"Bolivia\" ,\\\n",
    "      \"Russian Federation\": \"Russia\",'Iran (Islamic Republic of)': 'Iran', \\\n",
    "    \"Lao People's Democratic Republic\": \"Laos\", 'Syrian Arab Republic': \"Syria\", \n",
    "    'Venezuela (Bolivarian Republic of)': \"Venezuela\",\n",
    "    \"Republic of Moldova\": \"Moldova\", \"Czechia\": \"Czech Republic\",\n",
    "        'United Republic of Tanzania': \"Tanzania\", 'Côte d’Ivoire': \"Ivory Coast\",\n",
    "        'United States Virgin Islands': 'US Virgin Islands', 'Saint Lucia': 'St. Lucia', \n",
    "    'Saint Kitts and Nevis': 'St. Kitts-Nevis',\n",
    "    'Saint Vincent and the Grenadines': 'St. Vincent and the Grenadines',\n",
    "    \"United Kingdom of Great Britain and Northern Ireland\" : \"United Kingdom\",\\\n",
    "    \"China, Hong Kong Special Administrative Region\" : \"Hong Kong SAR\"\n",
    "})\n",
    "\n",
    "\n",
    "g_hierarchy = {}\n",
    "target_cols = [\"Country or Area\", \"Region 1\", \"Continent\"]\n",
    "for i, row in df_taxonomy_country.iterrows():\n",
    "    levels = [col for col in target_cols if pd.notnull(row[col])]\n",
    "    \n",
    "    for l in range(len(levels)-1):\n",
    "        tax_c, tax_p = row[levels[l]], row[levels[l+1]]\n",
    "        # If already exist but the value is different\n",
    "        if \"Korea\" in tax_c:\n",
    "            tax_c = \"Korea\"\n",
    "        \n",
    "        if tax_c in g_hierarchy and tax_p!=g_hierarchy[tax_c]:\n",
    "            print(row)\n",
    "            raise ValueError()\n",
    "        if tax_c == tax_p:\n",
    "            continue\n",
    "        g_hierarchy[tax_c] = tax_p\n",
    "attr = 'POBP'\n",
    "#g_hierarchy = {}\n",
    "g_hierarchy.update({\"North America\": \"America\", \n",
    " \"South America\": \"America\", \n",
    " \"Americas, Not Specified\" : \"America\", \n",
    "\"Other Europe, Not Specified\": \"Europe\",\n",
    "\"Eastern Africa, Not Specified\": \"Africa\",\n",
    "\"Other Asia, Not Specified\": \"Asia\",\n",
    "\"South Central Asia, Not Specified\": \"Asia\",\n",
    "\"Caribbean, Not Specified\": \"North America\",\n",
    "\"Other US Island Areas, Oceania, Not Specified, or at Sea\": \"Oceania\",\n",
    "\"Other Africa, Not Specified\": \"Africa\",\n",
    "\"Western Africa, Not Specified\": \"Africa\",\n",
    "                   \"Taiwan\" : 'Eastern Asia',\n",
    "                   'Czechoslovakia':'Eastern Europe', 'Yugoslavia':'Southern Europe'})\n"
   ]
  },
  {
   "cell_type": "code",
   "execution_count": 22,
   "id": "f038c701",
   "metadata": {
    "ExecuteTime": {
     "end_time": "2022-10-07T10:26:56.934466Z",
     "start_time": "2022-10-07T10:26:56.743034Z"
    },
    "scrolled": false
   },
   "outputs": [
    {
     "name": "stdout",
     "output_type": "stream",
     "text": [
      "Asia 54\n",
      "Europe 23\n",
      "Africa 18\n",
      "West Indies 2\n",
      "North America 0\n",
      "South America 4\n",
      "Micronesia 8\n",
      "109 0.00056\n"
     ]
    }
   ],
   "source": [
    "generalization_dict_tax_u = deepcopy(g_hierarchy)\n",
    "delete_values = []\n",
    "for c, v in df_analysis_proc[\"POBP\"].value_counts().items():\n",
    "    if c not in g_hierarchy.keys():\n",
    "        if \"/\" in c:\n",
    "            g_hierarchy[c] = \"United States of America\"\n",
    "        else:\n",
    "            delete_values.append(c)\n",
    "\n",
    "delete_values.append(\"North America\")\n",
    "delete_values.append(\"South America\")\n",
    "delete_values.append(\"Micronesia\")\n",
    "\n",
    "tot_deleted = 0\n",
    "for c in delete_values:\n",
    "    print(c, len(df_analysis_proc.loc[df_analysis_proc[\"POBP\"]==c]))\n",
    "    tot_deleted +=len(df_analysis_proc.loc[df_analysis_proc[\"POBP\"]==c])\n",
    "print(tot_deleted, round(tot_deleted/len(df_analysis_proc),5))"
   ]
  },
  {
   "cell_type": "markdown",
   "id": "37c68fab",
   "metadata": {
    "ExecuteTime": {
     "end_time": "2022-05-22T14:48:17.840751Z",
     "start_time": "2022-05-22T14:48:17.832450Z"
    }
   },
   "source": [
    "Delete rows for which the detailed information is not available"
   ]
  },
  {
   "cell_type": "code",
   "execution_count": 23,
   "id": "dd958ee1",
   "metadata": {
    "ExecuteTime": {
     "end_time": "2022-10-07T10:26:57.988217Z",
     "start_time": "2022-10-07T10:26:57.941987Z"
    }
   },
   "outputs": [],
   "source": [
    "df_analysis_proc = df_analysis_proc.loc[df_analysis_proc[\"POBP\"].isin(delete_values)==False]"
   ]
  },
  {
   "cell_type": "code",
   "execution_count": 24,
   "id": "81ad39b3",
   "metadata": {
    "ExecuteTime": {
     "end_time": "2022-10-07T10:26:58.408175Z",
     "start_time": "2022-10-07T10:26:58.392047Z"
    }
   },
   "outputs": [],
   "source": [
    "generalization_dict_tax[attr] = generalization_dict_tax_u"
   ]
  },
  {
   "cell_type": "markdown",
   "id": "53a9e747",
   "metadata": {},
   "source": [
    "# Tree divergence - income - individual"
   ]
  },
  {
   "cell_type": "markdown",
   "id": "13b30e67",
   "metadata": {
    "ExecuteTime": {
     "end_time": "2022-01-14T16:09:38.440308Z",
     "start_time": "2022-01-14T16:09:38.415153Z"
    }
   },
   "source": [
    "## Tree"
   ]
  },
  {
   "cell_type": "code",
   "execution_count": 25,
   "id": "e218a6ff",
   "metadata": {
    "ExecuteTime": {
     "end_time": "2022-10-07T10:26:59.798439Z",
     "start_time": "2022-10-07T10:26:59.782377Z"
    }
   },
   "outputs": [],
   "source": [
    "metric = \"d_outcome\"\n",
    "target = \"income\""
   ]
  },
  {
   "cell_type": "code",
   "execution_count": 26,
   "id": "1f8cf516",
   "metadata": {
    "ExecuteTime": {
     "end_time": "2022-10-07T10:27:01.255705Z",
     "start_time": "2022-10-07T10:27:01.239902Z"
    }
   },
   "outputs": [],
   "source": [
    "type_criterion=\"divergence_criterion\"\n",
    "type_experiment = \"one_at_time\"\n",
    "min_sup_divergence = 0.025"
   ]
  },
  {
   "cell_type": "code",
   "execution_count": 27,
   "id": "e5005cb3",
   "metadata": {
    "ExecuteTime": {
     "end_time": "2022-10-07T10:27:03.004430Z",
     "start_time": "2022-10-07T10:27:02.991207Z"
    }
   },
   "outputs": [],
   "source": [
    "min_support_trees = [0.0025, 0.005, 0.01, 0.02, 0.025, 0.035, 0.05, 0.075, 0.1, 0.125, 0.15, 0.175, 0.2, 0.25, 0.3]"
   ]
  },
  {
   "cell_type": "code",
   "execution_count": 28,
   "id": "b27dd1f3",
   "metadata": {
    "ExecuteTime": {
     "end_time": "2022-10-07T10:27:03.755597Z",
     "start_time": "2022-10-07T10:27:03.736134Z"
    }
   },
   "outputs": [],
   "source": [
    "tree_gen_name = \"hierarchies gen\""
   ]
  },
  {
   "cell_type": "code",
   "execution_count": 57,
   "id": "7a4c3550",
   "metadata": {
    "ExecuteTime": {
     "end_time": "2022-10-07T11:04:37.256675Z",
     "start_time": "2022-10-07T11:04:08.552022Z"
    },
    "scrolled": true
   },
   "outputs": [
    {
     "name": "stdout",
     "output_type": "stream",
     "text": [
      "0.1 "
     ]
    }
   ],
   "source": [
    "from tree_discretization_ranking import TreeDiscretization_ranking\n",
    "from divexplorer_generalized_ranking.FP_Divergence import FP_Divergence\n",
    "\n",
    "import time\n",
    "max_divergence_dict = {}\n",
    "time_results = {}\n",
    "\n",
    "for min_support_tree in min_support_trees:\n",
    "\n",
    "    out = {}\n",
    "    time_results[min_support_tree] = {}\n",
    "    print(min_support_tree, end = \" \")\n",
    "    \n",
    "    tree_discr = TreeDiscretization_ranking()\n",
    "\n",
    "\n",
    "    \n",
    "    start_time_tree = time.time()\n",
    "    \n",
    "    generalization_dict, discretizations = tree_discr.get_tree_discretization(\n",
    "        df_analysis_proc,\n",
    "        type_splitting=type_experiment,\n",
    "        min_support=min_support_tree,\n",
    "        metric=metric,\n",
    "        continuous_attributes= list(continuous_attributes),\n",
    "        storeTree=True,\n",
    "        type_criterion = type_criterion,\n",
    "        minimal_gain = 0.0,\n",
    "        target_col = target\n",
    "    )\n",
    "\n",
    "    time_results[min_support_tree][tree_gen_name] = time.time() - start_time_tree\n",
    "    \n",
    "    generalization_dict_all = deepcopy(generalization_dict)\n",
    "    generalization_dict_all.update(generalization_dict_tax)\n",
    "    \n",
    "    from utils_extract_divergence_generalized_ranking import (\n",
    "        extract_divergence_generalized,\n",
    "    )\n",
    "\n",
    "    for apply_generalization in [False, True]:\n",
    "        if apply_generalization == True:\n",
    "            type_gen = \"generalized\"\n",
    "        else:\n",
    "            type_gen = \"base\"\n",
    "\n",
    "        start_time_divergence = time.time()\n",
    "        FP_fm = extract_divergence_generalized(\n",
    "            df_analysis_proc,\n",
    "            discretizations,\n",
    "            generalization_dict_all,\n",
    "            continuous_attributes,\n",
    "            min_sup_divergence=min_sup_divergence,\n",
    "            apply_generalization=apply_generalization,\n",
    "            target_name = target,\n",
    "            FPM_type=\"fpgrowth\",\n",
    "            metrics_divergence = [\"d_outcome\"],\n",
    "            type_experiment = type_experiment,\n",
    "            allow_overalp = False if type_experiment!=\"all_attributes\" else True\n",
    "        )\n",
    "        time_results[min_support_tree][type_gen] = time.time() - start_time_divergence\n",
    "\n",
    "        out[type_gen] = max(FP_fm[metric])\n",
    "    max_divergence_dict[min_support_tree] = out"
   ]
  },
  {
   "cell_type": "code",
   "execution_count": 37,
   "id": "67c64d1a",
   "metadata": {
    "ExecuteTime": {
     "end_time": "2022-10-07T10:41:14.193967Z",
     "start_time": "2022-10-07T10:41:14.172769Z"
    }
   },
   "outputs": [
    {
     "data": {
      "text/plain": [
       "{'base': 105256.74307427197, 'generalized': 115751.94926969381}"
      ]
     },
     "execution_count": 37,
     "metadata": {},
     "output_type": "execute_result"
    }
   ],
   "source": [
    "max_divergence_dict[min_support_tree]"
   ]
  },
  {
   "cell_type": "markdown",
   "id": "e607f3b8",
   "metadata": {},
   "source": [
    "# Plot"
   ]
  },
  {
   "cell_type": "code",
   "execution_count": 38,
   "id": "2b388ff4",
   "metadata": {
    "ExecuteTime": {
     "end_time": "2022-10-07T10:41:44.224047Z",
     "start_time": "2022-10-07T10:41:43.484012Z"
    }
   },
   "outputs": [
    {
     "data": {
      "image/png": "[encoded data removed]",
      "text/plain": [
       "<Figure size 400x350 with 1 Axes>"
      ]
     },
     "metadata": {},
     "output_type": "display_data"
    }
   ],
   "source": [
    "show_sup = [0.005, 0.01, 0.02, 0.025, 0.035, 0.05, 0.075, 0.1, 0.125, 0.15, 0.175, 0.2]\n",
    "\n",
    "\n",
    "\n",
    "from pathlib import Path\n",
    "outfig_dir = \"0_output_figures\"\n",
    "Path(outfig_dir).mkdir(parents=True, exist_ok=True)\n",
    "\n",
    "import matplotlib.pyplot as plt\n",
    "\n",
    "\n",
    "\n",
    "metric_name = \"Δ_fpr\"\n",
    "\n",
    "\n",
    "vs = {}\n",
    "\n",
    "\n",
    "fig, ax = plt.subplots(figsize = (4,3.5))\n",
    "\n",
    "base = { min_support_tree: max_divergence_dict[min_support_tree][\"base\"] for min_support_tree in max_divergence_dict if min_support_tree in show_sup}\n",
    "gen =  { min_support_tree: max_divergence_dict[min_support_tree][\"generalized\"] for min_support_tree in max_divergence_dict if min_support_tree in show_sup}\n",
    "\n",
    "base = dict(sorted(base.items(), key=lambda item: item[0]))\n",
    "gen = dict(sorted(gen.items(), key=lambda item: item[0]))\n",
    "ax.set_title(r\"Highest Δ$_{income}$\")\n",
    "\n",
    "\n",
    "ax.plot(list(base.keys()), list(base.values()), label = \"base\", marker = \"o\")\n",
    "ax.plot(list(gen.keys()), list(gen.values()), label = \"generalized\", marker = \"o\")\n",
    "\n",
    "ax.set_ylabel(r\"max Δ$_{income}$\")\n",
    "ax.set_xlabel(r\"Minimum support $s_{tree}$\")\n",
    "for item in ([ax.title, ax.xaxis.label, ax.yaxis.label] ): #ax.get_xticklabels()\n",
    "        item.set_fontsize(14)\n",
    "\n",
    "for item in ax.get_xticklabels() + ax.get_yticklabels():\n",
    "     item.set_fontsize(12)\n",
    "        \n",
    "plt.legend( fontsize = 13, handletextpad=0.2)\n",
    "\n",
    "\n",
    "\n",
    "plt.tight_layout();\n",
    "plt.savefig(f\"{outfig_dir}/adult_sensitivity_s_{min_sup_divergence}.pdf\");"
   ]
  },
  {
   "cell_type": "markdown",
   "id": "fbde85df",
   "metadata": {},
   "source": [
    "## Time"
   ]
  },
  {
   "cell_type": "code",
   "execution_count": 41,
   "id": "64d5aca5",
   "metadata": {
    "ExecuteTime": {
     "end_time": "2022-10-07T10:42:51.304668Z",
     "start_time": "2022-10-07T10:42:51.068367Z"
    }
   },
   "outputs": [
    {
     "data": {
      "image/png": "[encoded data removed]",
      "text/plain": [
       "<Figure size 380x400 with 1 Axes>"
      ]
     },
     "metadata": {},
     "output_type": "display_data"
    }
   ],
   "source": [
    "import os\n",
    "from utils_plot import plotDicts\n",
    "\n",
    "info_plot = {}\n",
    "\n",
    "for min_support_tree, res in time_results.items():\n",
    "    for exp, value in res.items():\n",
    "        if exp not in info_plot:\n",
    "            info_plot[exp] = {}\n",
    "        info_plot[exp][min_support_tree] = value\n",
    "        \n",
    "figure_name = os.path.join(outfig_dir, f\"adult_stree_{min_sup_divergence}_{metric}_time_trees.pdf\")\n",
    "\n",
    "size_fig = (3.8,4)\n",
    "fig = plotDicts(info_plot, marker=True, \\\n",
    "           sizeFig=size_fig, title=\"Execution time\", #yscale=\"log\", \n",
    "          xlabel=\"Minimum support tree\",  ylabel=\"Execution time $(seconds)$\", labelSize=10.2,\n",
    "          outside=False,  saveFig=False, nameFig = figure_name)"
   ]
  },
  {
   "cell_type": "code",
   "execution_count": 42,
   "id": "9dd6e732",
   "metadata": {
    "ExecuteTime": {
     "end_time": "2022-10-07T10:44:07.129414Z",
     "start_time": "2022-10-07T10:44:07.108268Z"
    }
   },
   "outputs": [
    {
     "data": {
      "text/html": [
       "<div>\n",
       "<style scoped>\n",
       "    .dataframe tbody tr th:only-of-type {\n",
       "        vertical-align: middle;\n",
       "    }\n",
       "\n",
       "    .dataframe tbody tr th {\n",
       "        vertical-align: top;\n",
       "    }\n",
       "\n",
       "    .dataframe thead th {\n",
       "        text-align: right;\n",
       "    }\n",
       "</style>\n",
       "<table border=\"1\" class=\"dataframe\">\n",
       "  <thead>\n",
       "    <tr style=\"text-align: right;\">\n",
       "      <th></th>\n",
       "      <th>hierarchies gen</th>\n",
       "      <th>base</th>\n",
       "      <th>generalized</th>\n",
       "    </tr>\n",
       "  </thead>\n",
       "  <tbody>\n",
       "    <tr>\n",
       "      <th>0.0025</th>\n",
       "      <td>0.852317</td>\n",
       "      <td>14.713142</td>\n",
       "      <td>52.104668</td>\n",
       "    </tr>\n",
       "    <tr>\n",
       "      <th>0.0050</th>\n",
       "      <td>0.949103</td>\n",
       "      <td>9.475591</td>\n",
       "      <td>41.124615</td>\n",
       "    </tr>\n",
       "    <tr>\n",
       "      <th>0.0100</th>\n",
       "      <td>0.888622</td>\n",
       "      <td>9.700263</td>\n",
       "      <td>36.695021</td>\n",
       "    </tr>\n",
       "    <tr>\n",
       "      <th>0.0200</th>\n",
       "      <td>0.569042</td>\n",
       "      <td>8.126633</td>\n",
       "      <td>28.002201</td>\n",
       "    </tr>\n",
       "    <tr>\n",
       "      <th>0.0250</th>\n",
       "      <td>0.537323</td>\n",
       "      <td>9.838440</td>\n",
       "      <td>26.161108</td>\n",
       "    </tr>\n",
       "    <tr>\n",
       "      <th>0.0350</th>\n",
       "      <td>0.520767</td>\n",
       "      <td>9.795527</td>\n",
       "      <td>25.577757</td>\n",
       "    </tr>\n",
       "    <tr>\n",
       "      <th>0.0500</th>\n",
       "      <td>0.467581</td>\n",
       "      <td>9.795904</td>\n",
       "      <td>21.290165</td>\n",
       "    </tr>\n",
       "    <tr>\n",
       "      <th>0.0750</th>\n",
       "      <td>0.405349</td>\n",
       "      <td>8.985714</td>\n",
       "      <td>19.067542</td>\n",
       "    </tr>\n",
       "    <tr>\n",
       "      <th>0.1000</th>\n",
       "      <td>0.380931</td>\n",
       "      <td>10.964560</td>\n",
       "      <td>16.698303</td>\n",
       "    </tr>\n",
       "    <tr>\n",
       "      <th>0.1250</th>\n",
       "      <td>0.335885</td>\n",
       "      <td>8.090428</td>\n",
       "      <td>15.731932</td>\n",
       "    </tr>\n",
       "    <tr>\n",
       "      <th>0.1500</th>\n",
       "      <td>0.322188</td>\n",
       "      <td>7.863919</td>\n",
       "      <td>15.140370</td>\n",
       "    </tr>\n",
       "    <tr>\n",
       "      <th>0.1750</th>\n",
       "      <td>0.274713</td>\n",
       "      <td>7.409795</td>\n",
       "      <td>13.742958</td>\n",
       "    </tr>\n",
       "    <tr>\n",
       "      <th>0.2000</th>\n",
       "      <td>0.271525</td>\n",
       "      <td>7.601162</td>\n",
       "      <td>13.646106</td>\n",
       "    </tr>\n",
       "    <tr>\n",
       "      <th>0.2500</th>\n",
       "      <td>0.204367</td>\n",
       "      <td>7.094032</td>\n",
       "      <td>11.556299</td>\n",
       "    </tr>\n",
       "    <tr>\n",
       "      <th>0.3000</th>\n",
       "      <td>0.184825</td>\n",
       "      <td>7.094944</td>\n",
       "      <td>11.886445</td>\n",
       "    </tr>\n",
       "  </tbody>\n",
       "</table>\n",
       "</div>"
      ],
      "text/plain": [
       "        hierarchies gen       base  generalized\n",
       "0.0025         0.852317  14.713142    52.104668\n",
       "0.0050         0.949103   9.475591    41.124615\n",
       "0.0100         0.888622   9.700263    36.695021\n",
       "0.0200         0.569042   8.126633    28.002201\n",
       "0.0250         0.537323   9.838440    26.161108\n",
       "0.0350         0.520767   9.795527    25.577757\n",
       "0.0500         0.467581   9.795904    21.290165\n",
       "0.0750         0.405349   8.985714    19.067542\n",
       "0.1000         0.380931  10.964560    16.698303\n",
       "0.1250         0.335885   8.090428    15.731932\n",
       "0.1500         0.322188   7.863919    15.140370\n",
       "0.1750         0.274713   7.409795    13.742958\n",
       "0.2000         0.271525   7.601162    13.646106\n",
       "0.2500         0.204367   7.094032    11.556299\n",
       "0.3000         0.184825   7.094944    11.886445"
      ]
     },
     "execution_count": 42,
     "metadata": {},
     "output_type": "execute_result"
    }
   ],
   "source": [
    "pd.DataFrame(info_plot)"
   ]
  },
  {
   "cell_type": "code",
   "execution_count": 55,
   "id": "8d3018d2",
   "metadata": {
    "ExecuteTime": {
     "end_time": "2022-10-07T10:53:11.765650Z",
     "start_time": "2022-10-07T10:53:11.248835Z"
    }
   },
   "outputs": [
    {
     "data": {
      "image/png": "[encoded data removed]",
      "text/plain": [
       "<Figure size 270x270 with 1 Axes>"
      ]
     },
     "metadata": {},
     "output_type": "display_data"
    }
   ],
   "source": [
    "size_fig = (2.7,2.7)\n",
    "\n",
    "import os\n",
    "from utils_plot import plotDicts\n",
    "\n",
    "info_plot = {}\n",
    "\n",
    "for min_support_tree, res in time_results.items():\n",
    "    for exp, value in res.items():\n",
    "        if exp not in info_plot:\n",
    "            info_plot[exp] = {}\n",
    "        info_plot[exp][min_support_tree] = value\n",
    "        \n",
    "for exp in [\"base\", \"generalized\"]:\n",
    "    for min_support_tree in info_plot[exp]:\n",
    "        info_plot[exp][min_support_tree] = info_plot[exp][min_support_tree] + info_plot[tree_gen_name][min_support_tree]\n",
    "        \n",
    "figure_name = os.path.join(outfig_dir, f\"adult_stree_{min_sup_divergence}_{metric}_time_sensitivity_trees.pdf\")\n",
    "\n",
    "\n",
    "fig = plotDicts(info_plot, marker=True, \\\n",
    "           sizeFig=size_fig, title=\"Execution time\", #yscale=\"log\", \n",
    "         xlabel=r\"Minimum support  $s_{tree}$\",  ylabel=\"Execution time $(seconds)$\", labelSize=10.2,\n",
    "          outside=False,  saveFig=True, nameFig = figure_name, limit = (0, None))"
   ]
  },
  {
   "cell_type": "code",
   "execution_count": 59,
   "id": "8f79ce81",
   "metadata": {
    "ExecuteTime": {
     "end_time": "2022-10-07T11:10:36.588576Z",
     "start_time": "2022-10-07T11:10:36.569139Z"
    }
   },
   "outputs": [
    {
     "data": {
      "text/plain": [
       "489.1625"
      ]
     },
     "execution_count": 59,
     "metadata": {},
     "output_type": "execute_result"
    }
   ],
   "source": [
    "len(df_analysis)*0.0025"
   ]
  },
  {
   "cell_type": "code",
   "execution_count": 44,
   "id": "f19d6dd1",
   "metadata": {
    "ExecuteTime": {
     "end_time": "2022-10-07T10:44:14.195306Z",
     "start_time": "2022-10-07T10:44:14.174357Z"
    }
   },
   "outputs": [
    {
     "data": {
      "text/html": [
       "<div>\n",
       "<style scoped>\n",
       "    .dataframe tbody tr th:only-of-type {\n",
       "        vertical-align: middle;\n",
       "    }\n",
       "\n",
       "    .dataframe tbody tr th {\n",
       "        vertical-align: top;\n",
       "    }\n",
       "\n",
       "    .dataframe thead th {\n",
       "        text-align: right;\n",
       "    }\n",
       "</style>\n",
       "<table border=\"1\" class=\"dataframe\">\n",
       "  <thead>\n",
       "    <tr style=\"text-align: right;\">\n",
       "      <th></th>\n",
       "      <th>hierarchies gen</th>\n",
       "      <th>base</th>\n",
       "      <th>generalized</th>\n",
       "    </tr>\n",
       "  </thead>\n",
       "  <tbody>\n",
       "    <tr>\n",
       "      <th>0.0025</th>\n",
       "      <td>0.852317</td>\n",
       "      <td>15.565459</td>\n",
       "      <td>52.956985</td>\n",
       "    </tr>\n",
       "    <tr>\n",
       "      <th>0.0050</th>\n",
       "      <td>0.949103</td>\n",
       "      <td>10.424694</td>\n",
       "      <td>42.073718</td>\n",
       "    </tr>\n",
       "    <tr>\n",
       "      <th>0.0100</th>\n",
       "      <td>0.888622</td>\n",
       "      <td>10.588885</td>\n",
       "      <td>37.583643</td>\n",
       "    </tr>\n",
       "    <tr>\n",
       "      <th>0.0200</th>\n",
       "      <td>0.569042</td>\n",
       "      <td>8.695675</td>\n",
       "      <td>28.571243</td>\n",
       "    </tr>\n",
       "    <tr>\n",
       "      <th>0.0250</th>\n",
       "      <td>0.537323</td>\n",
       "      <td>10.375763</td>\n",
       "      <td>26.698430</td>\n",
       "    </tr>\n",
       "    <tr>\n",
       "      <th>0.0350</th>\n",
       "      <td>0.520767</td>\n",
       "      <td>10.316293</td>\n",
       "      <td>26.098524</td>\n",
       "    </tr>\n",
       "    <tr>\n",
       "      <th>0.0500</th>\n",
       "      <td>0.467581</td>\n",
       "      <td>10.263484</td>\n",
       "      <td>21.757746</td>\n",
       "    </tr>\n",
       "    <tr>\n",
       "      <th>0.0750</th>\n",
       "      <td>0.405349</td>\n",
       "      <td>9.391064</td>\n",
       "      <td>19.472892</td>\n",
       "    </tr>\n",
       "    <tr>\n",
       "      <th>0.1000</th>\n",
       "      <td>0.380931</td>\n",
       "      <td>11.345490</td>\n",
       "      <td>17.079234</td>\n",
       "    </tr>\n",
       "    <tr>\n",
       "      <th>0.1250</th>\n",
       "      <td>0.335885</td>\n",
       "      <td>8.426313</td>\n",
       "      <td>16.067818</td>\n",
       "    </tr>\n",
       "    <tr>\n",
       "      <th>0.1500</th>\n",
       "      <td>0.322188</td>\n",
       "      <td>8.186108</td>\n",
       "      <td>15.462558</td>\n",
       "    </tr>\n",
       "    <tr>\n",
       "      <th>0.1750</th>\n",
       "      <td>0.274713</td>\n",
       "      <td>7.684508</td>\n",
       "      <td>14.017671</td>\n",
       "    </tr>\n",
       "    <tr>\n",
       "      <th>0.2000</th>\n",
       "      <td>0.271525</td>\n",
       "      <td>7.872687</td>\n",
       "      <td>13.917631</td>\n",
       "    </tr>\n",
       "    <tr>\n",
       "      <th>0.2500</th>\n",
       "      <td>0.204367</td>\n",
       "      <td>7.298399</td>\n",
       "      <td>11.760666</td>\n",
       "    </tr>\n",
       "    <tr>\n",
       "      <th>0.3000</th>\n",
       "      <td>0.184825</td>\n",
       "      <td>7.279768</td>\n",
       "      <td>12.071269</td>\n",
       "    </tr>\n",
       "  </tbody>\n",
       "</table>\n",
       "</div>"
      ],
      "text/plain": [
       "        hierarchies gen       base  generalized\n",
       "0.0025         0.852317  15.565459    52.956985\n",
       "0.0050         0.949103  10.424694    42.073718\n",
       "0.0100         0.888622  10.588885    37.583643\n",
       "0.0200         0.569042   8.695675    28.571243\n",
       "0.0250         0.537323  10.375763    26.698430\n",
       "0.0350         0.520767  10.316293    26.098524\n",
       "0.0500         0.467581  10.263484    21.757746\n",
       "0.0750         0.405349   9.391064    19.472892\n",
       "0.1000         0.380931  11.345490    17.079234\n",
       "0.1250         0.335885   8.426313    16.067818\n",
       "0.1500         0.322188   8.186108    15.462558\n",
       "0.1750         0.274713   7.684508    14.017671\n",
       "0.2000         0.271525   7.872687    13.917631\n",
       "0.2500         0.204367   7.298399    11.760666\n",
       "0.3000         0.184825   7.279768    12.071269"
      ]
     },
     "execution_count": 44,
     "metadata": {},
     "output_type": "execute_result"
    }
   ],
   "source": [
    "pd.DataFrame(info_plot)"
   ]
  },
  {
   "cell_type": "code",
   "execution_count": 56,
   "id": "c9563c73",
   "metadata": {
    "ExecuteTime": {
     "end_time": "2022-10-07T11:03:34.906848Z",
     "start_time": "2022-10-07T11:03:34.880994Z"
    }
   },
   "outputs": [
    {
     "data": {
      "text/plain": [
       "{'AGEP': {'[35.0-51.0]': '>=35.0', '>=52.0': '>=35.0'}}"
      ]
     },
     "execution_count": 56,
     "metadata": {},
     "output_type": "execute_result"
    }
   ],
   "source": [
    "generalization_dict"
   ]
  },
  {
   "cell_type": "code",
   "execution_count": null,
   "id": "8fa9ce9b",
   "metadata": {},
   "outputs": [],
   "source": []
  }
 ],
 "metadata": {
  "hide_input": false,
  "kernelspec": {
   "display_name": "mainexp",
   "language": "python",
   "name": "mainexp"
  },
  "language_info": {
   "codemirror_mode": {
    "name": "ipython",
    "version": 3
   },
   "file_extension": ".py",
   "mimetype": "text/x-python",
   "name": "python",
   "nbconvert_exporter": "python",
   "pygments_lexer": "ipython3",
   "version": "3.10.4"
  },
  "toc": {
   "base_numbering": 1,
   "nav_menu": {},
   "number_sections": true,
   "sideBar": true,
   "skip_h1_title": false,
   "title_cell": "Table of Contents",
   "title_sidebar": "Contents",
   "toc_cell": false,
   "toc_position": {
    "height": "calc(100% - 180px)",
    "left": "10px",
    "top": "150px",
    "width": "341.95px"
   },
   "toc_section_display": true,
   "toc_window_display": true
  },
  "varInspector": {
   "cols": {
    "lenName": 16,
    "lenType": 16,
    "lenVar": 40
   },
   "kernels_config": {
    "python": {
     "delete_cmd_postfix": "",
     "delete_cmd_prefix": "del ",
     "library": "var_list.py",
     "varRefreshCmd": "print(var_dic_list())"
    },
    "r": {
     "delete_cmd_postfix": ") ",
     "delete_cmd_prefix": "rm(",
     "library": "var_list.r",
     "varRefreshCmd": "cat(var_dic_list()) "
    }
   },
   "types_to_exclude": [
    "module",
    "function",
    "builtin_function_or_method",
    "instance",
    "_Feature"
   ],
   "window_display": false
  },
  "vscode": {
   "interpreter": {
    "hash": "07df9bc2b24d98062a84ddbd1ffd60fbcc72456b438b7897cd79ef4167382f91"
   }
  }
 },
 "nbformat": 4,
 "nbformat_minor": 5
}
